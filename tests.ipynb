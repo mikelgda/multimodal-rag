{
 "cells": [
  {
   "cell_type": "code",
   "execution_count": 1,
   "metadata": {},
   "outputs": [],
   "source": [
    "from rag_model import MultiModalRAGModel\n",
    "import torch"
   ]
  },
  {
   "cell_type": "code",
   "execution_count": 3,
   "metadata": {},
   "outputs": [
    {
     "name": "stderr",
     "output_type": "stream",
     "text": [
      "Some kwargs in processor config are unused and will not have any effect: image_seq_len. \n"
     ]
    }
   ],
   "source": [
    "rag = MultiModalRAGModel.from_pretrained(\n",
    "    \"vidore/colSmol-256M\",\n",
    "    device=\"cuda:0\",\n",
    "    low_memory=True\n",
    ")"
   ]
  },
  {
   "cell_type": "code",
   "execution_count": 7,
   "metadata": {},
   "outputs": [
    {
     "name": "stdout",
     "output_type": "stream",
     "text": [
      "Adding doc papers\\ebrs_single_green.pdf with doc_id 0 and metadata None\n",
      "Processing item papers\\ebrs_single_green.pdf\n",
      "It's a PDF\n",
      "12\n",
      "[<PIL.PpmImagePlugin.PpmImageFile image mode=RGB size=1700x2200 at 0x23336910590>, <PIL.PpmImagePlugin.PpmImageFile image mode=RGB size=1700x2200 at 0x2333687AAD0>, <PIL.PpmImagePlugin.PpmImageFile image mode=RGB size=1700x2200 at 0x2333687AD50>, <PIL.PpmImagePlugin.PpmImageFile image mode=RGB size=1700x2200 at 0x23325977950>, <PIL.PpmImagePlugin.PpmImageFile image mode=RGB size=1700x2200 at 0x23325974050>, <PIL.PpmImagePlugin.PpmImageFile image mode=RGB size=1700x2200 at 0x23336908A70>, <PIL.PpmImagePlugin.PpmImageFile image mode=RGB size=1700x2200 at 0x233257D9BF0>, <PIL.PpmImagePlugin.PpmImageFile image mode=RGB size=1700x2200 at 0x233257DA140>, <PIL.PpmImagePlugin.PpmImageFile image mode=RGB size=1700x2200 at 0x23325DDF050>, <PIL.PpmImagePlugin.PpmImageFile image mode=RGB size=1700x2200 at 0x23325DDF450>, <PIL.PpmImagePlugin.PpmImageFile image mode=RGB size=1700x2200 at 0x233368B72F0>, <PIL.PpmImagePlugin.PpmImageFile image mode=RGB size=1700x2200 at 0x233368FAE40>]\n",
      "Embedding pages None None\n",
      "Low memory mode\n",
      "Embedding page 0\n",
      "Embedding page 1\n",
      "Embedding page 2\n",
      "Embedding page 3\n",
      "Embedding page 4\n",
      "Embedding page 5\n",
      "Embedding page 6\n",
      "Embedding page 7\n",
      "Embedding page 8\n",
      "Embedding page 9\n",
      "Embedding page 10\n",
      "Embedding page 11\n",
      "Adding doc papers\\PhysRevX.2.031008.pdf with doc_id 1 and metadata None\n",
      "Processing item papers\\PhysRevX.2.031008.pdf\n",
      "It's a PDF\n",
      "6\n",
      "[<PIL.PpmImagePlugin.PpmImageFile image mode=RGB size=1700x2200 at 0x233368DB070>, <PIL.PpmImagePlugin.PpmImageFile image mode=RGB size=1700x2200 at 0x233369289F0>, <PIL.PpmImagePlugin.PpmImageFile image mode=RGB size=1700x2200 at 0x233369284B0>, <PIL.PpmImagePlugin.PpmImageFile image mode=RGB size=1700x2200 at 0x233369283D0>, <PIL.PpmImagePlugin.PpmImageFile image mode=RGB size=1700x2200 at 0x23336929010>, <PIL.PpmImagePlugin.PpmImageFile image mode=RGB size=1700x2200 at 0x23336928130>]\n",
      "Embedding pages None None\n",
      "Low memory mode\n",
      "Embedding page 0\n",
      "Embedding page 1\n",
      "Embedding page 2\n",
      "Embedding page 3\n",
      "Embedding page 4\n",
      "Embedding page 5\n"
     ]
    }
   ],
   "source": [
    "rag.create_index(\n",
    "    \"papers\",\n",
    "    \"papers_index\"\n",
    ")"
   ]
  },
  {
   "cell_type": "code",
   "execution_count": 40,
   "metadata": {},
   "outputs": [
    {
     "ename": "AttributeError",
     "evalue": "'numpy.ndarray' object has no attribute 'flip'",
     "output_type": "error",
     "traceback": [
      "\u001b[1;31m---------------------------------------------------------------------------\u001b[0m",
      "\u001b[1;31mAttributeError\u001b[0m                            Traceback (most recent call last)",
      "Cell \u001b[1;32mIn[40], line 1\u001b[0m\n\u001b[1;32m----> 1\u001b[0m \u001b[43mrag\u001b[49m\u001b[38;5;241;43m.\u001b[39;49m\u001b[43msearch\u001b[49m\u001b[43m(\u001b[49m\u001b[43m[\u001b[49m\u001b[38;5;124;43m\"\u001b[39;49m\u001b[38;5;124;43mhello\u001b[39;49m\u001b[38;5;124;43m\"\u001b[39;49m\u001b[43m]\u001b[49m\u001b[43m)\u001b[49m\u001b[38;5;241;43m.\u001b[39;49m\u001b[43mcpu\u001b[49m\u001b[43m(\u001b[49m\u001b[43m)\u001b[49m\u001b[38;5;241;43m.\u001b[39;49m\u001b[43mnumpy\u001b[49m\u001b[43m(\u001b[49m\u001b[43m)\u001b[49m\u001b[38;5;241;43m.\u001b[39;49m\u001b[43margsort\u001b[49m\u001b[43m(\u001b[49m\u001b[43m)\u001b[49m\u001b[43m[\u001b[49m\u001b[38;5;241;43m0\u001b[39;49m\u001b[43m,\u001b[49m\u001b[38;5;241;43m-\u001b[39;49m\u001b[38;5;241;43m3\u001b[39;49m\u001b[43m:\u001b[49m\u001b[43m]\u001b[49m\u001b[38;5;241;43m.\u001b[39;49m\u001b[43mflip\u001b[49m()\n",
      "\u001b[1;31mAttributeError\u001b[0m: 'numpy.ndarray' object has no attribute 'flip'"
     ]
    }
   ],
   "source": [
    "rag.search([\"hello\"]).cpu().numpy().argsort()[0,-3:].flip()"
   ]
  },
  {
   "cell_type": "code",
   "execution_count": null,
   "metadata": {},
   "outputs": [],
   "source": []
  }
 ],
 "metadata": {
  "kernelspec": {
   "display_name": "tfm",
   "language": "python",
   "name": "python3"
  },
  "language_info": {
   "codemirror_mode": {
    "name": "ipython",
    "version": 3
   },
   "file_extension": ".py",
   "mimetype": "text/x-python",
   "name": "python",
   "nbconvert_exporter": "python",
   "pygments_lexer": "ipython3",
   "version": "3.13.1"
  }
 },
 "nbformat": 4,
 "nbformat_minor": 2
}
