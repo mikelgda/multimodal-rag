{
 "cells": [
  {
   "cell_type": "code",
   "execution_count": 1,
   "metadata": {},
   "outputs": [],
   "source": [
    "from rag_model import MultiModalRAGModel\n",
    "import torch"
   ]
  },
  {
   "cell_type": "code",
   "execution_count": 2,
   "metadata": {},
   "outputs": [
    {
     "name": "stderr",
     "output_type": "stream",
     "text": [
      "Some kwargs in processor config are unused and will not have any effect: image_seq_len. \n"
     ]
    }
   ],
   "source": [
    "rag = MultiModalRAGModel.from_pretrained(\n",
    "    \"vidore/colSmol-256M\",\n",
    "    device=\"cuda:0\",\n",
    "    low_memory=True\n",
    ")"
   ]
  },
  {
   "cell_type": "code",
   "execution_count": 3,
   "metadata": {},
   "outputs": [
    {
     "name": "stdout",
     "output_type": "stream",
     "text": [
      "Adding doc papers\\ebrs_single_green.pdf with doc_id 0 and metadata None\n",
      "Processing item papers\\ebrs_single_green.pdf\n",
      "It's a PDF\n",
      "12\n",
      "[<PIL.PpmImagePlugin.PpmImageFile image mode=RGB size=1700x2200 at 0x2019F8D9A90>, <PIL.PpmImagePlugin.PpmImageFile image mode=RGB size=1700x2200 at 0x2019F8DD450>, <PIL.PpmImagePlugin.PpmImageFile image mode=RGB size=1700x2200 at 0x2019F8DD6D0>, <PIL.PpmImagePlugin.PpmImageFile image mode=RGB size=1700x2200 at 0x2019B36BBB0>, <PIL.PpmImagePlugin.PpmImageFile image mode=RGB size=1700x2200 at 0x2019B36BCE0>, <PIL.PpmImagePlugin.PpmImageFile image mode=RGB size=1700x2200 at 0x2019F903AD0>, <PIL.PpmImagePlugin.PpmImageFile image mode=RGB size=1700x2200 at 0x2019F8B28B0>, <PIL.PpmImagePlugin.PpmImageFile image mode=RGB size=1700x2200 at 0x2019F8B3790>, <PIL.PpmImagePlugin.PpmImageFile image mode=RGB size=1700x2200 at 0x2019F8CE750>, <PIL.PpmImagePlugin.PpmImageFile image mode=RGB size=1700x2200 at 0x2019F8CDE50>, <PIL.PpmImagePlugin.PpmImageFile image mode=RGB size=1700x2200 at 0x2019F8C14F0>, <PIL.PpmImagePlugin.PpmImageFile image mode=RGB size=1700x2200 at 0x2019F9494F0>]\n",
      "Embedding pages None None\n",
      "Low memory mode\n",
      "Embedding page 0\n",
      "Embedding page 1\n",
      "Embedding page 2\n",
      "Embedding page 3\n",
      "Embedding page 4\n",
      "Embedding page 5\n",
      "Embedding page 6\n",
      "Embedding page 7\n",
      "Embedding page 8\n",
      "Embedding page 9\n",
      "Embedding page 10\n",
      "Embedding page 11\n",
      "Adding doc papers\\PhysRevX.2.031008.pdf with doc_id 1 and metadata None\n",
      "Processing item papers\\PhysRevX.2.031008.pdf\n",
      "It's a PDF\n",
      "6\n",
      "[<PIL.PpmImagePlugin.PpmImageFile image mode=RGB size=1700x2200 at 0x2019F9412B0>, <PIL.PpmImagePlugin.PpmImageFile image mode=RGB size=1700x2200 at 0x2019F9410F0>, <PIL.PpmImagePlugin.PpmImageFile image mode=RGB size=1700x2200 at 0x2019F941010>, <PIL.PpmImagePlugin.PpmImageFile image mode=RGB size=1700x2200 at 0x2019F940910>, <PIL.PpmImagePlugin.PpmImageFile image mode=RGB size=1700x2200 at 0x2019F940F30>, <PIL.PpmImagePlugin.PpmImageFile image mode=RGB size=1700x2200 at 0x2019F940BB0>]\n",
      "Embedding pages None None\n",
      "Low memory mode\n",
      "Embedding page 0\n",
      "Embedding page 1\n",
      "Embedding page 2\n",
      "Embedding page 3\n",
      "Embedding page 4\n",
      "Embedding page 5\n"
     ]
    }
   ],
   "source": [
    "rag.create_index(\n",
    "    \"papers\",\n",
    "    \"papers_index\"\n",
    ")"
   ]
  }
 ],
 "metadata": {
  "kernelspec": {
   "display_name": "tfm",
   "language": "python",
   "name": "python3"
  },
  "language_info": {
   "codemirror_mode": {
    "name": "ipython",
    "version": 3
   },
   "file_extension": ".py",
   "mimetype": "text/x-python",
   "name": "python",
   "nbconvert_exporter": "python",
   "pygments_lexer": "ipython3",
   "version": "3.13.1"
  }
 },
 "nbformat": 4,
 "nbformat_minor": 2
}
