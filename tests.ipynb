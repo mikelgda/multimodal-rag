{
 "cells": [
  {
   "cell_type": "code",
   "execution_count": 1,
   "metadata": {},
   "outputs": [],
   "source": [
    "from rag_model import MultiModalRAGModel\n",
    "import torch"
   ]
  },
  {
   "cell_type": "code",
   "execution_count": 3,
   "metadata": {},
   "outputs": [
    {
     "name": "stderr",
     "output_type": "stream",
     "text": [
      "Some kwargs in processor config are unused and will not have any effect: image_seq_len. \n"
     ]
    }
   ],
   "source": [
    "rag = MultiModalRAGModel.from_index(\"index/papers_index\")"
   ]
  },
  {
   "cell_type": "code",
   "execution_count": 15,
   "metadata": {},
   "outputs": [
    {
     "name": "stderr",
     "output_type": "stream",
     "text": [
      "Some kwargs in processor config are unused and will not have any effect: image_seq_len. \n"
     ]
    }
   ],
   "source": [
    "rag = MultiModalRAGModel.from_pretrained(\n",
    "    \"vidore/colSmol-256M\",\n",
    "    device=\"cuda:0\",\n",
    "    max_pages_per_batch=2\n",
    ")"
   ]
  },
  {
   "cell_type": "code",
   "execution_count": 16,
   "metadata": {},
   "outputs": [
    {
     "name": "stdout",
     "output_type": "stream",
     "text": [
      "Adding doc papers\\ebrs_single_green.pdf with doc_id 0 and metadata None\n",
      "Embedding doc: papers\\ebrs_single_green.pdf with 12 pages\n",
      "Page chunk 0 of length 2\n",
      "Page chunk 2 of length 2\n",
      "Page chunk 4 of length 2\n",
      "Page chunk 6 of length 2\n",
      "Page chunk 8 of length 2\n",
      "Page chunk 10 of length 2\n",
      "Saved!\n",
      "\n",
      "Adding doc papers\\PhysRevX.2.031008.pdf with doc_id 1 and metadata None\n",
      "Embedding doc: papers\\PhysRevX.2.031008.pdf with 6 pages\n",
      "Page chunk 0 of length 2\n",
      "Page chunk 2 of length 2\n",
      "Page chunk 4 of length 2\n",
      "Saved!\n",
      "\n"
     ]
    }
   ],
   "source": [
    "rag.create_index(\n",
    "    \"papers\",\n",
    "    \"papers_index\",\n",
    ")"
   ]
  },
  {
   "cell_type": "code",
   "execution_count": 8,
   "metadata": {},
   "outputs": [],
   "source": [
    "rag.clear_index()"
   ]
  },
  {
   "cell_type": "code",
   "execution_count": 17,
   "metadata": {},
   "outputs": [
    {
     "data": {
      "text/plain": [
       "{0: {'doc_id': 0, 'page_id': 1},\n",
       " 1: {'doc_id': 0, 'page_id': 2},\n",
       " 2: {'doc_id': 0, 'page_id': 3},\n",
       " 3: {'doc_id': 0, 'page_id': 4},\n",
       " 4: {'doc_id': 0, 'page_id': 5},\n",
       " 5: {'doc_id': 0, 'page_id': 6},\n",
       " 6: {'doc_id': 0, 'page_id': 7},\n",
       " 7: {'doc_id': 0, 'page_id': 8},\n",
       " 8: {'doc_id': 0, 'page_id': 9},\n",
       " 9: {'doc_id': 0, 'page_id': 10},\n",
       " 10: {'doc_id': 0, 'page_id': 11},\n",
       " 11: {'doc_id': 0, 'page_id': 12},\n",
       " 12: {'doc_id': 1, 'page_id': 1},\n",
       " 13: {'doc_id': 1, 'page_id': 2},\n",
       " 14: {'doc_id': 1, 'page_id': 3},\n",
       " 15: {'doc_id': 1, 'page_id': 4},\n",
       " 16: {'doc_id': 1, 'page_id': 5},\n",
       " 17: {'doc_id': 1, 'page_id': 6}}"
      ]
     },
     "execution_count": 17,
     "metadata": {},
     "output_type": "execute_result"
    }
   ],
   "source": [
    "rag._embed_id_to_doc_id"
   ]
  },
  {
   "cell_type": "code",
   "execution_count": 18,
   "metadata": {},
   "outputs": [
    {
     "data": {
      "text/plain": [
       "{0: {'doc_path': 'papers/ebrs_single_green.pdf',\n",
       "  'pages': 12,\n",
       "  'metadata': None},\n",
       " 1: {'doc_path': 'papers/PhysRevX.2.031008.pdf', 'pages': 6, 'metadata': None}}"
      ]
     },
     "execution_count": 18,
     "metadata": {},
     "output_type": "execute_result"
    }
   ],
   "source": [
    "rag._saved_docs"
   ]
  },
  {
   "cell_type": "code",
   "execution_count": 4,
   "metadata": {},
   "outputs": [],
   "source": [
    "rag.save_index(\"index\")"
   ]
  },
  {
   "cell_type": "code",
   "execution_count": 4,
   "metadata": {},
   "outputs": [
    {
     "name": "stdout",
     "output_type": "stream",
     "text": [
      "Processing item ebrs_single_green.pdf\n",
      "It's a PDF\n",
      "12\n",
      "[<PIL.PpmImagePlugin.PpmImageFile image mode=RGB size=1700x2200 at 0x160D03439B0>, <PIL.PpmImagePlugin.PpmImageFile image mode=RGB size=1700x2200 at 0x160D03438A0>, <PIL.PpmImagePlugin.PpmImageFile image mode=RGB size=1700x2200 at 0x160A6EE3150>, <PIL.PpmImagePlugin.PpmImageFile image mode=RGB size=1700x2200 at 0x160D035F450>, <PIL.PpmImagePlugin.PpmImageFile image mode=RGB size=1700x2200 at 0x160D03D14F0>, <PIL.PpmImagePlugin.PpmImageFile image mode=RGB size=1700x2200 at 0x160D03D24E0>, <PIL.PpmImagePlugin.PpmImageFile image mode=RGB size=1700x2200 at 0x160CE3191D0>, <PIL.PpmImagePlugin.PpmImageFile image mode=RGB size=1700x2200 at 0x160D03C8C90>, <PIL.PpmImagePlugin.PpmImageFile image mode=RGB size=1700x2200 at 0x160D03C89F0>, <PIL.PpmImagePlugin.PpmImageFile image mode=RGB size=1700x2200 at 0x160D03C8E50>, <PIL.PpmImagePlugin.PpmImageFile image mode=RGB size=1700x2200 at 0x160D03C90F0>, <PIL.PpmImagePlugin.PpmImageFile image mode=RGB size=1700x2200 at 0x160D03C9390>]\n",
      "Embedding pages None None\n",
      "Low memory mode\n",
      "Embedding page 0\n",
      "Embedding page 1\n",
      "Embedding page 2\n",
      "Embedding page 3\n",
      "Embedding page 4\n",
      "Embedding page 5\n",
      "Embedding page 6\n",
      "Embedding page 7\n",
      "Embedding page 8\n",
      "Embedding page 9\n",
      "Embedding page 10\n",
      "Embedding page 11\n"
     ]
    }
   ],
   "source": [
    "rag.add_to_index(\"ebrs_single_green.pdf\", 14, overwrite=False)"
   ]
  },
  {
   "cell_type": "code",
   "execution_count": 5,
   "metadata": {},
   "outputs": [
    {
     "data": {
      "text/plain": [
       "{123: {'doc_path': 'papers/PhysRevX.2.031008.pdf',\n",
       "  'pages': 6,\n",
       "  'metadata': None},\n",
       " 14: {'doc_path': 'ebrs_single_green.pdf', 'pages': 12, 'metadata': None}}"
      ]
     },
     "execution_count": 5,
     "metadata": {},
     "output_type": "execute_result"
    }
   ],
   "source": [
    "rag._saved_docs"
   ]
  },
  {
   "cell_type": "code",
   "execution_count": null,
   "metadata": {},
   "outputs": [],
   "source": [
    "results, scores = rag.search(\"Howsd\", with_scores=True)"
   ]
  },
  {
   "cell_type": "code",
   "execution_count": 7,
   "metadata": {},
   "outputs": [
    {
     "data": {
      "text/plain": [
       "[{'doc_id': 4325,\n",
       "  'page_id': 2,\n",
       "  'doc_path': 'papers/PhysRevX.2.031008.pdf',\n",
       "  'pages': 6,\n",
       "  'metadata': None},\n",
       " {'doc_id': 123,\n",
       "  'page_id': 4,\n",
       "  'doc_path': 'papers/ebrs_single_green.pdf',\n",
       "  'pages': 12,\n",
       "  'metadata': None},\n",
       " {'doc_id': 123,\n",
       "  'page_id': 6,\n",
       "  'doc_path': 'papers/ebrs_single_green.pdf',\n",
       "  'pages': 12,\n",
       "  'metadata': None}]"
      ]
     },
     "execution_count": 7,
     "metadata": {},
     "output_type": "execute_result"
    }
   ],
   "source": [
    "results"
   ]
  },
  {
   "cell_type": "code",
   "execution_count": null,
   "metadata": {},
   "outputs": [],
   "source": []
  }
 ],
 "metadata": {
  "kernelspec": {
   "display_name": "tfm",
   "language": "python",
   "name": "python3"
  },
  "language_info": {
   "codemirror_mode": {
    "name": "ipython",
    "version": 3
   },
   "file_extension": ".py",
   "mimetype": "text/x-python",
   "name": "python",
   "nbconvert_exporter": "python",
   "pygments_lexer": "ipython3",
   "version": "3.13.1"
  }
 },
 "nbformat": 4,
 "nbformat_minor": 2
}
