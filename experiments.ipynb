{
 "cells": [
  {
   "cell_type": "code",
   "execution_count": null,
   "metadata": {},
   "outputs": [
    {
     "name": "stderr",
     "output_type": "stream",
     "text": [
      "c:\\Users\\mikel\\Documents\\GitHub\\multimodal-rag\\.venv\\Lib\\site-packages\\deepeval\\__init__.py:54: UserWarning: You are using deepeval version 2.7.1, however version 2.7.2 is available. You should consider upgrading via the \"pip install --upgrade deepeval\" command.\n",
      "  warnings.warn(\n"
     ]
    }
   ],
   "source": [
    "from preprocessing_utils import load_all_files, preprocess_documents\n",
    "from pathlib import Path\n",
    "import os\n",
    "from api import GOOGLE_API_KEY\n",
    "import google.generativeai as genai\n",
    "os.environ[\"GOOGLE_API_KEY\"] = GOOGLE_API_KEY\n",
    "genai.configure(api_key=GOOGLE_API_KEY)"
   ]
  },
  {
   "cell_type": "markdown",
   "metadata": {},
   "source": [
    "## Text only"
   ]
  },
  {
   "cell_type": "code",
   "execution_count": null,
   "metadata": {},
   "outputs": [],
   "source": [
    "papers_path = Path(\"papers/selection\")\n",
    "docs = load_all_files(papers_path)\n",
    "docs = preprocess_documents(docs) "
   ]
  },
  {
   "cell_type": "code",
   "execution_count": 2,
   "metadata": {},
   "outputs": [],
   "source": [
    "from langchain_core.prompts import PromptTemplate\n",
    "\n",
    "template = \"\"\"You are an assistant for question-answering tasks.\n",
    "Use the following pieces of retrieved context to answer the question.\n",
    "If you don't know the answer, just say that you don't know.\n",
    "Use around three sentences for your answer and keep it concise.\n",
    "Do not ever mention that you are using the context as source.\n",
    "\n",
    "Question: {question}\n",
    "\n",
    "Context:\n",
    "{context}\n",
    "\n",
    "Answer:\"    \n",
    "\"\"\"\n",
    "custom_rag_prompt = PromptTemplate.from_template(template)"
   ]
  },
  {
   "cell_type": "code",
   "execution_count": null,
   "metadata": {},
   "outputs": [],
   "source": [
    "# from langchain import hub\n",
    "# from langchain_chroma import Chroma\n",
    "from qdrant_client import QdrantClient\n",
    "from langchain_qdrant import QdrantVectorStore\n",
    "from qdrant_client import models\n",
    "from langchain_core.output_parsers import StrOutputParser\n",
    "from langchain_core.runnables import RunnablePassthrough\n",
    "from langchain_google_genai import GoogleGenerativeAIEmbeddings, ChatGoogleGenerativeAI\n",
    "from langchain.chains import create_retrieval_chain\n",
    "from langchain.chains.combine_documents import create_stuff_documents_chain\n",
    "from langchain_core.prompts import ChatPromptTemplate\n",
    "\n",
    "GENERATIVE_MODEL_NAME = \"gemini-2.0-flash-lite\"\n",
    "EMBEDDINGS_MODEL_NAME = \"models/text-embedding-004\"\n",
    "\n",
    "qdrant_client = QdrantClient(path=\"papers_db\")\n",
    "#### UNCOMMENT IF CREATING COLLECTION FROM SCRATCH\n",
    "# qdrant_client.create_collection(\n",
    "#     collection_name=\"selection\",\n",
    "#     vectors_config=models.VectorParams(\n",
    "#         size=768,\n",
    "#         distance=models.Distance.COSINE\n",
    "#     )\n",
    "\n",
    "# )\n",
    "embeddings = GoogleGenerativeAIEmbeddings(model=EMBEDDINGS_MODEL_NAME)\n",
    "vectorstore = QdrantVectorStore(\n",
    "    client=qdrant_client,\n",
    "    collection_name=\"selection\",\n",
    "    embedding=embeddings,\n",
    "    distance=models.Distance.COSINE\n",
    ")\n",
    "#### UNCOMMENT IF CREATING COLLECTION FROM SCRATCH\n",
    "# vectorstore.add_documents(docs)\n",
    "\n",
    "# Retrieve and generate using the relevant snippets of the blog.\n",
    "retriever = vectorstore.as_retriever(\n",
    "    search_kwargs={\"k\": 3}\n",
    ")\n",
    "llm = ChatGoogleGenerativeAI(model=GENERATIVE_MODEL_NAME)\n",
    "prompt = custom_rag_prompt\n",
    "\n",
    "\n",
    "def format_docs(docs):\n",
    "    \"\"\"Concatenates doc contents into a single string.\n",
    "\n",
    "    Parameters\n",
    "    ----------\n",
    "    docs : list\n",
    "        list of Document objects\n",
    "\n",
    "    Returns\n",
    "    -------\n",
    "    str\n",
    "        doc page_contents concatenated into a string\n",
    "    \"\"\"\n",
    "    return \"\\n\\n\".join(doc.page_content for doc in docs)\n",
    "\n",
    "system_prompt = (\n",
    "    \"You are an assistant for question-answering tasks.\"\n",
    "    \"Use the following pieces of retrieved context to answer the question.\"\n",
    "    \"If you don't know the answer, just say that you don't know.\"\n",
    "    \"Use around three sentences for your answer and keep it concise.\"\n",
    "    \"Use LaTeX to format any math equation.\"\n",
    "    \"Do not ever mention that you are using the context as source.\"\n",
    "    \"Here is context for your answer:\"\n",
    "    \"\\n\\n\"\n",
    "    \"{context}\"\n",
    ")\n",
    "\n",
    "prompt = ChatPromptTemplate.from_messages(\n",
    "    [\n",
    "        (\"system\", system_prompt),\n",
    "        (\"human\", \"{input}\"),\n",
    "    ]\n",
    ")\n",
    "question_answer_chain = create_stuff_documents_chain(llm, prompt)\n",
    "rag_chain = create_retrieval_chain(retriever, question_answer_chain)"
   ]
  },
  {
   "cell_type": "code",
   "execution_count": 4,
   "metadata": {},
   "outputs": [
    {
     "name": "stdout",
     "output_type": "stream",
     "text": [
      "[Document(metadata={'producer': 'iText® 5.3.5 ©2000-2012 1T3XT BVBA (SPRINGER SBM; licensed version)', 'creator': 'Springer', 'creationdate': '2021-08-31T00:12:39+05:30', 'keywords': '', 'crossmarkdomains[1]': 'springer.com', 'moddate': '2021-08-31T07:48:08+02:00', 'subject': 'Communications Materials, doi:10.1038/s43246-021-00194-3', 'doi': '10.1038/s43246-021-00194-3', 'author': 'Jiucheng Cheng', 'crossmarkdomains[2]': 'springerlink.com', 'title': 'A geometric-information-enhanced crystal graph network for predicting properties of materials', 'source': 'papers/selection/Cheng et al. - 2021 - A geometric-information-enhanced crystal graph net.pdf', 'total_pages': 11, 'page': 1, 'page_label': '2', '_id': '36825661a76a4aec975a0d94df1f33c1', '_collection_name': 'selection'}, page_content='aggregation process. In material prediction domain, the geometrical Crystal graph deﬁ nition and the introduction of geometric\\nstructure information like spatial distance and direction is alsoinformation. In this section, we construct a crystal graph\\nimportant because the relative spatial position of atoms in therepresentation suitable for any stoichiometric crystalline material.\\nmicrostructure is closely relatedto the charge interaction between23 Many Such a graph retains the information of the topological and\\nthem and thus affects macroscopic properties of the material. geometric structure of crystals. It also records the periodicity and\\nworks have already introduced geometric structure information into the key crystal information, such as the crystal lattice vector and\\ntheir models. The Crystal Graph Convolutional Neural Network the cell volume. Besides, representations in the graph meet'), Document(metadata={'producer': 'iText® 5.3.5 ©2000-2012 1T3XT BVBA (SPRINGER SBM; licensed version)', 'creator': 'Springer', 'creationdate': '2021-08-31T00:12:39+05:30', 'keywords': '', 'crossmarkdomains[1]': 'springer.com', 'moddate': '2021-08-31T07:48:08+02:00', 'subject': 'Communications Materials, doi:10.1038/s43246-021-00194-3', 'doi': '10.1038/s43246-021-00194-3', 'author': 'Jiucheng Cheng', 'crossmarkdomains[2]': 'springerlink.com', 'title': 'A geometric-information-enhanced crystal graph network for predicting properties of materials', 'source': 'papers/selection/Cheng et al. - 2021 - A geometric-information-enhanced crystal graph net.pdf', 'total_pages': 11, 'page': 1, 'page_label': '2', '_id': 'fca2da5956ac4f38adbff542c528c3bc', '_collection_name': 'selection'}, page_content='the hypothesis that each atom exists in an inﬁ nite deep spherical well. addition,werecordthelatticevector a; b; c and cell volume Ω as Pc\\nThe utilization of attention masks is an excellent way to encode the which means crystal parameters and they will be used in section C.\\ngeometrical structure among atoms. Since it is just beginning of the The full picture of the crystal graph is shown in Fig.1.\\nuse in the ﬁ eld of crystal material prediction, there is still room for\\ndevelopment. In this work, we propose a GNN model to accurately v0 ðz i Þ¼ W ðOnehotðz i ÞÞ; uij ¼ r!\\npredict properties for any crystalline materials, which is invariant to i ¼ Embedding ij ð1Þ\\nglobal 3D rotations, translations, and node permutations. Our model\\nachieves unprecedented predictionaccuracy by introducing complete\\nlocal spatial geometrical information. On the one hand, we construct A MPNN-based GNN for crystal property prediction'), Document(metadata={'producer': 'iText® 5.3.5 ©2000-2012 1T3XT BVBA (SPRINGER SBM; licensed version)', 'creator': 'Springer', 'creationdate': '2021-08-31T00:12:39+05:30', 'keywords': '', 'crossmarkdomains[1]': 'springer.com', 'moddate': '2021-08-31T07:48:08+02:00', 'subject': 'Communications Materials, doi:10.1038/s43246-021-00194-3', 'doi': '10.1038/s43246-021-00194-3', 'author': 'Jiucheng Cheng', 'crossmarkdomains[2]': 'springerlink.com', 'title': 'A geometric-information-enhanced crystal graph network for predicting properties of materials', 'source': 'papers/selection/Cheng et al. - 2021 - A geometric-information-enhanced crystal graph net.pdf', 'total_pages': 11, 'page': 1, 'page_label': '2', '_id': 'c6b420d73b04422b850137fdbbfa51b1', '_collection_name': 'selection'}, page_content='their models. The Crystal Graph Convolutional Neural Network the cell volume. Besides, representations in the graph meet\\n(CGCNN)19 chose the distance between atoms to represent the edges translation invariance and node permutation invariance.\\nin the crystal graph. The Materials Graph Network (MEGNet)24 In a molecule graph representation, nodes usually represent atoms\\nintroduced manual features that included topological distance and inthemoleculeandedgesrepresentthechemicalbondsbetween\\nspatial distance. The directional message passing neural network25 encoded the directional information into GNN modelsatoms18,31,32. But in crystals, there are no clearly deﬁ ned chemical\\n(DimeNet) bonds among atoms. Hence, it is necessary to deﬁ ne the adjacency\\nfor molecular materials26,27. However, previous GNN based works relationship among atoms ﬁ rst. Similar to CGCNN19,wedeﬁ ne the'), Document(metadata={'producer': 'iText® 5.3.5 ©2000-2012 1T3XT BVBA (SPRINGER SBM; licensed version)', 'creator': 'Springer', 'creationdate': '2021-08-31T00:12:39+05:30', 'keywords': '', 'crossmarkdomains[1]': 'springer.com', 'moddate': '2021-08-31T07:48:08+02:00', 'subject': 'Communications Materials, doi:10.1038/s43246-021-00194-3', 'doi': '10.1038/s43246-021-00194-3', 'author': 'Jiucheng Cheng', 'crossmarkdomains[2]': 'springerlink.com', 'title': 'A geometric-information-enhanced crystal graph network for predicting properties of materials', 'source': 'papers/selection/Cheng et al. - 2021 - A geometric-information-enhanced crystal graph net.pdf', 'total_pages': 11, 'page': 0, 'page_label': '1', '_id': '7cb51d1cf6ba44109eb58c704bcc17f4', '_collection_name': 'selection'}, page_content='Jiucheng Cheng1,4, Chunkai Zhang 1,4 ✉ & Lifeng Dong 2,3 ✉\\n\\n\\n\\n\\nGraph neural networks (GNNs) have been used previously for identifying new crystalline\\nmaterials. However, geometric structure is not usually taken into consideration, or only\\npartially. Here, we develop a geometric-information-enhanced crystal graph neural network\\n(GeoCGNN) to predict the properties of crystalline materials. By considering the distance\\nvector between each node and its neighbors, our model can learn full topological and spatial\\ngeometric structure information. Furthermore, we incorporate an effective method based on\\nthe mixed basis functions to encode the geometric information into our model, which out-\\nperforms other GNN methods in a variety of databases. For example, for predicting formation\\nenergy our model is 25.6%, 14.3% and 35.7% more accurate than CGCNN, MEGNet and\\niCGCNN models, respectively. For band gap, our model outperforms CGCNN by 27.6% and\\nMEGNet by 12.4%.')]\n",
      "One example is the Crystal Graph Convolutional Neural Network (CGCNN). It uses the distance between atoms to represent the edges in the crystal graph.\n"
     ]
    }
   ],
   "source": [
    "response = rag_chain.invoke({\"input\":\n",
    "\"Give me an example architecture of a graph neural network used to predict physical properties of crystals and describe the internal architecture.\"\n",
    "                             })\n",
    "print(response[\"context\"])\n",
    "print(response[\"answer\"])"
   ]
  },
  {
   "cell_type": "code",
   "execution_count": 4,
   "metadata": {},
   "outputs": [],
   "source": [
    "from preprocessing_utils import load_queries, load_answers\n",
    "\n",
    "queries = load_queries(\"papers/selection_queries.txt\")\n",
    "answers = load_answers(\"papers/selection_answers.txt\")"
   ]
  },
  {
   "cell_type": "code",
   "execution_count": 6,
   "metadata": {},
   "outputs": [
    {
     "data": {
      "text/plain": [
       "['1_helical_weyl.pdf',\n",
       " '2_magic_angle.pdf',\n",
       " '3_chiral_kagome.pdf',\n",
       " '4_quantum_supremacy.pdf',\n",
       " '5_wte2.pdf',\n",
       " '6_fgt.pdf',\n",
       " '7_kagome_order.pdf',\n",
       " '8_triangulene.pdf',\n",
       " '9_neutron_activation.pdf',\n",
       " '10_rucl3.pdf',\n",
       " '11_methylammonium.pdf',\n",
       " '12_perovskites.pdf',\n",
       " '13_high_troughput.pdf',\n",
       " '14_quenched_nematic.pdf',\n",
       " '15_fractional_charges.pdf',\n",
       " '16_plasmons.pdf',\n",
       " '17_charge_transfer.pdf',\n",
       " '18_photonic_axion.pdf',\n",
       " '19_adsorption.pdf',\n",
       " '20_cgnn.pdf']"
      ]
     },
     "execution_count": 6,
     "metadata": {},
     "output_type": "execute_result"
    }
   ],
   "source": [
    "paper_names = sorted(os.listdir(\"papers/selection\"), key=lambda x: int(x.split(\"_\")[0]))\n",
    "paper_names"
   ]
  },
  {
   "cell_type": "code",
   "execution_count": 2,
   "metadata": {},
   "outputs": [
    {
     "data": {
      "text/plain": [
       "np.float64(2.1309297535714578)"
      ]
     },
     "execution_count": 2,
     "metadata": {},
     "output_type": "execute_result"
    }
   ],
   "source": [
    "from metrics import compute_dcg\n",
    "import numpy as np\n",
    "ideal_dcg = compute_dcg([\"a\", \"a\", \"a\"], np.array([1,1,1]), \"a\")\n",
    "ideal_dcg"
   ]
  },
  {
   "cell_type": "code",
   "execution_count": null,
   "metadata": {},
   "outputs": [
    {
     "data": {
      "text/plain": [
       "array([0.90325211, 0.8043681 , 0.8931873 , 0.77793567, 0.90191179,\n",
       "       0.85582628, 0.73910535, 0.87486064, 0.87178229, 0.76854813,\n",
       "       0.75890711, 0.78719071, 0.66802446, 0.67354001, 0.83462882,\n",
       "       0.63187465, 0.80785569, 0.87585578, 0.29583043, 0.32937405,\n",
       "       0.63691264, 0.8279142 , 0.81288415, 0.3173956 , 0.73844581,\n",
       "       0.73137116, 0.764208  , 0.87312454, 0.82169079, 0.87638703,\n",
       "       0.84600412, 0.89798883, 0.79308244, 0.83783709, 0.80531714,\n",
       "       0.75374734, 0.71420121, 0.        , 0.26868167, 0.8270814 ,\n",
       "       0.82533922, 0.85486909, 0.91052406, 0.7836308 , 0.82682394,\n",
       "       0.80297807, 0.8536215 , 0.81635612, 0.88188953, 0.68063833,\n",
       "       0.89962569, 0.80594209, 0.82717863, 0.47147366, 0.80714767,\n",
       "       0.7986099 , 0.86533019, 0.77911123, 0.85701513, 0.72357773])"
      ]
     },
     "execution_count": 8,
     "metadata": {},
     "output_type": "execute_result"
    }
   ],
   "source": [
    "scores = []\n",
    "for questions, gold_name in zip(queries, paper_names):\n",
    "    for query in questions:\n",
    "        result = vectorstore.similarity_search_with_score(query)\n",
    "        retrieved_docs = [x[0] for x in result]\n",
    "        retrieved_scores = np.array([x[1] for x in result])\n",
    "        retrieved_names = [Path(doc.metadata[\"source\"]).name for doc in retrieved_docs]\n",
    "        scores.append(compute_dcg(retrieved_names, retrieved_scores, gold_name) / ideal_dcg)\n",
    "scores = np.array(scores)\n",
    "scores"
   ]
  },
  {
   "cell_type": "code",
   "execution_count": null,
   "metadata": {},
   "outputs": [
    {
     "data": {
      "text/plain": [
       "{'10_rucl3.pdf': 12,\n",
       " '11_methylammonium.pdf': 7,\n",
       " '12_perovskites.pdf': 13,\n",
       " '13_high_troughput.pdf': 9,\n",
       " '14_quenched_nematic.pdf': 7,\n",
       " '15_fractional_charges.pdf': 20,\n",
       " '16_plasmons.pdf': 14,\n",
       " '17_charge_transfer.pdf': 11,\n",
       " '18_photonic_axion.pdf': 12,\n",
       " '19_adsorption.pdf': 10,\n",
       " '1_helical_weyl.pdf': 10,\n",
       " '20_cgnn.pdf': 11,\n",
       " '2_magic_angle.pdf': 13,\n",
       " '3_chiral_kagome.pdf': 19,\n",
       " '4_quantum_supremacy.pdf': 7,\n",
       " '5_wte2.pdf': 6,\n",
       " '6_fgt.pdf': 10,\n",
       " '7_kagome_order.pdf': 7,\n",
       " '8_triangulene.pdf': 6,\n",
       " '9_neutron_activation.pdf': 8}"
      ]
     },
     "execution_count": 27,
     "metadata": {},
     "output_type": "execute_result"
    }
   ],
   "source": [
    "doc_max_page = {}\n",
    "for doc in docs:\n",
    "    doc_max_page[Path(doc.metadata[\"source\"]).name] = doc.metadata[\"total_pages\"]\n",
    "\n",
    "doc_max_page"
   ]
  },
  {
   "cell_type": "code",
   "execution_count": 28,
   "metadata": {},
   "outputs": [],
   "source": [
    "qrel = {}\n",
    "query_index = 1\n",
    "\n",
    "for group_index, questions in enumerate(queries):\n",
    "    for query in questions:\n",
    "        query_dict = qrel.setdefault(f\"q{query_index}\", {})\n",
    "        query_index += 1\n",
    "        for doc_index, doc_name in enumerate(paper_names):\n",
    "            for page_num in range(doc_max_page[doc_name]):\n",
    "                query_dict[f\"{doc_name}_{page_num + 1}\"] = 1 if group_index == doc_index else 0"
   ]
  },
  {
   "cell_type": "code",
   "execution_count": 29,
   "metadata": {},
   "outputs": [],
   "source": [
    "run = {}\n",
    "query_index = 1\n",
    "for questions, gold_name in zip(queries, paper_names):\n",
    "    for query in questions:\n",
    "        query_dict = run.setdefault(f\"q{query_index}\", {})\n",
    "        query_index += 1\n",
    "        result = vectorstore.similarity_search_with_score(query, k=1e6)\n",
    "        for point, score in result:\n",
    "            doc_name = Path(point.metadata[\"source\"]).name\n",
    "            page_num = point.metadata[\"page\"]\n",
    "            query_dict[f\"{doc_name}_{page_num+1}\"] = score"
   ]
  },
  {
   "cell_type": "code",
   "execution_count": 30,
   "metadata": {},
   "outputs": [],
   "source": [
    "import json\n",
    "\n",
    "json.dump(run, open(\"run_text.json\", \"w\"), indent=4)"
   ]
  },
  {
   "cell_type": "markdown",
   "metadata": {},
   "source": [
    "## Multimodal"
   ]
  },
  {
   "cell_type": "code",
   "execution_count": null,
   "metadata": {},
   "outputs": [],
   "source": [
    "llm = ChatGoogleGenerativeAI(model=GENERATIVE_MODEL_NAME)"
   ]
  },
  {
   "cell_type": "code",
   "execution_count": null,
   "metadata": {},
   "outputs": [],
   "source": [
    "from multimodal_rag.rag_model import QdrantMultiModalRAGModel\n",
    "from multimodal_rag.vlm import VLM\n",
    "\n",
    "VLM_MODEL = \"vidore/colqwen2.5-v0.2\"\n",
    "\n",
    "vlm = VLM.from_pretrained(\n",
    "    VLM_MODEL,\n",
    "    device=\"cuda:0\",\n",
    "    pool_factor=0\n",
    ")\n",
    "\n",
    "IMAGE_FOLDER = Path(\"images/selection\")\n",
    "\n",
    "rag = QdrantMultiModalRAGModel(vlm, qdrant_client, save_docs_path=IMAGE_FOLDER)\n",
    "rag.create_collection(\"selection\")\n",
    "rag.collection"
   ]
  },
  {
   "cell_type": "code",
   "execution_count": null,
   "metadata": {},
   "outputs": [],
   "source": [
    "rag.save_from_folder(\"papers/selection\")"
   ]
  },
  {
   "cell_type": "code",
   "execution_count": null,
   "metadata": {},
   "outputs": [
    {
     "name": "stderr",
     "output_type": "stream",
     "text": [
      "/var/folders/9w/3l6rxjcs3bgfl3v7b2f66llr0000gn/T/ipykernel_77878/2457562682.py:44: LangChainDeprecationWarning: The method `BaseChatModel.__call__` was deprecated in langchain-core 0.1.7 and will be removed in 1.0. Use :meth:`~invoke` instead.\n",
      "  response = llm(formatted_prompt)\n"
     ]
    },
    {
     "name": "stdout",
     "output_type": "stream",
     "text": [
      "The image features a tabby cat wearing orange sunglasses. The cat has green eyes and a white chest. It's sitting on what appears to be a sofa, with various cushions visible in the background. The image is well-lit and has a shallow depth of field, focusing attention on the cat's face.\n"
     ]
    }
   ],
   "source": [
    "from langchain.prompts import ChatPromptTemplate \n",
    "import base64\n",
    "from langchain_core.runnables import RunnableLambda \n",
    "from langchain_google_genai import ChatGoogleGenerativeAI\n",
    "\n",
    "\n",
    "llm = ChatGoogleGenerativeAI(model=\"gemini-2.0-flash-lite\")\n",
    "\n",
    "top_k = 3\n",
    "\n",
    "# Folder for page images.\n",
    "IMAGE_FOLDER = Path(\"images/selection\")\n",
    "\n",
    "def encode_image(image_path):\n",
    "    with open(image_path, \"rb\") as img_file:\n",
    "        return base64.b64encode(img_file.read()).decode(\"utf-8\")\n",
    "\n",
    "def load_image_from_point(point):\n",
    "    image_path = IMAGE_FOLDER / f\"{point.id}.jpg\"\n",
    "    return encode_image(image_path)\n",
    "\n",
    "def retrieve_points(query, limit=10, top_k=3):\n",
    "    result = rag.search(\n",
    "        query,\n",
    "        limit=limit\n",
    "    )\n",
    "    return result.points[:top_k]\n",
    "\n",
    "def retrieve_images(query, limit=10, top_k=3):\n",
    "    result = rag.search(\n",
    "        query,\n",
    "        limit=limit\n",
    "    )\n",
    "\n",
    "    images = []\n",
    "    for point in result.points[:top_k]:\n",
    "        images.append(load_image_from_point(point))\n",
    "\n",
    "    return images\n",
    "\n",
    "def expand_context_images(message):\n",
    "    new_message = {}\n",
    "    new_message[\"query\"] = message[\"query\"]\n",
    "    for i, image in enumerate(message[\"context_images\"]):\n",
    "        new_message[f\"context{i}\"] = image\n",
    "    \n",
    "    return new_message\n",
    "\n",
    "system_message = (\n",
    "    \"You are an assistant for question-answering tasks.\"\n",
    "    \"Use the images of retrieved context to answer the question.\"\n",
    "    \"If you don't know the answer, just say that you don't know.\"\n",
    "    \"Use around three sentences for your answer and keep it concise.\"\n",
    "    \"Use LaTeX to format any math equation.\"\n",
    "    \"Do not ever mention that you are using the context as source.\"\n",
    ") \n",
    "\n",
    "user_message = [\n",
    "    {\n",
    "        \"type\": \"text\",\n",
    "        \"text\": \"{query}\",\n",
    "    }\n",
    "] + [\n",
    "    {\n",
    "        \"type\": \"image_url\",\n",
    "        \"image_url\": {\"url\": \"data:image/jpeg;base64,{placeholder}\".replace(\"placeholder\", f\"context{i}\")},\n",
    "    }\n",
    "    for i in range(top_k)\n",
    "]\n",
    "\n",
    "prompt = ChatPromptTemplate.from_messages(\n",
    "    [\n",
    "        (\"system\", system_message),\n",
    "        (\n",
    "            \"user\",\n",
    "            user_message,\n",
    "        ),\n",
    "    ]\n",
    ")\n",
    "rag_chain = (\n",
    "    {\"context_images\": retrieve_images, \"query\": RunnablePassthrough()}\n",
    "    | RunnableLambda(expand_context_images)\n",
    "    | prompt\n",
    "    | llm\n",
    "    | StrOutputParser()\n",
    ")"
   ]
  },
  {
   "cell_type": "code",
   "execution_count": 42,
   "metadata": {},
   "outputs": [
    {
     "data": {
      "text/plain": [
       "ChatPromptTemplate(input_variables=['context0', 'context1', 'query'], input_types={}, partial_variables={}, messages=[SystemMessagePromptTemplate(prompt=PromptTemplate(input_variables=[], input_types={}, partial_variables={}, template=\"You are an assistant for question-answering tasks.Use the images of retrieved context to answer the question.If you don't know the answer, just say that you don't know.Use around three sentences for your answer and keep it concise.Do not ever mention that you are using the context as source.\"), additional_kwargs={}), HumanMessagePromptTemplate(prompt=[PromptTemplate(input_variables=['query'], input_types={}, partial_variables={}, template='{query}'), ImagePromptTemplate(input_variables=['context0'], input_types={}, partial_variables={}, template={'url': 'data:image/jpeg;base64,{context0}'}), ImagePromptTemplate(input_variables=['context1'], input_types={}, partial_variables={}, template={'url': 'data:image/jpeg;base64,{context1}'})], additional_kwargs={})])"
      ]
     },
     "execution_count": 42,
     "metadata": {},
     "output_type": "execute_result"
    }
   ],
   "source": [
    "prompt"
   ]
  },
  {
   "cell_type": "markdown",
   "metadata": {},
   "source": [
    "## Mixed pipeline"
   ]
  },
  {
   "cell_type": "code",
   "execution_count": null,
   "metadata": {},
   "outputs": [],
   "source": [
    "from langchain_community.document_loaders import PyPDFLoader\n",
    "def load_docs_as_dict(root_path, mode=\"page\"):\n",
    "    \"\"\"Loads PDF documents into a dictionary indexed by their name where\n",
    "    each value is a list of Document objects, one for each page\n",
    "\n",
    "    Parameters\n",
    "    ----------\n",
    "    root_path : str | Path\n",
    "        path where the PDF documents are\n",
    "    mode : str, optional\n",
    "        how to chunk the documents, by default \"page\"\n",
    "\n",
    "    Returns\n",
    "    -------\n",
    "    dict\n",
    "        document dictionary\n",
    "    \"\"\"\n",
    "    docs = {}\n",
    "    num_files = 0\n",
    "    for path, folders, files in os.walk(root_path):\n",
    "        path = Path(path)\n",
    "        if len(folders) != 0:\n",
    "            continue\n",
    "        for file in files:\n",
    "            if not file.endswith(\".pdf\"):\n",
    "                continue\n",
    "            doc_loader = PyPDFLoader(path / file, mode=mode, extraction_mode=\"layout\")\n",
    "            pages = preprocess_documents(doc_loader.load())\n",
    "            docs.setdefault(file, pages)\n",
    "            num_files += 1\n",
    "            print(f\"Number of files: {num_files}\")\n",
    "\n",
    "    return docs"
   ]
  },
  {
   "cell_type": "code",
   "execution_count": null,
   "metadata": {},
   "outputs": [],
   "source": [
    "docs_dict = load_docs_as_dict(Path(\"papers/selection\"))"
   ]
  },
  {
   "cell_type": "code",
   "execution_count": null,
   "metadata": {},
   "outputs": [],
   "source": [
    "llm = ChatGoogleGenerativeAI(model=GENERATIVE_MODEL_NAME)\n",
    "\n",
    "top_k = 3\n",
    "\n",
    "def retrieve_text(query, limit=10, top_k=3):\n",
    "    result = rag.search(\n",
    "        query,\n",
    "        limit=limit\n",
    "    )\n",
    "\n",
    "    doc_text = []\n",
    "    for point in result.points[:top_k]:\n",
    "        doc_name = point.payload[\"doc_name\"]\n",
    "        page_num = point.payload[\"page_num\"]\n",
    "        doc_text.append(docs_dict[doc_name][page_num - 1].page_content)\n",
    "\n",
    "    return \"\\n\\n\".join(doc_text)\n",
    "\n",
    "template = (\n",
    "    \"You are an assistant for question-answering tasks.\"\n",
    "    \"Use the following pieces of retrieved context to answer the question.\"\n",
    "    \"If you don't know the answer, just say that you don't know.\"\n",
    "    \"Use around three sentences for your answer and keep it concise.\"\n",
    "    \"Use LaTeX to format any math equation.\"\n",
    "    \"Do not ever mention that you are using the context as source.\"\n",
    "    \"Here is the question:\\n\"\n",
    "    \"{query}\\n\"\n",
    "    \"Here is context for your answer:\"\n",
    "    \"\\n\\n\"\n",
    "    \"{context}\"\n",
    "    \"\\n\\n\"\n",
    "    \"Answer:\"\n",
    ") \n",
    "\n",
    "prompt = PromptTemplate.from_template(template)\n",
    "\n",
    "rag_chain = (\n",
    "     {\"context\": retrieve_text, \"query\": RunnablePassthrough()}\n",
    "     | prompt\n",
    "     | llm\n",
    "     | StrOutputParser()\n",
    ")"
   ]
  },
  {
   "cell_type": "markdown",
   "metadata": {},
   "source": [
    "## Evaluation"
   ]
  },
  {
   "cell_type": "code",
   "execution_count": 3,
   "metadata": {},
   "outputs": [],
   "source": [
    "from preprocessing_utils import load_queries, load_answers\n",
    "\n",
    "queries = load_queries(\"papers/selection_queries.txt\")\n",
    "answers = load_answers(\"papers/selection_answers.txt\")"
   ]
  },
  {
   "cell_type": "markdown",
   "metadata": {},
   "source": [
    "### Retrieval"
   ]
  },
  {
   "cell_type": "markdown",
   "metadata": {},
   "source": [
    "Create `trec_eval` gold and generated items."
   ]
  },
  {
   "cell_type": "code",
   "execution_count": null,
   "metadata": {},
   "outputs": [],
   "source": [
    "paper_names = sorted(os.listdir(\"papers/selection\"), key=lambda x: int(x.split(\"_\")[0]))\n",
    "\n",
    "# Get max number of pages per document\n",
    "doc_max_page = {}\n",
    "for record in rag.list_items(limit=1000):\n",
    "    doc_max_page.setdefault(record.payload[\"doc_name\"], 1)\n",
    "    page_num = record.payload[\"page_num\"]\n",
    "    if page_num > doc_max_page[record.payload[\"doc_name\"]]:\n",
    "        doc_max_page[record.payload[\"doc_name\"]] = page_num\n",
    "doc_max_page\n",
    "\n",
    "# qrel holds goldens for retrieval\n",
    "qrel = {}\n",
    "query_index = 1\n",
    "\n",
    "for group_index, questions in enumerate(queries):\n",
    "    for query in questions:\n",
    "        query_dict = qrel.setdefault(f\"q{query_index}\", {})\n",
    "        query_index += 1\n",
    "        for doc_index, doc_name in enumerate(paper_names):\n",
    "            for page_num in range(doc_max_page[doc_name]):\n",
    "                query_dict[f\"{doc_name}_{page_num + 1}\"] = 1 if group_index == doc_index else 0\n",
    "\n",
    "query_index = 1\n",
    "# run holds pipeline retrievals\n",
    "run = {}\n",
    "for questions, gold_name in zip(queries, paper_names):\n",
    "    for query in questions:\n",
    "        # use VLM retriever or text retriever\n",
    "        result = rag.search(query, limit=1e6)\n",
    "        query_dict = run.setdefault(f\"q{query_index}\", {})\n",
    "        query_index += 1\n",
    "        for point in result.points:\n",
    "            doc_name = point.payload[\"doc_name\"]\n",
    "            page_num = point.payload[\"page_num\"]\n",
    "            query_dict[f\"{doc_name}_{page_num}\"] = point.score\n",
    "\n",
    "run     "
   ]
  },
  {
   "cell_type": "code",
   "execution_count": null,
   "metadata": {},
   "outputs": [],
   "source": [
    "from pytrec_eval import RelevanceEvaluator\n",
    "import json\n",
    "\n",
    "evaluator = RelevanceEvaluator(qrel, {\"ndcg\", \"ndcg_cut_3\", \"ndcg_cut_5\"})\n",
    "evaluation = evaluator.evaluate(run)\n",
    "json.dump(evaluation, open(\"ndcg_vlm.json\", 'w'), indent=4)\n",
    "evaluation"
   ]
  },
  {
   "cell_type": "markdown",
   "metadata": {},
   "source": [
    "### Generation"
   ]
  },
  {
   "cell_type": "code",
   "execution_count": 8,
   "metadata": {},
   "outputs": [
    {
     "name": "stdout",
     "output_type": "stream",
     "text": [
      "Sleeping after 15 queries\n",
      "Resuming\n",
      "Sleeping after 15 queries\n",
      "Resuming\n",
      "Sleeping after 15 queries\n",
      "Resuming\n",
      "Sleeping after 15 queries\n",
      "Resuming\n"
     ]
    }
   ],
   "source": [
    "from deepeval.dataset import EvaluationDataset\n",
    "from preprocessing_utils import create_dataset\n",
    "\n",
    "\n",
    "dataset = create_dataset(rag_chain, queries, answers)"
   ]
  },
  {
   "cell_type": "code",
   "execution_count": 9,
   "metadata": {},
   "outputs": [
    {
     "name": "stdout",
     "output_type": "stream",
     "text": [
      "Evaluation dataset saved at papers/selection_gemini-2.0-flash-lite_text\\20250413_122238.json!\n"
     ]
    },
    {
     "data": {
      "text/plain": [
       "'papers/selection_gemini-2.0-flash-lite_text\\\\20250413_122238.json'"
      ]
     },
     "execution_count": 9,
     "metadata": {},
     "output_type": "execute_result"
    }
   ],
   "source": [
    "dataset.save_as(file_type=\"json\", directory=\"papers/selection_gemini-2.0-flash-lite_text\", include_test_cases=True)"
   ]
  },
  {
   "cell_type": "code",
   "execution_count": 15,
   "metadata": {},
   "outputs": [],
   "source": [
    "from deepeval.dataset import EvaluationDataset\n",
    "\n",
    "DATASET_PATH = Path(r\"papers\\selection_gemini-2.0-flash-lite_vlm\\20250413_104009.json\")\n",
    "dataset = EvaluationDataset()\n",
    "dataset.add_test_cases_from_json_file(\n",
    "    file_path=DATASET_PATH,\n",
    "    input_key_name=\"input\",\n",
    "    actual_output_key_name=\"actual_output\",\n",
    "    expected_output_key_name=\"expected_output\",\n",
    "    context_key_name=\"context\",\n",
    "    retrieval_context_key_name=\"retrieval_context\",\n",
    ")"
   ]
  },
  {
   "cell_type": "code",
   "execution_count": null,
   "metadata": {},
   "outputs": [],
   "source": [
    "from deepeval.metrics import AnswerRelevancyMetric\n",
    "from deepeval.models.llms import GeminiModel\n",
    "from deepeval import evaluate\n",
    "from time import sleep\n",
    "\n",
    "judge_llm = GeminiModel(\n",
    "    model_name=\"gemini-2.0-flash-lite\",\n",
    "    api_key=GOOGLE_API_KEY\n",
    ")\n",
    "\n",
    "answer_relevancy_metric = AnswerRelevancyMetric(threshold=0.5, model=judge_llm, include_reason=True)\n",
    "\n",
    "# Evaluate by batches to not saturate Google Generative AI free quota\n",
    "\n",
    "results = []\n",
    "batch_size = 5\n",
    "test_case_index = 0\n",
    "number_errors = 0\n",
    "for i, test_case in enumerate(dataset.test_cases):\n",
    "    try:\n",
    "        result = evaluate(test_cases=[test_case], metrics=[answer_relevancy_metric])\n",
    "    except AttributeError:\n",
    "        print(\"Error in test case:\", i)\n",
    "        print(\"Continuing...\")\n",
    "        number_errors += 1\n",
    "    results.append(result)\n",
    "    if (i + 1) % batch_size == 0:\n",
    "        print(\"Processed\", i + 1, \" test cases\")\n",
    "        sleep(65)\n",
    "\n",
    "print(number_errors)\n"
   ]
  },
  {
   "cell_type": "code",
   "execution_count": 17,
   "metadata": {},
   "outputs": [],
   "source": [
    "import pickle\n",
    "pickle.dump(results, open(DATASET_PATH.parent / \"answer_relevancy.pkl\", \"wb\"))"
   ]
  },
  {
   "cell_type": "code",
   "execution_count": null,
   "metadata": {},
   "outputs": [
    {
     "name": "stderr",
     "output_type": "stream",
     "text": [
      "100%|██████████| 60/60 [00:29<00:00,  2.06it/s]\n"
     ]
    }
   ],
   "source": [
    "from tqdm import tqdm\n",
    "from langchain_google_genai import GoogleGenerativeAIEmbeddings, ChatGoogleGenerativeAI\n",
    "EMBEDDINGS_MODEL_NAME = \"models/text-embedding-004\"\n",
    "embeddings = GoogleGenerativeAIEmbeddings(model=EMBEDDINGS_MODEL_NAME)\n",
    "\n",
    "actual_embeddings = []\n",
    "expected_embeddings = []\n",
    "for test_case in tqdm(dataset.test_cases):\n",
    "    actual_vector = embeddings.embed_query(test_case.actual_output)\n",
    "    actual_embeddings.append(actual_vector)\n",
    "    expected_vector = embeddings.embed_query(test_case.expected_output)\n",
    "    expected_embeddings.append(expected_vector)"
   ]
  },
  {
   "cell_type": "code",
   "execution_count": null,
   "metadata": {},
   "outputs": [
    {
     "name": "stdout",
     "output_type": "stream",
     "text": [
      "The autoreload extension is already loaded. To reload it, use:\n",
      "  %reload_ext autoreload\n"
     ]
    }
   ],
   "source": [
    "import numpy as np\n",
    "from metrics import similarity_scores\n",
    "\n",
    "scores = similarity_scores(actual_embeddings, expected_embeddings)"
   ]
  },
  {
   "cell_type": "markdown",
   "metadata": {},
   "source": [
    "## Intepreting results"
   ]
  },
  {
   "cell_type": "code",
   "execution_count": null,
   "metadata": {},
   "outputs": [],
   "source": [
    "import numpy as np\n",
    "import matplotlib.pyplot as plt\n",
    "\n",
    "from pathlib import Path\n",
    "names = [\"text\", \"vlm\", \"mixed\", \"text-lite\", \"vlm-lite\", \"mixed-lite\"]\n",
    "paths = [\n",
    "    \"papers/results/selection_gemini-2.0-flash_text\",\n",
    "    \"papers/results/selection_gemini-2.0-flash_vlm\",\n",
    "    \"papers/results/selection_gemini-2.0-flash_mixed\",\n",
    "    \"papers/results/selection_gemini-2.0-flash-lite_text\",\n",
    "    \"papers/results/selection_gemini-2.0-flash-lite_vlm\",\n",
    "    \"papers/results/selection_gemini-2.0-flash-lite_mixed\",\n",
    "]\n",
    "\n",
    "scores = {}\n",
    "for name, path in zip(names, paths):\n",
    "    scores.setdefault(name, np.loadtxt(Path(path) / \"similarity_scores.dat\"))"
   ]
  },
  {
   "cell_type": "code",
   "execution_count": 5,
   "metadata": {},
   "outputs": [
    {
     "name": "stdout",
     "output_type": "stream",
     "text": [
      "Name : text Avg. score : 0.7661053808199424 Std : 0.11677131030116435\n",
      "Name : vlm Avg. score : 0.7635383269990966 Std : 0.1202173267946917\n",
      "Name : mixed Avg. score : 0.7696908588926106 Std : 0.0989059049784914\n",
      "Name : text-lite Avg. score : 0.7671149432196328 Std : 0.10751080514355006\n",
      "Name : vlm-lite Avg. score : 0.7703999576004855 Std : 0.08909902159490196\n",
      "Name : mixed-lite Avg. score : 0.775280121309187 Std : 0.09620779013599447\n"
     ]
    },
    {
     "data": {
      "text/plain": [
       "<matplotlib.legend.Legend at 0x12ba5bd10>"
      ]
     },
     "execution_count": 5,
     "metadata": {},
     "output_type": "execute_result"
    },
    {
     "data": {
      "image/png": "[encoded data removed]",
      "text/plain": [
       "<Figure size 640x480 with 1 Axes>"
      ]
     },
     "metadata": {},
     "output_type": "display_data"
    }
   ],
   "source": [
    "import matplotlib.pyplot as plt\n",
    "\n",
    "for name in names:\n",
    "    print(f\"Name : {name} Avg. score : {scores[name].mean()} Std : {scores[name].std()}\")\n",
    "    plt.hist(scores[name], bins=20, alpha=0.5, label=name)\n",
    "plt.legend()"
   ]
  },
  {
   "cell_type": "code",
   "execution_count": 12,
   "metadata": {},
   "outputs": [
    {
     "data": {
      "text/plain": [
       "'Explain what kind of control operations were used in the quantum supremacy circuits.'"
      ]
     },
     "execution_count": 12,
     "metadata": {},
     "output_type": "execute_result"
    }
   ],
   "source": [
    "np.array(queries).ravel()[10]"
   ]
  },
  {
   "cell_type": "code",
   "execution_count": 13,
   "metadata": {},
   "outputs": [
    {
     "data": {
      "text/plain": [
       "array([59,  7,  8, 57, 34, 48, 49, 31, 54, 50, 28, 41, 40, 51, 53, 29, 13,\n",
       "       17, 39, 27, 26, 42,  5, 18, 45, 32, 47, 11, 19, 25, 30, 43, 37, 10,\n",
       "        4,  0, 36, 23, 44, 56, 33, 22, 12, 16, 24, 15, 35, 20,  3, 21, 52,\n",
       "        2,  9,  6, 55, 14, 58,  1, 38, 46])"
      ]
     },
     "execution_count": 13,
     "metadata": {},
     "output_type": "execute_result"
    }
   ],
   "source": [
    "np.argsort(scores[\"text\"])"
   ]
  }
 ],
 "metadata": {
  "kernelspec": {
   "display_name": "physics",
   "language": "python",
   "name": "python3"
  },
  "language_info": {
   "codemirror_mode": {
    "name": "ipython",
    "version": 3
   },
   "file_extension": ".py",
   "mimetype": "text/x-python",
   "name": "python",
   "nbconvert_exporter": "python",
   "pygments_lexer": "ipython3",
   "version": "3.12.4"
  }
 },
 "nbformat": 4,
 "nbformat_minor": 2
}
