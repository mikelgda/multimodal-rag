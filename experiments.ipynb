{
 "cells": [
  {
   "cell_type": "code",
   "execution_count": 1,
   "metadata": {},
   "outputs": [
    {
     "name": "stderr",
     "output_type": "stream",
     "text": [
      "c:\\Users\\mikel\\Documents\\GitHub\\multimodal-rag\\.venv\\Lib\\site-packages\\deepeval\\__init__.py:54: UserWarning: You are using deepeval version 2.7.1, however version 2.7.5 is available. You should consider upgrading via the \"pip install --upgrade deepeval\" command.\n",
      "  warnings.warn(\n"
     ]
    }
   ],
   "source": [
    "from preprocessing_utils import load_all_files, preprocess_documents\n",
    "from pathlib import Path\n",
    "import os\n",
    "from api import GOOGLE_API_KEY\n",
    "import google.generativeai as genai\n",
    "os.environ[\"GOOGLE_API_KEY\"] = GOOGLE_API_KEY\n",
    "genai.configure(api_key=GOOGLE_API_KEY)"
   ]
  },
  {
   "cell_type": "markdown",
   "metadata": {},
   "source": [
    "## Text only"
   ]
  },
  {
   "cell_type": "code",
   "execution_count": null,
   "metadata": {},
   "outputs": [],
   "source": [
    "papers_path = Path(\"papers/selection\")\n",
    "docs = load_all_files(papers_path)\n",
    "docs = preprocess_documents(docs) "
   ]
  },
  {
   "cell_type": "code",
   "execution_count": 2,
   "metadata": {},
   "outputs": [],
   "source": [
    "from langchain_core.prompts import PromptTemplate\n",
    "\n",
    "template = \"\"\"You are an assistant for question-answering tasks.\n",
    "Use the following pieces of retrieved context to answer the question.\n",
    "If you don't know the answer, just say that you don't know.\n",
    "Use around three sentences for your answer and keep it concise.\n",
    "Do not ever mention that you are using the context as source.\n",
    "\n",
    "Question: {question}\n",
    "\n",
    "Context:\n",
    "{context}\n",
    "\n",
    "Answer:\"    \n",
    "\"\"\"\n",
    "custom_rag_prompt = PromptTemplate.from_template(template)"
   ]
  },
  {
   "cell_type": "code",
   "execution_count": 3,
   "metadata": {},
   "outputs": [],
   "source": [
    "# from langchain import hub\n",
    "# from langchain_chroma import Chroma\n",
    "from qdrant_client import QdrantClient\n",
    "from langchain_qdrant import QdrantVectorStore\n",
    "from qdrant_client import models\n",
    "from langchain_core.output_parsers import StrOutputParser\n",
    "from langchain_core.runnables import RunnablePassthrough\n",
    "from langchain_google_genai import GoogleGenerativeAIEmbeddings, ChatGoogleGenerativeAI\n",
    "from langchain.chains import create_retrieval_chain\n",
    "from langchain.chains.combine_documents import create_stuff_documents_chain\n",
    "from langchain_core.prompts import ChatPromptTemplate\n",
    "\n",
    "GENERATIVE_MODEL_NAME = \"gemini-2.0-flash-lite\"\n",
    "EMBEDDINGS_MODEL_NAME = \"models/text-embedding-004\"\n",
    "\n",
    "qdrant_client = QdrantClient(path=\"papers_db\")\n",
    "#### UNCOMMENT IF CREATING COLLECTION FROM SCRATCH\n",
    "# qdrant_client.create_collection(\n",
    "#     collection_name=\"selection\",\n",
    "#     vectors_config=models.VectorParams(\n",
    "#         size=768,\n",
    "#         distance=models.Distance.COSINE\n",
    "#     )\n",
    "\n",
    "# )\n",
    "embeddings = GoogleGenerativeAIEmbeddings(model=EMBEDDINGS_MODEL_NAME)\n",
    "vectorstore = QdrantVectorStore(\n",
    "    client=qdrant_client,\n",
    "    collection_name=\"selection\",\n",
    "    embedding=embeddings,\n",
    "    distance=models.Distance.COSINE\n",
    ")\n",
    "#### UNCOMMENT IF CREATING COLLECTION FROM SCRATCH\n",
    "# vectorstore.add_documents(docs)\n",
    "\n",
    "# Retrieve and generate using the relevant snippets of the blog.\n",
    "retriever = vectorstore.as_retriever(\n",
    "    search_kwargs={\"k\": 3}\n",
    ")\n",
    "llm = ChatGoogleGenerativeAI(model=GENERATIVE_MODEL_NAME)\n",
    "prompt = custom_rag_prompt\n",
    "\n",
    "\n",
    "def format_docs(docs):\n",
    "    \"\"\"Concatenates doc contents into a single string.\n",
    "\n",
    "    Parameters\n",
    "    ----------\n",
    "    docs : list\n",
    "        list of Document objects\n",
    "\n",
    "    Returns\n",
    "    -------\n",
    "    str\n",
    "        doc page_contents concatenated into a string\n",
    "    \"\"\"\n",
    "    return \"\\n\\n\".join(doc.page_content for doc in docs)\n",
    "\n",
    "system_prompt = (\n",
    "    \"You are an assistant for question-answering tasks.\"\n",
    "    \"Use the following pieces of retrieved context to answer the question.\"\n",
    "    \"If you don't know the answer, just say that you don't know.\"\n",
    "    \"Use around three sentences for your answer and keep it concise.\"\n",
    "    \"Use LaTeX to format any math equation.\"\n",
    "    \"Do not ever mention that you are using the context as source.\"\n",
    "    \"Here is context for your answer:\"\n",
    "    \"\\n\\n\"\n",
    "    \"{context}\"\n",
    ")\n",
    "\n",
    "prompt = ChatPromptTemplate.from_messages(\n",
    "    [\n",
    "        (\"system\", system_prompt),\n",
    "        (\"human\", \"{input}\"),\n",
    "    ]\n",
    ")\n",
    "question_answer_chain = create_stuff_documents_chain(llm, prompt)\n",
    "rag_chain = create_retrieval_chain(retriever, question_answer_chain)"
   ]
  },
  {
   "cell_type": "code",
   "execution_count": 4,
   "metadata": {},
   "outputs": [
    {
     "name": "stdout",
     "output_type": "stream",
     "text": [
      "[Document(metadata={'producer': 'iText® 5.3.5 ©2000-2012 1T3XT BVBA (SPRINGER SBM; licensed version)', 'creator': 'Springer', 'creationdate': '2021-08-31T00:12:39+05:30', 'keywords': '', 'crossmarkdomains[1]': 'springer.com', 'moddate': '2021-08-31T07:48:08+02:00', 'subject': 'Communications Materials, doi:10.1038/s43246-021-00194-3', 'doi': '10.1038/s43246-021-00194-3', 'author': 'Jiucheng Cheng', 'crossmarkdomains[2]': 'springerlink.com', 'title': 'A geometric-information-enhanced crystal graph network for predicting properties of materials', 'source': 'papers/selection/Cheng et al. - 2021 - A geometric-information-enhanced crystal graph net.pdf', 'total_pages': 11, 'page': 1, 'page_label': '2', '_id': '36825661a76a4aec975a0d94df1f33c1', '_collection_name': 'selection'}, page_content='aggregation process. In material prediction domain, the geometrical Crystal graph deﬁ nition and the introduction of geometric\\nstructure information like spatial distance and direction is alsoinformation. In this section, we construct a crystal graph\\nimportant because the relative spatial position of atoms in therepresentation suitable for any stoichiometric crystalline material.\\nmicrostructure is closely relatedto the charge interaction between23 Many Such a graph retains the information of the topological and\\nthem and thus affects macroscopic properties of the material. geometric structure of crystals. It also records the periodicity and\\nworks have already introduced geometric structure information into the key crystal information, such as the crystal lattice vector and\\ntheir models. The Crystal Graph Convolutional Neural Network the cell volume. Besides, representations in the graph meet'), Document(metadata={'producer': 'iText® 5.3.5 ©2000-2012 1T3XT BVBA (SPRINGER SBM; licensed version)', 'creator': 'Springer', 'creationdate': '2021-08-31T00:12:39+05:30', 'keywords': '', 'crossmarkdomains[1]': 'springer.com', 'moddate': '2021-08-31T07:48:08+02:00', 'subject': 'Communications Materials, doi:10.1038/s43246-021-00194-3', 'doi': '10.1038/s43246-021-00194-3', 'author': 'Jiucheng Cheng', 'crossmarkdomains[2]': 'springerlink.com', 'title': 'A geometric-information-enhanced crystal graph network for predicting properties of materials', 'source': 'papers/selection/Cheng et al. - 2021 - A geometric-information-enhanced crystal graph net.pdf', 'total_pages': 11, 'page': 1, 'page_label': '2', '_id': 'fca2da5956ac4f38adbff542c528c3bc', '_collection_name': 'selection'}, page_content='the hypothesis that each atom exists in an inﬁ nite deep spherical well. addition,werecordthelatticevector a; b; c and cell volume Ω as Pc\\nThe utilization of attention masks is an excellent way to encode the which means crystal parameters and they will be used in section C.\\ngeometrical structure among atoms. Since it is just beginning of the The full picture of the crystal graph is shown in Fig.1.\\nuse in the ﬁ eld of crystal material prediction, there is still room for\\ndevelopment. In this work, we propose a GNN model to accurately v0 ðz i Þ¼ W ðOnehotðz i ÞÞ; uij ¼ r!\\npredict properties for any crystalline materials, which is invariant to i ¼ Embedding ij ð1Þ\\nglobal 3D rotations, translations, and node permutations. Our model\\nachieves unprecedented predictionaccuracy by introducing complete\\nlocal spatial geometrical information. On the one hand, we construct A MPNN-based GNN for crystal property prediction'), Document(metadata={'producer': 'iText® 5.3.5 ©2000-2012 1T3XT BVBA (SPRINGER SBM; licensed version)', 'creator': 'Springer', 'creationdate': '2021-08-31T00:12:39+05:30', 'keywords': '', 'crossmarkdomains[1]': 'springer.com', 'moddate': '2021-08-31T07:48:08+02:00', 'subject': 'Communications Materials, doi:10.1038/s43246-021-00194-3', 'doi': '10.1038/s43246-021-00194-3', 'author': 'Jiucheng Cheng', 'crossmarkdomains[2]': 'springerlink.com', 'title': 'A geometric-information-enhanced crystal graph network for predicting properties of materials', 'source': 'papers/selection/Cheng et al. - 2021 - A geometric-information-enhanced crystal graph net.pdf', 'total_pages': 11, 'page': 1, 'page_label': '2', '_id': 'c6b420d73b04422b850137fdbbfa51b1', '_collection_name': 'selection'}, page_content='their models. The Crystal Graph Convolutional Neural Network the cell volume. Besides, representations in the graph meet\\n(CGCNN)19 chose the distance between atoms to represent the edges translation invariance and node permutation invariance.\\nin the crystal graph. The Materials Graph Network (MEGNet)24 In a molecule graph representation, nodes usually represent atoms\\nintroduced manual features that included topological distance and inthemoleculeandedgesrepresentthechemicalbondsbetween\\nspatial distance. The directional message passing neural network25 encoded the directional information into GNN modelsatoms18,31,32. But in crystals, there are no clearly deﬁ ned chemical\\n(DimeNet) bonds among atoms. Hence, it is necessary to deﬁ ne the adjacency\\nfor molecular materials26,27. However, previous GNN based works relationship among atoms ﬁ rst. Similar to CGCNN19,wedeﬁ ne the'), Document(metadata={'producer': 'iText® 5.3.5 ©2000-2012 1T3XT BVBA (SPRINGER SBM; licensed version)', 'creator': 'Springer', 'creationdate': '2021-08-31T00:12:39+05:30', 'keywords': '', 'crossmarkdomains[1]': 'springer.com', 'moddate': '2021-08-31T07:48:08+02:00', 'subject': 'Communications Materials, doi:10.1038/s43246-021-00194-3', 'doi': '10.1038/s43246-021-00194-3', 'author': 'Jiucheng Cheng', 'crossmarkdomains[2]': 'springerlink.com', 'title': 'A geometric-information-enhanced crystal graph network for predicting properties of materials', 'source': 'papers/selection/Cheng et al. - 2021 - A geometric-information-enhanced crystal graph net.pdf', 'total_pages': 11, 'page': 0, 'page_label': '1', '_id': '7cb51d1cf6ba44109eb58c704bcc17f4', '_collection_name': 'selection'}, page_content='Jiucheng Cheng1,4, Chunkai Zhang 1,4 ✉ & Lifeng Dong 2,3 ✉\\n\\n\\n\\n\\nGraph neural networks (GNNs) have been used previously for identifying new crystalline\\nmaterials. However, geometric structure is not usually taken into consideration, or only\\npartially. Here, we develop a geometric-information-enhanced crystal graph neural network\\n(GeoCGNN) to predict the properties of crystalline materials. By considering the distance\\nvector between each node and its neighbors, our model can learn full topological and spatial\\ngeometric structure information. Furthermore, we incorporate an effective method based on\\nthe mixed basis functions to encode the geometric information into our model, which out-\\nperforms other GNN methods in a variety of databases. For example, for predicting formation\\nenergy our model is 25.6%, 14.3% and 35.7% more accurate than CGCNN, MEGNet and\\niCGCNN models, respectively. For band gap, our model outperforms CGCNN by 27.6% and\\nMEGNet by 12.4%.')]\n",
      "One example is the Crystal Graph Convolutional Neural Network (CGCNN). It uses the distance between atoms to represent the edges in the crystal graph.\n"
     ]
    }
   ],
   "source": [
    "response = rag_chain.invoke({\"input\":\n",
    "\"Give me an example architecture of a graph neural network used to predict physical properties of crystals and describe the internal architecture.\"\n",
    "                             })\n",
    "print(response[\"context\"])\n",
    "print(response[\"answer\"])"
   ]
  },
  {
   "cell_type": "code",
   "execution_count": 4,
   "metadata": {},
   "outputs": [],
   "source": [
    "from preprocessing_utils import load_queries, load_answers\n",
    "\n",
    "queries = load_queries(\"papers/selection_queries.txt\")\n",
    "answers = load_answers(\"papers/selection_answers.txt\")"
   ]
  },
  {
   "cell_type": "code",
   "execution_count": 6,
   "metadata": {},
   "outputs": [
    {
     "data": {
      "text/plain": [
       "['1_helical_weyl.pdf',\n",
       " '2_magic_angle.pdf',\n",
       " '3_chiral_kagome.pdf',\n",
       " '4_quantum_supremacy.pdf',\n",
       " '5_wte2.pdf',\n",
       " '6_fgt.pdf',\n",
       " '7_kagome_order.pdf',\n",
       " '8_triangulene.pdf',\n",
       " '9_neutron_activation.pdf',\n",
       " '10_rucl3.pdf',\n",
       " '11_methylammonium.pdf',\n",
       " '12_perovskites.pdf',\n",
       " '13_high_troughput.pdf',\n",
       " '14_quenched_nematic.pdf',\n",
       " '15_fractional_charges.pdf',\n",
       " '16_plasmons.pdf',\n",
       " '17_charge_transfer.pdf',\n",
       " '18_photonic_axion.pdf',\n",
       " '19_adsorption.pdf',\n",
       " '20_cgnn.pdf']"
      ]
     },
     "execution_count": 6,
     "metadata": {},
     "output_type": "execute_result"
    }
   ],
   "source": [
    "paper_names = sorted(os.listdir(\"papers/selection\"), key=lambda x: int(x.split(\"_\")[0]))\n",
    "paper_names"
   ]
  },
  {
   "cell_type": "code",
   "execution_count": null,
   "metadata": {},
   "outputs": [
    {
     "data": {
      "text/plain": [
       "{'10_rucl3.pdf': 12,\n",
       " '11_methylammonium.pdf': 7,\n",
       " '12_perovskites.pdf': 13,\n",
       " '13_high_troughput.pdf': 9,\n",
       " '14_quenched_nematic.pdf': 7,\n",
       " '15_fractional_charges.pdf': 20,\n",
       " '16_plasmons.pdf': 14,\n",
       " '17_charge_transfer.pdf': 11,\n",
       " '18_photonic_axion.pdf': 12,\n",
       " '19_adsorption.pdf': 10,\n",
       " '1_helical_weyl.pdf': 10,\n",
       " '20_cgnn.pdf': 11,\n",
       " '2_magic_angle.pdf': 13,\n",
       " '3_chiral_kagome.pdf': 19,\n",
       " '4_quantum_supremacy.pdf': 7,\n",
       " '5_wte2.pdf': 6,\n",
       " '6_fgt.pdf': 10,\n",
       " '7_kagome_order.pdf': 7,\n",
       " '8_triangulene.pdf': 6,\n",
       " '9_neutron_activation.pdf': 8}"
      ]
     },
     "execution_count": 27,
     "metadata": {},
     "output_type": "execute_result"
    }
   ],
   "source": [
    "doc_max_page = {}\n",
    "for doc in docs:\n",
    "    doc_max_page[Path(doc.metadata[\"source\"]).name] = doc.metadata[\"total_pages\"]\n",
    "\n",
    "doc_max_page"
   ]
  },
  {
   "cell_type": "code",
   "execution_count": 28,
   "metadata": {},
   "outputs": [],
   "source": [
    "qrel = {}\n",
    "query_index = 1\n",
    "\n",
    "for group_index, questions in enumerate(queries):\n",
    "    for query in questions:\n",
    "        query_dict = qrel.setdefault(f\"q{query_index}\", {})\n",
    "        query_index += 1\n",
    "        for doc_index, doc_name in enumerate(paper_names):\n",
    "            for page_num in range(doc_max_page[doc_name]):\n",
    "                query_dict[f\"{doc_name}_{page_num + 1}\"] = 1 if group_index == doc_index else 0"
   ]
  },
  {
   "cell_type": "code",
   "execution_count": 29,
   "metadata": {},
   "outputs": [],
   "source": [
    "run = {}\n",
    "query_index = 1\n",
    "for questions, gold_name in zip(queries, paper_names):\n",
    "    for query in questions:\n",
    "        query_dict = run.setdefault(f\"q{query_index}\", {})\n",
    "        query_index += 1\n",
    "        result = vectorstore.similarity_search_with_score(query, k=1e6)\n",
    "        for point, score in result:\n",
    "            doc_name = Path(point.metadata[\"source\"]).name\n",
    "            page_num = point.metadata[\"page\"]\n",
    "            query_dict[f\"{doc_name}_{page_num+1}\"] = score"
   ]
  },
  {
   "cell_type": "code",
   "execution_count": 30,
   "metadata": {},
   "outputs": [],
   "source": [
    "import json\n",
    "\n",
    "json.dump(run, open(\"run_text.json\", \"w\"), indent=4)"
   ]
  },
  {
   "cell_type": "markdown",
   "metadata": {},
   "source": [
    "## Multimodal"
   ]
  },
  {
   "cell_type": "code",
   "execution_count": null,
   "metadata": {},
   "outputs": [],
   "source": [
    "llm = ChatGoogleGenerativeAI(model=GENERATIVE_MODEL_NAME)"
   ]
  },
  {
   "cell_type": "code",
   "execution_count": null,
   "metadata": {},
   "outputs": [],
   "source": [
    "from multimodal_rag.rag_model import QdrantMultiModalRetriever\n",
    "from multimodal_rag.vlm import VLM\n",
    "\n",
    "VLM_MODEL = \"vidore/colqwen2.5-v0.2\"\n",
    "\n",
    "vlm = VLM.from_pretrained(\n",
    "    VLM_MODEL,\n",
    "    device=\"cuda:0\",\n",
    "    pool_factor=0\n",
    ")\n",
    "\n",
    "IMAGE_FOLDER = Path(\"images/selection\")\n",
    "\n",
    "rag = QdrantMultiModalRetriever(vlm, qdrant_client, save_docs_path=IMAGE_FOLDER)\n",
    "rag.create_collection(\"selection\")\n",
    "rag.collection"
   ]
  },
  {
   "cell_type": "code",
   "execution_count": null,
   "metadata": {},
   "outputs": [],
   "source": [
    "rag.save_from_folder(\"papers/selection\")"
   ]
  },
  {
   "cell_type": "code",
   "execution_count": null,
   "metadata": {},
   "outputs": [
    {
     "name": "stderr",
     "output_type": "stream",
     "text": [
      "/var/folders/9w/3l6rxjcs3bgfl3v7b2f66llr0000gn/T/ipykernel_77878/2457562682.py:44: LangChainDeprecationWarning: The method `BaseChatModel.__call__` was deprecated in langchain-core 0.1.7 and will be removed in 1.0. Use :meth:`~invoke` instead.\n",
      "  response = llm(formatted_prompt)\n"
     ]
    },
    {
     "name": "stdout",
     "output_type": "stream",
     "text": [
      "The image features a tabby cat wearing orange sunglasses. The cat has green eyes and a white chest. It's sitting on what appears to be a sofa, with various cushions visible in the background. The image is well-lit and has a shallow depth of field, focusing attention on the cat's face.\n"
     ]
    }
   ],
   "source": [
    "from langchain.prompts import ChatPromptTemplate \n",
    "import base64\n",
    "from langchain_core.runnables import RunnableLambda \n",
    "from langchain_google_genai import ChatGoogleGenerativeAI\n",
    "\n",
    "\n",
    "llm = ChatGoogleGenerativeAI(model=\"gemini-2.0-flash-lite\")\n",
    "\n",
    "top_k = 3\n",
    "\n",
    "# Folder for page images.\n",
    "IMAGE_FOLDER = Path(\"images/selection\")\n",
    "\n",
    "def encode_image(image_path):\n",
    "    with open(image_path, \"rb\") as img_file:\n",
    "        return base64.b64encode(img_file.read()).decode(\"utf-8\")\n",
    "\n",
    "def load_image_from_point(point):\n",
    "    image_path = IMAGE_FOLDER / f\"{point.id}.jpg\"\n",
    "    return encode_image(image_path)\n",
    "\n",
    "def retrieve_points(query, limit=10, top_k=3):\n",
    "    result = rag.search(\n",
    "        query,\n",
    "        limit=limit\n",
    "    )\n",
    "    return result.points[:top_k]\n",
    "\n",
    "def retrieve_images(query, limit=10, top_k=3):\n",
    "    result = rag.search(\n",
    "        query,\n",
    "        limit=limit\n",
    "    )\n",
    "\n",
    "    images = []\n",
    "    for point in result.points[:top_k]:\n",
    "        images.append(load_image_from_point(point))\n",
    "\n",
    "    return images\n",
    "\n",
    "def expand_context_images(message):\n",
    "    new_message = {}\n",
    "    new_message[\"query\"] = message[\"query\"]\n",
    "    for i, image in enumerate(message[\"context_images\"]):\n",
    "        new_message[f\"context{i}\"] = image\n",
    "    \n",
    "    return new_message\n",
    "\n",
    "system_message = (\n",
    "    \"You are an assistant for question-answering tasks.\"\n",
    "    \"Use the images of retrieved context to answer the question.\"\n",
    "    \"If you don't know the answer, just say that you don't know.\"\n",
    "    \"Use around three sentences for your answer and keep it concise.\"\n",
    "    \"Use LaTeX to format any math equation.\"\n",
    "    \"Do not ever mention that you are using the context as source.\"\n",
    ") \n",
    "\n",
    "user_message = [\n",
    "    {\n",
    "        \"type\": \"text\",\n",
    "        \"text\": \"{query}\",\n",
    "    }\n",
    "] + [\n",
    "    {\n",
    "        \"type\": \"image_url\",\n",
    "        \"image_url\": {\"url\": \"data:image/jpeg;base64,{placeholder}\".replace(\"placeholder\", f\"context{i}\")},\n",
    "    }\n",
    "    for i in range(top_k)\n",
    "]\n",
    "\n",
    "prompt = ChatPromptTemplate.from_messages(\n",
    "    [\n",
    "        (\"system\", system_message),\n",
    "        (\n",
    "            \"user\",\n",
    "            user_message,\n",
    "        ),\n",
    "    ]\n",
    ")\n",
    "rag_chain = (\n",
    "    {\"context_images\": retrieve_images, \"query\": RunnablePassthrough()}\n",
    "    | RunnableLambda(expand_context_images)\n",
    "    | prompt\n",
    "    | llm\n",
    "    | StrOutputParser()\n",
    ")"
   ]
  },
  {
   "cell_type": "code",
   "execution_count": 42,
   "metadata": {},
   "outputs": [
    {
     "data": {
      "text/plain": [
       "ChatPromptTemplate(input_variables=['context0', 'context1', 'query'], input_types={}, partial_variables={}, messages=[SystemMessagePromptTemplate(prompt=PromptTemplate(input_variables=[], input_types={}, partial_variables={}, template=\"You are an assistant for question-answering tasks.Use the images of retrieved context to answer the question.If you don't know the answer, just say that you don't know.Use around three sentences for your answer and keep it concise.Do not ever mention that you are using the context as source.\"), additional_kwargs={}), HumanMessagePromptTemplate(prompt=[PromptTemplate(input_variables=['query'], input_types={}, partial_variables={}, template='{query}'), ImagePromptTemplate(input_variables=['context0'], input_types={}, partial_variables={}, template={'url': 'data:image/jpeg;base64,{context0}'}), ImagePromptTemplate(input_variables=['context1'], input_types={}, partial_variables={}, template={'url': 'data:image/jpeg;base64,{context1}'})], additional_kwargs={})])"
      ]
     },
     "execution_count": 42,
     "metadata": {},
     "output_type": "execute_result"
    }
   ],
   "source": [
    "prompt"
   ]
  },
  {
   "cell_type": "markdown",
   "metadata": {},
   "source": [
    "## Mixed pipeline"
   ]
  },
  {
   "cell_type": "code",
   "execution_count": null,
   "metadata": {},
   "outputs": [],
   "source": [
    "from langchain_community.document_loaders import PyPDFLoader\n",
    "def load_docs_as_dict(root_path, mode=\"page\"):\n",
    "    \"\"\"Loads PDF documents into a dictionary indexed by their name where\n",
    "    each value is a list of Document objects, one for each page\n",
    "\n",
    "    Parameters\n",
    "    ----------\n",
    "    root_path : str | Path\n",
    "        path where the PDF documents are\n",
    "    mode : str, optional\n",
    "        how to chunk the documents, by default \"page\"\n",
    "\n",
    "    Returns\n",
    "    -------\n",
    "    dict\n",
    "        document dictionary\n",
    "    \"\"\"\n",
    "    docs = {}\n",
    "    num_files = 0\n",
    "    for path, folders, files in os.walk(root_path):\n",
    "        path = Path(path)\n",
    "        if len(folders) != 0:\n",
    "            continue\n",
    "        for file in files:\n",
    "            if not file.endswith(\".pdf\"):\n",
    "                continue\n",
    "            doc_loader = PyPDFLoader(path / file, mode=mode, extraction_mode=\"layout\")\n",
    "            pages = preprocess_documents(doc_loader.load())\n",
    "            docs.setdefault(file, pages)\n",
    "            num_files += 1\n",
    "            print(f\"Number of files: {num_files}\")\n",
    "\n",
    "    return docs"
   ]
  },
  {
   "cell_type": "code",
   "execution_count": null,
   "metadata": {},
   "outputs": [],
   "source": [
    "docs_dict = load_docs_as_dict(Path(\"papers/selection\"))"
   ]
  },
  {
   "cell_type": "code",
   "execution_count": null,
   "metadata": {},
   "outputs": [],
   "source": [
    "llm = ChatGoogleGenerativeAI(model=GENERATIVE_MODEL_NAME)\n",
    "\n",
    "top_k = 3\n",
    "\n",
    "def retrieve_text(query, limit=10, top_k=3):\n",
    "    result = rag.search(\n",
    "        query,\n",
    "        limit=limit\n",
    "    )\n",
    "\n",
    "    doc_text = []\n",
    "    for point in result.points[:top_k]:\n",
    "        doc_name = point.payload[\"doc_name\"]\n",
    "        page_num = point.payload[\"page_num\"]\n",
    "        doc_text.append(docs_dict[doc_name][page_num - 1].page_content)\n",
    "\n",
    "    return \"\\n\\n\".join(doc_text)\n",
    "\n",
    "template = (\n",
    "    \"You are an assistant for question-answering tasks.\"\n",
    "    \"Use the following pieces of retrieved context to answer the question.\"\n",
    "    \"If you don't know the answer, just say that you don't know.\"\n",
    "    \"Use around three sentences for your answer and keep it concise.\"\n",
    "    \"Use LaTeX to format any math equation.\"\n",
    "    \"Do not ever mention that you are using the context as source.\"\n",
    "    \"Here is the question:\\n\"\n",
    "    \"{query}\\n\"\n",
    "    \"Here is context for your answer:\"\n",
    "    \"\\n\\n\"\n",
    "    \"{context}\"\n",
    "    \"\\n\\n\"\n",
    "    \"Answer:\"\n",
    ") \n",
    "\n",
    "prompt = PromptTemplate.from_template(template)\n",
    "\n",
    "rag_chain = (\n",
    "     {\"context\": retrieve_text, \"query\": RunnablePassthrough()}\n",
    "     | prompt\n",
    "     | llm\n",
    "     | StrOutputParser()\n",
    ")"
   ]
  },
  {
   "cell_type": "markdown",
   "metadata": {},
   "source": [
    "## Evaluation"
   ]
  },
  {
   "cell_type": "code",
   "execution_count": 5,
   "metadata": {},
   "outputs": [],
   "source": [
    "from preprocessing_utils import load_queries, load_answers\n",
    "\n",
    "queries = load_queries(\"papers/selection_queries.txt\")\n",
    "answers = load_answers(\"papers/selection_answers.txt\")"
   ]
  },
  {
   "cell_type": "markdown",
   "metadata": {},
   "source": [
    "### Retrieval"
   ]
  },
  {
   "cell_type": "markdown",
   "metadata": {},
   "source": [
    "Create `trec_eval` gold and generated items."
   ]
  },
  {
   "cell_type": "code",
   "execution_count": null,
   "metadata": {},
   "outputs": [],
   "source": [
    "paper_names = sorted(os.listdir(\"papers/selection\"), key=lambda x: int(x.split(\"_\")[0]))\n",
    "\n",
    "# Get max number of pages per document\n",
    "doc_max_page = {}\n",
    "for record in rag.list_items(limit=1000):\n",
    "    doc_max_page.setdefault(record.payload[\"doc_name\"], 1)\n",
    "    page_num = record.payload[\"page_num\"]\n",
    "    if page_num > doc_max_page[record.payload[\"doc_name\"]]:\n",
    "        doc_max_page[record.payload[\"doc_name\"]] = page_num\n",
    "doc_max_page\n",
    "\n",
    "# qrel holds goldens for retrieval\n",
    "qrel = {}\n",
    "query_index = 1\n",
    "\n",
    "for group_index, questions in enumerate(queries):\n",
    "    for query in questions:\n",
    "        query_dict = qrel.setdefault(f\"q{query_index}\", {})\n",
    "        query_index += 1\n",
    "        for doc_index, doc_name in enumerate(paper_names):\n",
    "            for page_num in range(doc_max_page[doc_name]):\n",
    "                query_dict[f\"{doc_name}_{page_num + 1}\"] = 1 if group_index == doc_index else 0\n",
    "\n",
    "query_index = 1\n",
    "# run holds pipeline retrievals\n",
    "run = {}\n",
    "for questions, gold_name in zip(queries, paper_names):\n",
    "    for query in questions:\n",
    "        # use VLM retriever or text retriever\n",
    "        result = rag.search(query, limit=1e6)\n",
    "        query_dict = run.setdefault(f\"q{query_index}\", {})\n",
    "        query_index += 1\n",
    "        for point in result.points:\n",
    "            doc_name = point.payload[\"doc_name\"]\n",
    "            page_num = point.payload[\"page_num\"]\n",
    "            query_dict[f\"{doc_name}_{page_num}\"] = point.score\n",
    "\n",
    "run     "
   ]
  },
  {
   "cell_type": "code",
   "execution_count": null,
   "metadata": {},
   "outputs": [],
   "source": [
    "from pytrec_eval import RelevanceEvaluator\n",
    "import json\n",
    "\n",
    "evaluator = RelevanceEvaluator(qrel, {\"ndcg\", \"ndcg_cut_3\", \"ndcg_cut_5\"})\n",
    "evaluation = evaluator.evaluate(run)\n",
    "json.dump(evaluation, open(\"ndcg_vlm.json\", 'w'), indent=4)\n",
    "evaluation"
   ]
  },
  {
   "cell_type": "markdown",
   "metadata": {},
   "source": [
    "### Generation"
   ]
  },
  {
   "cell_type": "code",
   "execution_count": 8,
   "metadata": {},
   "outputs": [
    {
     "name": "stdout",
     "output_type": "stream",
     "text": [
      "Sleeping after 15 queries\n",
      "Resuming\n",
      "Sleeping after 15 queries\n",
      "Resuming\n",
      "Sleeping after 15 queries\n",
      "Resuming\n",
      "Sleeping after 15 queries\n",
      "Resuming\n"
     ]
    }
   ],
   "source": [
    "from deepeval.dataset import EvaluationDataset\n",
    "from preprocessing_utils import create_dataset\n",
    "\n",
    "\n",
    "dataset = create_dataset(rag_chain, queries, answers)"
   ]
  },
  {
   "cell_type": "code",
   "execution_count": 9,
   "metadata": {},
   "outputs": [
    {
     "name": "stdout",
     "output_type": "stream",
     "text": [
      "Evaluation dataset saved at papers/selection_gemini-2.0-flash-lite_text\\20250413_122238.json!\n"
     ]
    },
    {
     "data": {
      "text/plain": [
       "'papers/selection_gemini-2.0-flash-lite_text\\\\20250413_122238.json'"
      ]
     },
     "execution_count": 9,
     "metadata": {},
     "output_type": "execute_result"
    }
   ],
   "source": [
    "dataset.save_as(file_type=\"json\", directory=\"papers/selection_gemini-2.0-flash-lite_text\", include_test_cases=True)"
   ]
  },
  {
   "cell_type": "code",
   "execution_count": 6,
   "metadata": {},
   "outputs": [],
   "source": [
    "from deepeval.dataset import EvaluationDataset\n",
    "\n",
    "DATASET_PATH = Path(r\"papers\\results\\selection_gemini-2.0-flash_vlm\\20250413_102955.json\")\n",
    "dataset = EvaluationDataset()\n",
    "dataset.add_test_cases_from_json_file(\n",
    "    file_path=DATASET_PATH,\n",
    "    input_key_name=\"input\",\n",
    "    actual_output_key_name=\"actual_output\",\n",
    "    expected_output_key_name=\"expected_output\",\n",
    "    context_key_name=\"context\",\n",
    "    retrieval_context_key_name=\"retrieval_context\",\n",
    ")"
   ]
  },
  {
   "cell_type": "code",
   "execution_count": null,
   "metadata": {},
   "outputs": [],
   "source": [
    "from deepeval.metrics import AnswerRelevancyMetric\n",
    "from deepeval.models.llms import GeminiModel\n",
    "from deepeval import evaluate\n",
    "from time import sleep\n",
    "\n",
    "judge_llm = GeminiModel(\n",
    "    model_name=\"gemini-2.0-flash-lite\",\n",
    "    api_key=GOOGLE_API_KEY\n",
    ")\n",
    "\n",
    "answer_relevancy_metric = AnswerRelevancyMetric(threshold=0.5, model=judge_llm, include_reason=True)\n",
    "\n",
    "# Evaluate by batches to not saturate Google Generative AI free quota\n",
    "\n",
    "results = []\n",
    "batch_size = 5\n",
    "test_case_index = 0\n",
    "number_errors = 0\n",
    "for i, test_case in enumerate(dataset.test_cases):\n",
    "    try:\n",
    "        result = evaluate(test_cases=[test_case], metrics=[answer_relevancy_metric])\n",
    "    except AttributeError:\n",
    "        print(\"Error in test case:\", i)\n",
    "        print(\"Continuing...\")\n",
    "        number_errors += 1\n",
    "    results.append(result)\n",
    "    if (i + 1) % batch_size == 0:\n",
    "        print(\"Processed\", i + 1, \" test cases\")\n",
    "        sleep(65)\n",
    "\n",
    "print(number_errors)\n"
   ]
  },
  {
   "cell_type": "code",
   "execution_count": 8,
   "metadata": {},
   "outputs": [],
   "source": [
    "import pickle\n",
    "pickle.dump(results, open(DATASET_PATH.parent / \"answer_relevancy.pkl\", \"wb\"))"
   ]
  },
  {
   "cell_type": "markdown",
   "metadata": {},
   "source": [
    "Smiliarity with cosine distance between expected and actual answers"
   ]
  },
  {
   "cell_type": "code",
   "execution_count": 3,
   "metadata": {},
   "outputs": [
    {
     "name": "stderr",
     "output_type": "stream",
     "text": [
      "100%|██████████| 60/60 [00:28<00:00,  2.12it/s]\n"
     ]
    }
   ],
   "source": [
    "from tqdm import tqdm\n",
    "from langchain_google_genai import GoogleGenerativeAIEmbeddings, ChatGoogleGenerativeAI\n",
    "EMBEDDINGS_MODEL_NAME = \"models/text-embedding-004\"\n",
    "embeddings = GoogleGenerativeAIEmbeddings(model=EMBEDDINGS_MODEL_NAME)\n",
    "\n",
    "actual_embeddings = []\n",
    "expected_embeddings = []\n",
    "for test_case in tqdm(dataset.test_cases):\n",
    "    actual_vector = embeddings.embed_query(test_case.actual_output)\n",
    "    actual_embeddings.append(actual_vector)\n",
    "    expected_vector = embeddings.embed_query(test_case.expected_output)\n",
    "    expected_embeddings.append(expected_vector)"
   ]
  },
  {
   "cell_type": "code",
   "execution_count": 4,
   "metadata": {},
   "outputs": [],
   "source": [
    "import numpy as np\n",
    "from metrics import similarity_scores\n",
    "\n",
    "scores = similarity_scores(actual_embeddings, expected_embeddings)"
   ]
  },
  {
   "cell_type": "code",
   "execution_count": 9,
   "metadata": {},
   "outputs": [],
   "source": [
    "np.savetxt(DATASET_PATH.parent / \"similarity_scores.dat\", scores)"
   ]
  },
  {
   "cell_type": "markdown",
   "metadata": {},
   "source": [
    "## Intepreting results"
   ]
  },
  {
   "cell_type": "code",
   "execution_count": 227,
   "metadata": {},
   "outputs": [],
   "source": [
    "import numpy as np\n",
    "import matplotlib.pyplot as plt\n",
    "import seaborn as sns\n",
    "import pandas as pd\n",
    "sns.set(style=\"darkgrid\")"
   ]
  },
  {
   "cell_type": "markdown",
   "metadata": {},
   "source": [
    "### Retrieval"
   ]
  },
  {
   "cell_type": "code",
   "execution_count": 235,
   "metadata": {},
   "outputs": [
    {
     "data": {
      "text/html": [
       "<div>\n",
       "<style scoped>\n",
       "    .dataframe tbody tr th:only-of-type {\n",
       "        vertical-align: middle;\n",
       "    }\n",
       "\n",
       "    .dataframe tbody tr th {\n",
       "        vertical-align: top;\n",
       "    }\n",
       "\n",
       "    .dataframe thead th {\n",
       "        text-align: right;\n",
       "    }\n",
       "</style>\n",
       "<table border=\"1\" class=\"dataframe\">\n",
       "  <thead>\n",
       "    <tr style=\"text-align: right;\">\n",
       "      <th></th>\n",
       "      <th>index</th>\n",
       "      <th>ndcg</th>\n",
       "      <th>ndcg_cut_3</th>\n",
       "      <th>ndcg_cut_5</th>\n",
       "    </tr>\n",
       "  </thead>\n",
       "  <tbody>\n",
       "    <tr>\n",
       "      <th>0</th>\n",
       "      <td>q1</td>\n",
       "      <td>0.991962</td>\n",
       "      <td>1.0</td>\n",
       "      <td>1.000000</td>\n",
       "    </tr>\n",
       "    <tr>\n",
       "      <th>1</th>\n",
       "      <td>q2</td>\n",
       "      <td>0.997772</td>\n",
       "      <td>1.0</td>\n",
       "      <td>1.000000</td>\n",
       "    </tr>\n",
       "    <tr>\n",
       "      <th>2</th>\n",
       "      <td>q3</td>\n",
       "      <td>1.000000</td>\n",
       "      <td>1.0</td>\n",
       "      <td>1.000000</td>\n",
       "    </tr>\n",
       "    <tr>\n",
       "      <th>3</th>\n",
       "      <td>q4</td>\n",
       "      <td>0.936568</td>\n",
       "      <td>1.0</td>\n",
       "      <td>0.868795</td>\n",
       "    </tr>\n",
       "    <tr>\n",
       "      <th>4</th>\n",
       "      <td>q5</td>\n",
       "      <td>0.968682</td>\n",
       "      <td>1.0</td>\n",
       "      <td>1.000000</td>\n",
       "    </tr>\n",
       "  </tbody>\n",
       "</table>\n",
       "</div>"
      ],
      "text/plain": [
       "  index      ndcg  ndcg_cut_3  ndcg_cut_5\n",
       "0    q1  0.991962         1.0    1.000000\n",
       "1    q2  0.997772         1.0    1.000000\n",
       "2    q3  1.000000         1.0    1.000000\n",
       "3    q4  0.936568         1.0    0.868795\n",
       "4    q5  0.968682         1.0    1.000000"
      ]
     },
     "execution_count": 235,
     "metadata": {},
     "output_type": "execute_result"
    }
   ],
   "source": [
    "df = pd.read_json(\"papers/results/ncdg_text.json\").T.reset_index()\n",
    "df.head()"
   ]
  },
  {
   "cell_type": "code",
   "execution_count": 240,
   "metadata": {},
   "outputs": [
    {
     "data": {
      "text/plain": [
       "0      1\n",
       "1      2\n",
       "2      3\n",
       "3      4\n",
       "4      5\n",
       "5      6\n",
       "6      7\n",
       "7      8\n",
       "8      9\n",
       "9     10\n",
       "10    11\n",
       "11    12\n",
       "12    13\n",
       "13    14\n",
       "14    15\n",
       "15    16\n",
       "16    17\n",
       "17    18\n",
       "18    19\n",
       "19    20\n",
       "20    21\n",
       "21    22\n",
       "22    23\n",
       "23    24\n",
       "24    25\n",
       "25    26\n",
       "26    27\n",
       "27    28\n",
       "28    29\n",
       "29    30\n",
       "30    31\n",
       "31    32\n",
       "32    33\n",
       "33    34\n",
       "34    35\n",
       "35    36\n",
       "36    37\n",
       "37    38\n",
       "38    39\n",
       "39    40\n",
       "40    41\n",
       "41    42\n",
       "42    43\n",
       "43    44\n",
       "44    45\n",
       "45    46\n",
       "46    47\n",
       "47    48\n",
       "48    49\n",
       "49    50\n",
       "50    51\n",
       "51    52\n",
       "52    53\n",
       "53    54\n",
       "54    55\n",
       "55    56\n",
       "56    57\n",
       "57    58\n",
       "58    59\n",
       "59    60\n",
       "Name: index, dtype: object"
      ]
     },
     "execution_count": 240,
     "metadata": {},
     "output_type": "execute_result"
    }
   ],
   "source": [
    "df[\"index\"].str.replace(\"q\", \"\")"
   ]
  },
  {
   "cell_type": "code",
   "execution_count": 253,
   "metadata": {},
   "outputs": [
    {
     "data": {
      "text/html": [
       "<div>\n",
       "<style scoped>\n",
       "    .dataframe tbody tr th:only-of-type {\n",
       "        vertical-align: middle;\n",
       "    }\n",
       "\n",
       "    .dataframe tbody tr th {\n",
       "        vertical-align: top;\n",
       "    }\n",
       "\n",
       "    .dataframe thead th {\n",
       "        text-align: right;\n",
       "    }\n",
       "</style>\n",
       "<table border=\"1\" class=\"dataframe\">\n",
       "  <thead>\n",
       "    <tr style=\"text-align: right;\">\n",
       "      <th></th>\n",
       "      <th>ndcg</th>\n",
       "      <th>ndcg_cut_3</th>\n",
       "      <th>ndcg_cut_5</th>\n",
       "      <th>query_number</th>\n",
       "      <th>model</th>\n",
       "    </tr>\n",
       "  </thead>\n",
       "  <tbody>\n",
       "    <tr>\n",
       "      <th>0</th>\n",
       "      <td>0.991962</td>\n",
       "      <td>1.0</td>\n",
       "      <td>1.000000</td>\n",
       "      <td>1</td>\n",
       "      <td>text</td>\n",
       "    </tr>\n",
       "    <tr>\n",
       "      <th>1</th>\n",
       "      <td>0.997772</td>\n",
       "      <td>1.0</td>\n",
       "      <td>1.000000</td>\n",
       "      <td>2</td>\n",
       "      <td>text</td>\n",
       "    </tr>\n",
       "    <tr>\n",
       "      <th>2</th>\n",
       "      <td>1.000000</td>\n",
       "      <td>1.0</td>\n",
       "      <td>1.000000</td>\n",
       "      <td>3</td>\n",
       "      <td>text</td>\n",
       "    </tr>\n",
       "    <tr>\n",
       "      <th>3</th>\n",
       "      <td>0.936568</td>\n",
       "      <td>1.0</td>\n",
       "      <td>0.868795</td>\n",
       "      <td>4</td>\n",
       "      <td>text</td>\n",
       "    </tr>\n",
       "    <tr>\n",
       "      <th>4</th>\n",
       "      <td>0.968682</td>\n",
       "      <td>1.0</td>\n",
       "      <td>1.000000</td>\n",
       "      <td>5</td>\n",
       "      <td>text</td>\n",
       "    </tr>\n",
       "  </tbody>\n",
       "</table>\n",
       "</div>"
      ],
      "text/plain": [
       "       ndcg  ndcg_cut_3  ndcg_cut_5  query_number model\n",
       "0  0.991962         1.0    1.000000             1  text\n",
       "1  0.997772         1.0    1.000000             2  text\n",
       "2  1.000000         1.0    1.000000             3  text\n",
       "3  0.936568         1.0    0.868795             4  text\n",
       "4  0.968682         1.0    1.000000             5  text"
      ]
     },
     "execution_count": 253,
     "metadata": {},
     "output_type": "execute_result"
    }
   ],
   "source": [
    "import json\n",
    "def load_retrieval_results(file_path):\n",
    "    df = pd.read_json(file_path).T.reset_index()\n",
    "    df[\"query_number\"] = df[\"index\"].str.replace(\"q\", \"\").astype(int)\n",
    "    df = df.drop(columns=[\"index\"])\n",
    "    return df\n",
    "\n",
    "text_df = load_retrieval_results(\"papers/results/ndcg_text.json\")\n",
    "text_df[\"model\"] = \"text\"\n",
    "vlm_df = load_retrieval_results(\"papers/results/ndcg_vlm.json\")\n",
    "vlm_df[\"model\"] = \"vlm\"\n",
    "retrieval_df = pd.concat([text_df, vlm_df], ignore_index=True)\n",
    "retrieval_df.head()"
   ]
  },
  {
   "cell_type": "code",
   "execution_count": 256,
   "metadata": {},
   "outputs": [
    {
     "data": {
      "text/plain": [
       "(0.8, 1.0)"
      ]
     },
     "execution_count": 256,
     "metadata": {},
     "output_type": "execute_result"
    },
    {
     "data": {
      "image/png": "[encoded data removed]",
      "text/plain": [
       "<Figure size 640x480 with 1 Axes>"
      ]
     },
     "metadata": {},
     "output_type": "display_data"
    }
   ],
   "source": [
    "sns.barplot(\n",
    "    data=retrieval_df,\n",
    "    x=\"model\",\n",
    "    y=\"ndcg_cut_3\",\n",
    "    hue=\"model\",\n",
    "    estimator=np.mean,\n",
    "    errorbar=\"ci\"\n",
    ")\n",
    "\n",
    "plt.ylim(0.8, 1.0)"
   ]
  },
  {
   "cell_type": "code",
   "execution_count": 260,
   "metadata": {},
   "outputs": [
    {
     "data": {
      "text/plain": [
       "(0.8, 1.0)"
      ]
     },
     "execution_count": 260,
     "metadata": {},
     "output_type": "execute_result"
    },
    {
     "data": {
      "image/png": "[encoded data removed]",
      "text/plain": [
       "<Figure size 640x480 with 1 Axes>"
      ]
     },
     "metadata": {},
     "output_type": "display_data"
    }
   ],
   "source": [
    "sns.barplot(\n",
    "    data=retrieval_df,\n",
    "    x=\"model\",\n",
    "    y=\"ndcg_cut_5\",\n",
    "    hue=\"model\",\n",
    "    estimator=np.mean,\n",
    "    errorbar=\"ci\"\n",
    ")\n",
    "\n",
    "plt.ylim(0.8, 1.0)"
   ]
  },
  {
   "cell_type": "code",
   "execution_count": 258,
   "metadata": {},
   "outputs": [
    {
     "data": {
      "text/plain": [
       "(0.8, 1.0)"
      ]
     },
     "execution_count": 258,
     "metadata": {},
     "output_type": "execute_result"
    },
    {
     "data": {
      "image/png": "[encoded data removed]",
      "text/plain": [
       "<Figure size 640x480 with 1 Axes>"
      ]
     },
     "metadata": {},
     "output_type": "display_data"
    }
   ],
   "source": [
    "sns.barplot(\n",
    "    data=retrieval_df,\n",
    "    x=\"model\",\n",
    "    y=\"ndcg\",\n",
    "    hue=\"model\",\n",
    "    estimator=np.mean,\n",
    "    errorbar=\"ci\"\n",
    ")\n",
    "\n",
    "plt.ylim(0.8, 1.0)"
   ]
  },
  {
   "cell_type": "code",
   "execution_count": null,
   "metadata": {},
   "outputs": [],
   "source": []
  },
  {
   "cell_type": "markdown",
   "metadata": {},
   "source": [
    "### Generation"
   ]
  },
  {
   "cell_type": "code",
   "execution_count": null,
   "metadata": {},
   "outputs": [],
   "source": [
    "from pathlib import Path\n",
    "names = [\"text\", \"vlm\", \"mixed\", \"text-lite\", \"vlm-lite\", \"mixed-lite\"]\n",
    "paths = [\n",
    "    \"papers/results/selection_gemini-2.0-flash_text\",\n",
    "    \"papers/results/selection_gemini-2.0-flash_vlm\",\n",
    "    \"papers/results/selection_gemini-2.0-flash_mixed\",\n",
    "    \"papers/results/selection_gemini-2.0-flash-lite_text\",\n",
    "    \"papers/results/selection_gemini-2.0-flash-lite_vlm\",\n",
    "    \"papers/results/selection_gemini-2.0-flash-lite_mixed\",\n",
    "]\n",
    "\n",
    "scores = {}\n",
    "for name, path in zip(names, paths):\n",
    "    scores.setdefault(name, np.loadtxt(Path(path) / \"similarity_scores.dat\"))"
   ]
  },
  {
   "cell_type": "code",
   "execution_count": 81,
   "metadata": {},
   "outputs": [
    {
     "data": {
      "text/html": [
       "<div>\n",
       "<style scoped>\n",
       "    .dataframe tbody tr th:only-of-type {\n",
       "        vertical-align: middle;\n",
       "    }\n",
       "\n",
       "    .dataframe tbody tr th {\n",
       "        vertical-align: top;\n",
       "    }\n",
       "\n",
       "    .dataframe thead th {\n",
       "        text-align: right;\n",
       "    }\n",
       "</style>\n",
       "<table border=\"1\" class=\"dataframe\">\n",
       "  <thead>\n",
       "    <tr style=\"text-align: right;\">\n",
       "      <th></th>\n",
       "      <th>query_number</th>\n",
       "      <th>model</th>\n",
       "      <th>similarity</th>\n",
       "    </tr>\n",
       "  </thead>\n",
       "  <tbody>\n",
       "    <tr>\n",
       "      <th>0</th>\n",
       "      <td>1</td>\n",
       "      <td>text</td>\n",
       "      <td>0.820107</td>\n",
       "    </tr>\n",
       "    <tr>\n",
       "      <th>1</th>\n",
       "      <td>2</td>\n",
       "      <td>text</td>\n",
       "      <td>0.933743</td>\n",
       "    </tr>\n",
       "    <tr>\n",
       "      <th>2</th>\n",
       "      <td>3</td>\n",
       "      <td>text</td>\n",
       "      <td>0.890277</td>\n",
       "    </tr>\n",
       "    <tr>\n",
       "      <th>3</th>\n",
       "      <td>4</td>\n",
       "      <td>text</td>\n",
       "      <td>0.873196</td>\n",
       "    </tr>\n",
       "    <tr>\n",
       "      <th>4</th>\n",
       "      <td>5</td>\n",
       "      <td>text</td>\n",
       "      <td>0.814583</td>\n",
       "    </tr>\n",
       "  </tbody>\n",
       "</table>\n",
       "</div>"
      ],
      "text/plain": [
       "   query_number model  similarity\n",
       "0             1  text    0.820107\n",
       "1             2  text    0.933743\n",
       "2             3  text    0.890277\n",
       "3             4  text    0.873196\n",
       "4             5  text    0.814583"
      ]
     },
     "execution_count": 81,
     "metadata": {},
     "output_type": "execute_result"
    }
   ],
   "source": [
    "import pandas as pd\n",
    "scores_df = pd.DataFrame(scores)\n",
    "scores_df[\"query_number\"] = [i for i in range(1, len(scores_df) + 1)]\n",
    "scores_df = scores_df.melt(id_vars=[\"query_number\"], var_name=\"model\", value_name=\"similarity\")\n",
    "scores_df.head()"
   ]
  },
  {
   "cell_type": "code",
   "execution_count": 162,
   "metadata": {},
   "outputs": [],
   "source": [
    "def load_answers_dataset(root, name_filter=None):\n",
    "    dataframes = []\n",
    "    if name_filter is None:\n",
    "        name_filter = \"selection_gemini-2.0-flash\"\n",
    "    \n",
    "    root = Path(root)\n",
    "    for path, folders, files in root.walk():\n",
    "        if len(folders) != 0:\n",
    "            continue\n",
    "        if name_filter not in path.name:\n",
    "            continue\n",
    "        for file in files:\n",
    "            if not file.endswith(\".json\"):\n",
    "                continue\n",
    "            dataset = pd.read_json(path / file).drop(columns=[\"retrieval_context\", \"context\", \"source_file\"])\n",
    "            dataset[\"query_number\"] = [i for i in range(1, len(dataset) + 1)]\n",
    "            model_name = path.name.split(\"_\")[-1]\n",
    "            model_name = model_name + \"-lite\" if \"lite\" in path.name else model_name\n",
    "            dataset[\"model\"] = [model_name for _ in range(len(dataset))]\n",
    "\n",
    "            dataframes.append(dataset)\n",
    "    return pd.concat(dataframes, ignore_index=True)\n",
    "\n",
    "answers_df = load_answers_dataset(\"papers/results\", None)"
   ]
  },
  {
   "cell_type": "code",
   "execution_count": null,
   "metadata": {},
   "outputs": [
    {
     "data": {
      "text/html": [
       "<div>\n",
       "<style scoped>\n",
       "    .dataframe tbody tr th:only-of-type {\n",
       "        vertical-align: middle;\n",
       "    }\n",
       "\n",
       "    .dataframe tbody tr th {\n",
       "        vertical-align: top;\n",
       "    }\n",
       "\n",
       "    .dataframe thead th {\n",
       "        text-align: right;\n",
       "    }\n",
       "</style>\n",
       "<table border=\"1\" class=\"dataframe\">\n",
       "  <thead>\n",
       "    <tr style=\"text-align: right;\">\n",
       "      <th></th>\n",
       "      <th>query_number</th>\n",
       "      <th>model</th>\n",
       "      <th>similarity</th>\n",
       "      <th>input</th>\n",
       "      <th>actual_output</th>\n",
       "      <th>expected_output</th>\n",
       "    </tr>\n",
       "  </thead>\n",
       "  <tbody>\n",
       "    <tr>\n",
       "      <th>0</th>\n",
       "      <td>1</td>\n",
       "      <td>text</td>\n",
       "      <td>0.820107</td>\n",
       "      <td>What crystal magnetic structure does EuCuAs have?</td>\n",
       "      <td>EuCuAs has a planar helix magnetic structure w...</td>\n",
       "      <td>EuCuAs is described by the centrosymmetric P63...</td>\n",
       "    </tr>\n",
       "    <tr>\n",
       "      <th>1</th>\n",
       "      <td>2</td>\n",
       "      <td>text</td>\n",
       "      <td>0.933743</td>\n",
       "      <td>What are the estimated exchange parameters for...</td>\n",
       "      <td>The estimated exchange parameters for EuCuAs a...</td>\n",
       "      <td>The estimated exchange and anisotropy paramete...</td>\n",
       "    </tr>\n",
       "    <tr>\n",
       "      <th>2</th>\n",
       "      <td>3</td>\n",
       "      <td>text</td>\n",
       "      <td>0.890277</td>\n",
       "      <td>Can the magnetic behavior of EuCuAs be describ...</td>\n",
       "      <td>Yes, the magnetic behavior of EuCuAs can be de...</td>\n",
       "      <td>Yes, the magnetic behavior of EuCuAs can be de...</td>\n",
       "    </tr>\n",
       "    <tr>\n",
       "      <th>3</th>\n",
       "      <td>4</td>\n",
       "      <td>text</td>\n",
       "      <td>0.873196</td>\n",
       "      <td>How is the superconductivity measured in a gra...</td>\n",
       "      <td>Superconductivity in a twisted bilayer graphen...</td>\n",
       "      <td>Superconductivity is measured using a four-pro...</td>\n",
       "    </tr>\n",
       "    <tr>\n",
       "      <th>4</th>\n",
       "      <td>5</td>\n",
       "      <td>text</td>\n",
       "      <td>0.814583</td>\n",
       "      <td>Explain what is the interplay between metal, M...</td>\n",
       "      <td>In magic-angle twisted bilayer graphene (TBG),...</td>\n",
       "      <td>In magic-angle TBG, superconductivity is achie...</td>\n",
       "    </tr>\n",
       "  </tbody>\n",
       "</table>\n",
       "</div>"
      ],
      "text/plain": [
       "   query_number model  similarity  \\\n",
       "0             1  text    0.820107   \n",
       "1             2  text    0.933743   \n",
       "2             3  text    0.890277   \n",
       "3             4  text    0.873196   \n",
       "4             5  text    0.814583   \n",
       "\n",
       "                                               input  \\\n",
       "0  What crystal magnetic structure does EuCuAs have?   \n",
       "1  What are the estimated exchange parameters for...   \n",
       "2  Can the magnetic behavior of EuCuAs be describ...   \n",
       "3  How is the superconductivity measured in a gra...   \n",
       "4  Explain what is the interplay between metal, M...   \n",
       "\n",
       "                                       actual_output  \\\n",
       "0  EuCuAs has a planar helix magnetic structure w...   \n",
       "1  The estimated exchange parameters for EuCuAs a...   \n",
       "2  Yes, the magnetic behavior of EuCuAs can be de...   \n",
       "3  Superconductivity in a twisted bilayer graphen...   \n",
       "4  In magic-angle twisted bilayer graphene (TBG),...   \n",
       "\n",
       "                                     expected_output  \n",
       "0  EuCuAs is described by the centrosymmetric P63...  \n",
       "1  The estimated exchange and anisotropy paramete...  \n",
       "2  Yes, the magnetic behavior of EuCuAs can be de...  \n",
       "3  Superconductivity is measured using a four-pro...  \n",
       "4  In magic-angle TBG, superconductivity is achie...  "
      ]
     },
     "execution_count": 164,
     "metadata": {},
     "output_type": "execute_result"
    }
   ],
   "source": [
    "generation_df = pd.merge(\n",
    "    scores_df,\n",
    "    answers_df,\n",
    "    on=[\"query_number\", \"model\"],\n",
    "    how=\"inner\"\n",
    ")\n",
    "generation_df.head()"
   ]
  },
  {
   "cell_type": "code",
   "execution_count": 202,
   "metadata": {},
   "outputs": [
    {
     "data": {
      "text/html": [
       "<div>\n",
       "<style scoped>\n",
       "    .dataframe tbody tr th:only-of-type {\n",
       "        vertical-align: middle;\n",
       "    }\n",
       "\n",
       "    .dataframe tbody tr th {\n",
       "        vertical-align: top;\n",
       "    }\n",
       "\n",
       "    .dataframe thead th {\n",
       "        text-align: right;\n",
       "    }\n",
       "</style>\n",
       "<table border=\"1\" class=\"dataframe\">\n",
       "  <thead>\n",
       "    <tr style=\"text-align: right;\">\n",
       "      <th></th>\n",
       "      <th>inputs</th>\n",
       "      <th>actual_outputs</th>\n",
       "      <th>expected_outputs</th>\n",
       "      <th>score</th>\n",
       "      <th>success</th>\n",
       "      <th>reason</th>\n",
       "      <th>query_number</th>\n",
       "      <th>model</th>\n",
       "    </tr>\n",
       "  </thead>\n",
       "  <tbody>\n",
       "    <tr>\n",
       "      <th>0</th>\n",
       "      <td>What crystal magnetic structure does EuCuAs have?</td>\n",
       "      <td>EuCuAs exhibits a helical spin arrangement in ...</td>\n",
       "      <td>EuCuAs is described by the centrosymmetric P63...</td>\n",
       "      <td>1.0</td>\n",
       "      <td>True</td>\n",
       "      <td>The score is 1.00 because the output perfectly...</td>\n",
       "      <td>1</td>\n",
       "      <td>mixed-lite</td>\n",
       "    </tr>\n",
       "    <tr>\n",
       "      <th>1</th>\n",
       "      <td>What are the estimated exchange parameters for...</td>\n",
       "      <td>The estimated exchange parameters for EuCuAs a...</td>\n",
       "      <td>The estimated exchange and anisotropy paramete...</td>\n",
       "      <td>1.0</td>\n",
       "      <td>True</td>\n",
       "      <td>The score is 1.00 because the output perfectly...</td>\n",
       "      <td>2</td>\n",
       "      <td>mixed-lite</td>\n",
       "    </tr>\n",
       "    <tr>\n",
       "      <th>2</th>\n",
       "      <td>Can the magnetic behavior of EuCuAs be describ...</td>\n",
       "      <td>Yes, the magnetic behavior of EuCuAs can be de...</td>\n",
       "      <td>Yes, the magnetic behavior of EuCuAs can be de...</td>\n",
       "      <td>1.0</td>\n",
       "      <td>True</td>\n",
       "      <td>The score is 1.00 because the output perfectly...</td>\n",
       "      <td>3</td>\n",
       "      <td>mixed-lite</td>\n",
       "    </tr>\n",
       "    <tr>\n",
       "      <th>3</th>\n",
       "      <td>How is the superconductivity measured in a gra...</td>\n",
       "      <td>Superconductivity in graphene superlattices is...</td>\n",
       "      <td>Superconductivity is measured using a four-pro...</td>\n",
       "      <td>1.0</td>\n",
       "      <td>True</td>\n",
       "      <td>The score is 1.00 because the output is perfec...</td>\n",
       "      <td>4</td>\n",
       "      <td>mixed-lite</td>\n",
       "    </tr>\n",
       "    <tr>\n",
       "      <th>4</th>\n",
       "      <td>Explain what is the interplay between metal, M...</td>\n",
       "      <td>In magic-angle TBG, the interplay between meta...</td>\n",
       "      <td>In magic-angle TBG, superconductivity is achie...</td>\n",
       "      <td>1.0</td>\n",
       "      <td>True</td>\n",
       "      <td>The score is 1.00 because the output perfectly...</td>\n",
       "      <td>5</td>\n",
       "      <td>mixed-lite</td>\n",
       "    </tr>\n",
       "  </tbody>\n",
       "</table>\n",
       "</div>"
      ],
      "text/plain": [
       "                                              inputs  \\\n",
       "0  What crystal magnetic structure does EuCuAs have?   \n",
       "1  What are the estimated exchange parameters for...   \n",
       "2  Can the magnetic behavior of EuCuAs be describ...   \n",
       "3  How is the superconductivity measured in a gra...   \n",
       "4  Explain what is the interplay between metal, M...   \n",
       "\n",
       "                                      actual_outputs  \\\n",
       "0  EuCuAs exhibits a helical spin arrangement in ...   \n",
       "1  The estimated exchange parameters for EuCuAs a...   \n",
       "2  Yes, the magnetic behavior of EuCuAs can be de...   \n",
       "3  Superconductivity in graphene superlattices is...   \n",
       "4  In magic-angle TBG, the interplay between meta...   \n",
       "\n",
       "                                    expected_outputs  score  success  \\\n",
       "0  EuCuAs is described by the centrosymmetric P63...    1.0     True   \n",
       "1  The estimated exchange and anisotropy paramete...    1.0     True   \n",
       "2  Yes, the magnetic behavior of EuCuAs can be de...    1.0     True   \n",
       "3  Superconductivity is measured using a four-pro...    1.0     True   \n",
       "4  In magic-angle TBG, superconductivity is achie...    1.0     True   \n",
       "\n",
       "                                              reason  query_number       model  \n",
       "0  The score is 1.00 because the output perfectly...             1  mixed-lite  \n",
       "1  The score is 1.00 because the output perfectly...             2  mixed-lite  \n",
       "2  The score is 1.00 because the output perfectly...             3  mixed-lite  \n",
       "3  The score is 1.00 because the output is perfec...             4  mixed-lite  \n",
       "4  The score is 1.00 because the output perfectly...             5  mixed-lite  "
      ]
     },
     "execution_count": 202,
     "metadata": {},
     "output_type": "execute_result"
    }
   ],
   "source": [
    "import pickle\n",
    "def process_evaluation_run(run):\n",
    "    results = {\n",
    "        \"inputs\": [],\n",
    "        \"actual_outputs\": [],\n",
    "        \"expected_outputs\": [],\n",
    "        \"score\": [],\n",
    "        \"success\": [],\n",
    "        \"reason\": []\n",
    "    }\n",
    "    for batch in run:\n",
    "        for test_result in batch.test_results:\n",
    "            results[\"inputs\"].append(test_result.input)\n",
    "            results[\"actual_outputs\"].append(test_result.actual_output)\n",
    "            results[\"expected_outputs\"].append(test_result.expected_output)\n",
    "            metrics_data = test_result.metrics_data[0]\n",
    "            results[\"success\"].append(metrics_data.success)\n",
    "            results[\"reason\"].append(metrics_data.reason)\n",
    "            results[\"score\"].append(metrics_data.score)\n",
    "    results = pd.DataFrame(results)\n",
    "    results[\"query_number\"] = [i for i in range(1, len(results) + 1)]\n",
    "    return results\n",
    "\n",
    "def load_relevancy_dataset(root, name_filter=None):\n",
    "    dataframes = []\n",
    "    if name_filter is None:\n",
    "        name_filter = \"selection_gemini-2.0-flash\"\n",
    "    \n",
    "    root = Path(root)\n",
    "    for path, folders, files in root.walk():\n",
    "        if len(folders) != 0:\n",
    "            continue\n",
    "        if name_filter not in path.name:\n",
    "            continue\n",
    "        for file in files:\n",
    "            if not file.endswith(\".pkl\"):\n",
    "                continue\n",
    "            \n",
    "            dataset = process_evaluation_run(\n",
    "                pickle.load(open(path / file, \"rb\"))\n",
    "            )\n",
    "            model_name = path.name.split(\"_\")[-1]\n",
    "            model_name = model_name + \"-lite\" if \"lite\" in path.name else model_name\n",
    "            dataset[\"model\"] = [model_name for _ in range(len(dataset))]\n",
    "\n",
    "            dataframes.append(dataset)\n",
    "    return pd.concat(dataframes, ignore_index=True)\n",
    "\n",
    "relevancy_df = load_relevancy_dataset(\"papers/results\", None)\n",
    "relevancy_df.head()"
   ]
  },
  {
   "cell_type": "code",
   "execution_count": null,
   "metadata": {},
   "outputs": [
    {
     "data": {
      "text/html": [
       "<div>\n",
       "<style scoped>\n",
       "    .dataframe tbody tr th:only-of-type {\n",
       "        vertical-align: middle;\n",
       "    }\n",
       "\n",
       "    .dataframe tbody tr th {\n",
       "        vertical-align: top;\n",
       "    }\n",
       "\n",
       "    .dataframe thead th {\n",
       "        text-align: right;\n",
       "    }\n",
       "</style>\n",
       "<table border=\"1\" class=\"dataframe\">\n",
       "  <thead>\n",
       "    <tr style=\"text-align: right;\">\n",
       "      <th></th>\n",
       "      <th>query_number</th>\n",
       "      <th>model</th>\n",
       "      <th>similarity</th>\n",
       "      <th>input</th>\n",
       "      <th>actual_output</th>\n",
       "      <th>expected_output</th>\n",
       "      <th>inputs</th>\n",
       "      <th>actual_outputs</th>\n",
       "      <th>expected_outputs</th>\n",
       "      <th>score</th>\n",
       "      <th>success</th>\n",
       "      <th>reason</th>\n",
       "    </tr>\n",
       "  </thead>\n",
       "  <tbody>\n",
       "    <tr>\n",
       "      <th>0</th>\n",
       "      <td>1</td>\n",
       "      <td>text</td>\n",
       "      <td>0.820107</td>\n",
       "      <td>What crystal magnetic structure does EuCuAs have?</td>\n",
       "      <td>EuCuAs has a planar helix magnetic structure w...</td>\n",
       "      <td>EuCuAs is described by the centrosymmetric P63...</td>\n",
       "      <td>What crystal magnetic structure does EuCuAs have?</td>\n",
       "      <td>EuCuAs has a planar helix magnetic structure w...</td>\n",
       "      <td>EuCuAs is described by the centrosymmetric P63...</td>\n",
       "      <td>1.0</td>\n",
       "      <td>True</td>\n",
       "      <td>The score is 1.00 because the output perfectly...</td>\n",
       "    </tr>\n",
       "    <tr>\n",
       "      <th>1</th>\n",
       "      <td>2</td>\n",
       "      <td>text</td>\n",
       "      <td>0.933743</td>\n",
       "      <td>What are the estimated exchange parameters for...</td>\n",
       "      <td>The estimated exchange parameters for EuCuAs a...</td>\n",
       "      <td>The estimated exchange and anisotropy paramete...</td>\n",
       "      <td>How is the superconductivity measured in a gra...</td>\n",
       "      <td>Superconductivity in a twisted bilayer graphen...</td>\n",
       "      <td>Superconductivity is measured using a four-pro...</td>\n",
       "      <td>1.0</td>\n",
       "      <td>True</td>\n",
       "      <td>The score is 1.00 because the output is perfec...</td>\n",
       "    </tr>\n",
       "    <tr>\n",
       "      <th>2</th>\n",
       "      <td>3</td>\n",
       "      <td>text</td>\n",
       "      <td>0.890277</td>\n",
       "      <td>Can the magnetic behavior of EuCuAs be describ...</td>\n",
       "      <td>Yes, the magnetic behavior of EuCuAs can be de...</td>\n",
       "      <td>Yes, the magnetic behavior of EuCuAs can be de...</td>\n",
       "      <td>Can the magnetic behavior of EuCuAs be describ...</td>\n",
       "      <td>Yes, the magnetic behavior of EuCuAs can be de...</td>\n",
       "      <td>Yes, the magnetic behavior of EuCuAs can be de...</td>\n",
       "      <td>1.0</td>\n",
       "      <td>True</td>\n",
       "      <td>The score is 1.00 because the output perfectly...</td>\n",
       "    </tr>\n",
       "    <tr>\n",
       "      <th>3</th>\n",
       "      <td>4</td>\n",
       "      <td>text</td>\n",
       "      <td>0.873196</td>\n",
       "      <td>How is the superconductivity measured in a gra...</td>\n",
       "      <td>Superconductivity in a twisted bilayer graphen...</td>\n",
       "      <td>Superconductivity is measured using a four-pro...</td>\n",
       "      <td>What are the estimated exchange parameters for...</td>\n",
       "      <td>The estimated exchange parameters for EuCuAs a...</td>\n",
       "      <td>The estimated exchange and anisotropy paramete...</td>\n",
       "      <td>1.0</td>\n",
       "      <td>True</td>\n",
       "      <td>The score is 1.00 because the output perfectly...</td>\n",
       "    </tr>\n",
       "    <tr>\n",
       "      <th>4</th>\n",
       "      <td>5</td>\n",
       "      <td>text</td>\n",
       "      <td>0.814583</td>\n",
       "      <td>Explain what is the interplay between metal, M...</td>\n",
       "      <td>In magic-angle twisted bilayer graphene (TBG),...</td>\n",
       "      <td>In magic-angle TBG, superconductivity is achie...</td>\n",
       "      <td>Explain what is the interplay between metal, M...</td>\n",
       "      <td>In magic-angle twisted bilayer graphene (TBG),...</td>\n",
       "      <td>In magic-angle TBG, superconductivity is achie...</td>\n",
       "      <td>1.0</td>\n",
       "      <td>True</td>\n",
       "      <td>The score is 1.00 because the output perfectly...</td>\n",
       "    </tr>\n",
       "  </tbody>\n",
       "</table>\n",
       "</div>"
      ],
      "text/plain": [
       "   query_number model  similarity  \\\n",
       "0             1  text    0.820107   \n",
       "1             2  text    0.933743   \n",
       "2             3  text    0.890277   \n",
       "3             4  text    0.873196   \n",
       "4             5  text    0.814583   \n",
       "\n",
       "                                               input  \\\n",
       "0  What crystal magnetic structure does EuCuAs have?   \n",
       "1  What are the estimated exchange parameters for...   \n",
       "2  Can the magnetic behavior of EuCuAs be describ...   \n",
       "3  How is the superconductivity measured in a gra...   \n",
       "4  Explain what is the interplay between metal, M...   \n",
       "\n",
       "                                       actual_output  \\\n",
       "0  EuCuAs has a planar helix magnetic structure w...   \n",
       "1  The estimated exchange parameters for EuCuAs a...   \n",
       "2  Yes, the magnetic behavior of EuCuAs can be de...   \n",
       "3  Superconductivity in a twisted bilayer graphen...   \n",
       "4  In magic-angle twisted bilayer graphene (TBG),...   \n",
       "\n",
       "                                     expected_output  \\\n",
       "0  EuCuAs is described by the centrosymmetric P63...   \n",
       "1  The estimated exchange and anisotropy paramete...   \n",
       "2  Yes, the magnetic behavior of EuCuAs can be de...   \n",
       "3  Superconductivity is measured using a four-pro...   \n",
       "4  In magic-angle TBG, superconductivity is achie...   \n",
       "\n",
       "                                              inputs  \\\n",
       "0  What crystal magnetic structure does EuCuAs have?   \n",
       "1  How is the superconductivity measured in a gra...   \n",
       "2  Can the magnetic behavior of EuCuAs be describ...   \n",
       "3  What are the estimated exchange parameters for...   \n",
       "4  Explain what is the interplay between metal, M...   \n",
       "\n",
       "                                      actual_outputs  \\\n",
       "0  EuCuAs has a planar helix magnetic structure w...   \n",
       "1  Superconductivity in a twisted bilayer graphen...   \n",
       "2  Yes, the magnetic behavior of EuCuAs can be de...   \n",
       "3  The estimated exchange parameters for EuCuAs a...   \n",
       "4  In magic-angle twisted bilayer graphene (TBG),...   \n",
       "\n",
       "                                    expected_outputs  score  success  \\\n",
       "0  EuCuAs is described by the centrosymmetric P63...    1.0     True   \n",
       "1  Superconductivity is measured using a four-pro...    1.0     True   \n",
       "2  Yes, the magnetic behavior of EuCuAs can be de...    1.0     True   \n",
       "3  The estimated exchange and anisotropy paramete...    1.0     True   \n",
       "4  In magic-angle TBG, superconductivity is achie...    1.0     True   \n",
       "\n",
       "                                              reason  \n",
       "0  The score is 1.00 because the output perfectly...  \n",
       "1  The score is 1.00 because the output is perfec...  \n",
       "2  The score is 1.00 because the output perfectly...  \n",
       "3  The score is 1.00 because the output perfectly...  \n",
       "4  The score is 1.00 because the output perfectly...  "
      ]
     },
     "execution_count": 204,
     "metadata": {},
     "output_type": "execute_result"
    }
   ],
   "source": [
    "generation_df = pd.merge(\n",
    "    generation_df,\n",
    "    relevancy_df,\n",
    "    on=[\"query_number\", \"model\"],\n",
    "    how=\"inner\"\n",
    ")\n",
    "\n",
    "generation_df.head()"
   ]
  },
  {
   "cell_type": "code",
   "execution_count": 225,
   "metadata": {},
   "outputs": [
    {
     "data": {
      "text/html": [
       "<div>\n",
       "<style scoped>\n",
       "    .dataframe tbody tr th:only-of-type {\n",
       "        vertical-align: middle;\n",
       "    }\n",
       "\n",
       "    .dataframe tbody tr th {\n",
       "        vertical-align: top;\n",
       "    }\n",
       "\n",
       "    .dataframe thead th {\n",
       "        text-align: right;\n",
       "    }\n",
       "</style>\n",
       "<table border=\"1\" class=\"dataframe\">\n",
       "  <thead>\n",
       "    <tr style=\"text-align: right;\">\n",
       "      <th></th>\n",
       "      <th>query_number</th>\n",
       "      <th>model</th>\n",
       "      <th>similarity</th>\n",
       "      <th>input</th>\n",
       "      <th>actual_output</th>\n",
       "      <th>expected_output</th>\n",
       "      <th>inputs</th>\n",
       "      <th>actual_outputs</th>\n",
       "      <th>expected_outputs</th>\n",
       "      <th>score</th>\n",
       "      <th>success</th>\n",
       "      <th>reason</th>\n",
       "    </tr>\n",
       "  </thead>\n",
       "  <tbody>\n",
       "    <tr>\n",
       "      <th>0</th>\n",
       "      <td>1</td>\n",
       "      <td>text</td>\n",
       "      <td>0.820107</td>\n",
       "      <td>What crystal magnetic structure does EuCuAs have?</td>\n",
       "      <td>EuCuAs has a planar helix magnetic structure w...</td>\n",
       "      <td>EuCuAs is described by the centrosymmetric P63...</td>\n",
       "      <td>What crystal magnetic structure does EuCuAs have?</td>\n",
       "      <td>EuCuAs has a planar helix magnetic structure w...</td>\n",
       "      <td>EuCuAs is described by the centrosymmetric P63...</td>\n",
       "      <td>1.0</td>\n",
       "      <td>True</td>\n",
       "      <td>The score is 1.00 because the output perfectly...</td>\n",
       "    </tr>\n",
       "    <tr>\n",
       "      <th>1</th>\n",
       "      <td>2</td>\n",
       "      <td>text</td>\n",
       "      <td>0.933743</td>\n",
       "      <td>What are the estimated exchange parameters for...</td>\n",
       "      <td>The estimated exchange parameters for EuCuAs a...</td>\n",
       "      <td>The estimated exchange and anisotropy paramete...</td>\n",
       "      <td>How is the superconductivity measured in a gra...</td>\n",
       "      <td>Superconductivity in a twisted bilayer graphen...</td>\n",
       "      <td>Superconductivity is measured using a four-pro...</td>\n",
       "      <td>1.0</td>\n",
       "      <td>True</td>\n",
       "      <td>The score is 1.00 because the output is perfec...</td>\n",
       "    </tr>\n",
       "    <tr>\n",
       "      <th>2</th>\n",
       "      <td>3</td>\n",
       "      <td>text</td>\n",
       "      <td>0.890277</td>\n",
       "      <td>Can the magnetic behavior of EuCuAs be describ...</td>\n",
       "      <td>Yes, the magnetic behavior of EuCuAs can be de...</td>\n",
       "      <td>Yes, the magnetic behavior of EuCuAs can be de...</td>\n",
       "      <td>Can the magnetic behavior of EuCuAs be describ...</td>\n",
       "      <td>Yes, the magnetic behavior of EuCuAs can be de...</td>\n",
       "      <td>Yes, the magnetic behavior of EuCuAs can be de...</td>\n",
       "      <td>1.0</td>\n",
       "      <td>True</td>\n",
       "      <td>The score is 1.00 because the output perfectly...</td>\n",
       "    </tr>\n",
       "    <tr>\n",
       "      <th>3</th>\n",
       "      <td>4</td>\n",
       "      <td>text</td>\n",
       "      <td>0.873196</td>\n",
       "      <td>How is the superconductivity measured in a gra...</td>\n",
       "      <td>Superconductivity in a twisted bilayer graphen...</td>\n",
       "      <td>Superconductivity is measured using a four-pro...</td>\n",
       "      <td>What are the estimated exchange parameters for...</td>\n",
       "      <td>The estimated exchange parameters for EuCuAs a...</td>\n",
       "      <td>The estimated exchange and anisotropy paramete...</td>\n",
       "      <td>1.0</td>\n",
       "      <td>True</td>\n",
       "      <td>The score is 1.00 because the output perfectly...</td>\n",
       "    </tr>\n",
       "    <tr>\n",
       "      <th>4</th>\n",
       "      <td>5</td>\n",
       "      <td>text</td>\n",
       "      <td>0.814583</td>\n",
       "      <td>Explain what is the interplay between metal, M...</td>\n",
       "      <td>In magic-angle twisted bilayer graphene (TBG),...</td>\n",
       "      <td>In magic-angle TBG, superconductivity is achie...</td>\n",
       "      <td>Explain what is the interplay between metal, M...</td>\n",
       "      <td>In magic-angle twisted bilayer graphene (TBG),...</td>\n",
       "      <td>In magic-angle TBG, superconductivity is achie...</td>\n",
       "      <td>1.0</td>\n",
       "      <td>True</td>\n",
       "      <td>The score is 1.00 because the output perfectly...</td>\n",
       "    </tr>\n",
       "  </tbody>\n",
       "</table>\n",
       "</div>"
      ],
      "text/plain": [
       "   query_number model  similarity  \\\n",
       "0             1  text    0.820107   \n",
       "1             2  text    0.933743   \n",
       "2             3  text    0.890277   \n",
       "3             4  text    0.873196   \n",
       "4             5  text    0.814583   \n",
       "\n",
       "                                               input  \\\n",
       "0  What crystal magnetic structure does EuCuAs have?   \n",
       "1  What are the estimated exchange parameters for...   \n",
       "2  Can the magnetic behavior of EuCuAs be describ...   \n",
       "3  How is the superconductivity measured in a gra...   \n",
       "4  Explain what is the interplay between metal, M...   \n",
       "\n",
       "                                       actual_output  \\\n",
       "0  EuCuAs has a planar helix magnetic structure w...   \n",
       "1  The estimated exchange parameters for EuCuAs a...   \n",
       "2  Yes, the magnetic behavior of EuCuAs can be de...   \n",
       "3  Superconductivity in a twisted bilayer graphen...   \n",
       "4  In magic-angle twisted bilayer graphene (TBG),...   \n",
       "\n",
       "                                     expected_output  \\\n",
       "0  EuCuAs is described by the centrosymmetric P63...   \n",
       "1  The estimated exchange and anisotropy paramete...   \n",
       "2  Yes, the magnetic behavior of EuCuAs can be de...   \n",
       "3  Superconductivity is measured using a four-pro...   \n",
       "4  In magic-angle TBG, superconductivity is achie...   \n",
       "\n",
       "                                              inputs  \\\n",
       "0  What crystal magnetic structure does EuCuAs have?   \n",
       "1  How is the superconductivity measured in a gra...   \n",
       "2  Can the magnetic behavior of EuCuAs be describ...   \n",
       "3  What are the estimated exchange parameters for...   \n",
       "4  Explain what is the interplay between metal, M...   \n",
       "\n",
       "                                      actual_outputs  \\\n",
       "0  EuCuAs has a planar helix magnetic structure w...   \n",
       "1  Superconductivity in a twisted bilayer graphen...   \n",
       "2  Yes, the magnetic behavior of EuCuAs can be de...   \n",
       "3  The estimated exchange parameters for EuCuAs a...   \n",
       "4  In magic-angle twisted bilayer graphene (TBG),...   \n",
       "\n",
       "                                    expected_outputs  score  success  \\\n",
       "0  EuCuAs is described by the centrosymmetric P63...    1.0     True   \n",
       "1  Superconductivity is measured using a four-pro...    1.0     True   \n",
       "2  Yes, the magnetic behavior of EuCuAs can be de...    1.0     True   \n",
       "3  The estimated exchange and anisotropy paramete...    1.0     True   \n",
       "4  In magic-angle TBG, superconductivity is achie...    1.0     True   \n",
       "\n",
       "                                              reason  \n",
       "0  The score is 1.00 because the output perfectly...  \n",
       "1  The score is 1.00 because the output is perfec...  \n",
       "2  The score is 1.00 because the output perfectly...  \n",
       "3  The score is 1.00 because the output perfectly...  \n",
       "4  The score is 1.00 because the output perfectly...  "
      ]
     },
     "execution_count": 225,
     "metadata": {},
     "output_type": "execute_result"
    }
   ],
   "source": [
    "generation_df = pd.read_csv(\"papers/results/generation_results.csv\")\n",
    "generation_df.head()"
   ]
  },
  {
   "cell_type": "code",
   "execution_count": 226,
   "metadata": {},
   "outputs": [
    {
     "data": {
      "text/plain": [
       "<Axes: xlabel='similarity', ylabel='Percent'>"
      ]
     },
     "execution_count": 226,
     "metadata": {},
     "output_type": "execute_result"
    },
    {
     "data": {
      "image/png": "[encoded data removed]",
      "text/plain": [
       "<Figure size 640x480 with 1 Axes>"
      ]
     },
     "metadata": {},
     "output_type": "display_data"
    }
   ],
   "source": [
    "import seaborn as sns\n",
    "\n",
    "sns.histplot(generation_df, x=\"similarity\", hue=\"model\", stat=\"percent\", common_bins=True,\n",
    "             multiple=\"fill\")\n"
   ]
  },
  {
   "cell_type": "code",
   "execution_count": null,
   "metadata": {},
   "outputs": [
    {
     "data": {
      "text/plain": [
       "<Axes: xlabel='model', ylabel='similarity'>"
      ]
     },
     "execution_count": 209,
     "metadata": {},
     "output_type": "execute_result"
    },
    {
     "data": {
      "image/png": "[encoded data removed]",
      "text/plain": [
       "<Figure size 640x480 with 1 Axes>"
      ]
     },
     "metadata": {},
     "output_type": "display_data"
    }
   ],
   "source": [
    "sns.violinplot(generation_df, y=\"similarity\", hue=\"model\", x=\"model\")"
   ]
  },
  {
   "cell_type": "code",
   "execution_count": null,
   "metadata": {},
   "outputs": [
    {
     "data": {
      "text/plain": [
       "(0.7, 1.0)"
      ]
     },
     "execution_count": 216,
     "metadata": {},
     "output_type": "execute_result"
    },
    {
     "data": {
      "image/png": "[encoded data removed]",
      "text/plain": [
       "<Figure size 640x480 with 1 Axes>"
      ]
     },
     "metadata": {},
     "output_type": "display_data"
    }
   ],
   "source": [
    "sns.barplot(generation_df, x=\"model\", y=\"similarity\", hue=\"model\", estimator=np.mean, errorbar=\"ci\")\n",
    "plt.ylim(0.7, 1.0)"
   ]
  },
  {
   "cell_type": "code",
   "execution_count": null,
   "metadata": {},
   "outputs": [
    {
     "data": {
      "text/plain": [
       "model\n",
       "mixed         0.769691\n",
       "mixed-lite    0.775280\n",
       "text          0.766105\n",
       "text-lite     0.767115\n",
       "vlm           0.772381\n",
       "vlm-lite      0.770400\n",
       "Name: similarity, dtype: float64"
      ]
     },
     "execution_count": 210,
     "metadata": {},
     "output_type": "execute_result"
    }
   ],
   "source": [
    "generation_df.groupby(\"model\").similarity.mean()"
   ]
  },
  {
   "cell_type": "code",
   "execution_count": null,
   "metadata": {},
   "outputs": [
    {
     "data": {
      "text/plain": [
       "<Axes: xlabel='score', ylabel='Percent'>"
      ]
     },
     "execution_count": 212,
     "metadata": {},
     "output_type": "execute_result"
    },
    {
     "data": {
      "image/png": "[encoded data removed]",
      "text/plain": [
       "<Figure size 640x480 with 1 Axes>"
      ]
     },
     "metadata": {},
     "output_type": "display_data"
    }
   ],
   "source": [
    "sns.histplot(generation_df, x=\"score\", hue=\"model\", stat=\"percent\", common_bins=True,\n",
    "             multiple=\"fill\")"
   ]
  },
  {
   "cell_type": "code",
   "execution_count": null,
   "metadata": {},
   "outputs": [
    {
     "data": {
      "text/plain": [
       "<Axes: xlabel='model', ylabel='score'>"
      ]
     },
     "execution_count": 217,
     "metadata": {},
     "output_type": "execute_result"
    },
    {
     "data": {
      "image/png": "[encoded data removed]",
      "text/plain": [
       "<Figure size 640x480 with 1 Axes>"
      ]
     },
     "metadata": {},
     "output_type": "display_data"
    }
   ],
   "source": [
    "sns.violinplot(generation_df, y=\"score\", hue=\"model\", x=\"model\")"
   ]
  },
  {
   "cell_type": "code",
   "execution_count": null,
   "metadata": {},
   "outputs": [
    {
     "data": {
      "text/plain": [
       "(0.8, 1.0)"
      ]
     },
     "execution_count": 220,
     "metadata": {},
     "output_type": "execute_result"
    },
    {
     "data": {
      "image/png": "[encoded data removed]",
      "text/plain": [
       "<Figure size 640x480 with 1 Axes>"
      ]
     },
     "metadata": {},
     "output_type": "display_data"
    }
   ],
   "source": [
    "sns.barplot(generation_df, x=\"model\", y=\"score\", hue=\"model\", estimator=np.mean, errorbar=\"ci\")\n",
    "plt.ylim(0.8, 1.0)"
   ]
  },
  {
   "cell_type": "code",
   "execution_count": null,
   "metadata": {},
   "outputs": [
    {
     "data": {
      "text/plain": [
       "model\n",
       "mixed         0.904921\n",
       "mixed-lite    0.962778\n",
       "text          0.931230\n",
       "text-lite     0.953869\n",
       "vlm           0.906944\n",
       "vlm-lite      0.931389\n",
       "Name: score, dtype: float64"
      ]
     },
     "execution_count": 211,
     "metadata": {},
     "output_type": "execute_result"
    }
   ],
   "source": [
    "generation_df.groupby(\"model\").score.mean()"
   ]
  },
  {
   "cell_type": "code",
   "execution_count": null,
   "metadata": {},
   "outputs": [
    {
     "data": {
      "text/plain": [
       "model\n",
       "mixed         57\n",
       "mixed-lite    59\n",
       "text          57\n",
       "text-lite     58\n",
       "vlm           56\n",
       "vlm-lite      60\n",
       "Name: success, dtype: int64"
      ]
     },
     "execution_count": 213,
     "metadata": {},
     "output_type": "execute_result"
    }
   ],
   "source": [
    "generation_df.groupby(\"model\").success.sum()"
   ]
  }
 ],
 "metadata": {
  "kernelspec": {
   "display_name": "physics",
   "language": "python",
   "name": "python3"
  },
  "language_info": {
   "codemirror_mode": {
    "name": "ipython",
    "version": 3
   },
   "file_extension": ".py",
   "mimetype": "text/x-python",
   "name": "python",
   "nbconvert_exporter": "python",
   "pygments_lexer": "ipython3",
   "version": "3.12.4"
  }
 },
 "nbformat": 4,
 "nbformat_minor": 2
}
