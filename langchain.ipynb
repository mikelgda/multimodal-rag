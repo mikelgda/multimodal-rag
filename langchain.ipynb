{
 "cells": [
  {
   "cell_type": "code",
   "execution_count": 1,
   "metadata": {},
   "outputs": [],
   "source": [
    "from langchain_community.document_loaders import PyPDFLoader\n",
    "from pathlib import Path\n",
    "import re\n",
    "import os\n",
    "from api import GOOGLE_API_KEY\n",
    "os.environ[\"GOOGLE_API_KEY\"] = GOOGLE_API_KEY"
   ]
  },
  {
   "cell_type": "code",
   "execution_count": 2,
   "metadata": {},
   "outputs": [
    {
     "name": "stderr",
     "output_type": "stream",
     "text": [
      "Rotated text discovered. Output will be incomplete.\n",
      "Rotated text discovered. Output will be incomplete.\n",
      "Rotated text discovered. Output will be incomplete.\n",
      "Rotated text discovered. Output will be incomplete.\n",
      "Rotated text discovered. Output will be incomplete.\n",
      "Rotated text discovered. Output will be incomplete.\n",
      "Rotated text discovered. Output will be incomplete.\n",
      "Rotated text discovered. Output will be incomplete.\n",
      "Rotated text discovered. Output will be incomplete.\n",
      "Rotated text discovered. Output will be incomplete.\n",
      "Rotated text discovered. Output will be incomplete.\n",
      "Rotated text discovered. Output will be incomplete.\n",
      "Rotated text discovered. Output will be incomplete.\n",
      "Rotated text discovered. Output will be incomplete.\n",
      "Rotated text discovered. Output will be incomplete.\n",
      "Rotated text discovered. Output will be incomplete.\n",
      "Rotated text discovered. Output will be incomplete.\n",
      "Rotated text discovered. Output will be incomplete.\n",
      "Rotated text discovered. Output will be incomplete.\n",
      "Rotated text discovered. Output will be incomplete.\n",
      "Rotated text discovered. Output will be incomplete.\n",
      "Rotated text discovered. Output will be incomplete.\n",
      "Rotated text discovered. Output will be incomplete.\n",
      "Rotated text discovered. Output will be incomplete.\n",
      "Rotated text discovered. Output will be incomplete.\n",
      "Rotated text discovered. Output will be incomplete.\n",
      "Rotated text discovered. Output will be incomplete.\n",
      "Rotated text discovered. Output will be incomplete.\n",
      "Rotated text discovered. Output will be incomplete.\n",
      "Rotated text discovered. Output will be incomplete.\n",
      "Rotated text discovered. Output will be incomplete.\n",
      "Rotated text discovered. Output will be incomplete.\n",
      "Rotated text discovered. Output will be incomplete.\n",
      "Rotated text discovered. Output will be incomplete.\n",
      "Rotated text discovered. Output will be incomplete.\n",
      "Rotated text discovered. Output will be incomplete.\n",
      "Rotated text discovered. Output will be incomplete.\n",
      "Rotated text discovered. Output will be incomplete.\n",
      "Rotated text discovered. Output will be incomplete.\n",
      "Rotated text discovered. Output will be incomplete.\n",
      "Rotated text discovered. Output will be incomplete.\n",
      "Rotated text discovered. Output will be incomplete.\n"
     ]
    }
   ],
   "source": [
    "papers_path = Path(\"papers/selection\")\n",
    "def load_all_files(root_path, mode=\"page\"):\n",
    "    docs = []\n",
    "    for path, folders, files in root_path.walk():\n",
    "        if len(folders) != 0:\n",
    "            continue\n",
    "        for file in files:\n",
    "            if not file.endswith(\".pdf\"):\n",
    "                continue\n",
    "            doc_loader = PyPDFLoader(\n",
    "                path / file,\n",
    "                mode=mode,\n",
    "                extraction_mode=\"layout\"\n",
    "            )\n",
    "            pages = doc_loader.load()\n",
    "            docs.extend(pages)\n",
    "        \n",
    "    return docs\n",
    "\n",
    "docs = load_all_files(papers_path)\n",
    "        "
   ]
  },
  {
   "cell_type": "code",
   "execution_count": 3,
   "metadata": {},
   "outputs": [],
   "source": [
    "def preprocess_documents(docs):\n",
    "    for doc in docs:\n",
    "        doc.page_content = re.sub(\" +\", \" \", doc.page_content)\n",
    "    \n",
    "    return docs\n",
    "docs = preprocess_documents(docs)"
   ]
  },
  {
   "cell_type": "code",
   "execution_count": 4,
   "metadata": {},
   "outputs": [],
   "source": [
    "from langchain_core.prompts import PromptTemplate\n",
    "\n",
    "template = \"\"\"You are an assistant for question-answering tasks.\n",
    "Use the following pieces of retrieved context to answer the question.\n",
    "If you don't know the answer, just say that you don't know.\n",
    "Use around three sentences for your answer and keep it concise.\n",
    "Do not ever mention that you are using the context as source.\n",
    "\n",
    "Question: {question}\n",
    "\n",
    "Context:\n",
    "{context}\n",
    "\n",
    "Answer:\"    \n",
    "\"\"\"\n",
    "custom_rag_prompt = PromptTemplate.from_template(template)"
   ]
  },
  {
   "cell_type": "code",
   "execution_count": 5,
   "metadata": {},
   "outputs": [
    {
     "data": {
      "text/plain": [
       "{'input': 'What kind of material is MAPbI3?',\n",
       " 'context': [Document(metadata={'producer': 'PDFlib+PDI 9.1.2p4 (C++/Win64); modified using iText 4.2.0 by 1T3XT', 'creator': 'Arbortext Publishing Engine', 'creationdate': '2024-12-31T14:36:36-05:00', 'moddate': '2025-03-26T08:25:41-07:00', 'fpage': '184', 'acs openaccess version': 'v3.2', 'subject': 'J. Phys. Chem. Lett. 2025.16:184-190', 'printengine': 'Arbortext Advanced Print Publisher 11.2.5208/W Library-x64', 'author': 'Pelayo Marin-Villa, Mattia Gaboardi, Boby Joseph, Frederico Alabarse, Jeff Armstrong, Kacper Drużbicki, and Felix Fernandez-Alonso', 'title': 'Methylammonium Lead Iodide across Physical Space: Phase Boundaries and Structural Collapse', 'epsprocessor': 'PStill version 1.84.42', 'prism:doi': '10.1021/acs.jpclett.4c03336', 'lpage': '190', 'prism:versionidentifier': 'Issue', 'jcalibrarybuild': '5.2.i3', 'acs openaccess stamp': '01/02/2025 15:17:17 (CCBY4_0)', 'jav:journal_article_version': 'VoR', 'source': 'papers/selection/11_methylammonium.pdf', 'total_pages': 7, 'page': 1, 'page_label': '2', '_id': '4c4126ee9f05410badec862870758b62', '_collection_name': 'selection'}, page_content='The Journal of Physical Chemistry Letterspubs.acs.org/JPCL Letter\\n\\n\\n\\n\\n\\n\\n\\n\\n\\n\\n\\n\\n\\n\\n\\n\\n\\n\\n\\n\\n\\n\\nFigure1.P−T phasediagramofMAPbI 3,asinferredfromdielectric/infraredspectroscopy9,10 andX-raydiffraction.11−13 Greeklettersareusedto\\nlabelthethermodynamicallystablephasesreportedintheliterature.Selectedprojectionsofthestructuresofthesephasesaredepictedattheright.\\nThe average,nonequilibriumstructureofthecubicphaseisdisplayedalongwithaninstantaneouslocalstructureobtainedfromtotal-scattering\\nsynchrotrondiffraction,14 toprovidea visualcomparisonwiththeaveragestructuresofthetetragonalandhigh-pressurecubicphases.13'),\n",
       "  Document(metadata={'producer': 'PDFlib+PDI 9.1.2p4 (C++/Win64); modified using iText 4.2.0 by 1T3XT', 'creator': 'Arbortext Publishing Engine', 'creationdate': '2024-12-31T14:36:36-05:00', 'moddate': '2025-03-26T08:25:41-07:00', 'fpage': '184', 'acs openaccess version': 'v3.2', 'subject': 'J. Phys. Chem. Lett. 2025.16:184-190', 'printengine': 'Arbortext Advanced Print Publisher 11.2.5208/W Library-x64', 'author': 'Pelayo Marin-Villa, Mattia Gaboardi, Boby Joseph, Frederico Alabarse, Jeff Armstrong, Kacper Drużbicki, and Felix Fernandez-Alonso', 'title': 'Methylammonium Lead Iodide across Physical Space: Phase Boundaries and Structural Collapse', 'epsprocessor': 'PStill version 1.84.42', 'prism:doi': '10.1021/acs.jpclett.4c03336', 'lpage': '190', 'prism:versionidentifier': 'Issue', 'jcalibrarybuild': '5.2.i3', 'acs openaccess stamp': '01/02/2025 15:17:17 (CCBY4_0)', 'jav:journal_article_version': 'VoR', 'source': 'papers/selection/11_methylammonium.pdf', 'total_pages': 7, 'page': 1, 'page_label': '2', '_id': 'e2bf38ef2d99411a8047f114fda9cf97', '_collection_name': 'selection'}, page_content='Figure2.Representative(a)ND and(b)XRD patternsforapowderspecimenofMAPbI 3.InlinewiththeregimeshighlightedinFigure1, theND\\npatternsobtainedon OSIRIS aredisplayedasa functionoftemperaturealongthe2 kbarisobar.The XRD datafromXpresscorrespondtothe\\nambient-temperatureisotherm.Rawdiffractionpatternsarepresentedinthebottompanels,whiletheinterpolatedcolormapsinthetoppanels\\nhighlighttheevolutionofthediffractionpatternsacrosseachphasetransition.The horizontaldashedlinesatthetopofpanela highlightthe\\ntransitionpoints.The diffractionpatternforahighlypressurizedϵ phase(Im3 ̅*, 76kbar)ispresentedasaninsetinpanelb.The appearanceofnew\\ndiffractionfeaturesacrosstheδ → ϵ transitionismarkedwithasterisksinpanelb.\\n\\n\\n\\n\\n 185 https://doi.org/10.1021/acs.jpclett.4c03336\\n J. Phys. Chem. Lett. 2025, 16, 184−190'),\n",
       "  Document(metadata={'producer': 'PDFlib+PDI 9.1.2p4 (C++/Win64); modified using iText 4.2.0 by 1T3XT', 'creator': 'Arbortext Publishing Engine', 'creationdate': '2024-12-31T14:36:36-05:00', 'moddate': '2025-03-26T08:25:41-07:00', 'fpage': '184', 'acs openaccess version': 'v3.2', 'subject': 'J. Phys. Chem. Lett. 2025.16:184-190', 'printengine': 'Arbortext Advanced Print Publisher 11.2.5208/W Library-x64', 'author': 'Pelayo Marin-Villa, Mattia Gaboardi, Boby Joseph, Frederico Alabarse, Jeff Armstrong, Kacper Drużbicki, and Felix Fernandez-Alonso', 'title': 'Methylammonium Lead Iodide across Physical Space: Phase Boundaries and Structural Collapse', 'epsprocessor': 'PStill version 1.84.42', 'prism:doi': '10.1021/acs.jpclett.4c03336', 'lpage': '190', 'prism:versionidentifier': 'Issue', 'jcalibrarybuild': '5.2.i3', 'acs openaccess stamp': '01/02/2025 15:17:17 (CCBY4_0)', 'jav:journal_article_version': 'VoR', 'source': 'papers/selection/11_methylammonium.pdf', 'total_pages': 7, 'page': 0, 'page_label': '1', '_id': 'fed63a155fc34eb3900d722707b3778c', '_collection_name': 'selection'}, page_content='ybridorganic−inorganic perovskites(HOIPs) havecationoccupiesthelatticeA−site withinthecuboctahedral\\nH attractedsubstantialinterestand attentionowingto cavityformedby thesoft,formallyanionicmetal-halide\\ntheirremarkableoptoelectronicproperties,makingthem frameworkBX3. The inorganicenvironmentprovidedby the\\nexcellentcandidatesforapplicationsinphotovoltaics,light- BX3 sublatticecomprisescorner-sharedoctahedrathatcanbe\\nemittingdiodes,andphotodetectors.1 Despitethispotential,easilydistorted.Inturn,thesoftnessofthesestructuresresults\\nHOIPs stillexhibitintrinsicand extrinsicinstabilitiesthat intheemergenceofrather-complexphasebehavior,and a\\nhampertheircommercialutilization.2,3 Althoughencapsulationcoherentunderstandingofthelatterstillremainsbeyondour\\nandsurfacepassivationcanminimizeenvironmentalsensitivityreach.This situationcontinuesto be the casefor\\ntomoisture,UV radiationoroxidation,themostcriticalissues methylammoniumleadiodide,MAPbI 3,anditsP−T phase'),\n",
       "  Document(metadata={'producer': 'PDFlib+PDI 9.1.2p4 (C++/Win64); modified using iText 4.2.0 by 1T3XT', 'creator': 'Arbortext Publishing Engine', 'creationdate': '2024-12-31T14:36:36-05:00', 'moddate': '2025-03-26T08:25:41-07:00', 'fpage': '184', 'acs openaccess version': 'v3.2', 'subject': 'J. Phys. Chem. Lett. 2025.16:184-190', 'printengine': 'Arbortext Advanced Print Publisher 11.2.5208/W Library-x64', 'author': 'Pelayo Marin-Villa, Mattia Gaboardi, Boby Joseph, Frederico Alabarse, Jeff Armstrong, Kacper Drużbicki, and Felix Fernandez-Alonso', 'title': 'Methylammonium Lead Iodide across Physical Space: Phase Boundaries and Structural Collapse', 'epsprocessor': 'PStill version 1.84.42', 'prism:doi': '10.1021/acs.jpclett.4c03336', 'lpage': '190', 'prism:versionidentifier': 'Issue', 'jcalibrarybuild': '5.2.i3', 'acs openaccess stamp': '01/02/2025 15:17:17 (CCBY4_0)', 'jav:journal_article_version': 'VoR', 'source': 'papers/selection/11_methylammonium.pdf', 'total_pages': 7, 'page': 0, 'page_label': '1', '_id': 'bf8bb14cf1e441a3934c816d7c76edee', '_collection_name': 'selection'}, page_content='tomoisture,UV radiationoroxidation,themostcriticalissues methylammoniumleadiodide,MAPbI 3,anditsP−T phase\\narestilldeeplyrootedintheintrinsicand hard-to-controldiagramissummarizedinFigure1.\\nfragilityoftheperovskiteframework,leadingtoionmigration At ambientpressure,crystallographyrevealsthreeperovskite\\nand eventualdecomposition.4,5 Theseobstaclesarefurther phasesinthecaseofMAPbI :a cubicphaseabove330K; a\\n 3\\nexacerbatedwhen integratingtheperovskitewithinterfacestetragonalphaseoverthe range160−330 K; and an\\nandcharge-transportlayers.2 Materialsdesign,new synthetic orthorhombicphasebelow160 K.15 We designatethese\\nroutesorinterfacialengineering,tonamea few,haveemerged phasesasα, β andγ, respectively.Followingtheseminalwork\\naspossibleroutestocircumventtheselimitations.Theyallrely ofGesiinthekbarregime,10 a numberofsubsequentstudies\\non theexceptionaltunabilityofHOIPs andtheirexceedinglyhaveaccessedhigherpressures−see TableS1 forasummaryof')],\n",
       " 'answer': 'MAPbI3 is a hybrid organic-inorganic perovskite (HOIP). It has remarkable optoelectronic properties, making it a potential candidate for various applications. It is also known to exhibit complex phase behavior.'}"
      ]
     },
     "execution_count": 5,
     "metadata": {},
     "output_type": "execute_result"
    }
   ],
   "source": [
    "from langchain import hub\n",
    "from langchain_chroma import Chroma\n",
    "from qdrant_client import QdrantClient\n",
    "from langchain_qdrant import QdrantVectorStore\n",
    "from qdrant_client import models\n",
    "from langchain_core.output_parsers import StrOutputParser\n",
    "from langchain_core.runnables import RunnablePassthrough\n",
    "from langchain_google_genai import GoogleGenerativeAIEmbeddings, ChatGoogleGenerativeAI\n",
    "from langchain_text_splitters import RecursiveCharacterTextSplitter\n",
    "from langchain.chains import create_retrieval_chain\n",
    "from langchain.chains.combine_documents import create_stuff_documents_chain\n",
    "from langchain_core.prompts import ChatPromptTemplate\n",
    "\n",
    "\n",
    "text_splitter = RecursiveCharacterTextSplitter(chunk_size=1000, chunk_overlap=200)\n",
    "splits = text_splitter.split_documents(docs)\n",
    "client = QdrantClient(path=\"papers_db\")\n",
    "client.create_collection(\n",
    "    collection_name=\"selection\",\n",
    "    vectors_config=models.VectorParams(\n",
    "        size=768,\n",
    "        distance=models.Distance.COSINE\n",
    "    )\n",
    "\n",
    ")\n",
    "embeddings = GoogleGenerativeAIEmbeddings(model=\"models/text-embedding-004\")\n",
    "# vectorstore = Chroma.from_documents(\n",
    "#     documents=splits,\n",
    "#     embedding=embeddings,\n",
    "#     persist_directory=\"selection_db\"\n",
    "#  )\n",
    "# vectorstore = Chroma(\n",
    "#     persist_directory=\"selection_db\",\n",
    "#     embedding_function=embeddings\n",
    "# )\n",
    "vectorstore = QdrantVectorStore(\n",
    "    client=client,\n",
    "    collection_name=\"selection\",\n",
    "    embedding=embeddings,\n",
    "    distance=models.Distance.COSINE\n",
    ")\n",
    "vectorstore.add_documents(splits)\n",
    "\n",
    "# Retrieve and generate using the relevant snippets of the blog.\n",
    "retriever = vectorstore.as_retriever()\n",
    "llm = ChatGoogleGenerativeAI(model=\"gemini-2.0-flash-lite\")\n",
    "prompt = custom_rag_prompt\n",
    "\n",
    "\n",
    "def format_docs(docs):\n",
    "    return \"\\n\\n\".join(doc.page_content for doc in docs)\n",
    "\n",
    "\n",
    "# rag_chain = (\n",
    "#     {\"context\": retriever | format_docs, \"question\": RunnablePassthrough()}\n",
    "#     | prompt\n",
    "#     | llm\n",
    "#     | StrOutputParser()\n",
    "# )\n",
    "\n",
    "# rag_chain.invoke(\"What is Task Decomposition?\")\n",
    "system_prompt = (\n",
    "    \"You are an assistant for question-answering tasks.\"\n",
    "    \"Use the following pieces of retrieved context to answer the question.\"\n",
    "    \"If you don't know the answer, just say that you don't know.\"\n",
    "    \"Use around three sentences for your answer and keep it concise.\"\n",
    "    \"Do not ever mention that you are using the context as source.\"\n",
    "    \"Here is context for your answer:\"\n",
    "    \"\\n\\n\"\n",
    "    \"{context}\"\n",
    ")\n",
    "\n",
    "prompt = ChatPromptTemplate.from_messages(\n",
    "    [\n",
    "        (\"system\", system_prompt),\n",
    "        (\"human\", \"{input}\"),\n",
    "    ]\n",
    ")\n",
    "question_answer_chain = create_stuff_documents_chain(llm, prompt)\n",
    "rag_chain = create_retrieval_chain(retriever, question_answer_chain)\n",
    "\n",
    "rag_chain.invoke({\"input\": \"What kind of material is MAPbI3?\"})"
   ]
  },
  {
   "cell_type": "code",
   "execution_count": 6,
   "metadata": {},
   "outputs": [
    {
     "data": {
      "text/plain": [
       "{'input': 'What is the spin space group symmetry of Fe3GeTe2?',\n",
       " 'context': [Document(metadata={'producer': 'pdfTeX-1.40.25', 'creator': 'LaTeX with hyperref', 'creationdate': '2025-02-12T01:42:39+00:00', 'author': '', 'keywords': '', 'moddate': '2025-02-12T01:42:39+00:00', 'ptex.fullbanner': 'This is pdfTeX, Version 3.141592653-2.6-1.40.25 (TeX Live 2023) kpathsea version 6.3.5', 'subject': '', 'title': '', 'trapped': '/False', 'source': 'papers/selection/6_fgt.pdf', 'total_pages': 10, 'page': 0, 'page_label': '1', '_id': 'c45d8848f32845dd97c60641a565553b', '_collection_name': 'selection'}, page_content='I. INTRODUCTION coupling(SOC)hasanegligibleeffect. Thenon-zerolocal\\n magnetic moments break time reversal symmetry (TRS)\\n Fe 3GeTe 2 is an itinerant ferromagnet with a Curie intrinsically, a necessary condition for some specific fea-\\ntemperature T c ≈ 220 K and a hexagonal layered tures to appear. For example, centrosymmetric crystals\\nstructure[1]. The bulk material is formed by slabs of cannot host Weyl nodes when TRS is present[22].\\nFe 3Ge lying between layers of Te bound by weak van Previous research also shows that Fe 3GeTe 2 hosts one\\nder Waals forces to form a 3D structure, which makes nodal line located very near the Fermi level, when SOC\\nit easily exfoliable[2] or grown by deposition[3]. The is neglected[23]. In particular, the band structure shows\\ntwo non-equivalent Fe positions in the unit cell dis- a twofold-degenerate crossing at the K = (1 /3,1/3,0)\\nplay a local magnetic moment of around 1 .4µ B per point. Thisdegeneracyextendsalongthehigh-symmetry'),\n",
       "  Document(metadata={'producer': 'pdfTeX-1.40.25', 'creator': 'LaTeX with hyperref', 'creationdate': '2025-02-12T01:42:39+00:00', 'author': '', 'keywords': '', 'moddate': '2025-02-12T01:42:39+00:00', 'ptex.fullbanner': 'This is pdfTeX, Version 3.141592653-2.6-1.40.25 (TeX Live 2023) kpathsea version 6.3.5', 'subject': '', 'title': '', 'trapped': '/False', 'source': 'papers/selection/6_fgt.pdf', 'total_pages': 10, 'page': 1, 'page_label': '2', '_id': 'b8c84970dd804655aeb6fda6b03782bc', '_collection_name': 'selection'}, page_content='III. SYMMETRY ANALYSIS OF THE BAND The previously reported nodal line occurs along the\\n STRUCTURE high-symmetryline P joiningthepoints K and H . Since\\n along the nodal line two bands become degenerate, we\\n A. Bands without SOC must only consider 2D irreps at the endpoints, there-\\n fore leaving as possible coreps K 5,K 6 and H 1,H 2,H 3\\n Fe 3GeTe 2 displays a ferromagnetic (FM) structure respectively. Because the subduction of the coreps onto\\nwhere the magnetic moments at Fe sites align parallel the P line must match at both ends of the path, we can'),\n",
       "  Document(metadata={'producer': 'pdfTeX-1.40.25', 'creator': 'LaTeX with hyperref', 'creationdate': '2025-02-12T01:42:39+00:00', 'author': '', 'keywords': '', 'moddate': '2025-02-12T01:42:39+00:00', 'ptex.fullbanner': 'This is pdfTeX, Version 3.141592653-2.6-1.40.25 (TeX Live 2023) kpathsea version 6.3.5', 'subject': '', 'title': '', 'trapped': '/False', 'source': 'papers/selection/6_fgt.pdf', 'total_pages': 10, 'page': 0, 'page_label': '1', '_id': '29a3ea74bf56492c8b5bdb071f160f59', '_collection_name': 'selection'}, page_content='play a local magnetic moment of around 1 .4µ B per point. Thisdegeneracyextendsalongthehigh-symmetry\\natom along the stacking c axis[4,5]. Previous stud- P line joining the K and H = (1 /3,1/3,1/2) wave vec-\\nies have shown that Fe 3GeTe 2 displays a large anoma- tors. WhenSOCistakenintoaccount,thenodallinewas\\nlous Hall conductivity[6], anomalous Nernst effect[7] and showntobegapped,leadingtoanavoidedcrossingwitha\\nnon-linear quantum Hall effect[8], which has drawn the verysmallenergygapalongwhichBerrycurvatureiscon-\\nattention for their applicability in the development of centrated, which results in a large flux. This, in turn, in-\\nnovel spintronic devices. Its magnetic properties have ducesalargeanomalousHallconductivity(AHC),which\\nbeen studied in-depth[9–13], discovering the possibil- wasforbiddenbytheTRSinthenon-magneticstructure.\\nity to tune its magnetic configuration via strain[14] This mechanism was put forward to explain the high'),\n",
       "  Document(metadata={'producer': 'pdfTeX-1.40.25', 'creator': 'LaTeX with hyperref', 'creationdate': '2025-02-12T01:42:39+00:00', 'author': '', 'keywords': '', 'moddate': '2025-02-12T01:42:39+00:00', 'ptex.fullbanner': 'This is pdfTeX, Version 3.141592653-2.6-1.40.25 (TeX Live 2023) kpathsea version 6.3.5', 'subject': '', 'title': '', 'trapped': '/False', 'source': 'papers/selection/6_fgt.pdf', 'total_pages': 10, 'page': 0, 'page_label': '1', '_id': 'c52dae50ac2645c1a344073b45b2662d', '_collection_name': 'selection'}, page_content='nismstoprotectthestabilityoftopologicalfeaturessuch find that Fe 3GeTe 2 still hosts many symmetry-protected\\nas band crossings giving rise to Dirac and Weyl nodes or nodallines,someofwhichareneartheFermienergy,even\\nnodal-line semimetals[18–20]. Fe 3GeTe 2 offers another when SOC is taken into account. We also identify clear\\nplatform to investigate the interplay between topology drum-head states from a nodal line close to the Fermi\\nand symmetry in magnetically ordered materials, since level. Guided by the symmetry analysis, we are able to\\nits ground-state is described by a magnetic space group establishthemaincontributionstotheAHC.Computing\\n(MSG) or a spin space group[21] (SSG) when spin orbit theAHCfordifferentvaluesofthechemicalpotentialre-')],\n",
       " 'answer': 'The ground state of Fe3GeTe2 is described by a magnetic space group (MSG) or a spin space group (SSG). This is the case when spin orbit coupling (SOC) is considered. This material offers a platform to investigate the interplay between topology and symmetry in magnetically ordered materials.'}"
      ]
     },
     "execution_count": 6,
     "metadata": {},
     "output_type": "execute_result"
    }
   ],
   "source": [
    "rag_chain.invoke({\"input\": \"What is the spin space group symmetry of Fe3GeTe2?\"})"
   ]
  },
  {
   "cell_type": "code",
   "execution_count": null,
   "metadata": {},
   "outputs": [],
   "source": []
  }
 ],
 "metadata": {
  "kernelspec": {
   "display_name": "tfm",
   "language": "python",
   "name": "python3"
  },
  "language_info": {
   "codemirror_mode": {
    "name": "ipython",
    "version": 3
   },
   "file_extension": ".py",
   "mimetype": "text/x-python",
   "name": "python",
   "nbconvert_exporter": "python",
   "pygments_lexer": "ipython3",
   "version": "3.12.9"
  }
 },
 "nbformat": 4,
 "nbformat_minor": 2
}
