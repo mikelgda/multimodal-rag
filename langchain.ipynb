{
 "cells": [
  {
   "cell_type": "code",
   "execution_count": 1,
   "metadata": {},
   "outputs": [
    {
     "name": "stderr",
     "output_type": "stream",
     "text": [
      "c:\\Users\\mikel\\Documents\\GitHub\\multimodal-rag\\.venv\\Lib\\site-packages\\deepeval\\__init__.py:54: UserWarning: You are using deepeval version 2.7.1, however version 2.7.2 is available. You should consider upgrading via the \"pip install --upgrade deepeval\" command.\n",
      "  warnings.warn(\n"
     ]
    }
   ],
   "source": [
    "from preprocessing_utils import load_all_files, preprocess_documents\n",
    "from pathlib import Path\n",
    "import os\n",
    "from api import GOOGLE_API_KEY\n",
    "# import google.generativeai as genai\n",
    "os.environ[\"GOOGLE_API_KEY\"] = GOOGLE_API_KEY\n",
    "# genai.configure(api_key=GOOGLE_API_KEY)"
   ]
  },
  {
   "cell_type": "markdown",
   "metadata": {},
   "source": [
    "## Text only"
   ]
  },
  {
   "cell_type": "code",
   "execution_count": null,
   "metadata": {},
   "outputs": [],
   "source": [
    "papers_path = Path(\"papers/selection\")\n",
    "docs = load_all_files(papers_path)\n",
    "docs = preprocess_documents(docs) "
   ]
  },
  {
   "cell_type": "code",
   "execution_count": 2,
   "metadata": {},
   "outputs": [],
   "source": [
    "from langchain_core.prompts import PromptTemplate\n",
    "\n",
    "template = \"\"\"You are an assistant for question-answering tasks.\n",
    "Use the following pieces of retrieved context to answer the question.\n",
    "If you don't know the answer, just say that you don't know.\n",
    "Use around three sentences for your answer and keep it concise.\n",
    "Do not ever mention that you are using the context as source.\n",
    "\n",
    "Question: {question}\n",
    "\n",
    "Context:\n",
    "{context}\n",
    "\n",
    "Answer:\"    \n",
    "\"\"\"\n",
    "custom_rag_prompt = PromptTemplate.from_template(template)"
   ]
  },
  {
   "cell_type": "code",
   "execution_count": 3,
   "metadata": {},
   "outputs": [],
   "source": [
    "# from langchain import hub\n",
    "# from langchain_chroma import Chroma\n",
    "from qdrant_client import QdrantClient\n",
    "from langchain_qdrant import QdrantVectorStore\n",
    "from qdrant_client import models\n",
    "from langchain_core.output_parsers import StrOutputParser\n",
    "from langchain_core.runnables import RunnablePassthrough\n",
    "from langchain_google_genai import GoogleGenerativeAIEmbeddings, ChatGoogleGenerativeAI\n",
    "from langchain_text_splitters import RecursiveCharacterTextSplitter\n",
    "from langchain.chains import create_retrieval_chain\n",
    "from langchain.chains.combine_documents import create_stuff_documents_chain\n",
    "from langchain_core.prompts import ChatPromptTemplate\n",
    "\n",
    "\n",
    "# text_splitter = RecursiveCharacterTextSplitter(chunk_size=1000, chunk_overlap=200)\n",
    "# splits = text_splitter.split_documents(docs)\n",
    "qdrant_client = QdrantClient(path=\"papers_db\")\n",
    "# qdrant_client.create_collection(\n",
    "#     collection_name=\"selection\",\n",
    "#     vectors_config=models.VectorParams(\n",
    "#         size=768,\n",
    "#         distance=models.Distance.COSINE\n",
    "#     )\n",
    "\n",
    "# )\n",
    "embeddings = GoogleGenerativeAIEmbeddings(model=\"models/text-embedding-004\")\n",
    "# vectorstore = Chroma.from_documents(\n",
    "#     documents=splits,\n",
    "#     embedding=embeddings,\n",
    "#     persist_directory=\"selection_db\"\n",
    "#  )\n",
    "# vectorstore = Chroma(\n",
    "#     persist_directory=\"selection_db\",\n",
    "#     embedding_function=embeddings\n",
    "# )\n",
    "vectorstore = QdrantVectorStore(\n",
    "    client=qdrant_client,\n",
    "    collection_name=\"selection\",\n",
    "    embedding=embeddings,\n",
    "    distance=models.Distance.COSINE\n",
    ")\n",
    "# vectorstore.add_documents(docs)\n",
    "\n",
    "# Retrieve and generate using the relevant snippets of the blog.\n",
    "retriever = vectorstore.as_retriever(\n",
    "    search_kwargs={\"k\": 3}\n",
    ")\n",
    "llm = ChatGoogleGenerativeAI(model=\"gemini-2.0-flash-lite\")\n",
    "prompt = custom_rag_prompt\n",
    "\n",
    "\n",
    "def format_docs(docs):\n",
    "    return \"\\n\\n\".join(doc.page_content for doc in docs)\n",
    "\n",
    "\n",
    "# rag_chain = (\n",
    "#     {\"context\": retriever | format_docs, \"question\": RunnablePassthrough()}\n",
    "#     | prompt\n",
    "#     | llm\n",
    "#     | StrOutputParser()\n",
    "# )\n",
    "\n",
    "# rag_chain.invoke(\"What is Task Decomposition?\")\n",
    "system_prompt = (\n",
    "    \"You are an assistant for question-answering tasks.\"\n",
    "    \"Use the following pieces of retrieved context to answer the question.\"\n",
    "    \"If you don't know the answer, just say that you don't know.\"\n",
    "    \"Use around three sentences for your answer and keep it concise.\"\n",
    "    \"Use LaTeX to format any math equation.\"\n",
    "    \"Do not ever mention that you are using the context as source.\"\n",
    "    \"Here is context for your answer:\"\n",
    "    \"\\n\\n\"\n",
    "    \"{context}\"\n",
    ")\n",
    "\n",
    "prompt = ChatPromptTemplate.from_messages(\n",
    "    [\n",
    "        (\"system\", system_prompt),\n",
    "        (\"human\", \"{input}\"),\n",
    "    ]\n",
    ")\n",
    "question_answer_chain = create_stuff_documents_chain(llm, prompt)\n",
    "rag_chain = create_retrieval_chain(retriever, question_answer_chain)\n",
    "\n",
    "# rag_chain.invoke({\"input\": \"What kind of material is MAPbI3?\"})"
   ]
  },
  {
   "cell_type": "code",
   "execution_count": 4,
   "metadata": {},
   "outputs": [
    {
     "name": "stdout",
     "output_type": "stream",
     "text": [
      "[Document(metadata={'producer': 'iText® 5.3.5 ©2000-2012 1T3XT BVBA (SPRINGER SBM; licensed version)', 'creator': 'Springer', 'creationdate': '2021-08-31T00:12:39+05:30', 'keywords': '', 'crossmarkdomains[1]': 'springer.com', 'moddate': '2021-08-31T07:48:08+02:00', 'subject': 'Communications Materials, doi:10.1038/s43246-021-00194-3', 'doi': '10.1038/s43246-021-00194-3', 'author': 'Jiucheng Cheng', 'crossmarkdomains[2]': 'springerlink.com', 'title': 'A geometric-information-enhanced crystal graph network for predicting properties of materials', 'source': 'papers/selection/Cheng et al. - 2021 - A geometric-information-enhanced crystal graph net.pdf', 'total_pages': 11, 'page': 1, 'page_label': '2', '_id': '36825661a76a4aec975a0d94df1f33c1', '_collection_name': 'selection'}, page_content='aggregation process. In material prediction domain, the geometrical Crystal graph deﬁ nition and the introduction of geometric\\nstructure information like spatial distance and direction is alsoinformation. In this section, we construct a crystal graph\\nimportant because the relative spatial position of atoms in therepresentation suitable for any stoichiometric crystalline material.\\nmicrostructure is closely relatedto the charge interaction between23 Many Such a graph retains the information of the topological and\\nthem and thus affects macroscopic properties of the material. geometric structure of crystals. It also records the periodicity and\\nworks have already introduced geometric structure information into the key crystal information, such as the crystal lattice vector and\\ntheir models. The Crystal Graph Convolutional Neural Network the cell volume. Besides, representations in the graph meet'), Document(metadata={'producer': 'iText® 5.3.5 ©2000-2012 1T3XT BVBA (SPRINGER SBM; licensed version)', 'creator': 'Springer', 'creationdate': '2021-08-31T00:12:39+05:30', 'keywords': '', 'crossmarkdomains[1]': 'springer.com', 'moddate': '2021-08-31T07:48:08+02:00', 'subject': 'Communications Materials, doi:10.1038/s43246-021-00194-3', 'doi': '10.1038/s43246-021-00194-3', 'author': 'Jiucheng Cheng', 'crossmarkdomains[2]': 'springerlink.com', 'title': 'A geometric-information-enhanced crystal graph network for predicting properties of materials', 'source': 'papers/selection/Cheng et al. - 2021 - A geometric-information-enhanced crystal graph net.pdf', 'total_pages': 11, 'page': 1, 'page_label': '2', '_id': 'fca2da5956ac4f38adbff542c528c3bc', '_collection_name': 'selection'}, page_content='the hypothesis that each atom exists in an inﬁ nite deep spherical well. addition,werecordthelatticevector a; b; c and cell volume Ω as Pc\\nThe utilization of attention masks is an excellent way to encode the which means crystal parameters and they will be used in section C.\\ngeometrical structure among atoms. Since it is just beginning of the The full picture of the crystal graph is shown in Fig.1.\\nuse in the ﬁ eld of crystal material prediction, there is still room for\\ndevelopment. In this work, we propose a GNN model to accurately v0 ðz i Þ¼ W ðOnehotðz i ÞÞ; uij ¼ r!\\npredict properties for any crystalline materials, which is invariant to i ¼ Embedding ij ð1Þ\\nglobal 3D rotations, translations, and node permutations. Our model\\nachieves unprecedented predictionaccuracy by introducing complete\\nlocal spatial geometrical information. On the one hand, we construct A MPNN-based GNN for crystal property prediction'), Document(metadata={'producer': 'iText® 5.3.5 ©2000-2012 1T3XT BVBA (SPRINGER SBM; licensed version)', 'creator': 'Springer', 'creationdate': '2021-08-31T00:12:39+05:30', 'keywords': '', 'crossmarkdomains[1]': 'springer.com', 'moddate': '2021-08-31T07:48:08+02:00', 'subject': 'Communications Materials, doi:10.1038/s43246-021-00194-3', 'doi': '10.1038/s43246-021-00194-3', 'author': 'Jiucheng Cheng', 'crossmarkdomains[2]': 'springerlink.com', 'title': 'A geometric-information-enhanced crystal graph network for predicting properties of materials', 'source': 'papers/selection/Cheng et al. - 2021 - A geometric-information-enhanced crystal graph net.pdf', 'total_pages': 11, 'page': 1, 'page_label': '2', '_id': 'c6b420d73b04422b850137fdbbfa51b1', '_collection_name': 'selection'}, page_content='their models. The Crystal Graph Convolutional Neural Network the cell volume. Besides, representations in the graph meet\\n(CGCNN)19 chose the distance between atoms to represent the edges translation invariance and node permutation invariance.\\nin the crystal graph. The Materials Graph Network (MEGNet)24 In a molecule graph representation, nodes usually represent atoms\\nintroduced manual features that included topological distance and inthemoleculeandedgesrepresentthechemicalbondsbetween\\nspatial distance. The directional message passing neural network25 encoded the directional information into GNN modelsatoms18,31,32. But in crystals, there are no clearly deﬁ ned chemical\\n(DimeNet) bonds among atoms. Hence, it is necessary to deﬁ ne the adjacency\\nfor molecular materials26,27. However, previous GNN based works relationship among atoms ﬁ rst. Similar to CGCNN19,wedeﬁ ne the'), Document(metadata={'producer': 'iText® 5.3.5 ©2000-2012 1T3XT BVBA (SPRINGER SBM; licensed version)', 'creator': 'Springer', 'creationdate': '2021-08-31T00:12:39+05:30', 'keywords': '', 'crossmarkdomains[1]': 'springer.com', 'moddate': '2021-08-31T07:48:08+02:00', 'subject': 'Communications Materials, doi:10.1038/s43246-021-00194-3', 'doi': '10.1038/s43246-021-00194-3', 'author': 'Jiucheng Cheng', 'crossmarkdomains[2]': 'springerlink.com', 'title': 'A geometric-information-enhanced crystal graph network for predicting properties of materials', 'source': 'papers/selection/Cheng et al. - 2021 - A geometric-information-enhanced crystal graph net.pdf', 'total_pages': 11, 'page': 0, 'page_label': '1', '_id': '7cb51d1cf6ba44109eb58c704bcc17f4', '_collection_name': 'selection'}, page_content='Jiucheng Cheng1,4, Chunkai Zhang 1,4 ✉ & Lifeng Dong 2,3 ✉\\n\\n\\n\\n\\nGraph neural networks (GNNs) have been used previously for identifying new crystalline\\nmaterials. However, geometric structure is not usually taken into consideration, or only\\npartially. Here, we develop a geometric-information-enhanced crystal graph neural network\\n(GeoCGNN) to predict the properties of crystalline materials. By considering the distance\\nvector between each node and its neighbors, our model can learn full topological and spatial\\ngeometric structure information. Furthermore, we incorporate an effective method based on\\nthe mixed basis functions to encode the geometric information into our model, which out-\\nperforms other GNN methods in a variety of databases. For example, for predicting formation\\nenergy our model is 25.6%, 14.3% and 35.7% more accurate than CGCNN, MEGNet and\\niCGCNN models, respectively. For band gap, our model outperforms CGCNN by 27.6% and\\nMEGNet by 12.4%.')]\n",
      "One example is the Crystal Graph Convolutional Neural Network (CGCNN). It uses the distance between atoms to represent the edges in the crystal graph.\n"
     ]
    }
   ],
   "source": [
    "response = rag_chain.invoke({\"input\":\n",
    "\"Give me an example architecture of a graph neural network used to predict physical properties of crystals and describe the internal architecture.\"\n",
    "                             })\n",
    "print(response[\"context\"])\n",
    "print(response[\"answer\"])"
   ]
  },
  {
   "cell_type": "code",
   "execution_count": 4,
   "metadata": {},
   "outputs": [],
   "source": [
    "from preprocessing_utils import load_queries, load_answers\n",
    "\n",
    "queries = load_queries(\"papers/selection_queries.txt\")\n",
    "answers = load_answers(\"papers/selection_answers.txt\")"
   ]
  },
  {
   "cell_type": "code",
   "execution_count": 6,
   "metadata": {},
   "outputs": [
    {
     "data": {
      "text/plain": [
       "['1_helical_weyl.pdf',\n",
       " '2_magic_angle.pdf',\n",
       " '3_chiral_kagome.pdf',\n",
       " '4_quantum_supremacy.pdf',\n",
       " '5_wte2.pdf',\n",
       " '6_fgt.pdf',\n",
       " '7_kagome_order.pdf',\n",
       " '8_triangulene.pdf',\n",
       " '9_neutron_activation.pdf',\n",
       " '10_rucl3.pdf',\n",
       " '11_methylammonium.pdf',\n",
       " '12_perovskites.pdf',\n",
       " '13_high_troughput.pdf',\n",
       " '14_quenched_nematic.pdf',\n",
       " '15_fractional_charges.pdf',\n",
       " '16_plasmons.pdf',\n",
       " '17_charge_transfer.pdf',\n",
       " '18_photonic_axion.pdf',\n",
       " '19_adsorption.pdf',\n",
       " '20_cgnn.pdf']"
      ]
     },
     "execution_count": 6,
     "metadata": {},
     "output_type": "execute_result"
    }
   ],
   "source": [
    "paper_names = sorted(os.listdir(\"papers/selection\"), key=lambda x: int(x.split(\"_\")[0]))\n",
    "paper_names"
   ]
  },
  {
   "cell_type": "code",
   "execution_count": 2,
   "metadata": {},
   "outputs": [
    {
     "data": {
      "text/plain": [
       "np.float64(2.1309297535714578)"
      ]
     },
     "execution_count": 2,
     "metadata": {},
     "output_type": "execute_result"
    }
   ],
   "source": [
    "from metrics import compute_dcg\n",
    "import numpy as np\n",
    "ideal_dcg = compute_dcg([\"a\", \"a\", \"a\"], np.array([1,1,1]), \"a\")\n",
    "ideal_dcg"
   ]
  },
  {
   "cell_type": "code",
   "execution_count": null,
   "metadata": {},
   "outputs": [
    {
     "data": {
      "text/plain": [
       "array([0.90325211, 0.8043681 , 0.8931873 , 0.77793567, 0.90191179,\n",
       "       0.85582628, 0.73910535, 0.87486064, 0.87178229, 0.76854813,\n",
       "       0.75890711, 0.78719071, 0.66802446, 0.67354001, 0.83462882,\n",
       "       0.63187465, 0.80785569, 0.87585578, 0.29583043, 0.32937405,\n",
       "       0.63691264, 0.8279142 , 0.81288415, 0.3173956 , 0.73844581,\n",
       "       0.73137116, 0.764208  , 0.87312454, 0.82169079, 0.87638703,\n",
       "       0.84600412, 0.89798883, 0.79308244, 0.83783709, 0.80531714,\n",
       "       0.75374734, 0.71420121, 0.        , 0.26868167, 0.8270814 ,\n",
       "       0.82533922, 0.85486909, 0.91052406, 0.7836308 , 0.82682394,\n",
       "       0.80297807, 0.8536215 , 0.81635612, 0.88188953, 0.68063833,\n",
       "       0.89962569, 0.80594209, 0.82717863, 0.47147366, 0.80714767,\n",
       "       0.7986099 , 0.86533019, 0.77911123, 0.85701513, 0.72357773])"
      ]
     },
     "execution_count": 8,
     "metadata": {},
     "output_type": "execute_result"
    }
   ],
   "source": [
    "scores = []\n",
    "for questions, gold_name in zip(queries, paper_names):\n",
    "    for query in questions:\n",
    "        result = vectorstore.similarity_search_with_score(query)\n",
    "        retrieved_docs = [x[0] for x in result]\n",
    "        retrieved_scores = np.array([x[1] for x in result])\n",
    "        retrieved_names = [Path(doc.metadata[\"source\"]).name for doc in retrieved_docs]\n",
    "        scores.append(compute_dcg(retrieved_names, retrieved_scores, gold_name) / ideal_dcg)\n",
    "scores = np.array(scores)\n",
    "scores"
   ]
  },
  {
   "cell_type": "code",
   "execution_count": null,
   "metadata": {},
   "outputs": [
    {
     "data": {
      "text/plain": [
       "{'10_rucl3.pdf': 12,\n",
       " '11_methylammonium.pdf': 7,\n",
       " '12_perovskites.pdf': 13,\n",
       " '13_high_troughput.pdf': 9,\n",
       " '14_quenched_nematic.pdf': 7,\n",
       " '15_fractional_charges.pdf': 20,\n",
       " '16_plasmons.pdf': 14,\n",
       " '17_charge_transfer.pdf': 11,\n",
       " '18_photonic_axion.pdf': 12,\n",
       " '19_adsorption.pdf': 10,\n",
       " '1_helical_weyl.pdf': 10,\n",
       " '20_cgnn.pdf': 11,\n",
       " '2_magic_angle.pdf': 13,\n",
       " '3_chiral_kagome.pdf': 19,\n",
       " '4_quantum_supremacy.pdf': 7,\n",
       " '5_wte2.pdf': 6,\n",
       " '6_fgt.pdf': 10,\n",
       " '7_kagome_order.pdf': 7,\n",
       " '8_triangulene.pdf': 6,\n",
       " '9_neutron_activation.pdf': 8}"
      ]
     },
     "execution_count": 27,
     "metadata": {},
     "output_type": "execute_result"
    }
   ],
   "source": [
    "doc_max_page = {}\n",
    "for doc in docs:\n",
    "    doc_max_page[Path(doc.metadata[\"source\"]).name] = doc.metadata[\"total_pages\"]\n",
    "\n",
    "doc_max_page"
   ]
  },
  {
   "cell_type": "code",
   "execution_count": 28,
   "metadata": {},
   "outputs": [],
   "source": [
    "qrel = {}\n",
    "query_index = 1\n",
    "\n",
    "for group_index, questions in enumerate(queries):\n",
    "    for query in questions:\n",
    "        query_dict = qrel.setdefault(f\"q{query_index}\", {})\n",
    "        query_index += 1\n",
    "        for doc_index, doc_name in enumerate(paper_names):\n",
    "            for page_num in range(doc_max_page[doc_name]):\n",
    "                query_dict[f\"{doc_name}_{page_num + 1}\"] = 1 if group_index == doc_index else 0"
   ]
  },
  {
   "cell_type": "code",
   "execution_count": 29,
   "metadata": {},
   "outputs": [],
   "source": [
    "run = {}\n",
    "query_index = 1\n",
    "for questions, gold_name in zip(queries, paper_names):\n",
    "    for query in questions:\n",
    "        query_dict = run.setdefault(f\"q{query_index}\", {})\n",
    "        query_index += 1\n",
    "        result = vectorstore.similarity_search_with_score(query, k=1e6)\n",
    "        for point, score in result:\n",
    "            doc_name = Path(point.metadata[\"source\"]).name\n",
    "            page_num = point.metadata[\"page\"]\n",
    "            query_dict[f\"{doc_name}_{page_num+1}\"] = score"
   ]
  },
  {
   "cell_type": "code",
   "execution_count": 30,
   "metadata": {},
   "outputs": [],
   "source": [
    "import json\n",
    "\n",
    "json.dump(run, open(\"run_text.json\", \"w\"), indent=4)"
   ]
  },
  {
   "cell_type": "markdown",
   "metadata": {},
   "source": [
    "## Multimodal"
   ]
  },
  {
   "cell_type": "code",
   "execution_count": 6,
   "metadata": {},
   "outputs": [],
   "source": [
    "llm = ChatGoogleGenerativeAI(model=\"gemini-2.0-flash-lite\")"
   ]
  },
  {
   "cell_type": "code",
   "execution_count": 7,
   "metadata": {},
   "outputs": [
    {
     "name": "stderr",
     "output_type": "stream",
     "text": [
      "/var/folders/9w/3l6rxjcs3bgfl3v7b2f66llr0000gn/T/ipykernel_77878/2457562682.py:44: LangChainDeprecationWarning: The method `BaseChatModel.__call__` was deprecated in langchain-core 0.1.7 and will be removed in 1.0. Use :meth:`~invoke` instead.\n",
      "  response = llm(formatted_prompt)\n"
     ]
    },
    {
     "name": "stdout",
     "output_type": "stream",
     "text": [
      "The image features a tabby cat wearing orange sunglasses. The cat has green eyes and a white chest. It's sitting on what appears to be a sofa, with various cushions visible in the background. The image is well-lit and has a shallow depth of field, focusing attention on the cat's face.\n"
     ]
    }
   ],
   "source": [
    "from langchain.prompts import ChatPromptTemplate, SystemMessagePromptTemplate, HumanMessagePromptTemplate\n",
    "from langchain.schema import HumanMessage, SystemMessage\n",
    "import base64\n",
    "\n",
    "# Function to encode an image as base64\n",
    "def encode_image(image_path):\n",
    "    with open(image_path, \"rb\") as img_file:\n",
    "        return base64.b64encode(img_file.read()).decode(\"utf-8\")\n",
    "\n",
    "# Encode the image(s)\n",
    "image_path = \"image.jpg\"  # Replace with your image path\n",
    "image_base64 = encode_image(image_path)\n",
    "\n",
    "# Define system message (instructions for the AI)\n",
    "system_template = \"You are an AI assistant that analyzes images and answers user queries.\"\n",
    "system_message = SystemMessagePromptTemplate.from_template(system_template)\n",
    "\n",
    "# Define human message (text + image context)\n",
    "human_template = \"{text}\"  # Placeholder for user input text\n",
    "human_message = HumanMessagePromptTemplate.from_template(human_template)\n",
    "\n",
    "# Create the chat prompt template\n",
    "chat_prompt = ChatPromptTemplate.from_messages([system_message, human_message])\n",
    "\n",
    "# Format the chat prompt with user input\n",
    "formatted_prompt = chat_prompt.format_messages(\n",
    "    text=\"What can you tell me about this image?\",\n",
    ")\n",
    "\n",
    "# Append image to the human message dynamically\n",
    "formatted_prompt.append(\n",
    "    HumanMessage(\n",
    "        content=[\n",
    "            {\"type\": \"text\", \"text\": \"Here is the image context:\"},\n",
    "            {\"type\": \"image_url\", \"image_url\": f\"data:image/jpeg;base64,{image_base64}\"}\n",
    "        ]\n",
    "    )\n",
    ")\n",
    "\n",
    "# Initialize Gemini model (multimodal)\n",
    "llm = ChatGoogleGenerativeAI(model=\"gemini-2.0-flash\")\n",
    "\n",
    "# Get the response from the model\n",
    "response = llm(formatted_prompt)\n",
    "print(response.content)"
   ]
  },
  {
   "cell_type": "code",
   "execution_count": null,
   "metadata": {},
   "outputs": [
    {
     "data": {
      "text/plain": [
       "'The images show a cat wearing orange sunglasses. Yes, they are the same.'"
      ]
     },
     "execution_count": 44,
     "metadata": {},
     "output_type": "execute_result"
    }
   ],
   "source": [
    "from langchain_core.runnables import RunnableLambda\n",
    "\n",
    "top_k = 2\n",
    "\n",
    "def retrieve_images(query):\n",
    "    return [encode_image(\"image.jpg\") for i in range(top_k)]\n",
    "\n",
    "def print_thing(thing):\n",
    "    print(thing)\n",
    "    return thing\n",
    "\n",
    "def expand_context_images(message):\n",
    "    new_message = {}\n",
    "    new_message[\"query\"] = message[\"query\"]\n",
    "    for i, image in enumerate(message[\"context_images\"]):\n",
    "        new_message[f\"context{i}\"] = image\n",
    "    \n",
    "    return new_message\n",
    "\n",
    "system_message = (\n",
    "    \"You are an assistant for question-answering tasks.\"\n",
    "    \"Use the images of retrieved context to answer the question.\"\n",
    "    \"If you don't know the answer, just say that you don't know.\"\n",
    "    \"Use around three sentences for your answer and keep it concise.\"\n",
    "    \"Do not ever mention that you are using the context as source.\"\n",
    ") \n",
    "\n",
    "user_message = [\n",
    "    {\n",
    "        \"type\": \"text\",\n",
    "        \"text\": \"{query}\",\n",
    "    }\n",
    "] + [\n",
    "    {\n",
    "        \"type\": \"image_url\",\n",
    "        \"image_url\": {\"url\": \"data:image/jpeg;base64,{placeholder}\".replace(\"placeholder\", f\"context{i}\")},\n",
    "    }\n",
    "    for i in range(top_k)\n",
    "]\n",
    "\n",
    "prompt = ChatPromptTemplate.from_messages(\n",
    "    [\n",
    "        (\"system\", system_message),\n",
    "        (\n",
    "            \"user\",\n",
    "            user_message,\n",
    "        ),\n",
    "    ]\n",
    ")\n",
    "# prompt = ChatPromptTemplate.from_messages(\n",
    "#     [\n",
    "#         (\"system\", system_message),\n",
    "#         (\n",
    "#             \"user\",\n",
    "#             [\n",
    "#                 {\n",
    "#                     \"type\": \"text\",\n",
    "#                     \"text\": \"{query}\",\n",
    "\n",
    "#                 },\n",
    "#                 {\n",
    "#                     \"type\": \"image_url\",\n",
    "#                     \"image_url\": {\"url\": \"data:image/jpeg;base64,\"},\n",
    "#                 }\n",
    "#             ],\n",
    "#         ),\n",
    "#     ]\n",
    "# )\n",
    "\n",
    "rag_chain = (\n",
    "    {\"context_images\": retrieve_images, \"query\": RunnablePassthrough()}\n",
    "    | RunnableLambda(expand_context_images)\n",
    "    | prompt\n",
    "    | llm\n",
    "    | StrOutputParser()\n",
    ")\n",
    "\n",
    "rag_chain.invoke(\"What are these images? Are they the same?\")"
   ]
  },
  {
   "cell_type": "code",
   "execution_count": 42,
   "metadata": {},
   "outputs": [
    {
     "data": {
      "text/plain": [
       "ChatPromptTemplate(input_variables=['context0', 'context1', 'query'], input_types={}, partial_variables={}, messages=[SystemMessagePromptTemplate(prompt=PromptTemplate(input_variables=[], input_types={}, partial_variables={}, template=\"You are an assistant for question-answering tasks.Use the images of retrieved context to answer the question.If you don't know the answer, just say that you don't know.Use around three sentences for your answer and keep it concise.Do not ever mention that you are using the context as source.\"), additional_kwargs={}), HumanMessagePromptTemplate(prompt=[PromptTemplate(input_variables=['query'], input_types={}, partial_variables={}, template='{query}'), ImagePromptTemplate(input_variables=['context0'], input_types={}, partial_variables={}, template={'url': 'data:image/jpeg;base64,{context0}'}), ImagePromptTemplate(input_variables=['context1'], input_types={}, partial_variables={}, template={'url': 'data:image/jpeg;base64,{context1}'})], additional_kwargs={})])"
      ]
     },
     "execution_count": 42,
     "metadata": {},
     "output_type": "execute_result"
    }
   ],
   "source": [
    "prompt"
   ]
  },
  {
   "cell_type": "markdown",
   "metadata": {},
   "source": [
    "## Evaluation"
   ]
  },
  {
   "cell_type": "code",
   "execution_count": 4,
   "metadata": {},
   "outputs": [],
   "source": [
    "# Only run this block for Gemini Developer API\n",
    "# from google import genai\n",
    "# genai_client = genai.Client(api_key=GOOGLE_API_KEY)"
   ]
  },
  {
   "cell_type": "code",
   "execution_count": 4,
   "metadata": {},
   "outputs": [],
   "source": [
    "from preprocessing_utils import load_queries, load_answers\n",
    "\n",
    "queries = load_queries(\"papers/selection_queries.txt\")\n",
    "answers = load_answers(\"papers/selection_answers.txt\")"
   ]
  },
  {
   "cell_type": "code",
   "execution_count": 5,
   "metadata": {},
   "outputs": [],
   "source": [
    "from deepeval import evaluate\n",
    "from deepeval.metrics import AnswerRelevancyMetric\n",
    "from deepeval.test_case import LLMTestCase\n",
    "from deepeval_utils import GenerativeGeminiModel, GeminiJudge\n",
    "from deepeval.models.llms import GeminiModel\n",
    "\n",
    "# Replace this with the actual output from your LLM application\n",
    "actual_output = \"I like trains.\"\n",
    "\n",
    "judge_llm = GeminiModel(\n",
    "    model_name=\"gemini-2.0-flash-lite\",\n",
    "    api_key=GOOGLE_API_KEY\n",
    ")\n",
    "\n",
    "metric = AnswerRelevancyMetric(\n",
    "    threshold=0.7,\n",
    "    model=judge_llm,\n",
    "    include_reason=True\n",
    ")\n",
    "test_case = LLMTestCase(\n",
    "    input=\"What if these shoes don't fit?\",\n",
    "    actual_output=actual_output\n",
    ")\n",
    "\n",
    "# To run metric as a standalone\n",
    "# metric.measure(test_case)\n",
    "# print(metric.score, metric.reason)\n",
    "\n",
    "# result = evaluate(test_cases=[test_case], metrics=[metric])"
   ]
  },
  {
   "cell_type": "code",
   "execution_count": 7,
   "metadata": {},
   "outputs": [
    {
     "data": {
      "text/plain": [
       "RunnableBinding(bound=RunnableAssign(mapper={\n",
       "  context: RunnableBinding(bound=RunnableLambda(lambda x: x['input'])\n",
       "           | VectorStoreRetriever(tags=['QdrantVectorStore', 'GoogleGenerativeAIEmbeddings'], vectorstore=<langchain_qdrant.qdrant.QdrantVectorStore object at 0x000001E91E816420>, search_kwargs={'k': 3}), kwargs={}, config={'run_name': 'retrieve_documents'}, config_factories=[])\n",
       "})\n",
       "| RunnableAssign(mapper={\n",
       "    answer: RunnableBinding(bound=RunnableBinding(bound=RunnableAssign(mapper={\n",
       "              context: RunnableLambda(format_docs)\n",
       "            }), kwargs={}, config={'run_name': 'format_inputs'}, config_factories=[])\n",
       "            | ChatPromptTemplate(input_variables=['context', 'input'], input_types={}, partial_variables={}, messages=[SystemMessagePromptTemplate(prompt=PromptTemplate(input_variables=['context'], input_types={}, partial_variables={}, template=\"You are an assistant for question-answering tasks.Use the following pieces of retrieved context to answer the question.If you don't know the answer, just say that you don't know.Use around three sentences for your answer and keep it concise.Use LaTeX to format any math equation.Do not ever mention that you are using the context as source.Here is context for your answer:\\n\\n{context}\"), additional_kwargs={}), HumanMessagePromptTemplate(prompt=PromptTemplate(input_variables=['input'], input_types={}, partial_variables={}, template='{input}'), additional_kwargs={})])\n",
       "            | ChatGoogleGenerativeAI(model='models/gemini-2.0-flash-lite', google_api_key=SecretStr('**********'), client=<google.ai.generativelanguage_v1beta.services.generative_service.client.GenerativeServiceClient object at 0x000001E9205EA900>, default_metadata=())\n",
       "            | StrOutputParser(), kwargs={}, config={'run_name': 'stuff_documents_chain'}, config_factories=[])\n",
       "  }), kwargs={}, config={'run_name': 'retrieval_chain'}, config_factories=[])"
      ]
     },
     "execution_count": 7,
     "metadata": {},
     "output_type": "execute_result"
    }
   ],
   "source": [
    "rag_chain"
   ]
  },
  {
   "cell_type": "code",
   "execution_count": 8,
   "metadata": {},
   "outputs": [
    {
     "name": "stdout",
     "output_type": "stream",
     "text": [
      "Sleeping after 15 queries\n",
      "Resuming\n",
      "Sleeping after 15 queries\n",
      "Resuming\n",
      "Sleeping after 15 queries\n",
      "Resuming\n",
      "Sleeping after 15 queries\n",
      "Resuming\n"
     ]
    }
   ],
   "source": [
    "from deepeval.dataset import EvaluationDataset\n",
    "from preprocessing_utils import create_dataset\n",
    "\n",
    "\n",
    "dataset = create_dataset(rag_chain, queries, answers)"
   ]
  },
  {
   "cell_type": "code",
   "execution_count": 9,
   "metadata": {},
   "outputs": [
    {
     "name": "stdout",
     "output_type": "stream",
     "text": [
      "Evaluation dataset saved at papers/selection_gemini-2.0-flash-lite_text\\20250413_122238.json!\n"
     ]
    },
    {
     "data": {
      "text/plain": [
       "'papers/selection_gemini-2.0-flash-lite_text\\\\20250413_122238.json'"
      ]
     },
     "execution_count": 9,
     "metadata": {},
     "output_type": "execute_result"
    }
   ],
   "source": [
    "dataset.save_as(file_type=\"json\", directory=\"papers/selection_gemini-2.0-flash-lite_text\", include_test_cases=True)"
   ]
  },
  {
   "cell_type": "code",
   "execution_count": 15,
   "metadata": {},
   "outputs": [],
   "source": [
    "from deepeval.dataset import EvaluationDataset\n",
    "\n",
    "DATASET_PATH = Path(r\"papers\\selection_gemini-2.0-flash-lite_vlm\\20250413_104009.json\")\n",
    "dataset = EvaluationDataset()\n",
    "dataset.add_test_cases_from_json_file(\n",
    "    file_path=DATASET_PATH,\n",
    "    input_key_name=\"input\",\n",
    "    actual_output_key_name=\"actual_output\",\n",
    "    expected_output_key_name=\"expected_output\",\n",
    "    context_key_name=\"context\",\n",
    "    retrieval_context_key_name=\"retrieval_context\",\n",
    ")"
   ]
  },
  {
   "cell_type": "code",
   "execution_count": null,
   "metadata": {},
   "outputs": [],
   "source": [
    "from deepeval.metrics import AnswerRelevancyMetric\n",
    "from time import sleep\n",
    "\n",
    "answer_relevancy_metric = AnswerRelevancyMetric(threshold=0.5, model=judge_llm, include_reason=True)\n",
    "\n",
    "results = []\n",
    "batch_size = 5\n",
    "test_case_index = 0\n",
    "number_errors = 0\n",
    "for i, test_case in enumerate(dataset.test_cases):\n",
    "    try:\n",
    "        result = evaluate(test_cases=[test_case], metrics=[answer_relevancy_metric])\n",
    "    except AttributeError:\n",
    "        print(\"Error in test case:\", i)\n",
    "        print(\"Continuing...\")\n",
    "        number_errors += 1\n",
    "    results.append(result)\n",
    "    if (i + 1) % batch_size == 0:\n",
    "        print(\"Processed\", i + 1, \" test cases\")\n",
    "        sleep(65)\n",
    "\n",
    "print(number_errors)\n"
   ]
  },
  {
   "cell_type": "code",
   "execution_count": 82,
   "metadata": {},
   "outputs": [
    {
     "data": {
      "text/html": [
       "<pre style=\"white-space:pre;overflow-x:auto;line-height:normal;font-family:Menlo,'DejaVu Sans Mono',consolas,'Courier New',monospace\">✨ You're running DeepEval's latest <span style=\"color: #6a00ff; text-decoration-color: #6a00ff\">Answer Relevancy Metric</span>! <span style=\"color: #374151; text-decoration-color: #374151; font-weight: bold\">(</span><span style=\"color: #374151; text-decoration-color: #374151\">using gemini-</span><span style=\"color: #374151; text-decoration-color: #374151; font-weight: bold\">2.0</span><span style=\"color: #374151; text-decoration-color: #374151\">-flash-lite, </span><span style=\"color: #374151; text-decoration-color: #374151\">strict</span><span style=\"color: #374151; text-decoration-color: #374151\">=</span><span style=\"color: #374151; text-decoration-color: #374151; font-style: italic\">False</span><span style=\"color: #374151; text-decoration-color: #374151\">, </span>\n",
       "<span style=\"color: #374151; text-decoration-color: #374151\">async_mode</span><span style=\"color: #374151; text-decoration-color: #374151\">=</span><span style=\"color: #374151; text-decoration-color: #374151; font-style: italic\">True</span><span style=\"color: #374151; text-decoration-color: #374151; font-weight: bold\">)</span><span style=\"color: #374151; text-decoration-color: #374151\">...</span>\n",
       "</pre>\n"
      ],
      "text/plain": [
       "✨ You're running DeepEval's latest \u001b[38;2;106;0;255mAnswer Relevancy Metric\u001b[0m! \u001b[1;38;2;55;65;81m(\u001b[0m\u001b[38;2;55;65;81musing gemini-\u001b[0m\u001b[1;38;2;55;65;81m2.0\u001b[0m\u001b[38;2;55;65;81m-flash-lite, \u001b[0m\u001b[38;2;55;65;81mstrict\u001b[0m\u001b[38;2;55;65;81m=\u001b[0m\u001b[3;38;2;55;65;81mFalse\u001b[0m\u001b[38;2;55;65;81m, \u001b[0m\n",
       "\u001b[38;2;55;65;81masync_mode\u001b[0m\u001b[38;2;55;65;81m=\u001b[0m\u001b[3;38;2;55;65;81mTrue\u001b[0m\u001b[1;38;2;55;65;81m)\u001b[0m\u001b[38;2;55;65;81m...\u001b[0m\n"
      ]
     },
     "metadata": {},
     "output_type": "display_data"
    },
    {
     "name": "stderr",
     "output_type": "stream",
     "text": [
      "Evaluating 5 test case(s) in parallel: |██████████|100% (5/5) [Time Taken: 00:03,  1.66test case/s]"
     ]
    },
    {
     "name": "stdout",
     "output_type": "stream",
     "text": [
      "\n",
      "======================================================================\n",
      "\n",
      "Metrics Summary\n",
      "\n",
      "  - ✅ Answer Relevancy (score: 1.0, threshold: 0.5, strict: False, evaluation model: gemini-2.0-flash-lite, reason: The score is 1.00 because the output is perfectly relevant and contains no irrelevant statements. Great job!, error: None)\n",
      "\n",
      "For test case:\n",
      "\n",
      "  - input: How is the superconductivity measured in a graphene superlattice?\n",
      "  - actual output: Superconductivity in graphene superlattices is measured by observing zero-resistance states. This is achieved by electrostatic doping away from correlated insulating states. The critical temperature of the graphene superlattice is up to 1.7 kelvin.\n",
      "  - expected output: Superconductivity is measured using a four-probe measurement scheme with voltage probes (Vxx, Vg), current (I), and bias voltage (Vbias). The electron density is tuned by a metal gate beneath the bottom hexagonal boron nitride layer.\n",
      "  - context: None\n",
      "  - retrieval context: None\n",
      "\n",
      "======================================================================\n",
      "\n",
      "Metrics Summary\n",
      "\n",
      "  - ✅ Answer Relevancy (score: 1.0, threshold: 0.5, strict: False, evaluation model: gemini-2.0-flash-lite, reason: The score is 1.00 because the output perfectly answers the question without any irrelevant information. Great job!, error: None)\n",
      "\n",
      "For test case:\n",
      "\n",
      "  - input: What crystal magnetic structure does EuCuAs have?\n",
      "  - actual output: EuCuAs exhibits a helical spin arrangement in zero field. This magnetic structure has a magnetic propagation vector of qm = (0, 0, τ), indicating an incommensurate period along the c axis. The spins lie in the ab plane and rotate around the c axis from layer to layer.\n",
      "  - expected output: EuCuAs is described by the centrosymmetric P63/mmc space group with a hexaognal unit cell. It has an A-type or DP-type antiferromagnetic order or a helical spin arrangement.\n",
      "  - context: None\n",
      "  - retrieval context: None\n",
      "\n",
      "======================================================================\n",
      "\n",
      "Metrics Summary\n",
      "\n",
      "  - ✅ Answer Relevancy (score: 1.0, threshold: 0.5, strict: False, evaluation model: gemini-2.0-flash-lite, reason: The score is 1.00 because the output perfectly addresses the question without any irrelevant information. Great job!, error: None)\n",
      "\n",
      "For test case:\n",
      "\n",
      "  - input: Can the magnetic behavior of EuCuAs be described by a spin Hamiltonian?\n",
      "  - actual output: Yes, the magnetic behavior of EuCuAs can be described using a spin Hamiltonian. The Hamiltonian includes terms for exchange interactions and anisotropy. The simplest models are based on the Hamiltonian: $H = \\sum_{<ij>} J_{ij} S_i \\cdot S_j + D(S_i^z)^2 + g\\mu_B S_i \\cdot B$.\n",
      "  - expected output: Yes, the magnetic behavior of EuCuAs can be described by a spin Hamiltonian because the spins on Eu are large (S = 7/2) and localized.\n",
      "  - context: None\n",
      "  - retrieval context: None\n",
      "\n",
      "======================================================================\n",
      "\n",
      "Metrics Summary\n",
      "\n",
      "  - ✅ Answer Relevancy (score: 1.0, threshold: 0.5, strict: False, evaluation model: gemini-2.0-flash-lite, reason: The score is 1.00 because the output perfectly addresses the question without any irrelevant information. Great job!, error: None)\n",
      "\n",
      "For test case:\n",
      "\n",
      "  - input: What are the estimated exchange parameters for EuCuAs?\n",
      "  - actual output: The estimated exchange parameters for EuCuAs are provided in Table 1.  The parameters include J0, J1, J2, and D, with varying values depending on the incommensurate propagation vector τ. J0 was experimentally determined for the sample with τ = 0.59.\n",
      "  - expected output: The estimated exchange and anisotropy parameters (in meV) for EuCuAs are:\\n\\nFor τ = 0.42: J0 = – 0.021, J1 = -0.021, J2 = 0.009, D is not specified. For τ = 0.59: J0 = 0.060(3), J1 = -0.0077, J2 = -0.0069, D = 0.011\n",
      "  - context: None\n",
      "  - retrieval context: None\n",
      "\n",
      "======================================================================\n",
      "\n",
      "Metrics Summary\n",
      "\n",
      "  - ✅ Answer Relevancy (score: 1.0, threshold: 0.5, strict: False, evaluation model: gemini-2.0-flash-lite, reason: The score is 1.00 because the output perfectly addresses the question without any irrelevant information. Great job!, error: None)\n",
      "\n",
      "For test case:\n",
      "\n",
      "  - input: Explain what is the interplay between metal, Mott and superconductor phases in magic angle TBG.\n",
      "  - actual output: In magic-angle TBG, the interplay between metal, Mott, and superconductor phases is observed by tuning temperature, magnetic field, and carrier density.  At zero magnetic field, the system transitions from a metal to a superconductor at low temperatures.  A Mott-like insulating phase is present near half-filling, and a strong magnetic field can suppress this insulating phase, leading to a metallic state.\n",
      "  - expected output: In magic-angle TBG, superconductivity is achieved when the material is dopded slighlty away from the Mott insulator phase.\n",
      "  - context: None\n",
      "  - retrieval context: None\n",
      "\n",
      "======================================================================\n",
      "\n",
      "Overall Metric Pass Rates\n",
      "\n",
      "Answer Relevancy: 100.00% pass rate\n",
      "\n",
      "======================================================================\n",
      "\n"
     ]
    },
    {
     "name": "stderr",
     "output_type": "stream",
     "text": [
      "\n"
     ]
    },
    {
     "data": {
      "text/html": [
       "<pre style=\"white-space:pre;overflow-x:auto;line-height:normal;font-family:Menlo,'DejaVu Sans Mono',consolas,'Courier New',monospace\">\n",
       "<span style=\"color: #05f58d; text-decoration-color: #05f58d\">✓</span> Tests finished 🎉! Run <span style=\"color: #008000; text-decoration-color: #008000; font-weight: bold\">'deepeval login'</span> to save and analyze evaluation results on Confident AI.\n",
       " \n",
       "✨👀 Looking for a place for your LLM test data to live 🏡❤️ ? Use <span style=\"color: #6a00ff; text-decoration-color: #6a00ff\">Confident AI</span> to get &amp; share testing reports, \n",
       "experiment with models/prompts, and catch regressions for your LLM system. Just run <span style=\"color: #008080; text-decoration-color: #008080\">'deepeval login'</span> in the CLI. \n",
       "\n",
       "</pre>\n"
      ],
      "text/plain": [
       "\n",
       "\u001b[38;2;5;245;141m✓\u001b[0m Tests finished 🎉! Run \u001b[1;32m'deepeval login'\u001b[0m to save and analyze evaluation results on Confident AI.\n",
       " \n",
       "✨👀 Looking for a place for your LLM test data to live 🏡❤️ ? Use \u001b[38;2;106;0;255mConfident AI\u001b[0m to get & share testing reports, \n",
       "experiment with models/prompts, and catch regressions for your LLM system. Just run \u001b[36m'deepeval login'\u001b[0m in the CLI. \n",
       "\n"
      ]
     },
     "metadata": {},
     "output_type": "display_data"
    },
    {
     "name": "stdout",
     "output_type": "stream",
     "text": [
      "Sleeping for 70 seconds after processing 5 queries\n",
      "Resuming\n"
     ]
    },
    {
     "data": {
      "text/html": [
       "<pre style=\"white-space:pre;overflow-x:auto;line-height:normal;font-family:Menlo,'DejaVu Sans Mono',consolas,'Courier New',monospace\">✨ You're running DeepEval's latest <span style=\"color: #6a00ff; text-decoration-color: #6a00ff\">Answer Relevancy Metric</span>! <span style=\"color: #374151; text-decoration-color: #374151; font-weight: bold\">(</span><span style=\"color: #374151; text-decoration-color: #374151\">using gemini-</span><span style=\"color: #374151; text-decoration-color: #374151; font-weight: bold\">2.0</span><span style=\"color: #374151; text-decoration-color: #374151\">-flash-lite, </span><span style=\"color: #374151; text-decoration-color: #374151\">strict</span><span style=\"color: #374151; text-decoration-color: #374151\">=</span><span style=\"color: #374151; text-decoration-color: #374151; font-style: italic\">False</span><span style=\"color: #374151; text-decoration-color: #374151\">, </span>\n",
       "<span style=\"color: #374151; text-decoration-color: #374151\">async_mode</span><span style=\"color: #374151; text-decoration-color: #374151\">=</span><span style=\"color: #374151; text-decoration-color: #374151; font-style: italic\">True</span><span style=\"color: #374151; text-decoration-color: #374151; font-weight: bold\">)</span><span style=\"color: #374151; text-decoration-color: #374151\">...</span>\n",
       "</pre>\n"
      ],
      "text/plain": [
       "✨ You're running DeepEval's latest \u001b[38;2;106;0;255mAnswer Relevancy Metric\u001b[0m! \u001b[1;38;2;55;65;81m(\u001b[0m\u001b[38;2;55;65;81musing gemini-\u001b[0m\u001b[1;38;2;55;65;81m2.0\u001b[0m\u001b[38;2;55;65;81m-flash-lite, \u001b[0m\u001b[38;2;55;65;81mstrict\u001b[0m\u001b[38;2;55;65;81m=\u001b[0m\u001b[3;38;2;55;65;81mFalse\u001b[0m\u001b[38;2;55;65;81m, \u001b[0m\n",
       "\u001b[38;2;55;65;81masync_mode\u001b[0m\u001b[38;2;55;65;81m=\u001b[0m\u001b[3;38;2;55;65;81mTrue\u001b[0m\u001b[1;38;2;55;65;81m)\u001b[0m\u001b[38;2;55;65;81m...\u001b[0m\n"
      ]
     },
     "metadata": {},
     "output_type": "display_data"
    },
    {
     "name": "stderr",
     "output_type": "stream",
     "text": [
      "Evaluating 5 test case(s) in parallel: |██████████|100% (5/5) [Time Taken: 00:02,  1.69test case/s]"
     ]
    },
    {
     "name": "stdout",
     "output_type": "stream",
     "text": [
      "\n",
      "======================================================================\n",
      "\n",
      "Metrics Summary\n",
      "\n",
      "  - ✅ Answer Relevancy (score: 1.0, threshold: 0.5, strict: False, evaluation model: gemini-2.0-flash-lite, reason: The score is 1.00 because the output perfectly addresses the input without any irrelevant information. Great job!, error: None)\n",
      "\n",
      "For test case:\n",
      "\n",
      "  - input: Explain the architecture in terms of qubits and adjustable copuplers of the Sycamore processor.\n",
      "  - actual output: The Sycamore processor is a two-dimensional array of 54 transmon qubits. Each qubit is connected to its four nearest neighbors via adjustable couplers. These couplers allow for quick tuning of the qubit-qubit coupling.\n",
      "  - expected output: The sycamore processor has 54 qubits in a rectangular array, each one coupled to its four nearest neighbors.\n",
      "  - context: None\n",
      "  - retrieval context: None\n",
      "\n",
      "======================================================================\n",
      "\n",
      "Metrics Summary\n",
      "\n",
      "  - ✅ Answer Relevancy (score: 1.0, threshold: 0.5, strict: False, evaluation model: gemini-2.0-flash-lite, reason: The score is 1.00 because the output perfectly addresses the question without any irrelevant information. Great job!, error: None)\n",
      "\n",
      "For test case:\n",
      "\n",
      "  - input: What is the temperature dependence of the electronic magnetochiral anisotropy (eMChA) in CsV3Sb5?\n",
      "  - actual output: The electronic magnetochiral anisotropy (eMChA) signal in CsV3Sb5 becomes significant below approximately 35 K.  The eMChA signal increases slowly with decreasing temperature, then accelerates at around 35 K, and saturates below 3 K. The temperature dependence reveals a direct connection between electronic chirality, unidirectional charge order, and spontaneous time-reversal symmetry breaking.\n",
      "  - expected output: The sudden sign reversal in the second harmonic response $V_{2\\omega}$ is less pronounced with increasing temperature.\n",
      "  - context: None\n",
      "  - retrieval context: None\n",
      "\n",
      "======================================================================\n",
      "\n",
      "Metrics Summary\n",
      "\n",
      "  - ✅ Answer Relevancy (score: 1.0, threshold: 0.5, strict: False, evaluation model: gemini-2.0-flash-lite, reason: The score is 1.00 because the output perfectly addresses the question without any irrelevant information. Great job!, error: None)\n",
      "\n",
      "For test case:\n",
      "\n",
      "  - input: What is the angular dependence of the electronic magnetochiral anisotropy (eMChA) in CsV3Sb5?\n",
      "  - actual output: The angular dependence of the electronic magnetochiral anisotropy (eMChA) in CsV3Sb5 is related to the tilt angle of the magnetic field.  When the field is tilted towards the plane, domains of opposite chirality appear. A fully polarized, monochiral state is induced by large out-of-plane fields.\n",
      "  - expected output: The second harmonic response $V_{2\\omega}$ shows a sudden sign reversal withing 0.5º when the current is applied along the c axis ($I||c$).\n",
      "  - context: None\n",
      "  - retrieval context: None\n",
      "\n",
      "======================================================================\n",
      "\n",
      "Metrics Summary\n",
      "\n",
      "  - ✅ Answer Relevancy (score: 1.0, threshold: 0.5, strict: False, evaluation model: gemini-2.0-flash-lite, reason: The score is 1.00 because the output perfectly addresses the prompt without any irrelevant information. Great job!, error: None)\n",
      "\n",
      "For test case:\n",
      "\n",
      "  - input: Explain how superconductivity changes in magic angle TBG with respect to carrier density.\n",
      "  - actual output: In magic-angle TBG, superconductivity exhibits a dome-shaped region in the phase diagram with respect to carrier density. The critical temperature, $T_c$, is tunable by electrostatic doping.  Quantum oscillations indicate small Fermi surfaces near the correlated insulating states.\n",
      "  - expected output: The phase diagram, which depends on carrier density and temperature, shows two superconducting domes at low temperature separated by a Mott phase. Above the critical temperature, the superconducting phase becomes a metal.\n",
      "  - context: None\n",
      "  - retrieval context: None\n",
      "\n",
      "======================================================================\n",
      "\n",
      "Metrics Summary\n",
      "\n",
      "  - ✅ Answer Relevancy (score: 1.0, threshold: 0.5, strict: False, evaluation model: gemini-2.0-flash-lite, reason: The score is 1.00 because the output perfectly addresses the question without any irrelevant information. Great job!, error: None)\n",
      "\n",
      "For test case:\n",
      "\n",
      "  - input: How can the resistance of a normal and chiral conductor be modeled as a circuit component?\n",
      "  - actual output: The resistance of a normal conductor can be modeled as  $R(B) = R_0(1 + P^2B^2)$, while the resistance of a chiral conductor can be modeled as $R(I,B) = R_0(1 + P^2B^2 + \\gamma B \\cdot I)$. These equations show how the resistance changes depending on the magnetic field (B) and current (I) and the material's properties. The chiral conductor's resistance is also affected by the dot product of the magnetic field and current.\n",
      "  - expected output: A normal conductor can me modeled as a resistance with $R(B) = R_0(1+\\mu^2 B^2)$ and a chiral conductor is represented as a resistance with a coil such that $R(I,B) = R_0(1+\\mu^2 B^2 + \\gamma B\\cdot I)$.\n",
      "  - context: None\n",
      "  - retrieval context: None\n",
      "\n",
      "======================================================================\n",
      "\n",
      "Overall Metric Pass Rates\n",
      "\n",
      "Answer Relevancy: 100.00% pass rate\n",
      "\n",
      "======================================================================\n",
      "\n"
     ]
    },
    {
     "name": "stderr",
     "output_type": "stream",
     "text": [
      "\n"
     ]
    },
    {
     "data": {
      "text/html": [
       "<pre style=\"white-space:pre;overflow-x:auto;line-height:normal;font-family:Menlo,'DejaVu Sans Mono',consolas,'Courier New',monospace\">\n",
       "<span style=\"color: #05f58d; text-decoration-color: #05f58d\">✓</span> Tests finished 🎉! Run <span style=\"color: #008000; text-decoration-color: #008000; font-weight: bold\">'deepeval login'</span> to save and analyze evaluation results on Confident AI.\n",
       " \n",
       "✨👀 Looking for a place for your LLM test data to live 🏡❤️ ? Use <span style=\"color: #6a00ff; text-decoration-color: #6a00ff\">Confident AI</span> to get &amp; share testing reports, \n",
       "experiment with models/prompts, and catch regressions for your LLM system. Just run <span style=\"color: #008080; text-decoration-color: #008080\">'deepeval login'</span> in the CLI. \n",
       "\n",
       "</pre>\n"
      ],
      "text/plain": [
       "\n",
       "\u001b[38;2;5;245;141m✓\u001b[0m Tests finished 🎉! Run \u001b[1;32m'deepeval login'\u001b[0m to save and analyze evaluation results on Confident AI.\n",
       " \n",
       "✨👀 Looking for a place for your LLM test data to live 🏡❤️ ? Use \u001b[38;2;106;0;255mConfident AI\u001b[0m to get & share testing reports, \n",
       "experiment with models/prompts, and catch regressions for your LLM system. Just run \u001b[36m'deepeval login'\u001b[0m in the CLI. \n",
       "\n"
      ]
     },
     "metadata": {},
     "output_type": "display_data"
    },
    {
     "name": "stdout",
     "output_type": "stream",
     "text": [
      "Sleeping for 70 seconds after processing 10 queries\n",
      "Resuming\n"
     ]
    },
    {
     "data": {
      "text/html": [
       "<pre style=\"white-space:pre;overflow-x:auto;line-height:normal;font-family:Menlo,'DejaVu Sans Mono',consolas,'Courier New',monospace\">✨ You're running DeepEval's latest <span style=\"color: #6a00ff; text-decoration-color: #6a00ff\">Answer Relevancy Metric</span>! <span style=\"color: #374151; text-decoration-color: #374151; font-weight: bold\">(</span><span style=\"color: #374151; text-decoration-color: #374151\">using gemini-</span><span style=\"color: #374151; text-decoration-color: #374151; font-weight: bold\">2.0</span><span style=\"color: #374151; text-decoration-color: #374151\">-flash-lite, </span><span style=\"color: #374151; text-decoration-color: #374151\">strict</span><span style=\"color: #374151; text-decoration-color: #374151\">=</span><span style=\"color: #374151; text-decoration-color: #374151; font-style: italic\">False</span><span style=\"color: #374151; text-decoration-color: #374151\">, </span>\n",
       "<span style=\"color: #374151; text-decoration-color: #374151\">async_mode</span><span style=\"color: #374151; text-decoration-color: #374151\">=</span><span style=\"color: #374151; text-decoration-color: #374151; font-style: italic\">True</span><span style=\"color: #374151; text-decoration-color: #374151; font-weight: bold\">)</span><span style=\"color: #374151; text-decoration-color: #374151\">...</span>\n",
       "</pre>\n"
      ],
      "text/plain": [
       "✨ You're running DeepEval's latest \u001b[38;2;106;0;255mAnswer Relevancy Metric\u001b[0m! \u001b[1;38;2;55;65;81m(\u001b[0m\u001b[38;2;55;65;81musing gemini-\u001b[0m\u001b[1;38;2;55;65;81m2.0\u001b[0m\u001b[38;2;55;65;81m-flash-lite, \u001b[0m\u001b[38;2;55;65;81mstrict\u001b[0m\u001b[38;2;55;65;81m=\u001b[0m\u001b[3;38;2;55;65;81mFalse\u001b[0m\u001b[38;2;55;65;81m, \u001b[0m\n",
       "\u001b[38;2;55;65;81masync_mode\u001b[0m\u001b[38;2;55;65;81m=\u001b[0m\u001b[3;38;2;55;65;81mTrue\u001b[0m\u001b[1;38;2;55;65;81m)\u001b[0m\u001b[38;2;55;65;81m...\u001b[0m\n"
      ]
     },
     "metadata": {},
     "output_type": "display_data"
    },
    {
     "name": "stderr",
     "output_type": "stream",
     "text": [
      "Evaluating 5 test case(s) in parallel: |██████████|100% (5/5) [Time Taken: 00:03,  1.59test case/s]"
     ]
    },
    {
     "name": "stdout",
     "output_type": "stream",
     "text": [
      "\n",
      "======================================================================\n",
      "\n",
      "Metrics Summary\n",
      "\n",
      "  - ✅ Answer Relevancy (score: 1.0, threshold: 0.5, strict: False, evaluation model: gemini-2.0-flash-lite, reason: The score is 1.00 because the output perfectly addresses the question without any irrelevant information. Great job!, error: None)\n",
      "\n",
      "For test case:\n",
      "\n",
      "  - input: What is the speed-up gained by using a quantum processor instead of an equal-fidelity classical sampling algorithm?\n",
      "  - actual output: The quantum processor takes 200 seconds to sample one instance of a quantum circuit a million times. An equal-fidelity classical sampling algorithm would take approximately 10,000 years on a million cores. This represents a dramatic speedup achieved by the quantum processor.\n",
      "  - expected output: For $m=20$ number of cycles and $n=53$ qubits, obtaining a million samples on the quantum processor takes 200 seconds, whereas an equal-fidelity classical sampling would take 10,000 years on a million cores.\n",
      "  - context: None\n",
      "  - retrieval context: None\n",
      "\n",
      "======================================================================\n",
      "\n",
      "Metrics Summary\n",
      "\n",
      "  - ✅ Answer Relevancy (score: 1.0, threshold: 0.5, strict: False, evaluation model: gemini-2.0-flash-lite, reason: The score is 1.00 because the output perfectly addresses the input question without any irrelevant information. Great job!, error: None)\n",
      "\n",
      "For test case:\n",
      "\n",
      "  - input: Explain the role of band inversions in the topological phase transition of WTe2.\n",
      "  - actual output: Band inversions are crucial for the topological phase transition in 1T'-WTe2.  The lattice distortion from the 1T phase to the 1T' phase induces band inversion. This band inversion causes 1T'-WTe2 to become topologically non-trivial.\n",
      "  - expected output: The lattice distortion from the 1T phase to the 1T' phase induces band inversion, causing 1T'-WTe2 to become topologically non-trivial. Without spin-orbit coupling (SOC), the inverted bands cross at a momentum point along the 0 – Y direction, forming a Dirac cone. Strong SOC lifts the degeneracy at the Dirac point, opening a bulk bandgap. In 1T-WTe2, the bands from 5dxz and 5dz2 orbitals of W are separated. Due to the symmetry breaking through the lattice distortion from 1T to 1T', these orbitals hybridize substantially. The dz2 orbital is lowered below EF whereas the dxz orbital lifts in the opposite direction near the 0 point. Because these two inverted bands have different parities at the 0 point, the Z2 invariant v, in which (-1)v is determined by the product of all occupied.\n",
      "  - context: None\n",
      "  - retrieval context: None\n",
      "\n",
      "======================================================================\n",
      "\n",
      "Metrics Summary\n",
      "\n",
      "  - ✅ Answer Relevancy (score: 1.0, threshold: 0.5, strict: False, evaluation model: gemini-2.0-flash-lite, reason: The score is 1.00 because the output perfectly addresses the input without any irrelevant information. Great job!, error: None)\n",
      "\n",
      "For test case:\n",
      "\n",
      "  - input: Explain what kind of control operations were used in the quantum supremacy circuits.\n",
      "  - actual output: The quantum supremacy circuits utilized single-qubit gates chosen randomly from a set of operations. These were followed by two-qubit gates. The two-qubit gates were chosen according to a tiling pattern, coupling each qubit to its four nearest neighbors.\n",
      "  - expected output: The experiment uses three kinds of single-qubit gates: $\\sqrt{X}$, $\\sqrt{Y}$ and $\\sqrt{W}$, where $W=(X+Y)/\\sqrt{2}$.\n",
      "  - context: None\n",
      "  - retrieval context: None\n",
      "\n",
      "======================================================================\n",
      "\n",
      "Metrics Summary\n",
      "\n",
      "  - ✅ Answer Relevancy (score: 1.0, threshold: 0.5, strict: False, evaluation model: gemini-2.0-flash-lite, reason: The score is 1.00 because the output is perfectly relevant and contains no irrelevant information. Great job!, error: None)\n",
      "\n",
      "For test case:\n",
      "\n",
      "  - input: How are WTe2 samples usually characterized with ARPES?\n",
      "  - actual output: ARPES is used to characterize WTe2 samples by measuring the overall band structure and Fermi surface maps. These measurements are performed along high-symmetry directions in the Brillouin zone.  The data obtained from ARPES is then compared with theoretical calculations to confirm the material's properties.\n",
      "  - expected output: ARPES is used to measure the band dispersion along high-symmetry paths such as $\\Gamma - Y$ by measuring the photoemission spectrum.\n",
      "  - context: None\n",
      "  - retrieval context: None\n",
      "\n",
      "======================================================================\n",
      "\n",
      "Metrics Summary\n",
      "\n",
      "  - ✅ Answer Relevancy (score: 0.75, threshold: 0.5, strict: False, evaluation model: gemini-2.0-flash-lite, reason: The score is 0.75 because the output included a statement about Dirac cones, which is related but not the direct effect of spin-orbit coupling (SOC) in WTe2. However, the output likely addressed the core question, earning it a decent score!, error: None)\n",
      "\n",
      "For test case:\n",
      "\n",
      "  - input: What is the effect of spin-orbit coupling (SOC) in WTe2?\n",
      "  - actual output: Spin-orbit coupling (SOC) in WTe2 lifts the degeneracy at the Dirac cones, which are formed by band inversion. This opens a bandgap in the bulk states of WTe2. The opening of a bandgap is a key signature of strong SOC.\n",
      "  - expected output: Strong SOC lifts the degeneracy at the Dirac point, opening a bulk bandgap in 1T'-WTe2 around the $\\Gamma$ point.\n",
      "  - context: None\n",
      "  - retrieval context: None\n",
      "\n",
      "======================================================================\n",
      "\n",
      "Overall Metric Pass Rates\n",
      "\n",
      "Answer Relevancy: 100.00% pass rate\n",
      "\n",
      "======================================================================\n",
      "\n"
     ]
    },
    {
     "name": "stderr",
     "output_type": "stream",
     "text": [
      "\n"
     ]
    },
    {
     "data": {
      "text/html": [
       "<pre style=\"white-space:pre;overflow-x:auto;line-height:normal;font-family:Menlo,'DejaVu Sans Mono',consolas,'Courier New',monospace\">\n",
       "<span style=\"color: #05f58d; text-decoration-color: #05f58d\">✓</span> Tests finished 🎉! Run <span style=\"color: #008000; text-decoration-color: #008000; font-weight: bold\">'deepeval login'</span> to save and analyze evaluation results on Confident AI.\n",
       " \n",
       "✨👀 Looking for a place for your LLM test data to live 🏡❤️ ? Use <span style=\"color: #6a00ff; text-decoration-color: #6a00ff\">Confident AI</span> to get &amp; share testing reports, \n",
       "experiment with models/prompts, and catch regressions for your LLM system. Just run <span style=\"color: #008080; text-decoration-color: #008080\">'deepeval login'</span> in the CLI. \n",
       "\n",
       "</pre>\n"
      ],
      "text/plain": [
       "\n",
       "\u001b[38;2;5;245;141m✓\u001b[0m Tests finished 🎉! Run \u001b[1;32m'deepeval login'\u001b[0m to save and analyze evaluation results on Confident AI.\n",
       " \n",
       "✨👀 Looking for a place for your LLM test data to live 🏡❤️ ? Use \u001b[38;2;106;0;255mConfident AI\u001b[0m to get & share testing reports, \n",
       "experiment with models/prompts, and catch regressions for your LLM system. Just run \u001b[36m'deepeval login'\u001b[0m in the CLI. \n",
       "\n"
      ]
     },
     "metadata": {},
     "output_type": "display_data"
    },
    {
     "name": "stdout",
     "output_type": "stream",
     "text": [
      "Sleeping for 70 seconds after processing 15 queries\n",
      "Resuming\n"
     ]
    },
    {
     "data": {
      "text/html": [
       "<pre style=\"white-space:pre;overflow-x:auto;line-height:normal;font-family:Menlo,'DejaVu Sans Mono',consolas,'Courier New',monospace\">✨ You're running DeepEval's latest <span style=\"color: #6a00ff; text-decoration-color: #6a00ff\">Answer Relevancy Metric</span>! <span style=\"color: #374151; text-decoration-color: #374151; font-weight: bold\">(</span><span style=\"color: #374151; text-decoration-color: #374151\">using gemini-</span><span style=\"color: #374151; text-decoration-color: #374151; font-weight: bold\">2.0</span><span style=\"color: #374151; text-decoration-color: #374151\">-flash-lite, </span><span style=\"color: #374151; text-decoration-color: #374151\">strict</span><span style=\"color: #374151; text-decoration-color: #374151\">=</span><span style=\"color: #374151; text-decoration-color: #374151; font-style: italic\">False</span><span style=\"color: #374151; text-decoration-color: #374151\">, </span>\n",
       "<span style=\"color: #374151; text-decoration-color: #374151\">async_mode</span><span style=\"color: #374151; text-decoration-color: #374151\">=</span><span style=\"color: #374151; text-decoration-color: #374151; font-style: italic\">True</span><span style=\"color: #374151; text-decoration-color: #374151; font-weight: bold\">)</span><span style=\"color: #374151; text-decoration-color: #374151\">...</span>\n",
       "</pre>\n"
      ],
      "text/plain": [
       "✨ You're running DeepEval's latest \u001b[38;2;106;0;255mAnswer Relevancy Metric\u001b[0m! \u001b[1;38;2;55;65;81m(\u001b[0m\u001b[38;2;55;65;81musing gemini-\u001b[0m\u001b[1;38;2;55;65;81m2.0\u001b[0m\u001b[38;2;55;65;81m-flash-lite, \u001b[0m\u001b[38;2;55;65;81mstrict\u001b[0m\u001b[38;2;55;65;81m=\u001b[0m\u001b[3;38;2;55;65;81mFalse\u001b[0m\u001b[38;2;55;65;81m, \u001b[0m\n",
       "\u001b[38;2;55;65;81masync_mode\u001b[0m\u001b[38;2;55;65;81m=\u001b[0m\u001b[3;38;2;55;65;81mTrue\u001b[0m\u001b[1;38;2;55;65;81m)\u001b[0m\u001b[38;2;55;65;81m...\u001b[0m\n"
      ]
     },
     "metadata": {},
     "output_type": "display_data"
    },
    {
     "name": "stderr",
     "output_type": "stream",
     "text": [
      "Evaluating 5 test case(s) in parallel: |██████████|100% (5/5) [Time Taken: 00:03,  1.56test case/s]"
     ]
    },
    {
     "name": "stdout",
     "output_type": "stream",
     "text": [
      "\n",
      "======================================================================\n",
      "\n",
      "Metrics Summary\n",
      "\n",
      "  - ✅ Answer Relevancy (score: 1.0, threshold: 0.5, strict: False, evaluation model: gemini-2.0-flash-lite, reason: The score is 1.00 because the output perfectly addresses the question without any irrelevant information. Great job!, error: None)\n",
      "\n",
      "For test case:\n",
      "\n",
      "  - input: What is the unit cell of CsVe3Sb5 and the space group?\n",
      "  - actual output: The unit cell of CsV3Sb5 is described as individual sublattices of a kagome network of V coordinated by Sb1 atoms and a hexagonal net of Sb2. The space group of CsV3Sb5 is P6/mmm. This information is derived from the provided context.\n",
      "  - expected output: CsV3Sb5 has the symmetry of space group P6/mmm. The unit cell is described as individual sublattices of a kagome netwwork of V coordinated by Sb1 atoms and a hexagonal net of Sb2 above and below each kagome layer.\n",
      "  - context: None\n",
      "  - retrieval context: None\n",
      "\n",
      "======================================================================\n",
      "\n",
      "Metrics Summary\n",
      "\n",
      "  - ✅ Answer Relevancy (score: 1.0, threshold: 0.5, strict: False, evaluation model: gemini-2.0-flash-lite, reason: The score is 1.00 because the output perfectly addresses the question without any irrelevant information. Great job!, error: None)\n",
      "\n",
      "For test case:\n",
      "\n",
      "  - input: How are Wilson loops used to characterize the nodal lines in Fe3GeTe2?\n",
      "  - actual output: Wilson loops are used to characterize nodal lines by analyzing the trace of the Wilson loop operator. The trace of the Wilson loop is proportional to the average z position of the centers of the hybrid Wannier functions. A  π jump in the trace of the Wilson loop indicates a symmetry-protected nodal line.\n",
      "  - expected output: Wilson loops can be used to identify symmetry-protected topological nodal lines because their trace is quantized and experiences a $\\pi$ jump when intersecting them. The value of the Wilson loop trace can be used to predict the presence of surface drumhead states.\n",
      "  - context: None\n",
      "  - retrieval context: None\n",
      "\n",
      "======================================================================\n",
      "\n",
      "Metrics Summary\n",
      "\n",
      "  - ✅ Answer Relevancy (score: 1.0, threshold: 0.5, strict: False, evaluation model: gemini-2.0-flash-lite, reason: The score is 1.00 because the output perfectly addresses the question without any irrelevant information. Great job!, error: None)\n",
      "\n",
      "For test case:\n",
      "\n",
      "  - input: Is there any relationship between the number of Weyl points and the absolute anomalous Hall conductivity (AHC) in Fe3GeTe2?\n",
      "  - actual output: Yes, there is a relationship between the number of Weyl points and the absolute anomalous Hall conductivity (AHC) in Fe3GeTe2. The study identifies Weyl points in the band structure and calculates their chirality, and their contribution to the AHC is significant, especially in a specific energy range. The AHC is also influenced by other factors like nodal lines and gaps between spin-up and spin-down bands.\n",
      "  - expected output: The number of Weyl points at a chemical potential can be related to a change in absolute AHC, since the contribution of their Berry curvature is unloccked when filled. Their effect can be either to suppress or enhance the AHC.\n",
      "  - context: None\n",
      "  - retrieval context: None\n",
      "\n",
      "======================================================================\n",
      "\n",
      "Metrics Summary\n",
      "\n",
      "  - ✅ Answer Relevancy (score: 1.0, threshold: 0.5, strict: False, evaluation model: gemini-2.0-flash-lite, reason: The score is 1.00 because the output perfectly addresses the questions about the atomic structure of Fe3GeTe2, including lattice vectors and atomic positions, without any irrelevant information., error: None)\n",
      "\n",
      "For test case:\n",
      "\n",
      "  - input: What is the atomic structure of Fe3GeTe2 and how long are the lattice vectors. What are the atomic positions?\n",
      "  - actual output: The lattice vectors for Fe3GeTe2 are 3.991 Å, 3.991 Å, and 16.33 Å. The angles are 90°, 90°, and 120°. The atomic positions in fractional coordinates are Te (1/3, 2/3, 0.09018), Fe (0, 0, 0.1718), Fe (1/3, 2/3, 1/4), and Ge (1/3, 2/3, 3/4).\n",
      "  - expected output: Fe3GeTe2 has a hexagonal layered structure formed by slabs of Fe3Ge lying between layers of Te bound by weak van der Waals forces, with the symmetry of space group 194. The $a_1$ and $a_2$ vectors are 3.911 Angstroms long, and the $a_3$ vector is 16.33$\n",
      "  - context: None\n",
      "  - retrieval context: None\n",
      "\n",
      "======================================================================\n",
      "\n",
      "Metrics Summary\n",
      "\n",
      "  - ✅ Answer Relevancy (score: 1.0, threshold: 0.5, strict: False, evaluation model: gemini-2.0-flash-lite, reason: The score is 1.00 because the output is perfectly relevant and contains no irrelevant information. Great job!, error: None)\n",
      "\n",
      "For test case:\n",
      "\n",
      "  - input: What are diffuse scattering maps in the context of crystalline materials?\n",
      "  - actual output: Diffuse scattering maps are used to visualize the diffuse intensity observed in X-ray diffraction experiments. This diffuse intensity arises from lattice vibrations and correlated disorder within the crystalline material. These maps help to identify and study phenomena like the freezing of phonons and the formation of charge density waves.\n",
      "  - expected output: Diffuse scattering maps are a technique to analyze the crystalline structure of materials. It can also be used to study the phonon properties and the appearance of charge density waves (CDW).\n",
      "  - context: None\n",
      "  - retrieval context: None\n",
      "\n",
      "======================================================================\n",
      "\n",
      "Overall Metric Pass Rates\n",
      "\n",
      "Answer Relevancy: 100.00% pass rate\n",
      "\n",
      "======================================================================\n",
      "\n"
     ]
    },
    {
     "name": "stderr",
     "output_type": "stream",
     "text": [
      "\n"
     ]
    },
    {
     "data": {
      "text/html": [
       "<pre style=\"white-space:pre;overflow-x:auto;line-height:normal;font-family:Menlo,'DejaVu Sans Mono',consolas,'Courier New',monospace\">\n",
       "<span style=\"color: #05f58d; text-decoration-color: #05f58d\">✓</span> Tests finished 🎉! Run <span style=\"color: #008000; text-decoration-color: #008000; font-weight: bold\">'deepeval login'</span> to save and analyze evaluation results on Confident AI.\n",
       " \n",
       "✨👀 Looking for a place for your LLM test data to live 🏡❤️ ? Use <span style=\"color: #6a00ff; text-decoration-color: #6a00ff\">Confident AI</span> to get &amp; share testing reports, \n",
       "experiment with models/prompts, and catch regressions for your LLM system. Just run <span style=\"color: #008080; text-decoration-color: #008080\">'deepeval login'</span> in the CLI. \n",
       "\n",
       "</pre>\n"
      ],
      "text/plain": [
       "\n",
       "\u001b[38;2;5;245;141m✓\u001b[0m Tests finished 🎉! Run \u001b[1;32m'deepeval login'\u001b[0m to save and analyze evaluation results on Confident AI.\n",
       " \n",
       "✨👀 Looking for a place for your LLM test data to live 🏡❤️ ? Use \u001b[38;2;106;0;255mConfident AI\u001b[0m to get & share testing reports, \n",
       "experiment with models/prompts, and catch regressions for your LLM system. Just run \u001b[36m'deepeval login'\u001b[0m in the CLI. \n",
       "\n"
      ]
     },
     "metadata": {},
     "output_type": "display_data"
    },
    {
     "name": "stdout",
     "output_type": "stream",
     "text": [
      "Sleeping for 70 seconds after processing 20 queries\n",
      "Resuming\n"
     ]
    },
    {
     "data": {
      "text/html": [
       "<pre style=\"white-space:pre;overflow-x:auto;line-height:normal;font-family:Menlo,'DejaVu Sans Mono',consolas,'Courier New',monospace\">✨ You're running DeepEval's latest <span style=\"color: #6a00ff; text-decoration-color: #6a00ff\">Answer Relevancy Metric</span>! <span style=\"color: #374151; text-decoration-color: #374151; font-weight: bold\">(</span><span style=\"color: #374151; text-decoration-color: #374151\">using gemini-</span><span style=\"color: #374151; text-decoration-color: #374151; font-weight: bold\">2.0</span><span style=\"color: #374151; text-decoration-color: #374151\">-flash-lite, </span><span style=\"color: #374151; text-decoration-color: #374151\">strict</span><span style=\"color: #374151; text-decoration-color: #374151\">=</span><span style=\"color: #374151; text-decoration-color: #374151; font-style: italic\">False</span><span style=\"color: #374151; text-decoration-color: #374151\">, </span>\n",
       "<span style=\"color: #374151; text-decoration-color: #374151\">async_mode</span><span style=\"color: #374151; text-decoration-color: #374151\">=</span><span style=\"color: #374151; text-decoration-color: #374151; font-style: italic\">True</span><span style=\"color: #374151; text-decoration-color: #374151; font-weight: bold\">)</span><span style=\"color: #374151; text-decoration-color: #374151\">...</span>\n",
       "</pre>\n"
      ],
      "text/plain": [
       "✨ You're running DeepEval's latest \u001b[38;2;106;0;255mAnswer Relevancy Metric\u001b[0m! \u001b[1;38;2;55;65;81m(\u001b[0m\u001b[38;2;55;65;81musing gemini-\u001b[0m\u001b[1;38;2;55;65;81m2.0\u001b[0m\u001b[38;2;55;65;81m-flash-lite, \u001b[0m\u001b[38;2;55;65;81mstrict\u001b[0m\u001b[38;2;55;65;81m=\u001b[0m\u001b[3;38;2;55;65;81mFalse\u001b[0m\u001b[38;2;55;65;81m, \u001b[0m\n",
       "\u001b[38;2;55;65;81masync_mode\u001b[0m\u001b[38;2;55;65;81m=\u001b[0m\u001b[3;38;2;55;65;81mTrue\u001b[0m\u001b[1;38;2;55;65;81m)\u001b[0m\u001b[38;2;55;65;81m...\u001b[0m\n"
      ]
     },
     "metadata": {},
     "output_type": "display_data"
    },
    {
     "name": "stderr",
     "output_type": "stream",
     "text": [
      "Evaluating 5 test case(s) in parallel: |██████████|100% (5/5) [Time Taken: 00:03,  1.62test case/s]"
     ]
    },
    {
     "name": "stdout",
     "output_type": "stream",
     "text": [
      "\n",
      "======================================================================\n",
      "\n",
      "Metrics Summary\n",
      "\n",
      "  - ✅ Answer Relevancy (score: 1.0, threshold: 0.5, strict: False, evaluation model: gemini-2.0-flash-lite, reason: The score is 1.00 because the output perfectly addresses the question without any irrelevant information. Great job!, error: None)\n",
      "\n",
      "For test case:\n",
      "\n",
      "  - input: What is the relation between the bias voltage in triangulene (TNS) and its conductance?\n",
      "  - actual output: The dI/dV spectrum on a triangulene unit of a TNS shows inelastic steps at specific bias voltages. These steps are related to the excitation of collective spin states within the triangulene ring. The position and height of these steps provide information about the spin excitation spectrum.\n",
      "  - expected output: The conductance shows a dip at zero bias voltage and bias-symmetric step-like features which are characteristic of spin excitation induced by inelastic electron tunneling.\n",
      "  - context: None\n",
      "  - retrieval context: None\n",
      "\n",
      "======================================================================\n",
      "\n",
      "Metrics Summary\n",
      "\n",
      "  - ✅ Answer Relevancy (score: 1.0, threshold: 0.5, strict: False, evaluation model: gemini-2.0-flash-lite, reason: The score is 1.00 because the output perfectly addresses the question without any irrelevant information. Great job!, error: None)\n",
      "\n",
      "For test case:\n",
      "\n",
      "  - input: Has triangulene been synthesized on-surface?\n",
      "  - actual output: Yes, triangulene has been synthesized on a surface. The context mentions the preparation of [3]triangulene on a surface using scanning probe microscopy. It also highlights the use of on-surface synthesis under ultra-high vacuum conditions as an interesting alternative.\n",
      "  - expected output: Yes, triangulene has been synthesized on-surface.\n",
      "  - context: None\n",
      "  - retrieval context: None\n",
      "\n",
      "======================================================================\n",
      "\n",
      "Metrics Summary\n",
      "\n",
      "  - ✅ Answer Relevancy (score: 1.0, threshold: 0.5, strict: False, evaluation model: gemini-2.0-flash-lite, reason: The score is 1.00 because the output perfectly addresses the question without any irrelevant information. Great job!, error: None)\n",
      "\n",
      "For test case:\n",
      "\n",
      "  - input: Can diffuse scattering and inleastic x-ray scattering (IXS) be used to analyze phonons?\n",
      "  - actual output: Yes, diffuse scattering (DS) and inelastic x-ray scattering (IXS) are used together to analyze phonons. The combination of DS and IXS helps to identify frozen phonon fluctuations and understand the nature of charge density wave (CDW) in AV3Sb5. IXS is used to study the low-energy non-dispersive phonon.\n",
      "  - expected output: Yes. Diffuse scattering can be used to analyze the phonon properties of crystals, such as the freezing of specific modes and lattice instabilities. IXS can be used to measure the low-energy phonon spectrum.\n",
      "  - context: None\n",
      "  - retrieval context: None\n",
      "\n",
      "======================================================================\n",
      "\n",
      "Metrics Summary\n",
      "\n",
      "  - ✅ Answer Relevancy (score: 1.0, threshold: 0.5, strict: False, evaluation model: gemini-2.0-flash-lite, reason: The score is 1.00 because the output perfectly answers the question without any irrelevant information. Great job!, error: None)\n",
      "\n",
      "For test case:\n",
      "\n",
      "  - input: What does a triangulene nanostar look like?\n",
      "  - actual output: A triangulene nanostar (TNS) is a macrocycle composed of six [3]triangulene moieties arranged in a ring. This structure results in a pore size of 1.2 nm. The TNS exhibits a collective spin state.\n",
      "  - expected output: A triangulene-based nanostar (TNS) consists of six [3]triangulene moieties arranged in a macrocycle, forming a star shape with a pore size of 1.2 nm.\n",
      "  - context: None\n",
      "  - retrieval context: None\n",
      "\n",
      "======================================================================\n",
      "\n",
      "Metrics Summary\n",
      "\n",
      "  - ✅ Answer Relevancy (score: 0.8, threshold: 0.5, strict: False, evaluation model: gemini-2.0-flash-lite, reason: The score is 0.80 because the output includes information about the half-life of the produced radionuclide, which is not directly relevant to the main nuclear reaction. However, the response likely correctly identifies the main nuclear reaction, leading to a strong score., error: None)\n",
      "\n",
      "For test case:\n",
      "\n",
      "  - input: What is the main nuclear reaction for silicon (Si) used in neutron activation analysis?\n",
      "  - actual output: The main nuclear reaction for silicon (Si) used in neutron activation analysis is 28Si(n,p)28Al. This reaction involves the bombardment of silicon-28 with a neutron (n), resulting in the emission of a proton (p) and the production of aluminum-28 (28Al). The produced radionuclide has a half-life of 2.24 minutes.\n",
      "  - expected output: The main nuclear reaction for Si detection in neutron-activation analysis is 28Si(n,p)28Al, which has a half-life of 2.24 minutes.\n",
      "  - context: None\n",
      "  - retrieval context: None\n",
      "\n",
      "======================================================================\n",
      "\n",
      "Overall Metric Pass Rates\n",
      "\n",
      "Answer Relevancy: 100.00% pass rate\n",
      "\n",
      "======================================================================\n",
      "\n"
     ]
    },
    {
     "name": "stderr",
     "output_type": "stream",
     "text": [
      "\n"
     ]
    },
    {
     "data": {
      "text/html": [
       "<pre style=\"white-space:pre;overflow-x:auto;line-height:normal;font-family:Menlo,'DejaVu Sans Mono',consolas,'Courier New',monospace\">\n",
       "<span style=\"color: #05f58d; text-decoration-color: #05f58d\">✓</span> Tests finished 🎉! Run <span style=\"color: #008000; text-decoration-color: #008000; font-weight: bold\">'deepeval login'</span> to save and analyze evaluation results on Confident AI.\n",
       " \n",
       "✨👀 Looking for a place for your LLM test data to live 🏡❤️ ? Use <span style=\"color: #6a00ff; text-decoration-color: #6a00ff\">Confident AI</span> to get &amp; share testing reports, \n",
       "experiment with models/prompts, and catch regressions for your LLM system. Just run <span style=\"color: #008080; text-decoration-color: #008080\">'deepeval login'</span> in the CLI. \n",
       "\n",
       "</pre>\n"
      ],
      "text/plain": [
       "\n",
       "\u001b[38;2;5;245;141m✓\u001b[0m Tests finished 🎉! Run \u001b[1;32m'deepeval login'\u001b[0m to save and analyze evaluation results on Confident AI.\n",
       " \n",
       "✨👀 Looking for a place for your LLM test data to live 🏡❤️ ? Use \u001b[38;2;106;0;255mConfident AI\u001b[0m to get & share testing reports, \n",
       "experiment with models/prompts, and catch regressions for your LLM system. Just run \u001b[36m'deepeval login'\u001b[0m in the CLI. \n",
       "\n"
      ]
     },
     "metadata": {},
     "output_type": "display_data"
    },
    {
     "name": "stdout",
     "output_type": "stream",
     "text": [
      "Sleeping for 70 seconds after processing 25 queries\n",
      "Resuming\n"
     ]
    },
    {
     "data": {
      "text/html": [
       "<pre style=\"white-space:pre;overflow-x:auto;line-height:normal;font-family:Menlo,'DejaVu Sans Mono',consolas,'Courier New',monospace\">✨ You're running DeepEval's latest <span style=\"color: #6a00ff; text-decoration-color: #6a00ff\">Answer Relevancy Metric</span>! <span style=\"color: #374151; text-decoration-color: #374151; font-weight: bold\">(</span><span style=\"color: #374151; text-decoration-color: #374151\">using gemini-</span><span style=\"color: #374151; text-decoration-color: #374151; font-weight: bold\">2.0</span><span style=\"color: #374151; text-decoration-color: #374151\">-flash-lite, </span><span style=\"color: #374151; text-decoration-color: #374151\">strict</span><span style=\"color: #374151; text-decoration-color: #374151\">=</span><span style=\"color: #374151; text-decoration-color: #374151; font-style: italic\">False</span><span style=\"color: #374151; text-decoration-color: #374151\">, </span>\n",
       "<span style=\"color: #374151; text-decoration-color: #374151\">async_mode</span><span style=\"color: #374151; text-decoration-color: #374151\">=</span><span style=\"color: #374151; text-decoration-color: #374151; font-style: italic\">True</span><span style=\"color: #374151; text-decoration-color: #374151; font-weight: bold\">)</span><span style=\"color: #374151; text-decoration-color: #374151\">...</span>\n",
       "</pre>\n"
      ],
      "text/plain": [
       "✨ You're running DeepEval's latest \u001b[38;2;106;0;255mAnswer Relevancy Metric\u001b[0m! \u001b[1;38;2;55;65;81m(\u001b[0m\u001b[38;2;55;65;81musing gemini-\u001b[0m\u001b[1;38;2;55;65;81m2.0\u001b[0m\u001b[38;2;55;65;81m-flash-lite, \u001b[0m\u001b[38;2;55;65;81mstrict\u001b[0m\u001b[38;2;55;65;81m=\u001b[0m\u001b[3;38;2;55;65;81mFalse\u001b[0m\u001b[38;2;55;65;81m, \u001b[0m\n",
       "\u001b[38;2;55;65;81masync_mode\u001b[0m\u001b[38;2;55;65;81m=\u001b[0m\u001b[3;38;2;55;65;81mTrue\u001b[0m\u001b[1;38;2;55;65;81m)\u001b[0m\u001b[38;2;55;65;81m...\u001b[0m\n"
      ]
     },
     "metadata": {},
     "output_type": "display_data"
    },
    {
     "name": "stderr",
     "output_type": "stream",
     "text": [
      "Evaluating 5 test case(s) in parallel: |██████████|100% (5/5) [Time Taken: 00:02,  1.71test case/s]\n"
     ]
    },
    {
     "name": "stdout",
     "output_type": "stream",
     "text": [
      "\n",
      "======================================================================\n",
      "\n",
      "Metrics Summary\n",
      "\n",
      "  - ✅ Answer Relevancy (score: 1.0, threshold: 0.5, strict: False, evaluation model: gemini-2.0-flash-lite, reason: The score is 1.00 because the output is perfectly relevant and contains no irrelevant statements. Great job!, error: None)\n",
      "\n",
      "For test case:\n",
      "\n",
      "  - input: What is typical behavior of the nuetron flux from a compact source with respect to distance to the source?\n",
      "  - actual output: The neutron flux from a compact source decreases with the square of the distance from the source. This means the flux scales as $d^{-2}$, where $d$ is the distance. For instance, at a position of 3.8 cm from the source, the flux is approximately $10^7 \\text{ cm}^{-2}\\text{ s}^{-1}$.\n",
      "  - expected output: The neutron flux diminishes with the square of distance from the sample to the source.\n",
      "  - context: None\n",
      "  - retrieval context: None\n",
      "\n",
      "======================================================================\n",
      "\n",
      "Metrics Summary\n",
      "\n",
      "  - ✅ Answer Relevancy (score: 1.0, threshold: 0.5, strict: False, evaluation model: gemini-2.0-flash-lite, reason: The score is 1.00 because the output perfectly addresses the prompt without any irrelevant information. Great job!, error: None)\n",
      "\n",
      "For test case:\n",
      "\n",
      "  - input: Explain the change in magnetic susceptibility of alpha-RuCl3 with respect to temperature.\n",
      "  - actual output: The magnetic susceptibility of α-RuCl3 exhibits a single anomaly near 13 K, indicative of long-range antiferromagnetic ordering. This ordering suggests a transition from a paramagnetic state to an antiferromagnetic state below this temperature. The observed magnetic susceptibility is consistent with that of powder samples, demonstrating a single transition at low temperatures.\n",
      "  - expected output: The magnetic susceptibility $\\chi$ increases from 0 to 13K (the critical temperature) and then decreases linearly with increasing temperature.\n",
      "  - context: None\n",
      "  - retrieval context: None\n",
      "\n",
      "======================================================================\n",
      "\n",
      "Metrics Summary\n",
      "\n",
      "  - ✅ Answer Relevancy (score: 1.0, threshold: 0.5, strict: False, evaluation model: gemini-2.0-flash-lite, reason: The score is 1.00 because the output perfectly answers the question without any irrelevant information. Great job!, error: None)\n",
      "\n",
      "For test case:\n",
      "\n",
      "  - input: What are the fusion reactions used to obtain neutrons in the NILE laboratory?\n",
      "  - actual output: The NILE laboratory uses Deuterium-Tritium (D-T) and Deuterium-Deuterium (D-D) fusion reactions to obtain neutrons. The D-T reaction produces 14 MeV neutrons, while the D-D reaction produces 2.5 MeV neutrons. These reactions are used in the neutron sources at the facility.\n",
      "  - expected output: They generate a plasma gas using a microwave-driven Electron-Cyclotron Resonance (ECR) source to ionize deuterium (D-D  source), or a mix of deuterium and tritium (D-T source). The ions generated in the plasma are accelerated towards a metallic target using a high-voltage  electric  field,  where  they  are  implanted  in  the  form  of  a  metal  hydride.  The remaining  ions  in  the  plasma  strike  the  previously  implanted  ones  in  the  target  leading  to fusion  events  that  release  monoenergetic  neutrons  of  14  or  2.5  MeV for  the  D-T  and  D-D sources, respectively.\n",
      "  - context: None\n",
      "  - retrieval context: None\n",
      "\n",
      "======================================================================\n",
      "\n",
      "Metrics Summary\n",
      "\n",
      "  - ✅ Answer Relevancy (score: 1.0, threshold: 0.5, strict: False, evaluation model: gemini-2.0-flash-lite, reason: The score is 1.00 because the output is perfectly relevant and contains no irrelevant information. Great job!, error: None)\n",
      "\n",
      "For test case:\n",
      "\n",
      "  - input: What are the crystal structure parameters of alpha-RuCl3?\n",
      "  - actual output: The crystal structure of alpha-RuCl3 at 80 K has a monoclinic unit cell with the space group C 2/m. The lattice parameters are a = 5.9762(7) Å, b = 10.342(1) Å, and c = 6.013(1) Å, with an angle β = 108.87(2)°.  The volume is 371(2) Å3.\n",
      "  - expected output: The symmetry is of space group C2/m with $Z=4$ atoms in the unit cell. The $a,b,c$ axes measure 5.9762, 10.342 and 6.013 Angstrom respectively. The $\\alpha,\\beta,\\gamma$ angles are 90, 108.87 and 80 degrees.\n",
      "  - context: None\n",
      "  - retrieval context: None\n",
      "\n",
      "======================================================================\n",
      "\n",
      "Metrics Summary\n",
      "\n",
      "  - ✅ Answer Relevancy (score: 1.0, threshold: 0.5, strict: False, evaluation model: gemini-2.0-flash-lite, reason: The score is 1.00 because the output perfectly addresses the question without any irrelevant information. Great job!, error: None)\n",
      "\n",
      "For test case:\n",
      "\n",
      "  - input: What is the magnetic phase diagram for alpha-RuCl3 in terms of the magnetic field and temperature?\n",
      "  - actual output: The magnetic phase diagram for single-crystal α-RuCl3 shows a zigzag antiferromagnetic phase at low temperatures and a paramagnetic phase at higher temperatures. The boundary between these phases is indicated by a dashed line.  In the magnetic field applied perpendicular to c*, a field-induced phase transition is observed at about 8 T, which shifts down in field and fades as the temperature increases.\n",
      "  - expected output: Below a magnetic field of approximately 8T, the systems shows a zig-zag AFM configuration up to around 14K. For a higher magnetic field or higher temperature, the system is paramagnetic.\n",
      "  - context: None\n",
      "  - retrieval context: None\n",
      "\n",
      "======================================================================\n",
      "\n",
      "Overall Metric Pass Rates\n",
      "\n",
      "Answer Relevancy: 100.00% pass rate\n",
      "\n",
      "======================================================================\n",
      "\n"
     ]
    },
    {
     "data": {
      "text/html": [
       "<pre style=\"white-space:pre;overflow-x:auto;line-height:normal;font-family:Menlo,'DejaVu Sans Mono',consolas,'Courier New',monospace\">\n",
       "<span style=\"color: #05f58d; text-decoration-color: #05f58d\">✓</span> Tests finished 🎉! Run <span style=\"color: #008000; text-decoration-color: #008000; font-weight: bold\">'deepeval login'</span> to save and analyze evaluation results on Confident AI.\n",
       " \n",
       "✨👀 Looking for a place for your LLM test data to live 🏡❤️ ? Use <span style=\"color: #6a00ff; text-decoration-color: #6a00ff\">Confident AI</span> to get &amp; share testing reports, \n",
       "experiment with models/prompts, and catch regressions for your LLM system. Just run <span style=\"color: #008080; text-decoration-color: #008080\">'deepeval login'</span> in the CLI. \n",
       "\n",
       "</pre>\n"
      ],
      "text/plain": [
       "\n",
       "\u001b[38;2;5;245;141m✓\u001b[0m Tests finished 🎉! Run \u001b[1;32m'deepeval login'\u001b[0m to save and analyze evaluation results on Confident AI.\n",
       " \n",
       "✨👀 Looking for a place for your LLM test data to live 🏡❤️ ? Use \u001b[38;2;106;0;255mConfident AI\u001b[0m to get & share testing reports, \n",
       "experiment with models/prompts, and catch regressions for your LLM system. Just run \u001b[36m'deepeval login'\u001b[0m in the CLI. \n",
       "\n"
      ]
     },
     "metadata": {},
     "output_type": "display_data"
    },
    {
     "name": "stdout",
     "output_type": "stream",
     "text": [
      "Sleeping for 70 seconds after processing 30 queries\n",
      "Resuming\n"
     ]
    },
    {
     "data": {
      "text/html": [
       "<pre style=\"white-space:pre;overflow-x:auto;line-height:normal;font-family:Menlo,'DejaVu Sans Mono',consolas,'Courier New',monospace\">✨ You're running DeepEval's latest <span style=\"color: #6a00ff; text-decoration-color: #6a00ff\">Answer Relevancy Metric</span>! <span style=\"color: #374151; text-decoration-color: #374151; font-weight: bold\">(</span><span style=\"color: #374151; text-decoration-color: #374151\">using gemini-</span><span style=\"color: #374151; text-decoration-color: #374151; font-weight: bold\">2.0</span><span style=\"color: #374151; text-decoration-color: #374151\">-flash-lite, </span><span style=\"color: #374151; text-decoration-color: #374151\">strict</span><span style=\"color: #374151; text-decoration-color: #374151\">=</span><span style=\"color: #374151; text-decoration-color: #374151; font-style: italic\">False</span><span style=\"color: #374151; text-decoration-color: #374151\">, </span>\n",
       "<span style=\"color: #374151; text-decoration-color: #374151\">async_mode</span><span style=\"color: #374151; text-decoration-color: #374151\">=</span><span style=\"color: #374151; text-decoration-color: #374151; font-style: italic\">True</span><span style=\"color: #374151; text-decoration-color: #374151; font-weight: bold\">)</span><span style=\"color: #374151; text-decoration-color: #374151\">...</span>\n",
       "</pre>\n"
      ],
      "text/plain": [
       "✨ You're running DeepEval's latest \u001b[38;2;106;0;255mAnswer Relevancy Metric\u001b[0m! \u001b[1;38;2;55;65;81m(\u001b[0m\u001b[38;2;55;65;81musing gemini-\u001b[0m\u001b[1;38;2;55;65;81m2.0\u001b[0m\u001b[38;2;55;65;81m-flash-lite, \u001b[0m\u001b[38;2;55;65;81mstrict\u001b[0m\u001b[38;2;55;65;81m=\u001b[0m\u001b[3;38;2;55;65;81mFalse\u001b[0m\u001b[38;2;55;65;81m, \u001b[0m\n",
       "\u001b[38;2;55;65;81masync_mode\u001b[0m\u001b[38;2;55;65;81m=\u001b[0m\u001b[3;38;2;55;65;81mTrue\u001b[0m\u001b[1;38;2;55;65;81m)\u001b[0m\u001b[38;2;55;65;81m...\u001b[0m\n"
      ]
     },
     "metadata": {},
     "output_type": "display_data"
    },
    {
     "name": "stderr",
     "output_type": "stream",
     "text": [
      "Evaluating 5 test case(s) in parallel: |██████████|100% (5/5) [Time Taken: 00:03,  1.36test case/s]"
     ]
    },
    {
     "name": "stdout",
     "output_type": "stream",
     "text": [
      "\n",
      "======================================================================\n",
      "\n",
      "Metrics Summary\n",
      "\n",
      "  - ✅ Answer Relevancy (score: 1.0, threshold: 0.5, strict: False, evaluation model: gemini-2.0-flash-lite, reason: The score is 1.00 because the output perfectly addresses the question without any irrelevant information. Great job!, error: None)\n",
      "\n",
      "For test case:\n",
      "\n",
      "  - input: How does th magnetization M of the Co2+ atoms vary in EDACoCl4 with respect to temperature?\n",
      "  - actual output: The temperature-dependent magnetization (M) of EDACoCl4 is presented in the provided figures. The magnetization is measured at 500 Oe parallel and perpendicular to the [CoCl4]2− tetrahedra layers. The figures show how the magnetization varies with temperature for EDACoCl4.\n",
      "  - expected output: The magnetization increasing from 0K and peaks at approximately 13K, the it decreases expontentially.\n",
      "  - context: None\n",
      "  - retrieval context: None\n",
      "\n",
      "======================================================================\n",
      "\n",
      "Metrics Summary\n",
      "\n",
      "  - ✅ Answer Relevancy (score: 1.0, threshold: 0.5, strict: False, evaluation model: gemini-2.0-flash-lite, reason: The score is 1.00 because the output perfectly addresses the question without any irrelevant information. Great job!, error: None)\n",
      "\n",
      "For test case:\n",
      "\n",
      "  - input: At what temperature does the triple point occur in the density of the MAPbI3 compound?\n",
      "  - actual output: The triple point in the MAPbI3 compound occurs at approximately 175 K and 1 kbar.  At this point, there is a low-temperature triple point. This is where a transition is observed.\n",
      "  - expected output: The triple point happens at 175K for a pressure of 1kbar.\n",
      "  - context: None\n",
      "  - retrieval context: None\n",
      "\n",
      "======================================================================\n",
      "\n",
      "Metrics Summary\n",
      "\n",
      "  - ✅ Answer Relevancy (score: 1.0, threshold: 0.5, strict: False, evaluation model: gemini-2.0-flash-lite, reason: The score is 1.00 because the output perfectly addresses the question without any irrelevant information. Great job!, error: None)\n",
      "\n",
      "For test case:\n",
      "\n",
      "  - input: Is the MAPbI3 Cubic or orthorhombic at a temperature of 350K?\n",
      "  - actual output: At a temperature of 350K, MAPbI3 is in a cubic phase. The provided context states that the cubic phase exists above 330K. The orthorhombic phase exists below 160K.\n",
      "  - expected output: The MAPbI3 is cubic at 350K up to approximately 0.5 GPa of pressure. For higher pressures, it is in a HPC phase.\n",
      "  - context: None\n",
      "  - retrieval context: None\n",
      "\n",
      "======================================================================\n",
      "\n",
      "Metrics Summary\n",
      "\n",
      "  - ✅ Answer Relevancy (score: 1.0, threshold: 0.5, strict: False, evaluation model: gemini-2.0-flash-lite, reason: The score is 1.00 because the output perfectly addresses the prompt without any irrelevant information. Great job!, error: None)\n",
      "\n",
      "For test case:\n",
      "\n",
      "  - input: Explain the experimental phase diagram of MAPbI3 in terms of pressure and temperature.\n",
      "  - actual output: The experimental phase diagram of MAPbI3, up to 25 kbar, reveals several phases labeled with Greek letters. At room temperature, a δ → ϵ transition occurs in the pressure range of 2.5-3.0 kbar. Diffraction patterns reveal Im3̅ symmetry is preserved upon cooling at high pressure.\n",
      "  - expected output: At low temperature, below 150K, it is orthorhombic. At low pressure, it becomes tetragonal and then cubic for increasing temperature. At pressures above 1GPa, it goes into a HPC phase for temperatures higher than 150K, approximately.\n",
      "  - context: None\n",
      "  - retrieval context: None\n",
      "\n",
      "======================================================================\n",
      "\n",
      "Metrics Summary\n",
      "\n",
      "  - ✅ Answer Relevancy (score: 0.5, threshold: 0.5, strict: False, evaluation model: gemini-2.0-flash-lite, reason: The score is 0.50 because the output mentions Raman modes but fails to address their temperature dependence, as requested in the input. However, the output does acknowledge the existence of Raman modes, which is relevant to the question., error: None)\n",
      "\n",
      "For test case:\n",
      "\n",
      "  - input: How do the Raman modes of PEA2MnCl4 vary with the temperature?\n",
      "  - actual output: The Raman modes of EA2MnCl4 have been studied in the temperature range of 80-350 K. The study found that the NH3+ torsion (≈290 cm-1), C-C stretching (≈872 cm-1), and C-N stretching (≈978 cm-1) modes are present.  A structural phase transition was observed at ≈230 K, which is only reflected in the organic cation vibrations.\n",
      "  - expected output: The position of the peak of some Raman modes in  PEA2MnCl4 tends to move left (to lower values of the wavelength) with increasing temperature.\n",
      "  - context: None\n",
      "  - retrieval context: None\n",
      "\n",
      "======================================================================\n",
      "\n",
      "Overall Metric Pass Rates\n",
      "\n",
      "Answer Relevancy: 100.00% pass rate\n",
      "\n",
      "======================================================================\n",
      "\n"
     ]
    },
    {
     "name": "stderr",
     "output_type": "stream",
     "text": [
      "\n"
     ]
    },
    {
     "data": {
      "text/html": [
       "<pre style=\"white-space:pre;overflow-x:auto;line-height:normal;font-family:Menlo,'DejaVu Sans Mono',consolas,'Courier New',monospace\">\n",
       "<span style=\"color: #05f58d; text-decoration-color: #05f58d\">✓</span> Tests finished 🎉! Run <span style=\"color: #008000; text-decoration-color: #008000; font-weight: bold\">'deepeval login'</span> to save and analyze evaluation results on Confident AI.\n",
       " \n",
       "✨👀 Looking for a place for your LLM test data to live 🏡❤️ ? Use <span style=\"color: #6a00ff; text-decoration-color: #6a00ff\">Confident AI</span> to get &amp; share testing reports, \n",
       "experiment with models/prompts, and catch regressions for your LLM system. Just run <span style=\"color: #008080; text-decoration-color: #008080\">'deepeval login'</span> in the CLI. \n",
       "\n",
       "</pre>\n"
      ],
      "text/plain": [
       "\n",
       "\u001b[38;2;5;245;141m✓\u001b[0m Tests finished 🎉! Run \u001b[1;32m'deepeval login'\u001b[0m to save and analyze evaluation results on Confident AI.\n",
       " \n",
       "✨👀 Looking for a place for your LLM test data to live 🏡❤️ ? Use \u001b[38;2;106;0;255mConfident AI\u001b[0m to get & share testing reports, \n",
       "experiment with models/prompts, and catch regressions for your LLM system. Just run \u001b[36m'deepeval login'\u001b[0m in the CLI. \n",
       "\n"
      ]
     },
     "metadata": {},
     "output_type": "display_data"
    },
    {
     "name": "stdout",
     "output_type": "stream",
     "text": [
      "Sleeping for 70 seconds after processing 35 queries\n",
      "Resuming\n"
     ]
    },
    {
     "data": {
      "text/html": [
       "<pre style=\"white-space:pre;overflow-x:auto;line-height:normal;font-family:Menlo,'DejaVu Sans Mono',consolas,'Courier New',monospace\">✨ You're running DeepEval's latest <span style=\"color: #6a00ff; text-decoration-color: #6a00ff\">Answer Relevancy Metric</span>! <span style=\"color: #374151; text-decoration-color: #374151; font-weight: bold\">(</span><span style=\"color: #374151; text-decoration-color: #374151\">using gemini-</span><span style=\"color: #374151; text-decoration-color: #374151; font-weight: bold\">2.0</span><span style=\"color: #374151; text-decoration-color: #374151\">-flash-lite, </span><span style=\"color: #374151; text-decoration-color: #374151\">strict</span><span style=\"color: #374151; text-decoration-color: #374151\">=</span><span style=\"color: #374151; text-decoration-color: #374151; font-style: italic\">False</span><span style=\"color: #374151; text-decoration-color: #374151\">, </span>\n",
       "<span style=\"color: #374151; text-decoration-color: #374151\">async_mode</span><span style=\"color: #374151; text-decoration-color: #374151\">=</span><span style=\"color: #374151; text-decoration-color: #374151; font-style: italic\">True</span><span style=\"color: #374151; text-decoration-color: #374151; font-weight: bold\">)</span><span style=\"color: #374151; text-decoration-color: #374151\">...</span>\n",
       "</pre>\n"
      ],
      "text/plain": [
       "✨ You're running DeepEval's latest \u001b[38;2;106;0;255mAnswer Relevancy Metric\u001b[0m! \u001b[1;38;2;55;65;81m(\u001b[0m\u001b[38;2;55;65;81musing gemini-\u001b[0m\u001b[1;38;2;55;65;81m2.0\u001b[0m\u001b[38;2;55;65;81m-flash-lite, \u001b[0m\u001b[38;2;55;65;81mstrict\u001b[0m\u001b[38;2;55;65;81m=\u001b[0m\u001b[3;38;2;55;65;81mFalse\u001b[0m\u001b[38;2;55;65;81m, \u001b[0m\n",
       "\u001b[38;2;55;65;81masync_mode\u001b[0m\u001b[38;2;55;65;81m=\u001b[0m\u001b[3;38;2;55;65;81mTrue\u001b[0m\u001b[1;38;2;55;65;81m)\u001b[0m\u001b[38;2;55;65;81m...\u001b[0m\n"
      ]
     },
     "metadata": {},
     "output_type": "display_data"
    },
    {
     "name": "stderr",
     "output_type": "stream",
     "text": [
      "Evaluating 5 test case(s) in parallel: |██████████|100% (5/5) [Time Taken: 00:02,  1.86test case/s]"
     ]
    },
    {
     "name": "stdout",
     "output_type": "stream",
     "text": [
      "\n",
      "======================================================================\n",
      "\n",
      "Metrics Summary\n",
      "\n",
      "  - ✅ Answer Relevancy (score: 1.0, threshold: 0.5, strict: False, evaluation model: gemini-2.0-flash-lite, reason: The score is 1.00 because the output perfectly addresses the question without any irrelevant information. Great job!, error: None)\n",
      "\n",
      "For test case:\n",
      "\n",
      "  - input: How many enforced semimetals are there for the compounds with magnetic space group (MSG) 51.298?\n",
      "  - actual output: For compounds with magnetic space group (MSG) 51.298, the context indicates there is one enforced semimetal for each value of U = 0, 2, and 4 eV. The table provides the number of enforced semimetals/ESFDs for different values of U. This information is found in Table 1.\n",
      "  - expected output: There are 0 or 1 enforced semimetals with the magnetic space group symmetry of 51.298, depending on the value of the U parameter.\n",
      "  - context: None\n",
      "  - retrieval context: None\n",
      "\n",
      "======================================================================\n",
      "\n",
      "Metrics Summary\n",
      "\n",
      "  - ✅ Answer Relevancy (score: 1.0, threshold: 0.5, strict: False, evaluation model: gemini-2.0-flash-lite, reason: The score is 1.00 because the output perfectly addresses the question without any irrelevant information. Great job!, error: None)\n",
      "\n",
      "For test case:\n",
      "\n",
      "  - input: Does the crystal MNGeO3 have surface states?\n",
      "  - actual output: Yes, the (010) surface of the crystal MnGeO3 exhibits surface states. Specifically, the Fermi surface on the (010) surface of MnGeO3 has a Fermi arc. The surface states are well separated from the bulk states.\n",
      "  - expected output: MnGeO3 is a Diract semimetal and therefore it has no surface states.\n",
      "  - context: None\n",
      "  - retrieval context: None\n",
      "\n",
      "======================================================================\n",
      "\n",
      "Metrics Summary\n",
      "\n",
      "  - ✅ Answer Relevancy (score: 1.0, threshold: 0.5, strict: False, evaluation model: gemini-2.0-flash-lite, reason: The score is 1.00 because the output perfectly addresses the question without any irrelevant information. Great job!, error: None)\n",
      "\n",
      "For test case:\n",
      "\n",
      "  - input: What is the Neel tempearture of PEA2MnCl4?\n",
      "  - actual output: The Neel temperature, $T_N$, of PEA$_2$MnCl$_4$ is approximately 87 K. This is indicated by the broad maximum observed in the M(T) curve. The easy axis for the antiferromagnetic (AFM) ordering is perpendicular to the [MnCl$_6$]$^{4-}$ octahedra layers.\n",
      "  - expected output: The Néel temperature of PEA2MnCl4 is approximately 47K.\n",
      "  - context: None\n",
      "  - retrieval context: None\n",
      "\n",
      "======================================================================\n",
      "\n",
      "Metrics Summary\n",
      "\n",
      "  - ✅ Answer Relevancy (score: 1.0, threshold: 0.5, strict: False, evaluation model: gemini-2.0-flash-lite, reason: The score is 1.00 because the output perfectly answers the question without any irrelevant information. Great job!, error: None)\n",
      "\n",
      "For test case:\n",
      "\n",
      "  - input: At what pressure does FeSe transition from a tetragonal to a nematic state?\n",
      "  - actual output: The FeSe tetragonal to nematic transition occurs at approximately 60 K at ambient pressure. With increasing pressure, the nematic transition temperature decreases until it becomes unobservable around p ≈ 5.8(5) kbar. This value is obtained by extrapolating the pressure evolution of the transition temperature to zero.\n",
      "  - expected output: The critical pressure of transition from a tetragonal to a nematic state is 5.8kbar.\n",
      "  - context: None\n",
      "  - retrieval context: None\n",
      "\n",
      "======================================================================\n",
      "\n",
      "Metrics Summary\n",
      "\n",
      "  - ✅ Answer Relevancy (score: 1.0, threshold: 0.5, strict: False, evaluation model: gemini-2.0-flash-lite, reason: The score is 1.00 because the output perfectly addresses the input request without any irrelevant information. Great job!, error: None)\n",
      "\n",
      "For test case:\n",
      "\n",
      "  - input: Give examples of metallic iron pnictides.\n",
      "  - actual output: Examples of metallic iron pnictides include LaFeAsO, CaFe2As2, EuFe2As2, and BaFe2As2. These materials fall under the category of ThCr2Si2 structure and related structures. They have received attention due to their high-temperature iron pnictide properties.\n",
      "  - expected output: Some metallic iron pnictides are LaFeAsO, CaFe2As2, EuFe2As2, BaFe2As2 and CaFe4As3, among others.\n",
      "  - context: None\n",
      "  - retrieval context: None\n",
      "\n",
      "======================================================================\n",
      "\n",
      "Overall Metric Pass Rates\n",
      "\n",
      "Answer Relevancy: 100.00% pass rate\n",
      "\n",
      "======================================================================\n",
      "\n"
     ]
    },
    {
     "name": "stderr",
     "output_type": "stream",
     "text": [
      "\n"
     ]
    },
    {
     "data": {
      "text/html": [
       "<pre style=\"white-space:pre;overflow-x:auto;line-height:normal;font-family:Menlo,'DejaVu Sans Mono',consolas,'Courier New',monospace\">\n",
       "<span style=\"color: #05f58d; text-decoration-color: #05f58d\">✓</span> Tests finished 🎉! Run <span style=\"color: #008000; text-decoration-color: #008000; font-weight: bold\">'deepeval login'</span> to save and analyze evaluation results on Confident AI.\n",
       " \n",
       "✨👀 Looking for a place for your LLM test data to live 🏡❤️ ? Use <span style=\"color: #6a00ff; text-decoration-color: #6a00ff\">Confident AI</span> to get &amp; share testing reports, \n",
       "experiment with models/prompts, and catch regressions for your LLM system. Just run <span style=\"color: #008080; text-decoration-color: #008080\">'deepeval login'</span> in the CLI. \n",
       "\n",
       "</pre>\n"
      ],
      "text/plain": [
       "\n",
       "\u001b[38;2;5;245;141m✓\u001b[0m Tests finished 🎉! Run \u001b[1;32m'deepeval login'\u001b[0m to save and analyze evaluation results on Confident AI.\n",
       " \n",
       "✨👀 Looking for a place for your LLM test data to live 🏡❤️ ? Use \u001b[38;2;106;0;255mConfident AI\u001b[0m to get & share testing reports, \n",
       "experiment with models/prompts, and catch regressions for your LLM system. Just run \u001b[36m'deepeval login'\u001b[0m in the CLI. \n",
       "\n"
      ]
     },
     "metadata": {},
     "output_type": "display_data"
    },
    {
     "name": "stdout",
     "output_type": "stream",
     "text": [
      "Sleeping for 70 seconds after processing 40 queries\n",
      "Resuming\n"
     ]
    },
    {
     "data": {
      "text/html": [
       "<pre style=\"white-space:pre;overflow-x:auto;line-height:normal;font-family:Menlo,'DejaVu Sans Mono',consolas,'Courier New',monospace\">✨ You're running DeepEval's latest <span style=\"color: #6a00ff; text-decoration-color: #6a00ff\">Answer Relevancy Metric</span>! <span style=\"color: #374151; text-decoration-color: #374151; font-weight: bold\">(</span><span style=\"color: #374151; text-decoration-color: #374151\">using gemini-</span><span style=\"color: #374151; text-decoration-color: #374151; font-weight: bold\">2.0</span><span style=\"color: #374151; text-decoration-color: #374151\">-flash-lite, </span><span style=\"color: #374151; text-decoration-color: #374151\">strict</span><span style=\"color: #374151; text-decoration-color: #374151\">=</span><span style=\"color: #374151; text-decoration-color: #374151; font-style: italic\">False</span><span style=\"color: #374151; text-decoration-color: #374151\">, </span>\n",
       "<span style=\"color: #374151; text-decoration-color: #374151\">async_mode</span><span style=\"color: #374151; text-decoration-color: #374151\">=</span><span style=\"color: #374151; text-decoration-color: #374151; font-style: italic\">True</span><span style=\"color: #374151; text-decoration-color: #374151; font-weight: bold\">)</span><span style=\"color: #374151; text-decoration-color: #374151\">...</span>\n",
       "</pre>\n"
      ],
      "text/plain": [
       "✨ You're running DeepEval's latest \u001b[38;2;106;0;255mAnswer Relevancy Metric\u001b[0m! \u001b[1;38;2;55;65;81m(\u001b[0m\u001b[38;2;55;65;81musing gemini-\u001b[0m\u001b[1;38;2;55;65;81m2.0\u001b[0m\u001b[38;2;55;65;81m-flash-lite, \u001b[0m\u001b[38;2;55;65;81mstrict\u001b[0m\u001b[38;2;55;65;81m=\u001b[0m\u001b[3;38;2;55;65;81mFalse\u001b[0m\u001b[38;2;55;65;81m, \u001b[0m\n",
       "\u001b[38;2;55;65;81masync_mode\u001b[0m\u001b[38;2;55;65;81m=\u001b[0m\u001b[3;38;2;55;65;81mTrue\u001b[0m\u001b[1;38;2;55;65;81m)\u001b[0m\u001b[38;2;55;65;81m...\u001b[0m\n"
      ]
     },
     "metadata": {},
     "output_type": "display_data"
    },
    {
     "name": "stderr",
     "output_type": "stream",
     "text": [
      "Evaluating 5 test case(s) in parallel: |██████████|100% (5/5) [Time Taken: 00:02,  1.77test case/s]"
     ]
    },
    {
     "name": "stdout",
     "output_type": "stream",
     "text": [
      "\n",
      "======================================================================\n",
      "\n",
      "Metrics Summary\n",
      "\n",
      "  - ✅ Answer Relevancy (score: 1.0, threshold: 0.5, strict: False, evaluation model: gemini-2.0-flash-lite, reason: The score is 1.00 because the output perfectly answers the question without any irrelevant information. Great job!, error: None)\n",
      "\n",
      "For test case:\n",
      "\n",
      "  - input: Does FeSe support a spin density wave (SDW) at any pressure or temperature?\n",
      "  - actual output: The provided context does not explicitly state whether FeSe supports a spin density wave (SDW) at any pressure or temperature. It does mention that magnetic order is expected at high pressures exceeding 40 kbar, but does not confirm the presence of a SDW. Therefore, I cannot answer the question.\n",
      "  - expected output: No, the spin-density wave (SDW) phase only exists for some ranges of pressure and temperature, approximately from 30 to 80kbar and from 0 to 40K.\n",
      "  - context: None\n",
      "  - retrieval context: None\n",
      "\n",
      "======================================================================\n",
      "\n",
      "Metrics Summary\n",
      "\n",
      "  - ✅ Answer Relevancy (score: 1.0, threshold: 0.5, strict: False, evaluation model: gemini-2.0-flash-lite, reason: The score is 1.00 because the output perfectly addresses the question without any irrelevant information. Great job!, error: None)\n",
      "\n",
      "For test case:\n",
      "\n",
      "  - input: What are the maximal Wyckoff positions for unit cells with rotational symmetry C2?\n",
      "  - actual output: For unit cells with C2 rotational symmetry, the maximal Wyckoff positions are listed in Table II. They are associated with the following invariants:  [X I2 ], [Y I2 ], and [M I2 ]. These positions are crucial for understanding the symmetry properties.\n",
      "  - expected output: The maximal Wyckoff positions for C2-symmetry crystals are 1a, 1b, 1c and 1d.\n",
      "  - context: None\n",
      "  - retrieval context: None\n",
      "\n",
      "======================================================================\n",
      "\n",
      "Metrics Summary\n",
      "\n",
      "  - ✅ Answer Relevancy (score: 1.0, threshold: 0.5, strict: False, evaluation model: gemini-2.0-flash-lite, reason: The score is 1.00 because the output perfectly addresses the question without any irrelevant information. Great job!, error: None)\n",
      "\n",
      "For test case:\n",
      "\n",
      "  - input: What symmetries can protect corner charge fractionalization?\n",
      "  - actual output: Symmetries like Cn rotations, mirror symmetries (especially when combined with twofold rotation symmetry), and the combination of C3 symmetry with 3D inversion symmetry can protect corner charge fractionalization. However, single mirror symmetry can not protect corner charge fractionalization.\n",
      "  - expected output: Charge fractionalization can be protected by C2, C3, C4 and C6 symmetries.\n",
      "  - context: None\n",
      "  - retrieval context: None\n",
      "\n",
      "======================================================================\n",
      "\n",
      "Metrics Summary\n",
      "\n",
      "  - ✅ Answer Relevancy (score: 1.0, threshold: 0.5, strict: False, evaluation model: gemini-2.0-flash-lite, reason: The score is 1.00 because the output perfectly addresses the prompt without any irrelevant information. Great job!, error: None)\n",
      "\n",
      "For test case:\n",
      "\n",
      "  - input: Describe the quantum oscillations in FeSe and their evolution with pressure.\n",
      "  - actual output: Quantum oscillations in FeSe0.89S0.11 reveal distinct peaks, indicating a complex multiband electronic structure. With increasing pressure, the dominant low-frequency oscillation disappears near 4.7 kbar.  The Fermi surface area of the δ pocket expands significantly at high pressures.\n",
      "  - expected output: At low pressures in the nematic state, there is a low-frequency oscillation which disappears beyond 4,7kbar. At high pressure and high magnetic field, there is a high-frequency oscillation.\n",
      "  - context: None\n",
      "  - retrieval context: None\n",
      "\n",
      "======================================================================\n",
      "\n",
      "Metrics Summary\n",
      "\n",
      "  - ✅ Answer Relevancy (score: 1.0, threshold: 0.5, strict: False, evaluation model: gemini-2.0-flash-lite, reason: The score is 1.00 because the output perfectly addresses the question without any irrelevant information. Great job!, error: None)\n",
      "\n",
      "For test case:\n",
      "\n",
      "  - input: What do the Brillouin zones of C2, C4 and C3 symmetric crystals look like?\n",
      "  - actual output: The Brillouin zones of crystals with C2, C4, and C3 symmetries have specific features. C2-symmetric crystals have three two-fold high-symmetry points. C4-symmetric crystals have two two-fold and one four-fold high-symmetry points. C3-symmetric crystals have two three-fold high-symmetry points.\n",
      "  - expected output: For C2 and C4 symmetries, the Brillouin zones look like squares. For C3, it looks like an hexagon.\n",
      "  - context: None\n",
      "  - retrieval context: None\n",
      "\n",
      "======================================================================\n",
      "\n",
      "Overall Metric Pass Rates\n",
      "\n",
      "Answer Relevancy: 100.00% pass rate\n",
      "\n",
      "======================================================================\n",
      "\n"
     ]
    },
    {
     "name": "stderr",
     "output_type": "stream",
     "text": [
      "\n"
     ]
    },
    {
     "data": {
      "text/html": [
       "<pre style=\"white-space:pre;overflow-x:auto;line-height:normal;font-family:Menlo,'DejaVu Sans Mono',consolas,'Courier New',monospace\">\n",
       "<span style=\"color: #05f58d; text-decoration-color: #05f58d\">✓</span> Tests finished 🎉! Run <span style=\"color: #008000; text-decoration-color: #008000; font-weight: bold\">'deepeval login'</span> to save and analyze evaluation results on Confident AI.\n",
       " \n",
       "✨👀 Looking for a place for your LLM test data to live 🏡❤️ ? Use <span style=\"color: #6a00ff; text-decoration-color: #6a00ff\">Confident AI</span> to get &amp; share testing reports, \n",
       "experiment with models/prompts, and catch regressions for your LLM system. Just run <span style=\"color: #008080; text-decoration-color: #008080\">'deepeval login'</span> in the CLI. \n",
       "\n",
       "</pre>\n"
      ],
      "text/plain": [
       "\n",
       "\u001b[38;2;5;245;141m✓\u001b[0m Tests finished 🎉! Run \u001b[1;32m'deepeval login'\u001b[0m to save and analyze evaluation results on Confident AI.\n",
       " \n",
       "✨👀 Looking for a place for your LLM test data to live 🏡❤️ ? Use \u001b[38;2;106;0;255mConfident AI\u001b[0m to get & share testing reports, \n",
       "experiment with models/prompts, and catch regressions for your LLM system. Just run \u001b[36m'deepeval login'\u001b[0m in the CLI. \n",
       "\n"
      ]
     },
     "metadata": {},
     "output_type": "display_data"
    },
    {
     "name": "stdout",
     "output_type": "stream",
     "text": [
      "Sleeping for 70 seconds after processing 45 queries\n",
      "Resuming\n"
     ]
    },
    {
     "data": {
      "text/html": [
       "<pre style=\"white-space:pre;overflow-x:auto;line-height:normal;font-family:Menlo,'DejaVu Sans Mono',consolas,'Courier New',monospace\">✨ You're running DeepEval's latest <span style=\"color: #6a00ff; text-decoration-color: #6a00ff\">Answer Relevancy Metric</span>! <span style=\"color: #374151; text-decoration-color: #374151; font-weight: bold\">(</span><span style=\"color: #374151; text-decoration-color: #374151\">using gemini-</span><span style=\"color: #374151; text-decoration-color: #374151; font-weight: bold\">2.0</span><span style=\"color: #374151; text-decoration-color: #374151\">-flash-lite, </span><span style=\"color: #374151; text-decoration-color: #374151\">strict</span><span style=\"color: #374151; text-decoration-color: #374151\">=</span><span style=\"color: #374151; text-decoration-color: #374151; font-style: italic\">False</span><span style=\"color: #374151; text-decoration-color: #374151\">, </span>\n",
       "<span style=\"color: #374151; text-decoration-color: #374151\">async_mode</span><span style=\"color: #374151; text-decoration-color: #374151\">=</span><span style=\"color: #374151; text-decoration-color: #374151; font-style: italic\">True</span><span style=\"color: #374151; text-decoration-color: #374151; font-weight: bold\">)</span><span style=\"color: #374151; text-decoration-color: #374151\">...</span>\n",
       "</pre>\n"
      ],
      "text/plain": [
       "✨ You're running DeepEval's latest \u001b[38;2;106;0;255mAnswer Relevancy Metric\u001b[0m! \u001b[1;38;2;55;65;81m(\u001b[0m\u001b[38;2;55;65;81musing gemini-\u001b[0m\u001b[1;38;2;55;65;81m2.0\u001b[0m\u001b[38;2;55;65;81m-flash-lite, \u001b[0m\u001b[38;2;55;65;81mstrict\u001b[0m\u001b[38;2;55;65;81m=\u001b[0m\u001b[3;38;2;55;65;81mFalse\u001b[0m\u001b[38;2;55;65;81m, \u001b[0m\n",
       "\u001b[38;2;55;65;81masync_mode\u001b[0m\u001b[38;2;55;65;81m=\u001b[0m\u001b[3;38;2;55;65;81mTrue\u001b[0m\u001b[1;38;2;55;65;81m)\u001b[0m\u001b[38;2;55;65;81m...\u001b[0m\n"
      ]
     },
     "metadata": {},
     "output_type": "display_data"
    },
    {
     "name": "stderr",
     "output_type": "stream",
     "text": [
      "Evaluating 5 test case(s) in parallel: |██████████|100% (5/5) [Time Taken: 00:02,  1.69test case/s]"
     ]
    },
    {
     "name": "stdout",
     "output_type": "stream",
     "text": [
      "\n",
      "======================================================================\n",
      "\n",
      "Metrics Summary\n",
      "\n",
      "  - ✅ Answer Relevancy (score: 1.0, threshold: 0.5, strict: False, evaluation model: gemini-2.0-flash-lite, reason: The score is 1.00 because the output perfectly addresses the question without any irrelevant information. Great job!, error: None)\n",
      "\n",
      "For test case:\n",
      "\n",
      "  - input: What is the charge density wave (CDW) in heterostructures of T and H transition metal dichalcogenides?\n",
      "  - actual output: The √ 13×√ 13 charge density wave (CDW) state in the T polytype of MX2 (M = Nb, Ta, X = S, Se) hosts a half-filled flat band. This flat band is driven into a Mott insulating state by electronic correlations. When T polytypes are coupled to H polytypes, charge transfer can destabilize the Mott state.\n",
      "  - expected output: The heterostructures show a $\\sqrt{13}\\times\\sqrt{13}$ CDW with a Star of David shape.\n",
      "  - context: None\n",
      "  - retrieval context: None\n",
      "\n",
      "======================================================================\n",
      "\n",
      "Metrics Summary\n",
      "\n",
      "  - ✅ Answer Relevancy (score: 1.0, threshold: 0.5, strict: False, evaluation model: gemini-2.0-flash-lite, reason: The score is 1.00 because the output perfectly addresses the prompt without any irrelevant information. Great job!, error: None)\n",
      "\n",
      "For test case:\n",
      "\n",
      "  - input: Describe the magneto-optical response of permalloy nanoantennas.\n",
      "  - actual output: The magneto-optical response of permalloy (Py) nanoantennas exhibits features typical of magnetoplasmonic nanostructures. The magneto-optical activity (MOA) spectrum shows a maximum where the localized plasmon resonance (LPR) is observed. The MOA is amplified at resonance for the NCRD with respect to Py-DI structures at the same wavelength.\n",
      "  - expected output: The magneto-optical activity (MOA) of Non-concentric ring-disk (NCRD) nanoantennas shows a high peak at the wavelength of the plasmon resonance in the gold ring.\n",
      "  - context: None\n",
      "  - retrieval context: None\n",
      "\n",
      "======================================================================\n",
      "\n",
      "Metrics Summary\n",
      "\n",
      "  - ✅ Answer Relevancy (score: 1.0, threshold: 0.5, strict: False, evaluation model: gemini-2.0-flash-lite, reason: The score is 1.00 because the output is perfectly relevant and concise, directly addressing the question without any irrelevant information. Great job!, error: None)\n",
      "\n",
      "For test case:\n",
      "\n",
      "  - input: What is the mechanisms that drives a large magneto-optical enhacement in plasmonic nanocavities?\n",
      "  - actual output: The large magneto-optical enhancement in plasmonic nanocavities is driven by the hybridization of multipolar dark modes with a dipolar localized plasmon resonance. This hybridization results in a low-radiant multipolar Fano resonance. The strongly enhanced magneto-optically induced localized plasmon then drives the enhancement.\n",
      "  - expected output: The large magneto-optical enhancement in plasmonic nanocavities is driven by the hybridization with multipolar dark modes in specially designed magnetoplasmonic nanocavities. The broken geometrical symmetry enables coupling with free-space light and hybridization of the multipolar dark modes of a plasmonic ring nanoresonator with the dipolar localized plasmon resonance of the ferromagnetic disk placed inside the ring. This hybridization results in a low-radiant multipolar Fano resonance that drives a strongly enhanced magneto-optically induced localized plasmon.\n",
      "  - context: None\n",
      "  - retrieval context: None\n",
      "\n",
      "======================================================================\n",
      "\n",
      "Metrics Summary\n",
      "\n",
      "  - ✅ Answer Relevancy (score: 1.0, threshold: 0.5, strict: False, evaluation model: gemini-2.0-flash-lite, reason: The score is 1.00 because the output perfectly addresses the question without any irrelevant information. Great job!, error: None)\n",
      "\n",
      "For test case:\n",
      "\n",
      "  - input: How does the charge transfer vary in NbSe2 as a function of interalyer distance in T/H bilayers?\n",
      "  - actual output: The charge transfer in NbSe2 bilayers is inversely related to the interlayer distance.  At larger distances, the charge transfer increases gradually, and at smaller distances, the rate of increase becomes more pronounced.  This relationship was observed in the study for a range of distances.\n",
      "  - expected output: The charge transfer diminishes rapidly as a function of increasing interalyer distance.\n",
      "  - context: None\n",
      "  - retrieval context: None\n",
      "\n",
      "======================================================================\n",
      "\n",
      "Metrics Summary\n",
      "\n",
      "  - ✅ Answer Relevancy (score: 1.0, threshold: 0.5, strict: False, evaluation model: gemini-2.0-flash-lite, reason: The score is 1.00 because the output perfectly addresses the question without any irrelevant information. Great job!, error: None)\n",
      "\n",
      "For test case:\n",
      "\n",
      "  - input: How do they measure the magneto-optical activity of arrays of plasmonic nanoantennas?\n",
      "  - actual output: The magneto-optical activity (MOA) of arrays of plasmonic nanoantennas is measured using a magneto-optical Kerr effect (MOKE) spectrometer. The setup includes a tuneable laser, polarizing optics, a photoelastic modulator, and a photodetector. The instrument operates under near-normal incidence with linearly polarized light.\n",
      "  - expected output: They use a magneto-optical Kerr effect spectrometer consisting of a broadband supercontinuum tunable laser, polarizing and focusing optics, a photoelastic modulator and a photodector.\n",
      "  - context: None\n",
      "  - retrieval context: None\n",
      "\n",
      "======================================================================\n",
      "\n",
      "Overall Metric Pass Rates\n",
      "\n",
      "Answer Relevancy: 100.00% pass rate\n",
      "\n",
      "======================================================================\n",
      "\n"
     ]
    },
    {
     "name": "stderr",
     "output_type": "stream",
     "text": [
      "\n"
     ]
    },
    {
     "data": {
      "text/html": [
       "<pre style=\"white-space:pre;overflow-x:auto;line-height:normal;font-family:Menlo,'DejaVu Sans Mono',consolas,'Courier New',monospace\">\n",
       "<span style=\"color: #05f58d; text-decoration-color: #05f58d\">✓</span> Tests finished 🎉! Run <span style=\"color: #008000; text-decoration-color: #008000; font-weight: bold\">'deepeval login'</span> to save and analyze evaluation results on Confident AI.\n",
       " \n",
       "✨👀 Looking for a place for your LLM test data to live 🏡❤️ ? Use <span style=\"color: #6a00ff; text-decoration-color: #6a00ff\">Confident AI</span> to get &amp; share testing reports, \n",
       "experiment with models/prompts, and catch regressions for your LLM system. Just run <span style=\"color: #008080; text-decoration-color: #008080\">'deepeval login'</span> in the CLI. \n",
       "\n",
       "</pre>\n"
      ],
      "text/plain": [
       "\n",
       "\u001b[38;2;5;245;141m✓\u001b[0m Tests finished 🎉! Run \u001b[1;32m'deepeval login'\u001b[0m to save and analyze evaluation results on Confident AI.\n",
       " \n",
       "✨👀 Looking for a place for your LLM test data to live 🏡❤️ ? Use \u001b[38;2;106;0;255mConfident AI\u001b[0m to get & share testing reports, \n",
       "experiment with models/prompts, and catch regressions for your LLM system. Just run \u001b[36m'deepeval login'\u001b[0m in the CLI. \n",
       "\n"
      ]
     },
     "metadata": {},
     "output_type": "display_data"
    },
    {
     "name": "stdout",
     "output_type": "stream",
     "text": [
      "Sleeping for 70 seconds after processing 50 queries\n",
      "Resuming\n"
     ]
    },
    {
     "data": {
      "text/html": [
       "<pre style=\"white-space:pre;overflow-x:auto;line-height:normal;font-family:Menlo,'DejaVu Sans Mono',consolas,'Courier New',monospace\">✨ You're running DeepEval's latest <span style=\"color: #6a00ff; text-decoration-color: #6a00ff\">Answer Relevancy Metric</span>! <span style=\"color: #374151; text-decoration-color: #374151; font-weight: bold\">(</span><span style=\"color: #374151; text-decoration-color: #374151\">using gemini-</span><span style=\"color: #374151; text-decoration-color: #374151; font-weight: bold\">2.0</span><span style=\"color: #374151; text-decoration-color: #374151\">-flash-lite, </span><span style=\"color: #374151; text-decoration-color: #374151\">strict</span><span style=\"color: #374151; text-decoration-color: #374151\">=</span><span style=\"color: #374151; text-decoration-color: #374151; font-style: italic\">False</span><span style=\"color: #374151; text-decoration-color: #374151\">, </span>\n",
       "<span style=\"color: #374151; text-decoration-color: #374151\">async_mode</span><span style=\"color: #374151; text-decoration-color: #374151\">=</span><span style=\"color: #374151; text-decoration-color: #374151; font-style: italic\">True</span><span style=\"color: #374151; text-decoration-color: #374151; font-weight: bold\">)</span><span style=\"color: #374151; text-decoration-color: #374151\">...</span>\n",
       "</pre>\n"
      ],
      "text/plain": [
       "✨ You're running DeepEval's latest \u001b[38;2;106;0;255mAnswer Relevancy Metric\u001b[0m! \u001b[1;38;2;55;65;81m(\u001b[0m\u001b[38;2;55;65;81musing gemini-\u001b[0m\u001b[1;38;2;55;65;81m2.0\u001b[0m\u001b[38;2;55;65;81m-flash-lite, \u001b[0m\u001b[38;2;55;65;81mstrict\u001b[0m\u001b[38;2;55;65;81m=\u001b[0m\u001b[3;38;2;55;65;81mFalse\u001b[0m\u001b[38;2;55;65;81m, \u001b[0m\n",
       "\u001b[38;2;55;65;81masync_mode\u001b[0m\u001b[38;2;55;65;81m=\u001b[0m\u001b[3;38;2;55;65;81mTrue\u001b[0m\u001b[1;38;2;55;65;81m)\u001b[0m\u001b[38;2;55;65;81m...\u001b[0m\n"
      ]
     },
     "metadata": {},
     "output_type": "display_data"
    },
    {
     "name": "stderr",
     "output_type": "stream",
     "text": [
      "Evaluating 5 test case(s) in parallel: |████████  | 80% (4/5) [Time Taken: 00:38,  9.72s/test case]\n"
     ]
    },
    {
     "ename": "AttributeError",
     "evalue": "'NoneType' object has no attribute 'statements'",
     "output_type": "error",
     "traceback": [
      "\u001b[31m---------------------------------------------------------------------------\u001b[39m",
      "\u001b[31mAttributeError\u001b[39m                            Traceback (most recent call last)",
      "\u001b[36mCell\u001b[39m\u001b[36m \u001b[39m\u001b[32mIn[82]\u001b[39m\u001b[32m, line 10\u001b[39m\n\u001b[32m      8\u001b[39m \u001b[38;5;28;01mfor\u001b[39;00m i \u001b[38;5;129;01min\u001b[39;00m \u001b[38;5;28mrange\u001b[39m(\u001b[32m0\u001b[39m, \u001b[38;5;28mlen\u001b[39m(dataset), batch_size):\n\u001b[32m      9\u001b[39m     partial_dataset = EvaluationDataset(test_cases=dataset.test_cases[i:i+batch_size])\n\u001b[32m---> \u001b[39m\u001b[32m10\u001b[39m     partial_result = \u001b[43mpartial_dataset\u001b[49m\u001b[43m.\u001b[49m\u001b[43mevaluate\u001b[49m\u001b[43m(\u001b[49m\u001b[43m[\u001b[49m\u001b[43manswer_relevancy_metric\u001b[49m\u001b[43m]\u001b[49m\u001b[43m)\u001b[49m\n\u001b[32m     11\u001b[39m     results.append(partial_result)\n\u001b[32m     12\u001b[39m     \u001b[38;5;28mprint\u001b[39m(\u001b[33mf\u001b[39m\u001b[33m\"\u001b[39m\u001b[33mSleeping for 70 seconds after processing \u001b[39m\u001b[38;5;132;01m{\u001b[39;00mi+batch_size\u001b[38;5;132;01m}\u001b[39;00m\u001b[33m queries\u001b[39m\u001b[33m\"\u001b[39m)\n",
      "\u001b[36mFile \u001b[39m\u001b[32mc:\\Users\\mikel\\Documents\\GitHub\\multimodal-rag\\.venv\\Lib\\site-packages\\deepeval\\dataset\\dataset.py:185\u001b[39m, in \u001b[36mEvaluationDataset.evaluate\u001b[39m\u001b[34m(self, metrics)\u001b[39m\n\u001b[32m    180\u001b[39m \u001b[38;5;28;01mif\u001b[39;00m \u001b[38;5;28mlen\u001b[39m(\u001b[38;5;28mself\u001b[39m.test_cases) == \u001b[32m0\u001b[39m:\n\u001b[32m    181\u001b[39m     \u001b[38;5;28;01mraise\u001b[39;00m \u001b[38;5;167;01mValueError\u001b[39;00m(\n\u001b[32m    182\u001b[39m         \u001b[33m\"\u001b[39m\u001b[33mNo test cases found in evaluation dataset. Unable to evaluate empty dataset.\u001b[39m\u001b[33m\"\u001b[39m\n\u001b[32m    183\u001b[39m     )\n\u001b[32m--> \u001b[39m\u001b[32m185\u001b[39m \u001b[38;5;28;01mreturn\u001b[39;00m \u001b[43mevaluate\u001b[49m\u001b[43m(\u001b[49m\u001b[38;5;28;43mself\u001b[39;49m\u001b[43m.\u001b[49m\u001b[43mtest_cases\u001b[49m\u001b[43m,\u001b[49m\u001b[43m \u001b[49m\u001b[43mmetrics\u001b[49m\u001b[43m)\u001b[49m\n",
      "\u001b[36mFile \u001b[39m\u001b[32mc:\\Users\\mikel\\Documents\\GitHub\\multimodal-rag\\.venv\\Lib\\site-packages\\deepeval\\evaluate.py:1068\u001b[39m, in \u001b[36mevaluate\u001b[39m\u001b[34m(test_cases, metrics, hyperparameters, run_async, show_indicator, print_results, write_cache, use_cache, ignore_errors, skip_on_missing_params, verbose_mode, identifier, throttle_value, max_concurrent, display)\u001b[39m\n\u001b[32m   1066\u001b[39m \u001b[38;5;28;01mif\u001b[39;00m run_async:\n\u001b[32m   1067\u001b[39m     loop = get_or_create_event_loop()\n\u001b[32m-> \u001b[39m\u001b[32m1068\u001b[39m     test_results = \u001b[43mloop\u001b[49m\u001b[43m.\u001b[49m\u001b[43mrun_until_complete\u001b[49m\u001b[43m(\u001b[49m\n\u001b[32m   1069\u001b[39m \u001b[43m        \u001b[49m\u001b[43ma_execute_test_cases\u001b[49m\u001b[43m(\u001b[49m\n\u001b[32m   1070\u001b[39m \u001b[43m            \u001b[49m\u001b[43mtest_cases\u001b[49m\u001b[43m,\u001b[49m\n\u001b[32m   1071\u001b[39m \u001b[43m            \u001b[49m\u001b[43mmetrics\u001b[49m\u001b[43m,\u001b[49m\n\u001b[32m   1072\u001b[39m \u001b[43m            \u001b[49m\u001b[43mignore_errors\u001b[49m\u001b[43m=\u001b[49m\u001b[43mignore_errors\u001b[49m\u001b[43m,\u001b[49m\n\u001b[32m   1073\u001b[39m \u001b[43m            \u001b[49m\u001b[43muse_cache\u001b[49m\u001b[43m=\u001b[49m\u001b[43muse_cache\u001b[49m\u001b[43m,\u001b[49m\n\u001b[32m   1074\u001b[39m \u001b[43m            \u001b[49m\u001b[43mverbose_mode\u001b[49m\u001b[43m=\u001b[49m\u001b[43mverbose_mode\u001b[49m\u001b[43m,\u001b[49m\n\u001b[32m   1075\u001b[39m \u001b[43m            \u001b[49m\u001b[43msave_to_disk\u001b[49m\u001b[43m=\u001b[49m\u001b[43mwrite_cache\u001b[49m\u001b[43m,\u001b[49m\n\u001b[32m   1076\u001b[39m \u001b[43m            \u001b[49m\u001b[43mshow_indicator\u001b[49m\u001b[43m=\u001b[49m\u001b[43mshow_indicator\u001b[49m\u001b[43m,\u001b[49m\n\u001b[32m   1077\u001b[39m \u001b[43m            \u001b[49m\u001b[43mskip_on_missing_params\u001b[49m\u001b[43m=\u001b[49m\u001b[43mskip_on_missing_params\u001b[49m\u001b[43m,\u001b[49m\n\u001b[32m   1078\u001b[39m \u001b[43m            \u001b[49m\u001b[43mthrottle_value\u001b[49m\u001b[43m=\u001b[49m\u001b[43mthrottle_value\u001b[49m\u001b[43m,\u001b[49m\n\u001b[32m   1079\u001b[39m \u001b[43m            \u001b[49m\u001b[43midentifier\u001b[49m\u001b[43m=\u001b[49m\u001b[43midentifier\u001b[49m\u001b[43m,\u001b[49m\n\u001b[32m   1080\u001b[39m \u001b[43m            \u001b[49m\u001b[43mmax_concurrent\u001b[49m\u001b[43m=\u001b[49m\u001b[43mmax_concurrent\u001b[49m\u001b[43m,\u001b[49m\n\u001b[32m   1081\u001b[39m \u001b[43m        \u001b[49m\u001b[43m)\u001b[49m\n\u001b[32m   1082\u001b[39m \u001b[43m    \u001b[49m\u001b[43m)\u001b[49m\n\u001b[32m   1083\u001b[39m \u001b[38;5;28;01melse\u001b[39;00m:\n\u001b[32m   1084\u001b[39m     test_results = execute_test_cases(\n\u001b[32m   1085\u001b[39m         test_cases,\n\u001b[32m   1086\u001b[39m         metrics,\n\u001b[32m   (...)\u001b[39m\u001b[32m   1093\u001b[39m         show_indicator=show_indicator,\n\u001b[32m   1094\u001b[39m     )\n",
      "\u001b[36mFile \u001b[39m\u001b[32mc:\\Users\\mikel\\Documents\\GitHub\\multimodal-rag\\.venv\\Lib\\site-packages\\nest_asyncio.py:98\u001b[39m, in \u001b[36m_patch_loop.<locals>.run_until_complete\u001b[39m\u001b[34m(self, future)\u001b[39m\n\u001b[32m     95\u001b[39m \u001b[38;5;28;01mif\u001b[39;00m \u001b[38;5;129;01mnot\u001b[39;00m f.done():\n\u001b[32m     96\u001b[39m     \u001b[38;5;28;01mraise\u001b[39;00m \u001b[38;5;167;01mRuntimeError\u001b[39;00m(\n\u001b[32m     97\u001b[39m         \u001b[33m'\u001b[39m\u001b[33mEvent loop stopped before Future completed.\u001b[39m\u001b[33m'\u001b[39m)\n\u001b[32m---> \u001b[39m\u001b[32m98\u001b[39m \u001b[38;5;28;01mreturn\u001b[39;00m \u001b[43mf\u001b[49m\u001b[43m.\u001b[49m\u001b[43mresult\u001b[49m\u001b[43m(\u001b[49m\u001b[43m)\u001b[49m\n",
      "\u001b[36mFile \u001b[39m\u001b[32m~\\AppData\\Roaming\\uv\\python\\cpython-3.12.9-windows-x86_64-none\\Lib\\asyncio\\futures.py:202\u001b[39m, in \u001b[36mFuture.result\u001b[39m\u001b[34m(self)\u001b[39m\n\u001b[32m    200\u001b[39m \u001b[38;5;28mself\u001b[39m.__log_traceback = \u001b[38;5;28;01mFalse\u001b[39;00m\n\u001b[32m    201\u001b[39m \u001b[38;5;28;01mif\u001b[39;00m \u001b[38;5;28mself\u001b[39m._exception \u001b[38;5;129;01mis\u001b[39;00m \u001b[38;5;129;01mnot\u001b[39;00m \u001b[38;5;28;01mNone\u001b[39;00m:\n\u001b[32m--> \u001b[39m\u001b[32m202\u001b[39m     \u001b[38;5;28;01mraise\u001b[39;00m \u001b[38;5;28mself\u001b[39m._exception.with_traceback(\u001b[38;5;28mself\u001b[39m._exception_tb)\n\u001b[32m    203\u001b[39m \u001b[38;5;28;01mreturn\u001b[39;00m \u001b[38;5;28mself\u001b[39m._result\n",
      "\u001b[36mFile \u001b[39m\u001b[32m~\\AppData\\Roaming\\uv\\python\\cpython-3.12.9-windows-x86_64-none\\Lib\\asyncio\\tasks.py:316\u001b[39m, in \u001b[36mTask.__step_run_and_handle_result\u001b[39m\u001b[34m(***failed resolving arguments***)\u001b[39m\n\u001b[32m    314\u001b[39m         result = coro.send(\u001b[38;5;28;01mNone\u001b[39;00m)\n\u001b[32m    315\u001b[39m     \u001b[38;5;28;01melse\u001b[39;00m:\n\u001b[32m--> \u001b[39m\u001b[32m316\u001b[39m         result = \u001b[43mcoro\u001b[49m\u001b[43m.\u001b[49m\u001b[43mthrow\u001b[49m\u001b[43m(\u001b[49m\u001b[43mexc\u001b[49m\u001b[43m)\u001b[49m\n\u001b[32m    317\u001b[39m \u001b[38;5;28;01mexcept\u001b[39;00m \u001b[38;5;167;01mStopIteration\u001b[39;00m \u001b[38;5;28;01mas\u001b[39;00m exc:\n\u001b[32m    318\u001b[39m     \u001b[38;5;28;01mif\u001b[39;00m \u001b[38;5;28mself\u001b[39m._must_cancel:\n\u001b[32m    319\u001b[39m         \u001b[38;5;66;03m# Task is cancelled right before coro stops.\u001b[39;00m\n",
      "\u001b[36mFile \u001b[39m\u001b[32mc:\\Users\\mikel\\Documents\\GitHub\\multimodal-rag\\.venv\\Lib\\site-packages\\deepeval\\evaluate.py:695\u001b[39m, in \u001b[36ma_execute_test_cases\u001b[39m\u001b[34m(test_cases, metrics, ignore_errors, skip_on_missing_params, use_cache, show_indicator, throttle_value, max_concurrent, save_to_disk, verbose_mode, identifier, test_run_manager, _use_bar_indicator)\u001b[39m\n\u001b[32m    692\u001b[39m                     tasks.append(asyncio.create_task(task))\n\u001b[32m    694\u001b[39m                 \u001b[38;5;28;01mawait\u001b[39;00m asyncio.sleep(throttle_value)\n\u001b[32m--> \u001b[39m\u001b[32m695\u001b[39m         \u001b[38;5;28;01mawait\u001b[39;00m asyncio.gather(*tasks)\n\u001b[32m    696\u001b[39m \u001b[38;5;28;01melse\u001b[39;00m:\n\u001b[32m    697\u001b[39m     \u001b[38;5;28;01mfor\u001b[39;00m test_case \u001b[38;5;129;01min\u001b[39;00m test_cases:\n",
      "\u001b[36mFile \u001b[39m\u001b[32m~\\AppData\\Roaming\\uv\\python\\cpython-3.12.9-windows-x86_64-none\\Lib\\asyncio\\tasks.py:385\u001b[39m, in \u001b[36mTask.__wakeup\u001b[39m\u001b[34m(self, future)\u001b[39m\n\u001b[32m    383\u001b[39m \u001b[38;5;28;01mdef\u001b[39;00m\u001b[38;5;250m \u001b[39m\u001b[34m__wakeup\u001b[39m(\u001b[38;5;28mself\u001b[39m, future):\n\u001b[32m    384\u001b[39m     \u001b[38;5;28;01mtry\u001b[39;00m:\n\u001b[32m--> \u001b[39m\u001b[32m385\u001b[39m         \u001b[43mfuture\u001b[49m\u001b[43m.\u001b[49m\u001b[43mresult\u001b[49m\u001b[43m(\u001b[49m\u001b[43m)\u001b[49m\n\u001b[32m    386\u001b[39m     \u001b[38;5;28;01mexcept\u001b[39;00m \u001b[38;5;167;01mBaseException\u001b[39;00m \u001b[38;5;28;01mas\u001b[39;00m exc:\n\u001b[32m    387\u001b[39m         \u001b[38;5;66;03m# This may also be a cancellation.\u001b[39;00m\n\u001b[32m    388\u001b[39m         \u001b[38;5;28mself\u001b[39m.__step(exc)\n",
      "\u001b[36mFile \u001b[39m\u001b[32m~\\AppData\\Roaming\\uv\\python\\cpython-3.12.9-windows-x86_64-none\\Lib\\asyncio\\tasks.py:316\u001b[39m, in \u001b[36mTask.__step_run_and_handle_result\u001b[39m\u001b[34m(***failed resolving arguments***)\u001b[39m\n\u001b[32m    314\u001b[39m         result = coro.send(\u001b[38;5;28;01mNone\u001b[39;00m)\n\u001b[32m    315\u001b[39m     \u001b[38;5;28;01melse\u001b[39;00m:\n\u001b[32m--> \u001b[39m\u001b[32m316\u001b[39m         result = \u001b[43mcoro\u001b[49m\u001b[43m.\u001b[49m\u001b[43mthrow\u001b[49m\u001b[43m(\u001b[49m\u001b[43mexc\u001b[49m\u001b[43m)\u001b[49m\n\u001b[32m    317\u001b[39m \u001b[38;5;28;01mexcept\u001b[39;00m \u001b[38;5;167;01mStopIteration\u001b[39;00m \u001b[38;5;28;01mas\u001b[39;00m exc:\n\u001b[32m    318\u001b[39m     \u001b[38;5;28;01mif\u001b[39;00m \u001b[38;5;28mself\u001b[39m._must_cancel:\n\u001b[32m    319\u001b[39m         \u001b[38;5;66;03m# Task is cancelled right before coro stops.\u001b[39;00m\n",
      "\u001b[36mFile \u001b[39m\u001b[32mc:\\Users\\mikel\\Documents\\GitHub\\multimodal-rag\\.venv\\Lib\\site-packages\\deepeval\\evaluate.py:591\u001b[39m, in \u001b[36ma_execute_test_cases.<locals>.execute_with_semaphore\u001b[39m\u001b[34m(func, *args, **kwargs)\u001b[39m\n\u001b[32m    589\u001b[39m \u001b[38;5;28;01masync\u001b[39;00m \u001b[38;5;28;01mdef\u001b[39;00m\u001b[38;5;250m \u001b[39m\u001b[34mexecute_with_semaphore\u001b[39m(func: Callable, *args, **kwargs):\n\u001b[32m    590\u001b[39m     \u001b[38;5;28;01masync\u001b[39;00m \u001b[38;5;28;01mwith\u001b[39;00m semaphore:\n\u001b[32m--> \u001b[39m\u001b[32m591\u001b[39m         \u001b[38;5;28;01mreturn\u001b[39;00m \u001b[38;5;28;01mawait\u001b[39;00m func(*args, **kwargs)\n",
      "\u001b[36mFile \u001b[39m\u001b[32mc:\\Users\\mikel\\Documents\\GitHub\\multimodal-rag\\.venv\\Lib\\site-packages\\deepeval\\evaluate.py:802\u001b[39m, in \u001b[36ma_execute_llm_test_cases\u001b[39m\u001b[34m(metrics, test_case, test_run_manager, test_results, count, test_run, ignore_errors, skip_on_missing_params, use_cache, show_indicator, _use_bar_indicator, pbar)\u001b[39m\n\u001b[32m    800\u001b[39m new_cached_test_case: CachedTestCase = CachedTestCase()\n\u001b[32m    801\u001b[39m test_start_time = time.perf_counter()\n\u001b[32m--> \u001b[39m\u001b[32m802\u001b[39m \u001b[38;5;28;01mawait\u001b[39;00m measure_metrics_with_indicator(\n\u001b[32m    803\u001b[39m     metrics=metrics,\n\u001b[32m    804\u001b[39m     test_case=test_case,\n\u001b[32m    805\u001b[39m     cached_test_case=cached_test_case,\n\u001b[32m    806\u001b[39m     skip_on_missing_params=skip_on_missing_params,\n\u001b[32m    807\u001b[39m     ignore_errors=ignore_errors,\n\u001b[32m    808\u001b[39m     show_indicator=show_metrics_indicator,\n\u001b[32m    809\u001b[39m )\n\u001b[32m    811\u001b[39m \u001b[38;5;28;01mfor\u001b[39;00m metric \u001b[38;5;129;01min\u001b[39;00m metrics:\n\u001b[32m    812\u001b[39m     \u001b[38;5;28;01mif\u001b[39;00m metric.skipped:\n",
      "\u001b[36mFile \u001b[39m\u001b[32mc:\\Users\\mikel\\Documents\\GitHub\\multimodal-rag\\.venv\\Lib\\site-packages\\deepeval\\metrics\\indicator.py:201\u001b[39m, in \u001b[36mmeasure_metrics_with_indicator\u001b[39m\u001b[34m(metrics, test_case, cached_test_case, ignore_errors, skip_on_missing_params, show_indicator)\u001b[39m\n\u001b[32m    194\u001b[39m     \u001b[38;5;28;01melse\u001b[39;00m:\n\u001b[32m    195\u001b[39m         tasks.append(\n\u001b[32m    196\u001b[39m             safe_a_measure(\n\u001b[32m    197\u001b[39m                 metric, test_case, ignore_errors, skip_on_missing_params\n\u001b[32m    198\u001b[39m             )\n\u001b[32m    199\u001b[39m         )\n\u001b[32m--> \u001b[39m\u001b[32m201\u001b[39m \u001b[38;5;28;01mawait\u001b[39;00m asyncio.gather(*tasks)\n",
      "\u001b[36mFile \u001b[39m\u001b[32m~\\AppData\\Roaming\\uv\\python\\cpython-3.12.9-windows-x86_64-none\\Lib\\asyncio\\tasks.py:385\u001b[39m, in \u001b[36mTask.__wakeup\u001b[39m\u001b[34m(self, future)\u001b[39m\n\u001b[32m    383\u001b[39m \u001b[38;5;28;01mdef\u001b[39;00m\u001b[38;5;250m \u001b[39m\u001b[34m__wakeup\u001b[39m(\u001b[38;5;28mself\u001b[39m, future):\n\u001b[32m    384\u001b[39m     \u001b[38;5;28;01mtry\u001b[39;00m:\n\u001b[32m--> \u001b[39m\u001b[32m385\u001b[39m         \u001b[43mfuture\u001b[49m\u001b[43m.\u001b[49m\u001b[43mresult\u001b[49m\u001b[43m(\u001b[49m\u001b[43m)\u001b[49m\n\u001b[32m    386\u001b[39m     \u001b[38;5;28;01mexcept\u001b[39;00m \u001b[38;5;167;01mBaseException\u001b[39;00m \u001b[38;5;28;01mas\u001b[39;00m exc:\n\u001b[32m    387\u001b[39m         \u001b[38;5;66;03m# This may also be a cancellation.\u001b[39;00m\n\u001b[32m    388\u001b[39m         \u001b[38;5;28mself\u001b[39m.__step(exc)\n",
      "\u001b[36mFile \u001b[39m\u001b[32m~\\AppData\\Roaming\\uv\\python\\cpython-3.12.9-windows-x86_64-none\\Lib\\asyncio\\tasks.py:314\u001b[39m, in \u001b[36mTask.__step_run_and_handle_result\u001b[39m\u001b[34m(***failed resolving arguments***)\u001b[39m\n\u001b[32m    310\u001b[39m \u001b[38;5;28;01mtry\u001b[39;00m:\n\u001b[32m    311\u001b[39m     \u001b[38;5;28;01mif\u001b[39;00m exc \u001b[38;5;129;01mis\u001b[39;00m \u001b[38;5;28;01mNone\u001b[39;00m:\n\u001b[32m    312\u001b[39m         \u001b[38;5;66;03m# We use the `send` method directly, because coroutines\u001b[39;00m\n\u001b[32m    313\u001b[39m         \u001b[38;5;66;03m# don't have `__iter__` and `__next__` methods.\u001b[39;00m\n\u001b[32m--> \u001b[39m\u001b[32m314\u001b[39m         result = \u001b[43mcoro\u001b[49m\u001b[43m.\u001b[49m\u001b[43msend\u001b[49m\u001b[43m(\u001b[49m\u001b[38;5;28;43;01mNone\u001b[39;49;00m\u001b[43m)\u001b[49m\n\u001b[32m    315\u001b[39m     \u001b[38;5;28;01melse\u001b[39;00m:\n\u001b[32m    316\u001b[39m         result = coro.throw(exc)\n",
      "\u001b[36mFile \u001b[39m\u001b[32mc:\\Users\\mikel\\Documents\\GitHub\\multimodal-rag\\.venv\\Lib\\site-packages\\deepeval\\metrics\\indicator.py:211\u001b[39m, in \u001b[36msafe_a_measure\u001b[39m\u001b[34m(metric, tc, ignore_errors, skip_on_missing_params)\u001b[39m\n\u001b[32m    204\u001b[39m \u001b[38;5;28;01masync\u001b[39;00m \u001b[38;5;28;01mdef\u001b[39;00m\u001b[38;5;250m \u001b[39m\u001b[34msafe_a_measure\u001b[39m(\n\u001b[32m    205\u001b[39m     metric: Union[BaseMetric, BaseMultimodalMetric, BaseConversationalMetric],\n\u001b[32m    206\u001b[39m     tc: Union[LLMTestCase, MLLMTestCase, ConversationalTestCase],\n\u001b[32m    207\u001b[39m     ignore_errors: \u001b[38;5;28mbool\u001b[39m,\n\u001b[32m    208\u001b[39m     skip_on_missing_params: \u001b[38;5;28mbool\u001b[39m,\n\u001b[32m    209\u001b[39m ):\n\u001b[32m    210\u001b[39m     \u001b[38;5;28;01mtry\u001b[39;00m:\n\u001b[32m--> \u001b[39m\u001b[32m211\u001b[39m         \u001b[38;5;28;01mawait\u001b[39;00m metric.a_measure(tc, _show_indicator=\u001b[38;5;28;01mFalse\u001b[39;00m)\n\u001b[32m    212\u001b[39m     \u001b[38;5;28;01mexcept\u001b[39;00m MissingTestCaseParamsError \u001b[38;5;28;01mas\u001b[39;00m e:\n\u001b[32m    213\u001b[39m         \u001b[38;5;28;01mif\u001b[39;00m skip_on_missing_params:\n",
      "\u001b[36mFile \u001b[39m\u001b[32mc:\\Users\\mikel\\Documents\\GitHub\\multimodal-rag\\.venv\\Lib\\site-packages\\deepeval\\metrics\\answer_relevancy\\answer_relevancy.py:99\u001b[39m, in \u001b[36mAnswerRelevancyMetric.a_measure\u001b[39m\u001b[34m(self, test_case, _show_indicator)\u001b[39m\n\u001b[32m     95\u001b[39m \u001b[38;5;28mself\u001b[39m.evaluation_cost = \u001b[32m0\u001b[39m \u001b[38;5;28;01mif\u001b[39;00m \u001b[38;5;28mself\u001b[39m.using_native_model \u001b[38;5;28;01melse\u001b[39;00m \u001b[38;5;28;01mNone\u001b[39;00m\n\u001b[32m     96\u001b[39m \u001b[38;5;28;01mwith\u001b[39;00m metric_progress_indicator(\n\u001b[32m     97\u001b[39m     \u001b[38;5;28mself\u001b[39m, async_mode=\u001b[38;5;28;01mTrue\u001b[39;00m, _show_indicator=_show_indicator\n\u001b[32m     98\u001b[39m ):\n\u001b[32m---> \u001b[39m\u001b[32m99\u001b[39m     \u001b[38;5;28mself\u001b[39m.statements: List[\u001b[38;5;28mstr\u001b[39m] = \u001b[38;5;28;01mawait\u001b[39;00m \u001b[38;5;28mself\u001b[39m._a_generate_statements(\n\u001b[32m    100\u001b[39m         test_case.actual_output\n\u001b[32m    101\u001b[39m     )\n\u001b[32m    102\u001b[39m     \u001b[38;5;28mself\u001b[39m.verdicts: List[AnswerRelevancyVerdict] = (\n\u001b[32m    103\u001b[39m         \u001b[38;5;28;01mawait\u001b[39;00m \u001b[38;5;28mself\u001b[39m._a_generate_verdicts(test_case.input)\n\u001b[32m    104\u001b[39m     )\n\u001b[32m    105\u001b[39m     \u001b[38;5;28mself\u001b[39m.score = \u001b[38;5;28mself\u001b[39m._calculate_score()\n",
      "\u001b[36mFile \u001b[39m\u001b[32mc:\\Users\\mikel\\Documents\\GitHub\\multimodal-rag\\.venv\\Lib\\site-packages\\deepeval\\metrics\\answer_relevancy\\answer_relevancy.py:237\u001b[39m, in \u001b[36mAnswerRelevancyMetric._a_generate_statements\u001b[39m\u001b[34m(self, actual_output)\u001b[39m\n\u001b[32m    235\u001b[39m     res, cost = \u001b[38;5;28;01mawait\u001b[39;00m \u001b[38;5;28mself\u001b[39m.model.a_generate(prompt, schema=Statements)\n\u001b[32m    236\u001b[39m     \u001b[38;5;28mself\u001b[39m.evaluation_cost += cost\n\u001b[32m--> \u001b[39m\u001b[32m237\u001b[39m     \u001b[38;5;28;01mreturn\u001b[39;00m \u001b[43mres\u001b[49m\u001b[43m.\u001b[49m\u001b[43mstatements\u001b[49m\n\u001b[32m    238\u001b[39m \u001b[38;5;28;01melse\u001b[39;00m:\n\u001b[32m    239\u001b[39m     \u001b[38;5;28;01mtry\u001b[39;00m:\n",
      "\u001b[31mAttributeError\u001b[39m: 'NoneType' object has no attribute 'statements'"
     ]
    }
   ],
   "source": [
    "from deepeval.metrics import AnswerRelevancyMetric\n",
    "from time import sleep\n",
    "\n",
    "answer_relevancy_metric = AnswerRelevancyMetric(threshold=0.5, model=judge_llm, include_reason=True)\n",
    "\n",
    "results = []\n",
    "batch_size = 5\n",
    "for i in range(0, len(dataset), batch_size):\n",
    "    partial_dataset = EvaluationDataset(test_cases=dataset.test_cases[i:i+batch_size])\n",
    "    partial_result = partial_dataset.evaluate([answer_relevancy_metric])\n",
    "    results.append(partial_result)\n",
    "    print(f\"Sleeping for 70 seconds after processing {i+batch_size} queries\")\n",
    "    sleep(70)\n",
    "    print(\"Resuming\")"
   ]
  },
  {
   "cell_type": "code",
   "execution_count": 17,
   "metadata": {},
   "outputs": [],
   "source": [
    "import pickle\n",
    "pickle.dump(results, open(DATASET_PATH.parent / \"answer_relevancy.pkl\", \"wb\"))"
   ]
  },
  {
   "cell_type": "code",
   "execution_count": 18,
   "metadata": {},
   "outputs": [
    {
     "data": {
      "text/plain": [
       "[EvaluationResult(test_results=[TestResult(name='test_case_0', success=True, metrics_data=[MetricData(name='Answer Relevancy', threshold=0.5, success=True, score=1.0, reason='The score is 1.00 because the output perfectly answers the question without any irrelevant information. Great job!', strict_mode=False, evaluation_model='gemini-2.0-flash-lite', error=None, evaluation_cost=0.0, verbose_logs='Statements:\\n[\\n    \"EuCuAs has a helical and a DP-AFM crystal magnetic structure.\",\\n    \"The helical structure is described by the propagation vector $q_m = (0, 0, 0.1)$ at the temperature $T = 2$ K.\",\\n    \"The DP-AFM structure has a propagation vector $q_m = (0, 0, 0)$.\"\\n] \\n \\nVerdicts:\\n[\\n    {\\n        \"verdict\": \"yes\",\\n        \"reason\": null\\n    },\\n    {\\n        \"verdict\": \"yes\",\\n        \"reason\": null\\n    },\\n    {\\n        \"verdict\": \"yes\",\\n        \"reason\": null\\n    }\\n]')], conversational=False, multimodal=False, input='What crystal magnetic structure does EuCuAs have?', actual_output='EuCuAs has a helical and a DP-AFM crystal magnetic structure. The helical structure is described by the propagation vector $q_m = (0, 0, 0.1)$ at the temperature $T = 2$ K. The DP-AFM structure has a propagation vector $q_m = (0, 0, 0)$.', expected_output='EuCuAs is described by the centrosymmetric P63/mmc space group with a hexaognal unit cell. It has an A-type or DP-type antiferromagnetic order or a helical spin arrangement.', context=None, retrieval_context=None, additional_metadata=None)], confident_link=None),\n",
       " EvaluationResult(test_results=[TestResult(name='test_case_1', success=True, metrics_data=[MetricData(name='Answer Relevancy', threshold=0.5, success=True, score=1.0, reason='The score is 1.00 because the output perfectly addresses the question without any irrelevant information. Great job!', strict_mode=False, evaluation_model='gemini-2.0-flash-lite', error=None, evaluation_cost=0.0, verbose_logs='Statements:\\n[\\n    \"The estimated exchange parameters for EuCuAs are provided in the context.\",\\n    \"The parameters are $J_0=0.42$, $J_1=0.021$, $J_2=-0.021$, and $J_3=0.0099$ in meV.\"\\n] \\n \\nVerdicts:\\n[\\n    {\\n        \"verdict\": \"yes\",\\n        \"reason\": null\\n    },\\n    {\\n        \"verdict\": \"yes\",\\n        \"reason\": null\\n    }\\n]')], conversational=False, multimodal=False, input='What are the estimated exchange parameters for EuCuAs?', actual_output='The estimated exchange parameters for EuCuAs are provided in the context. The parameters are $J_0=0.42$, $J_1=0.021$, $J_2=-0.021$, and $J_3=0.0099$ in meV.', expected_output='The estimated exchange and anisotropy parameters (in meV) for EuCuAs are:\\\\n\\\\nFor τ = 0.42: J0 = – 0.021, J1 = -0.021, J2 = 0.009, D is not specified. For τ = 0.59: J0 = 0.060(3), J1 = -0.0077, J2 = -0.0069, D = 0.011', context=None, retrieval_context=None, additional_metadata=None)], confident_link=None),\n",
       " EvaluationResult(test_results=[TestResult(name='test_case_2', success=True, metrics_data=[MetricData(name='Answer Relevancy', threshold=0.5, success=True, score=1.0, reason='The score is 1.00 because the output perfectly addresses the question without any irrelevant information. Great job!', strict_mode=False, evaluation_model='gemini-2.0-flash-lite', error=None, evaluation_cost=0.0, verbose_logs='Statements:\\n[\\n    \"The magnetic behavior of EuCuAs can be described by a spin Hamiltonian.\",\\n    \"The spin Hamiltonian is described by the equation: $H = \\\\sum_{i,j} J_{ij} \\\\vec{S}_i \\\\cdot \\\\vec{S}_j + D(\\\\vec{S}_i^z)^2 + g \\\\mu_B \\\\vec{S} \\\\cdot \\\\vec{B}$.\",\\n    \"This approach is used to analyze the magnetic properties of the material.\"\\n] \\n \\nVerdicts:\\n[\\n    {\\n        \"verdict\": \"yes\",\\n        \"reason\": null\\n    },\\n    {\\n        \"verdict\": \"yes\",\\n        \"reason\": null\\n    },\\n    {\\n        \"verdict\": \"yes\",\\n        \"reason\": null\\n    }\\n]')], conversational=False, multimodal=False, input='Can the magnetic behavior of EuCuAs be described by a spin Hamiltonian?', actual_output='Yes, the magnetic behavior of EuCuAs can be described by a spin Hamiltonian. The spin Hamiltonian is described by the equation: $H = \\\\sum_{i,j} J_{ij} \\\\vec{S}_i \\\\cdot \\\\vec{S}_j + D(\\\\vec{S}_i^z)^2 + g \\\\mu_B \\\\vec{S} \\\\cdot \\\\vec{B}$. This approach is used to analyze the magnetic properties of the material.', expected_output='Yes, the magnetic behavior of EuCuAs can be described by a spin Hamiltonian because the spins on Eu are large (S = 7/2) and localized.', context=None, retrieval_context=None, additional_metadata=None)], confident_link=None),\n",
       " EvaluationResult(test_results=[TestResult(name='test_case_3', success=True, metrics_data=[MetricData(name='Answer Relevancy', threshold=0.5, success=True, score=1.0, reason='The score is 1.00 because the output is perfectly relevant and concise, directly addressing the question without any irrelevant information. Great job!', strict_mode=False, evaluation_model='gemini-2.0-flash-lite', error=None, evaluation_cost=0.0, verbose_logs='Statements:\\n[\\n    \"Superconductivity in a graphene superlattice is measured by analyzing the resistance of the material as a function of temperature.\",\\n    \"The resistance is measured using a four-probe configuration.\",\\n    \"The superconducting transition temperature is determined by the point at which the resistance drops to zero.\"\\n] \\n \\nVerdicts:\\n[\\n    {\\n        \"verdict\": \"yes\",\\n        \"reason\": null\\n    },\\n    {\\n        \"verdict\": \"yes\",\\n        \"reason\": null\\n    },\\n    {\\n        \"verdict\": \"yes\",\\n        \"reason\": null\\n    }\\n]')], conversational=False, multimodal=False, input='How is the superconductivity measured in a graphene superlattice?', actual_output='Superconductivity in a graphene superlattice is measured by analyzing the resistance of the material as a function of temperature. The resistance is measured using a four-probe configuration. The superconducting transition temperature is determined by the point at which the resistance drops to zero.', expected_output='Superconductivity is measured using a four-probe measurement scheme with voltage probes (Vxx, Vg), current (I), and bias voltage (Vbias). The electron density is tuned by a metal gate beneath the bottom hexagonal boron nitride layer.', context=None, retrieval_context=None, additional_metadata=None)], confident_link=None),\n",
       " EvaluationResult(test_results=[TestResult(name='test_case_4', success=True, metrics_data=[MetricData(name='Answer Relevancy', threshold=0.5, success=True, score=1.0, reason='The score is 1.00 because the output perfectly addresses the question without any irrelevant information. Great job!', strict_mode=False, evaluation_model='gemini-2.0-flash-lite', error=None, evaluation_cost=0.0, verbose_logs='Statements:\\n[\\n    \"The interplay between metal, Mott, and superconductor phases in magic angle TBG is related to the continuous tuning of temperature, magnetic field, and carrier density.\",\\n    \"The metallic phase appears at high temperatures.\",\\n    \"The Mott insulator phase forms at half-filling.\",\\n    \"The superconducting phase emerges at low temperatures.\"\\n] \\n \\nVerdicts:\\n[\\n    {\\n        \"verdict\": \"yes\",\\n        \"reason\": null\\n    },\\n    {\\n        \"verdict\": \"yes\",\\n        \"reason\": null\\n    },\\n    {\\n        \"verdict\": \"yes\",\\n        \"reason\": null\\n    },\\n    {\\n        \"verdict\": \"yes\",\\n        \"reason\": null\\n    }\\n]')], conversational=False, multimodal=False, input='Explain what is the interplay between metal, Mott and superconductor phases in magic angle TBG.', actual_output='The interplay between metal, Mott, and superconductor phases in magic angle TBG is related to the continuous tuning of temperature, magnetic field, and carrier density. The metallic phase appears at high temperatures, while the Mott insulator phase forms at half-filling. The superconducting phase emerges at low temperatures.', expected_output='In magic-angle TBG, superconductivity is achieved when the material is dopded slighlty away from the Mott insulator phase.', context=None, retrieval_context=None, additional_metadata=None)], confident_link=None),\n",
       " EvaluationResult(test_results=[TestResult(name='test_case_5', success=True, metrics_data=[MetricData(name='Answer Relevancy', threshold=0.5, success=True, score=0.8, reason='The score is 0.80 because the output includes information about magic angles, which is not directly relevant to the relationship between superconductivity and carrier density as requested in the input. However, the output likely still provides some relevant information, hence the score is not lower.', strict_mode=False, evaluation_model='gemini-2.0-flash-lite', error=None, evaluation_cost=0.0, verbose_logs='Statements:\\n[\\n    \"Superconductivity in magic-angle TBG is highly sensitive to carrier density.\",\\n    \"The critical temperature, $T_c$, for superconductivity is highest at certain \"magic\" angles.\",\\n    \"The critical temperature decreases as the carrier density deviates from these optimal values.\",\\n    \"This behavior is related to the formation of correlated insulating states.\",\\n    \"This behavior is related to other quantum oscillations within the material.\"\\n] \\n \\nVerdicts:\\n[\\n    {\\n        \"verdict\": \"yes\",\\n        \"reason\": null\\n    },\\n    {\\n        \"verdict\": \"no\",\\n        \"reason\": \"The statement mentions magic angles, but the input asks about the relationship between superconductivity and carrier density.\"\\n    },\\n    {\\n        \"verdict\": \"yes\",\\n        \"reason\": null\\n    },\\n    {\\n        \"verdict\": \"yes\",\\n        \"reason\": null\\n    },\\n    {\\n        \"verdict\": \"idk\",\\n        \"reason\": null\\n    }\\n]')], conversational=False, multimodal=False, input='Explain how superconductivity changes in magic angle TBG with respect to carrier density.', actual_output='Superconductivity in magic-angle TBG is highly sensitive to carrier density. The critical temperature, $T_c$, for superconductivity is highest at certain \"magic\" angles and decreases as the carrier density deviates from these optimal values. This behavior is related to the formation of correlated insulating states and other quantum oscillations within the material.', expected_output='The phase diagram, which depends on carrier density and temperature, shows two superconducting domes at low temperature separated by a Mott phase. Above the critical temperature, the superconducting phase becomes a metal.', context=None, retrieval_context=None, additional_metadata=None)], confident_link=None),\n",
       " EvaluationResult(test_results=[TestResult(name='test_case_6', success=True, metrics_data=[MetricData(name='Answer Relevancy', threshold=0.5, success=True, score=1.0, reason='The score is 1.00 because the output perfectly addresses the question without any irrelevant information. Great job!', strict_mode=False, evaluation_model='gemini-2.0-flash-lite', error=None, evaluation_cost=0.0, verbose_logs='Statements:\\n[\\n    \"I am sorry, but I don\\'t see information on how to model the resistance of a normal and chiral conductor as a circuit component.\"\\n] \\n \\nVerdicts:\\n[\\n    {\\n        \"verdict\": \"yes\",\\n        \"reason\": null\\n    }\\n]')], conversational=False, multimodal=False, input='How can the resistance of a normal and chiral conductor be modeled as a circuit component?', actual_output=\"I am sorry, but I don't see information on how to model the resistance of a normal and chiral conductor as a circuit component.\", expected_output='A normal conductor can me modeled as a resistance with $R(B) = R_0(1+\\\\mu^2 B^2)$ and a chiral conductor is represented as a resistance with a coil such that $R(I,B) = R_0(1+\\\\mu^2 B^2 + \\\\gamma B\\\\cdot I)$.', context=None, retrieval_context=None, additional_metadata=None)], confident_link=None),\n",
       " EvaluationResult(test_results=[TestResult(name='test_case_7', success=True, metrics_data=[MetricData(name='Answer Relevancy', threshold=0.5, success=True, score=0.6666666666666666, reason='The score is 0.67 because the output included information about the temperature at which the signal is significant, which is not directly related to the angular dependence of the eMChA. However, the output likely addressed the core question about angular dependence, leading to a score above a simple fail.', strict_mode=False, evaluation_model='gemini-2.0-flash-lite', error=None, evaluation_cost=0.0, verbose_logs='Statements:\\n[\\n    \"The angular dependence of the electronic magnetochiral anisotropy (eMChA) in CsV3Sb5 is observed in the experiments.\",\\n    \"The eMChA signal is significant only at temperatures below 7.5K.\",\\n    \"The eMChA shows a direct correspondence between electronic chirality, unidirectional orbital order, and spontaneous time-reversal symmetry breaking due to putative orbital loop currents.\"\\n] \\n \\nVerdicts:\\n[\\n    {\\n        \"verdict\": \"yes\",\\n        \"reason\": null\\n    },\\n    {\\n        \"verdict\": \"no\",\\n        \"reason\": \"The temperature at which the signal is significant is not the angular dependence.\"\\n    },\\n    {\\n        \"verdict\": \"idk\",\\n        \"reason\": null\\n    }\\n]')], conversational=False, multimodal=False, input='What is the angular dependence of the electronic magnetochiral anisotropy (eMChA) in CsV3Sb5?', actual_output='The angular dependence of the electronic magnetochiral anisotropy (eMChA) in CsV3Sb5 is observed in the experiments. The eMChA signal is significant only at temperatures below 7.5K. The eMChA shows a direct correspondence between electronic chirality, unidirectional orbital order, and spontaneous time-reversal symmetry breaking due to putative orbital loop currents.', expected_output='The second harmonic response $V_{2\\\\omega}$ shows a sudden sign reversal within 0.5º when the current is applied along the c axis ($I||c$).', context=None, retrieval_context=None, additional_metadata=None)], confident_link=None),\n",
       " EvaluationResult(test_results=[TestResult(name='test_case_8', success=True, metrics_data=[MetricData(name='Answer Relevancy', threshold=0.5, success=True, score=1.0, reason='The score is 1.00 because the output perfectly addresses the question without any irrelevant information. Great job!', strict_mode=False, evaluation_model='gemini-2.0-flash-lite', error=None, evaluation_cost=0.0, verbose_logs='Statements:\\n[\\n    \"The electronic magnetochiral anisotropy (eMChA) in CsV3Sb5 exhibits a temperature dependence.\",\\n    \"The eMChA signal becomes significant only at temperatures below 35 K.\",\\n    \"At low temperatures, the eMChA is enabled by the breaking of mirror symmetry.\"\\n] \\n \\nVerdicts:\\n[\\n    {\\n        \"verdict\": \"yes\",\\n        \"reason\": null\\n    },\\n    {\\n        \"verdict\": \"yes\",\\n        \"reason\": null\\n    },\\n    {\\n        \"verdict\": \"yes\",\\n        \"reason\": null\\n    }\\n]')], conversational=False, multimodal=False, input='What is the temperature dependence of the electronic magnetochiral anisotropy (eMChA) in CsV3Sb5?', actual_output='The electronic magnetochiral anisotropy (eMChA) in CsV3Sb5 exhibits a temperature dependence. The eMChA signal becomes significant only at temperatures below 35 K. At low temperatures, the eMChA is enabled by the breaking of mirror symmetry.', expected_output='The sudden sign reversal in the second harmonic response $V_{2\\\\omega}$ is less pronounced with increasing temperature.', context=None, retrieval_context=None, additional_metadata=None)], confident_link=None),\n",
       " EvaluationResult(test_results=[TestResult(name='test_case_9', success=True, metrics_data=[MetricData(name='Answer Relevancy', threshold=0.5, success=True, score=0.5, reason='The score is 0.50 because the output contains statements that describe the qubits and their connectivity, the type of qubits, and how computations are performed, but it does not directly explain the architecture of the Sycamore processor in terms of qubits and adjustable couplers as requested. However, it does touch upon related concepts, which contributes to the current score.', strict_mode=False, evaluation_model='gemini-2.0-flash-lite', error=None, evaluation_cost=0.0, verbose_logs='Statements:\\n[\\n    \"The Sycamore processor has a two-dimensional array of 54 qubits.\",\\n    \"Each qubit is connected to four nearest neighbors.\",\\n    \"The architecture includes adjustable couplers.\",\\n    \"Couplers allow for the tuning of the interaction between qubits.\",\\n    \"The processor uses superconducting transmon qubits.\",\\n    \"The processor uses microwave resonators to perform quantum computations.\"\\n] \\n \\nVerdicts:\\n[\\n    {\\n        \"verdict\": \"yes\",\\n        \"reason\": null\\n    },\\n    {\\n        \"verdict\": \"no\",\\n        \"reason\": \"The statement describes the connectivity of the qubits, but not the architecture itself.\"\\n    },\\n    {\\n        \"verdict\": \"yes\",\\n        \"reason\": null\\n    },\\n    {\\n        \"verdict\": \"yes\",\\n        \"reason\": null\\n    },\\n    {\\n        \"verdict\": \"no\",\\n        \"reason\": \"The statement describes the type of qubits, not the architecture.\"\\n    },\\n    {\\n        \"verdict\": \"no\",\\n        \"reason\": \"The statement describes how quantum computations are performed, not the architecture.\"\\n    }\\n]')], conversational=False, multimodal=False, input='Explain the architecture in terms of qubits and adjustable copuplers of the Sycamore processor.', actual_output='The Sycamore processor has a two-dimensional array of 54 qubits, with each qubit connected to four nearest neighbors. The architecture also includes adjustable couplers, which allow for the tuning of the interaction between qubits. The processor uses superconducting transmon qubits and microwave resonators to perform quantum computations.', expected_output='The sycamore processor has 54 qubits in a rectangular array, each one coupled to its four nearest neighbors.', context=None, retrieval_context=None, additional_metadata=None)], confident_link=None),\n",
       " EvaluationResult(test_results=[TestResult(name='test_case_10', success=True, metrics_data=[MetricData(name='Answer Relevancy', threshold=0.5, success=True, score=1.0, reason='The score is 1.00 because the output perfectly addresses the input without any irrelevant information. Great job!', strict_mode=False, evaluation_model='gemini-2.0-flash-lite', error=None, evaluation_cost=0.0, verbose_logs='Statements:\\n[\\n    \"The quantum supremacy circuits utilized single-qubit gates and two-qubit gates.\",\\n    \"These gates were chosen randomly from the set of single and two-qubit gates and operated on pairs of qubits.\",\\n    \"The circuits were designed to minimize the circuit depth required to create a highly entangled state.\"\\n] \\n \\nVerdicts:\\n[\\n    {\\n        \"verdict\": \"yes\",\\n        \"reason\": null\\n    },\\n    {\\n        \"verdict\": \"yes\",\\n        \"reason\": null\\n    },\\n    {\\n        \"verdict\": \"yes\",\\n        \"reason\": null\\n    }\\n]')], conversational=False, multimodal=False, input='Explain what kind of control operations were used in the quantum supremacy circuits.', actual_output='The quantum supremacy circuits utilized single-qubit gates and two-qubit gates. These gates were chosen randomly from the set of single and two-qubit gates and operated on pairs of qubits. The circuits were designed to minimize the circuit depth required to create a highly entangled state.', expected_output='The experiment uses three kinds of single-qubit gates: $\\\\sqrt{X}$, $\\\\sqrt{Y}$ and $\\\\sqrt{W}$, where $W=(X+Y)/\\\\sqrt{2}$.', context=None, retrieval_context=None, additional_metadata=None)], confident_link=None),\n",
       " EvaluationResult(test_results=[TestResult(name='test_case_11', success=True, metrics_data=[MetricData(name='Answer Relevancy', threshold=0.5, success=True, score=1.0, reason='The score is 1.00 because the output perfectly addresses the question without any irrelevant information. Great job!', strict_mode=False, evaluation_model='gemini-2.0-flash-lite', error=None, evaluation_cost=0.0, verbose_logs='Statements:\\n[\\n    \"Using a quantum processor provides a significant speedup compared to classical sampling algorithms.\",\\n    \"The quantum processor can perform computations equivalent to 10,000 years of classical computation.\",\\n    \"This dramatic increase in speed corresponds to an actual realization of quantum supremacy.\"\\n] \\n \\nVerdicts:\\n[\\n    {\\n        \"verdict\": \"yes\",\\n        \"reason\": null\\n    },\\n    {\\n        \"verdict\": \"yes\",\\n        \"reason\": null\\n    },\\n    {\\n        \"verdict\": \"yes\",\\n        \"reason\": null\\n    }\\n]')], conversational=False, multimodal=False, input='What is the speed-up gained by using a quantum processor instead of an equal-fidelity classical sampling algorithm?', actual_output='Using a quantum processor provides a significant speedup compared to classical sampling algorithms. The quantum processor can perform computations equivalent to 10,000 years of classical computation. This dramatic increase in speed corresponds to an actual realization of quantum supremacy.', expected_output='For $m=20$ number of cycles and $n=53$ qubits, obtaining a million samples on the quantum processor takes 200 seconds, whereas an equal-fidelity classical sampling would take 10,000 years on a million cores.', context=None, retrieval_context=None, additional_metadata=None)], confident_link=None),\n",
       " EvaluationResult(test_results=[TestResult(name='test_case_12', success=True, metrics_data=[MetricData(name='Answer Relevancy', threshold=0.5, success=True, score=1.0, reason='The score is 1.00 because the output perfectly addresses the question without any irrelevant information. Great job!', strict_mode=False, evaluation_model='gemini-2.0-flash-lite', error=None, evaluation_cost=0.0, verbose_logs='Statements:\\n[\\n    \"Spin-orbit coupling (SOC) in WTe2 opens a gap in the band structure.\",\\n    \"It leads to the separation of the $d_{xy}$ orbitals from the $d_{z^2}$ orbitals and the degeneracy of the bands formed by the band inversion.\",\\n    \"The effect of SOC also leads to the formation of a Dirac cone.\"\\n] \\n \\nVerdicts:\\n[\\n    {\\n        \"verdict\": \"yes\",\\n        \"reason\": null\\n    },\\n    {\\n        \"verdict\": \"yes\",\\n        \"reason\": null\\n    },\\n    {\\n        \"verdict\": \"yes\",\\n        \"reason\": null\\n    }\\n]')], conversational=False, multimodal=False, input='What is the effect of spin-orbit coupling (SOC) in WTe2?', actual_output='Spin-orbit coupling (SOC) in WTe2 opens a gap in the band structure. It leads to the separation of the $d_{xy}$ orbitals from the $d_{z^2}$ orbitals and the degeneracy of the bands formed by the band inversion. The effect of SOC also leads to the formation of a Dirac cone.', expected_output=\"Strong SOC lifts the degeneracy at the Dirac point, opening a bulk bandgap in 1T'-WTe2 around the $\\\\Gamma$ point.\", context=None, retrieval_context=None, additional_metadata=None)], confident_link=None),\n",
       " EvaluationResult(test_results=[TestResult(name='test_case_13', success=True, metrics_data=[MetricData(name='Answer Relevancy', threshold=0.5, success=True, score=0.5, reason='The score is 0.50 because the output includes irrelevant information about sample preparation and specific sample details, which are not characterization methods. However, the output does touch upon ARPES, which is relevant to the question, thus the score is not lower.', strict_mode=False, evaluation_model='gemini-2.0-flash-lite', error=None, evaluation_cost=0.0, verbose_logs='Statements:\\n[\\n    \"WTe2 samples are characterized with ARPES.\",\\n    \"Epitaxial growth of 1T-WTe2 is used.\",\\n    \"Overall electronic structure is obtained from ARPES.\",\\n    \"ARPES data is taken along the Γ-Y direction.\",\\n    \"The data is from the surface K-doped sample.\",\\n    \"This helps to focus on the FS from a single domain.\"\\n] \\n \\nVerdicts:\\n[\\n    {\\n        \"verdict\": \"yes\",\\n        \"reason\": null\\n    },\\n    {\\n        \"verdict\": \"no\",\\n        \"reason\": \"Epitaxial growth is a sample preparation method, not a characterization technique.\"\\n    },\\n    {\\n        \"verdict\": \"yes\",\\n        \"reason\": null\\n    },\\n    {\\n        \"verdict\": \"yes\",\\n        \"reason\": null\\n    },\\n    {\\n        \"verdict\": \"no\",\\n        \"reason\": \"The data being from a specific sample is not a general characterization method.\"\\n    },\\n    {\\n        \"verdict\": \"no\",\\n        \"reason\": \"Focusing on a single domain is a result of the ARPES measurement, not a characterization method itself.\"\\n    }\\n]')], conversational=False, multimodal=False, input='How are WTe2 samples usually characterized with ARPES?', actual_output='WTe2 samples are usually characterized with ARPES by epitaxial growth of 1T-WTe2 and overall electronic structure from ARPES. The ARPES data along the Γ-Y direction taken from the surface K-doped sample is shown. This helps to focus only on the FS from a single domain.', expected_output='ARPES is used to measure the band dispersion along high-symmetry paths such as $\\\\Gamma - Y$ by measuring the photoemission spectrum.', context=None, retrieval_context=None, additional_metadata=None)], confident_link=None),\n",
       " EvaluationResult(test_results=[TestResult(name='test_case_14', success=True, metrics_data=[MetricData(name='Answer Relevancy', threshold=0.5, success=True, score=1.0, reason='The score is 1.00 because the output perfectly addresses the question without any irrelevant information. Great job!', strict_mode=False, evaluation_model='gemini-2.0-flash-lite', error=None, evaluation_cost=0.0, verbose_logs='Statements:\\n[\\n    \"Band inversions are crucial in the topological phase transition of WTe2.\",\\n    \"They are a key feature in the electronic structure.\",\\n    \"The band inversion leads to the formation of Dirac cones.\",\\n    \"The band inversion is associated with the opening of a gap.\",\\n    \"A gap is a characteristic of topological insulators.\"\\n] \\n \\nVerdicts:\\n[\\n    {\\n        \"verdict\": \"yes\",\\n        \"reason\": null\\n    },\\n    {\\n        \"verdict\": \"yes\",\\n        \"reason\": null\\n    },\\n    {\\n        \"verdict\": \"yes\",\\n        \"reason\": null\\n    },\\n    {\\n        \"verdict\": \"yes\",\\n        \"reason\": null\\n    },\\n    {\\n        \"verdict\": \"yes\",\\n        \"reason\": null\\n    }\\n]')], conversational=False, multimodal=False, input='Explain the role of band inversions in the topological phase transition of WTe2.', actual_output='Band inversions are crucial in the topological phase transition of WTe2. They are a key feature in the electronic structure that leads to the formation of Dirac cones. The band inversion is associated with the opening of a gap, a characteristic of topological insulators.', expected_output=\"The lattice distortion from the 1T phase to the 1T' phase induces band inversion, causing 1T'-WTe2 to become topologically non-trivial. Without spin-orbit coupling (SOC), the inverted bands cross at a momentum point along the 0 – Y direction, forming a Dirac cone. Strong SOC lifts the degeneracy at the Dirac point, opening a bulk bandgap. In 1T-WTe2, the bands from 5dxz and 5dz2 orbitals of W are separated. Due to the symmetry breaking through the lattice distortion from 1T to 1T', these orbitals hybridize substantially. The dz2 orbital is lowered below EF whereas the dxz orbital lifts in the opposite direction near the 0 point. Because these two inverted bands have different parities at the 0 point, the Z2 invariant v, in which (-1)v is determined by the product of all occupied.\", context=None, retrieval_context=None, additional_metadata=None)], confident_link=None),\n",
       " EvaluationResult(test_results=[TestResult(name='test_case_15', success=True, metrics_data=[MetricData(name='Answer Relevancy', threshold=0.5, success=True, score=1.0, reason='The score is 1.00 because the output perfectly addresses the questions about the atomic structure of Fe3GeTe2, including lattice vectors and atomic positions, without any irrelevant information.', strict_mode=False, evaluation_model='gemini-2.0-flash-lite', error=None, evaluation_cost=0.0, verbose_logs='Statements:\\n[\\n    \"The atomic structure of Fe3GeTe2 is a hexagonal layered structure.\",\\n    \"The lattice vectors are: a = 3.91 Å, c = 16.33 Å, and the angle is 120°.\",\\n    \"The atomic positions are: Fe(4f) = (1/3, 2/3, 0.09018), Fe(2c) = (1/3, 2/3, 0.1718), Ge(2d) = (1/3, 2/3, 3/4).\"\\n] \\n \\nVerdicts:\\n[\\n    {\\n        \"verdict\": \"yes\",\\n        \"reason\": null\\n    },\\n    {\\n        \"verdict\": \"yes\",\\n        \"reason\": null\\n    },\\n    {\\n        \"verdict\": \"yes\",\\n        \"reason\": null\\n    }\\n]')], conversational=False, multimodal=False, input='What is the atomic structure of Fe3GeTe2 and how long are the lattice vectors. What are the atomic positions?', actual_output='The atomic structure of Fe3GeTe2 is a hexagonal layered structure. The lattice vectors are: a = 3.91 Å, c = 16.33 Å, and the angle is 120°. The atomic positions are: Fe(4f) = (1/3, 2/3, 0.09018), Fe(2c) = (1/3, 2/3, 0.1718), Ge(2d) = (1/3, 2/3, 3/4).', expected_output='Fe3GeTe2 has a hexagonal layered structure formed by slabs of Fe3Ge lying between layers of Te bound by weak van der Waals forces, with the symmetry of space group 194. The $a_1$ and $a_2$ vectors are 3.911 Angstroms long, and the $a_3$ vector is 16.33$', context=None, retrieval_context=None, additional_metadata=None)], confident_link=None),\n",
       " EvaluationResult(test_results=[TestResult(name='test_case_16', success=True, metrics_data=[MetricData(name='Answer Relevancy', threshold=0.5, success=True, score=1.0, reason='The score is 1.00 because the output perfectly addresses the question without any irrelevant information. Great job!', strict_mode=False, evaluation_model='gemini-2.0-flash-lite', error=None, evaluation_cost=0.0, verbose_logs='Statements:\\n[\\n    \"Wilson loops are utilized to identify the nodal crossings in the band structure.\",\\n    \"The Wilson loop operator helps to predict the appearance of drum-head surface states in the projection of the nodal lines.\",\\n    \"The trace of the Wilson loop is calculated to analyze the band topology.\"\\n] \\n \\nVerdicts:\\n[\\n    {\\n        \"verdict\": \"yes\",\\n        \"reason\": null\\n    },\\n    {\\n        \"verdict\": \"yes\",\\n        \"reason\": null\\n    },\\n    {\\n        \"verdict\": \"yes\",\\n        \"reason\": null\\n    }\\n]')], conversational=False, multimodal=False, input='How are Wilson loops used to characterize the nodal lines in Fe3GeTe2?', actual_output='Wilson loops are utilized to identify the nodal crossings in the band structure. The Wilson loop operator helps to predict the appearance of drum-head surface states in the projection of the nodal lines. The trace of the Wilson loop is calculated to analyze the band topology.', expected_output='Wilson loops can be used to identify symmetry-protected topological nodal lines because their trace is quantized and experiences a $\\\\pi$ jump when intersecting them. The value of the Wilson loop trace can be used to predict the presence of surface drumhead states.', context=None, retrieval_context=None, additional_metadata=None)], confident_link=None),\n",
       " EvaluationResult(test_results=[TestResult(name='test_case_17', success=True, metrics_data=[MetricData(name='Answer Relevancy', threshold=0.5, success=True, score=1.0, reason='The score is 1.00 because the output perfectly addresses the question without any irrelevant information. Great job!', strict_mode=False, evaluation_model='gemini-2.0-flash-lite', error=None, evaluation_cost=0.0, verbose_logs='Statements:\\n[\\n    \"There is a relationship between the number of Weyl points and the absolute anomalous Hall conductivity (AHC) in Fe3GeTe2.\",\\n    \"Weyl points contribute to the AHC.\",\\n    \"Weyl points contribute by forming a large intrinsic contribution in the band structure.\",\\n    \"The chirality of the Weyl points also contributes to the AHC.\"\\n] \\n \\nVerdicts:\\n[\\n    {\\n        \"verdict\": \"yes\",\\n        \"reason\": null\\n    },\\n    {\\n        \"verdict\": \"yes\",\\n        \"reason\": null\\n    },\\n    {\\n        \"verdict\": \"yes\",\\n        \"reason\": null\\n    },\\n    {\\n        \"verdict\": \"yes\",\\n        \"reason\": null\\n    }\\n]')], conversational=False, multimodal=False, input='Is there any relationship between the number of Weyl points and the absolute anomalous Hall conductivity (AHC) in Fe3GeTe2?', actual_output='Yes, there is a relationship between the number of Weyl points and the absolute anomalous Hall conductivity (AHC) in Fe3GeTe2. The study identifies that Weyl points contribute to the AHC by forming a large intrinsic contribution in the band structure. The chirality of the Weyl points also contributes to the AHC.', expected_output='The number of Weyl points at a chemical potential can be related to a change in absolute AHC, since the contribution of their Berry curvature is unloccked when filled. Their effect can be either to suppress or enhance the AHC.', context=None, retrieval_context=None, additional_metadata=None)], confident_link=None),\n",
       " EvaluationResult(test_results=[TestResult(name='test_case_18', success=True, metrics_data=[MetricData(name='Answer Relevancy', threshold=0.5, success=True, score=0.75, reason=\"The score is 0.75 because the output included a visual detail (yellow circle) that wasn't directly answering the question about diffuse scattering maps, making it slightly off-topic. However, the response likely provided relevant information about diffuse scattering maps, contributing to its current score.\", strict_mode=False, evaluation_model='gemini-2.0-flash-lite', error=None, evaluation_cost=0.0, verbose_logs='Statements:\\n[\\n    \"Diffuse scattering maps in crystalline materials show weak spots.\",\\n    \"Weak spots are highlighted in the yellow circle in the zoomed area.\",\\n    \"These maps are used to study the precursor of the 3D CDW at 100 K.\",\\n    \"The diffuse scattering intensity is related to the CDW.\"\\n] \\n \\nVerdicts:\\n[\\n    {\\n        \"verdict\": \"yes\",\\n        \"reason\": null\\n    },\\n    {\\n        \"verdict\": \"no\",\\n        \"reason\": \"The statement describes a visual detail (yellow circle) which is not directly answering the question about what diffuse scattering maps are.\"\\n    },\\n    {\\n        \"verdict\": \"yes\",\\n        \"reason\": null\\n    },\\n    {\\n        \"verdict\": \"yes\",\\n        \"reason\": null\\n    }\\n]')], conversational=False, multimodal=False, input='What are diffuse scattering maps in the context of crystalline materials?', actual_output='Diffuse scattering maps in crystalline materials show weak spots highlighted in the yellow circle in the zoomed area. These maps are used to study the precursor of the 3D CDW at 100 K. The diffuse scattering intensity is related to the CDW.', expected_output='Diffuse scattering maps are a technique to analyze the crystalline structure of materials. It can also be used to study the phonon properties and the appearance of charge density waves (CDW).', context=None, retrieval_context=None, additional_metadata=None)], confident_link=None),\n",
       " EvaluationResult(test_results=[TestResult(name='test_case_19', success=True, metrics_data=[MetricData(name='Answer Relevancy', threshold=0.5, success=True, score=1.0, reason='The score is 1.00 because the output perfectly addresses the question without any irrelevant information. Great job!', strict_mode=False, evaluation_model='gemini-2.0-flash-lite', error=None, evaluation_cost=0.0, verbose_logs='Statements:\\n[\\n    \"The unit cell of CsV$_3$Sb$_5$ is a kagome net structure.\",\\n    \"The space group is P6/mmm.\",\\n    \"The lattice parameters are a = b = 5.49 Å.\",\\n    \"c = 9.34 Å.\",\\n    \"The structure consists of individual sublattices of a kagome net of V atoms.\"\\n] \\n \\nVerdicts:\\n[\\n    {\\n        \"verdict\": \"yes\",\\n        \"reason\": null\\n    },\\n    {\\n        \"verdict\": \"yes\",\\n        \"reason\": null\\n    },\\n    {\\n        \"verdict\": \"yes\",\\n        \"reason\": null\\n    },\\n    {\\n        \"verdict\": \"yes\",\\n        \"reason\": null\\n    },\\n    {\\n        \"verdict\": \"yes\",\\n        \"reason\": null\\n    }\\n]')], conversational=False, multimodal=False, input='What is the unit cell of CsVe3Sb5 and the space group?', actual_output='The unit cell of CsV$_3$Sb$_5$ is a kagome net structure with space group P6/mmm. The lattice parameters are a = b = 5.49 Å and c = 9.34 Å. The structure consists of individual sublattices of a kagome net of V atoms.', expected_output='CsV3Sb5 has the symmetry of space group P6/mmm. The unit cell is described as individual sublattices of a kagome netwwork of V coordinated by Sb1 atoms and a hexagonal net of Sb2 above and below each kagome layer.', context=None, retrieval_context=None, additional_metadata=None)], confident_link=None),\n",
       " EvaluationResult(test_results=[TestResult(name='test_case_20', success=True, metrics_data=[MetricData(name='Answer Relevancy', threshold=0.5, success=True, score=1.0, reason='The score is 1.00 because the output perfectly addresses the question without any irrelevant information. Great job!', strict_mode=False, evaluation_model='gemini-2.0-flash-lite', error=None, evaluation_cost=0.0, verbose_logs='Statements:\\n[\\n    \"Yes, both diffuse scattering (DS) and inelastic X-ray scattering (IXS) can be used to analyze phonons.\",\\n    \"DS is used to identify phonon condensation.\",\\n    \"IXS is used to study the dynamics and contributions of phonons.\",\\n    \"These methods are employed to analyze the properties of phonons.\"\\n] \\n \\nVerdicts:\\n[\\n    {\\n        \"verdict\": \"yes\",\\n        \"reason\": null\\n    },\\n    {\\n        \"verdict\": \"yes\",\\n        \"reason\": null\\n    },\\n    {\\n        \"verdict\": \"yes\",\\n        \"reason\": null\\n    },\\n    {\\n        \"verdict\": \"yes\",\\n        \"reason\": null\\n    }\\n]')], conversational=False, multimodal=False, input='Can diffuse scattering and inleastic x-ray scattering (IXS) be used to analyze phonons?', actual_output='Yes, both diffuse scattering (DS) and inelastic X-ray scattering (IXS) can be used to analyze phonons. The article mentions that DS is used to identify phonon condensation and IXS is used to study the dynamics and contributions of phonons. These methods are employed to analyze the properties of phonons.', expected_output='Yes. Diffuse scattering can be used to analyze the phonon properties of crystals, such as the freezing of specific modes and lattice instabilities. IXS can be used to measure the low-energy phonon spectrum.', context=None, retrieval_context=None, additional_metadata=None)], confident_link=None),\n",
       " EvaluationResult(test_results=[TestResult(name='test_case_21', success=True, metrics_data=[MetricData(name='Answer Relevancy', threshold=0.5, success=True, score=1.0, reason='The score is 1.00 because the output perfectly addresses the question without any irrelevant information. Great job!', strict_mode=False, evaluation_model='gemini-2.0-flash-lite', error=None, evaluation_cost=0.0, verbose_logs='Statements:\\n[\\n    \"A triangulene nanostar is a molecule.\",\\n    \"A triangulene nanostar looks like a star.\",\\n    \"The image shows a nanostar.\",\\n    \"The nanostar has a six-pointed star shape.\"\\n] \\n \\nVerdicts:\\n[\\n    {\\n        \"verdict\": \"idk\",\\n        \"reason\": null\\n    },\\n    {\\n        \"verdict\": \"yes\",\\n        \"reason\": null\\n    },\\n    {\\n        \"verdict\": \"yes\",\\n        \"reason\": null\\n    },\\n    {\\n        \"verdict\": \"yes\",\\n        \"reason\": null\\n    }\\n]')], conversational=False, multimodal=False, input='What does a triangulene nanostar look like?', actual_output='A triangulene nanostar is a molecule that looks like a star. The image shows a nanostar with a six-pointed star shape.', expected_output='A triangulene-based nanostar (TNS) consists of six [3]triangulene moieties arranged in a macrocycle, forming a star shape with a pore size of 1.2 nm.', context=None, retrieval_context=None, additional_metadata=None)], confident_link=None),\n",
       " EvaluationResult(test_results=[TestResult(name='test_case_22', success=True, metrics_data=[MetricData(name='Answer Relevancy', threshold=0.5, success=True, score=1.0, reason='The score is 1.00 because the output perfectly addresses the question without any irrelevant information. Great job!', strict_mode=False, evaluation_model='gemini-2.0-flash-lite', error=None, evaluation_cost=0.0, verbose_logs='Statements:\\n[\\n    \"Yes, triangulene has been synthesized on-surface.\",\\n    \"The synthesis of triangulene-based nanostar (TNS) on the surface is discussed in the context.\"\\n] \\n \\nVerdicts:\\n[\\n    {\\n        \"verdict\": \"yes\",\\n        \"reason\": null\\n    },\\n    {\\n        \"verdict\": \"yes\",\\n        \"reason\": null\\n    }\\n]')], conversational=False, multimodal=False, input='Has triangulene been synthesized on-surface?', actual_output='Yes, triangulene has been synthesized on-surface. The synthesis of triangulene-based nanostar (TNS) on the surface is discussed in the context.', expected_output='Yes, triangulene has been synthesized on-surface.', context=None, retrieval_context=None, additional_metadata=None)], confident_link=None),\n",
       " EvaluationResult(test_results=[TestResult(name='test_case_23', success=True, metrics_data=[MetricData(name='Answer Relevancy', threshold=0.5, success=True, score=1.0, reason='The score is 1.00 because the output perfectly addresses the question without any irrelevant information. Great job!', strict_mode=False, evaluation_model='gemini-2.0-flash-lite', error=None, evaluation_cost=0.0, verbose_logs='Statements:\\n[\\n    \"The conductance of triangulene (TNS) varies with the bias voltage.\",\\n    \"The conductance spectrum shows distinct features at specific bias voltages.\"\\n] \\n \\nVerdicts:\\n[\\n    {\\n        \"verdict\": \"yes\",\\n        \"reason\": null\\n    },\\n    {\\n        \"verdict\": \"yes\",\\n        \"reason\": null\\n    }\\n]')], conversational=False, multimodal=False, input='What is the relation between the bias voltage in triangulene (TNS) and its conductance?', actual_output='The conductance of triangulene (TNS) varies with the bias voltage. The conductance spectrum shows distinct features at specific bias voltages.', expected_output='The conductance shows a dip at zero bias voltage and bias-symmetric step-like features which are characteristic of spin excitation induced by inelastic electron tunneling.', context=None, retrieval_context=None, additional_metadata=None)], confident_link=None),\n",
       " EvaluationResult(test_results=[TestResult(name='test_case_24', success=True, metrics_data=[MetricData(name='Answer Relevancy', threshold=0.5, success=True, score=1.0, reason='The score is 1.00 because the output perfectly answers the question without any irrelevant information. Great job!', strict_mode=False, evaluation_model='gemini-2.0-flash-lite', error=None, evaluation_cost=0.0, verbose_logs='Statements:\\n[\\n    \"The main nuclear reaction for silicon (Si) used in neutron activation analysis is $^{30}$Si(n,p)$^{30}$Al.\",\\n    \"This reaction produces $^{30}$Al with a half-life of 2.24 min.\",\\n    \"The reaction produces a gamma-ray energy of 1778.99 keV.\",\\n    \"The cross-section is 279.41 mb.\"\\n] \\n \\nVerdicts:\\n[\\n    {\\n        \"verdict\": \"yes\",\\n        \"reason\": null\\n    },\\n    {\\n        \"verdict\": \"yes\",\\n        \"reason\": null\\n    },\\n    {\\n        \"verdict\": \"yes\",\\n        \"reason\": null\\n    },\\n    {\\n        \"verdict\": \"yes\",\\n        \"reason\": null\\n    }\\n]')], conversational=False, multimodal=False, input='What is the main nuclear reaction for silicon (Si) used in neutron activation analysis?', actual_output='The main nuclear reaction for silicon (Si) used in neutron activation analysis is $^{30}$Si(n,p)$^{30}$Al. This reaction produces $^{30}$Al with a half-life of 2.24 min and a gamma-ray energy of 1778.99 keV. The cross-section is 279.41 mb.', expected_output='The main nuclear reaction for Si detection in neutron-activation analysis is 28Si(n,p)28Al, which has a half-life of 2.24 minutes.', context=None, retrieval_context=None, additional_metadata=None)], confident_link=None),\n",
       " EvaluationResult(test_results=[TestResult(name='test_case_25', success=True, metrics_data=[MetricData(name='Answer Relevancy', threshold=0.5, success=True, score=1.0, reason='The score is 1.00 because the output is perfectly relevant and contains no irrelevant statements. Great job!', strict_mode=False, evaluation_model='gemini-2.0-flash-lite', error=None, evaluation_cost=0.0, verbose_logs='Statements:\\n[\\n    \"The neutron flux decreases with the square of the distance.\",\\n    \"The relationship is expressed as $\\\\phi = \\\\frac{N}{4\\\\pi d^2}$.\",\\n    \"$\\\\phi$ is the neutron flux.\",\\n    \"$N$ is the total number of neutrons emitted.\",\\n    \"$d$ is the distance from the source.\",\\n    \"The image shows a log-log plot.\",\\n    \"The plot suggests a $-2$ dependence.\"\\n] \\n \\nVerdicts:\\n[\\n    {\\n        \"verdict\": \"yes\",\\n        \"reason\": null\\n    },\\n    {\\n        \"verdict\": \"yes\",\\n        \"reason\": null\\n    },\\n    {\\n        \"verdict\": \"yes\",\\n        \"reason\": null\\n    },\\n    {\\n        \"verdict\": \"yes\",\\n        \"reason\": null\\n    },\\n    {\\n        \"verdict\": \"yes\",\\n        \"reason\": null\\n    },\\n    {\\n        \"verdict\": \"idk\",\\n        \"reason\": null\\n    },\\n    {\\n        \"verdict\": \"yes\",\\n        \"reason\": null\\n    }\\n]')], conversational=False, multimodal=False, input='What is typical behavior of the nuetron flux from a compact source with respect to distance to the source?', actual_output='The neutron flux from a compact source typically decreases with the square of the distance from the source. This relationship is expressed as $\\\\phi = \\\\frac{N}{4\\\\pi d^2}$, where $\\\\phi$ is the neutron flux, $N$ is the total number of neutrons emitted, and $d$ is the distance from the source. The image shows a log-log plot, which suggests a $-2$ dependence.', expected_output='The neutron flux diminishes with the square of distance from the sample to the source.', context=None, retrieval_context=None, additional_metadata=None)], confident_link=None),\n",
       " EvaluationResult(test_results=[TestResult(name='test_case_26', success=True, metrics_data=[MetricData(name='Answer Relevancy', threshold=0.5, success=True, score=1.0, reason='The score is 1.00 because the output perfectly addresses the question without any irrelevant information. Great job!', strict_mode=False, evaluation_model='gemini-2.0-flash-lite', error=None, evaluation_cost=0.0, verbose_logs='Statements:\\n[\\n    \"The fusion reactions used to obtain neutrons in the NILE laboratory are Deuterium-Tritium (D-T, 14 MeV) and Deuterium-Deuterium (D-D, 2.5 MeV).\",\\n    \"These reactions are used to produce neutrons by operating sources independently at the same time.\",\\n    \"The resulting neutron yield for the D-T source is $10^{14} s^{-1}$.\"\\n] \\n \\nVerdicts:\\n[\\n    {\\n        \"verdict\": \"yes\",\\n        \"reason\": null\\n    },\\n    {\\n        \"verdict\": \"yes\",\\n        \"reason\": null\\n    },\\n    {\\n        \"verdict\": \"yes\",\\n        \"reason\": null\\n    }\\n]')], conversational=False, multimodal=False, input='What are the fusion reactions used to obtain neutrons in the NILE laboratory?', actual_output='The fusion reactions used to obtain neutrons in the NILE laboratory are Deuterium-Tritium (D-T, 14 MeV) and Deuterium-Deuterium (D-D, 2.5 MeV). These reactions are used to produce neutrons by operating sources independently at the same time. The resulting neutron yield for the D-T source is $10^{14} s^{-1}$.', expected_output='They generate a plasma gas using a microwave-driven Electron-Cyclotron Resonance (ECR) source to ionize deuterium (D-D  source), or a mix of deuterium and tritium (D-T source). The ions generated in the plasma are accelerated towards a metallic target using a high-voltage  electric  field,  where  they  are  implanted  in  the  form  of  a  metal  hydride.  The remaining  ions  in  the  plasma  strike  the  previously  implanted  ones  in  the  target  leading  to fusion  events  that  release  monoenergetic  neutrons  of  14  or  2.5  MeV for  the  D-T  and  D-D sources, respectively.', context=None, retrieval_context=None, additional_metadata=None)], confident_link=None),\n",
       " EvaluationResult(test_results=[TestResult(name='test_case_27', success=True, metrics_data=[MetricData(name='Answer Relevancy', threshold=0.5, success=True, score=1.0, reason='The score is 1.00 because the output is perfectly relevant and contains no irrelevant information. Great job!', strict_mode=False, evaluation_model='gemini-2.0-flash-lite', error=None, evaluation_cost=0.0, verbose_logs='Statements:\\n[\\n    \"The crystal structure parameters of α-RuCl3 at 80 K are as follows:\",\\n    \"a = 5.9672(7) Å\",\\n    \"b = 10.342(1) Å\",\\n    \"c = 6.013(1) Å\",\\n    \"β = 90\",\\n    \"The space group is C2/m.\",\\n    \"The atomic fractional coordinates are also provided in the table.\"\\n] \\n \\nVerdicts:\\n[\\n    {\\n        \"verdict\": \"yes\",\\n        \"reason\": null\\n    },\\n    {\\n        \"verdict\": \"yes\",\\n        \"reason\": null\\n    },\\n    {\\n        \"verdict\": \"yes\",\\n        \"reason\": null\\n    },\\n    {\\n        \"verdict\": \"yes\",\\n        \"reason\": null\\n    },\\n    {\\n        \"verdict\": \"yes\",\\n        \"reason\": null\\n    },\\n    {\\n        \"verdict\": \"yes\",\\n        \"reason\": null\\n    },\\n    {\\n        \"verdict\": \"yes\",\\n        \"reason\": null\\n    }\\n]')], conversational=False, multimodal=False, input='What are the crystal structure parameters of alpha-RuCl3?', actual_output='The crystal structure parameters of α-RuCl3 at 80 K are as follows: a = 5.9672(7) Å, b = 10.342(1) Å, c = 6.013(1) Å, and β = 90. The space group is C2/m. The atomic fractional coordinates are also provided in the table.', expected_output='The symmetry is of space group C2/m with $Z=4$ atoms in the unit cell. The $a,b,c$ axes measure 5.9762, 10.342 and 6.013 Angstrom respectively. The $\\\\alpha,\\\\beta,\\\\gamma$ angles are 90, 108.87 and 80 degrees.', context=None, retrieval_context=None, additional_metadata=None)], confident_link=None),\n",
       " EvaluationResult(test_results=[TestResult(name='test_case_28', success=True, metrics_data=[MetricData(name='Answer Relevancy', threshold=0.5, success=True, score=1.0, reason='The score is 1.00 because the output perfectly addresses the prompt without any irrelevant information. Great job!', strict_mode=False, evaluation_model='gemini-2.0-flash-lite', error=None, evaluation_cost=0.0, verbose_logs='Statements:\\n[\\n    \"The magnetic susceptibility of $\\\\alpha$-RuCl$_3$ shows a change with respect to temperature.\",\\n    \"The magnetic susceptibility of the single crystal is shown to increase with decreasing temperature.\",\\n    \"The change in magnetic susceptibility with temperature is indicative of long-range antiferromagnetic ordering of the ruthenium moments.\"\\n] \\n \\nVerdicts:\\n[\\n    {\\n        \"verdict\": \"yes\",\\n        \"reason\": null\\n    },\\n    {\\n        \"verdict\": \"yes\",\\n        \"reason\": null\\n    },\\n    {\\n        \"verdict\": \"yes\",\\n        \"reason\": null\\n    }\\n]')], conversational=False, multimodal=False, input='Explain the change in magnetic susceptibility of alpha-RuCl3 with respect to temperature.', actual_output='The magnetic susceptibility of $\\\\alpha$-RuCl$_3$ shows a change with respect to temperature. The magnetic susceptibility of the single crystal is shown to increase with decreasing temperature. The change in magnetic susceptibility with temperature is indicative of long-range antiferromagnetic ordering of the ruthenium moments.', expected_output='The magnetic susceptibility $\\\\chi$ increases from 0 to 13K (the critical temperature) and then decreases linearly with increasing temperature.', context=None, retrieval_context=None, additional_metadata=None)], confident_link=None),\n",
       " EvaluationResult(test_results=[TestResult(name='test_case_29', success=True, metrics_data=[MetricData(name='Answer Relevancy', threshold=0.5, success=True, score=1.0, reason='The score is 1.00 because the output perfectly addresses the question without any irrelevant information. Great job!', strict_mode=False, evaluation_model='gemini-2.0-flash-lite', error=None, evaluation_cost=0.0, verbose_logs='Statements:\\n[\\n    \"The magnetic phase diagram for alpha-RuCl3 shows the magnetic field on the x-axis and temperature on the y-axis.\",\\n    \"The diagram displays a phase transition from a paramagnetic (PM) phase to an antiferromagnetic phase.\",\\n    \"The inset shows the magnetic susceptibility as a function of temperature for different magnetic fields.\"\\n] \\n \\nVerdicts:\\n[\\n    {\\n        \"verdict\": \"yes\",\\n        \"reason\": null\\n    },\\n    {\\n        \"verdict\": \"yes\",\\n        \"reason\": null\\n    },\\n    {\\n        \"verdict\": \"yes\",\\n        \"reason\": null\\n    }\\n]')], conversational=False, multimodal=False, input='What is the magnetic phase diagram for alpha-RuCl3 in terms of the magnetic field and temperature?', actual_output='The magnetic phase diagram for alpha-RuCl3 shows the magnetic field on the x-axis and temperature on the y-axis. The diagram displays a phase transition from a paramagnetic (PM) phase to an antiferromagnetic phase. The inset shows the magnetic susceptibility as a function of temperature for different magnetic fields.', expected_output='Below a magnetic field of approximately 8T, the systems shows a zig-zag AFM configuration up to around 14K. For a higher magnetic field or higher temperature, the system is paramagnetic.', context=None, retrieval_context=None, additional_metadata=None)], confident_link=None),\n",
       " EvaluationResult(test_results=[TestResult(name='test_case_30', success=True, metrics_data=[MetricData(name='Answer Relevancy', threshold=0.5, success=True, score=1.0, reason='The score is 1.00 because the output perfectly addresses the question without any irrelevant information. Great job!', strict_mode=False, evaluation_model='gemini-2.0-flash-lite', error=None, evaluation_cost=0.0, verbose_logs='Statements:\\n[\\n    \"At 350K, MAPbI3 is cubic.\",\\n    \"The cubic phase exists at temperatures above approximately 330K.\",\\n    \"The orthorhombic phase is stable at much lower temperatures.\"\\n] \\n \\nVerdicts:\\n[\\n    {\\n        \"verdict\": \"yes\",\\n        \"reason\": null\\n    },\\n    {\\n        \"verdict\": \"yes\",\\n        \"reason\": null\\n    },\\n    {\\n        \"verdict\": \"yes\",\\n        \"reason\": null\\n    }\\n]')], conversational=False, multimodal=False, input='Is the MAPbI3 Cubic or orthorhombic at a temperature of 350K?', actual_output='At 350K, MAPbI3 is cubic. According to the provided phase diagram, the cubic phase exists at temperatures above approximately 330K. The orthorhombic phase is stable at much lower temperatures.', expected_output='The MAPbI3 is cubic at 350K up to approximately 0.5 GPa of pressure. For higher pressures, it is in a HPC phase.', context=None, retrieval_context=None, additional_metadata=None)], confident_link=None),\n",
       " EvaluationResult(test_results=[TestResult(name='test_case_31', success=True, metrics_data=[MetricData(name='Answer Relevancy', threshold=0.5, success=True, score=0.5, reason='The score is 0.50 because the output contains statements that are not relevant to the input, such as describing the structure at ambient conditions and phase transitions based on temperature only, without considering pressure. However, the output does touch upon the topic of phase diagrams, which is why the score is not lower.', strict_mode=False, evaluation_model='gemini-2.0-flash-lite', error=None, evaluation_cost=0.0, verbose_logs='Statements:\\n[\\n    \"The experimental phase diagram of MAPbI3 shows several phases.\",\\n    \"The structure is orthorhombic at ambient conditions.\",\\n    \"The structure transitions to tetragonal at approximately 160 K.\",\\n    \"Increasing the temperature and pressure results in a cubic phase.\"\\n] \\n \\nVerdicts:\\n[\\n    {\\n        \"verdict\": \"yes\",\\n        \"reason\": null\\n    },\\n    {\\n        \"verdict\": \"no\",\\n        \"reason\": \"The statement describes the structure at ambient conditions, not the phase diagram in terms of pressure and temperature.\"\\n    },\\n    {\\n        \"verdict\": \"no\",\\n        \"reason\": \"The statement describes a phase transition based on temperature, but not in terms of pressure.\"\\n    },\\n    {\\n        \"verdict\": \"yes\",\\n        \"reason\": null\\n    }\\n]')], conversational=False, multimodal=False, input='Explain the experimental phase diagram of MAPbI3 in terms of pressure and temperature.', actual_output='The experimental phase diagram of MAPbI3, in terms of pressure and temperature, shows several phases.  At ambient conditions, the structure is orthorhombic, which transitions to tetragonal at approximately 160 K.  Increasing the temperature and pressure results in a cubic phase.', expected_output='At low temperature, below 150K, it is orthorhombic. At low pressure, it becomes tetragonal and then cubic for increasing temperature. At pressures above 1GPa, it goes into a HPC phase for temperatures higher than 150K, approximately.', context=None, retrieval_context=None, additional_metadata=None)], confident_link=None),\n",
       " EvaluationResult(test_results=[TestResult(name='test_case_32', success=True, metrics_data=[MetricData(name='Answer Relevancy', threshold=0.5, success=True, score=1.0, reason='The score is 1.00 because the output perfectly answers the question without any irrelevant information. Great job!', strict_mode=False, evaluation_model='gemini-2.0-flash-lite', error=None, evaluation_cost=0.0, verbose_logs='Statements:\\n[\\n    \"The triple point occurs at approximately 175 K in the density of the MAPbI3 compound.\",\\n    \"The triple point is also indicated in the diagram as being at 295 K, with a pressure of 175 kbar.\",\\n    \"The triple point is also observed at approximately 300 K at 35 kbar.\"\\n] \\n \\nVerdicts:\\n[\\n    {\\n        \"verdict\": \"yes\",\\n        \"reason\": null\\n    },\\n    {\\n        \"verdict\": \"yes\",\\n        \"reason\": null\\n    },\\n    {\\n        \"verdict\": \"yes\",\\n        \"reason\": null\\n    }\\n]')], conversational=False, multimodal=False, input='At what temperature does the triple point occur in the density of the MAPbI3 compound?', actual_output='The triple point occurs at approximately 175 K in the density of the MAPbI3 compound.  The triple point is also indicated in the diagram as being at 295 K, with a pressure of 175 kbar. The triple point is also observed at approximately 300 K at 35 kbar.', expected_output='The triple point happens at 175K for a pressure of 1kbar.', context=None, retrieval_context=None, additional_metadata=None)], confident_link=None),\n",
       " EvaluationResult(test_results=[TestResult(name='test_case_33', success=True, metrics_data=[MetricData(name='Answer Relevancy', threshold=0.5, success=True, score=1.0, reason='The score is 1.00 because the output perfectly addresses the question without any irrelevant information. Great job!', strict_mode=False, evaluation_model='gemini-2.0-flash-lite', error=None, evaluation_cost=0.0, verbose_logs='Statements:\\n[\\n    \"The Raman modes of PEA2MnCl4 vary with temperature.\",\\n    \"The position of the Raman modes decreases as the temperature increases.\",\\n    \"The temperature range is 50 to 350 K.\"\\n] \\n \\nVerdicts:\\n[\\n    {\\n        \"verdict\": \"yes\",\\n        \"reason\": null\\n    },\\n    {\\n        \"verdict\": \"yes\",\\n        \"reason\": null\\n    },\\n    {\\n        \"verdict\": \"yes\",\\n        \"reason\": null\\n    }\\n]')], conversational=False, multimodal=False, input='How do the Raman modes of PEA2MnCl4 vary with the temperature?', actual_output='The Raman modes of PEA2MnCl4 vary with temperature. Based on the provided figure, the position of the Raman modes decreases as the temperature increases, particularly in the range of 50 to 350 K.', expected_output='The position of the peak of some Raman modes in  PEA2MnCl4 tends to move left (to lower values of the wavelength) with increasing temperature.', context=None, retrieval_context=None, additional_metadata=None)], confident_link=None),\n",
       " EvaluationResult(test_results=[TestResult(name='test_case_34', success=True, metrics_data=[MetricData(name='Answer Relevancy', threshold=0.5, success=True, score=1.0, reason='The score is 1.00 because the output perfectly addresses the question without any irrelevant information. Great job!', strict_mode=False, evaluation_model='gemini-2.0-flash-lite', error=None, evaluation_cost=0.0, verbose_logs='Statements:\\n[\\n    \"The magnetization M of the Co2+ atoms in EDACoCl4 decreases as the temperature increases.\",\\n    \"At 0 K, the magnetization is about 1.0 $\\\\mu_B$/Co2+ atom.\",\\n    \"As the temperature increases to 300 K, the magnetization decreases to about 0 $\\\\mu_B$/Co2+ atom.\"\\n] \\n \\nVerdicts:\\n[\\n    {\\n        \"verdict\": \"yes\",\\n        \"reason\": null\\n    },\\n    {\\n        \"verdict\": \"yes\",\\n        \"reason\": null\\n    },\\n    {\\n        \"verdict\": \"yes\",\\n        \"reason\": null\\n    }\\n]')], conversational=False, multimodal=False, input='How does th magnetization M of the Co2+ atoms vary in EDACoCl4 with respect to temperature?', actual_output='The magnetization M of the Co2+ atoms in EDACoCl4 decreases as the temperature increases. At 0 K, the magnetization is about 1.0 $\\\\mu_B$/Co2+ atom. As the temperature increases to 300 K, the magnetization decreases to about 0 $\\\\mu_B$/Co2+ atom.', expected_output='The magnetization increasing from 0K and peaks at approximately 13K, the it decreases expontentially.', context=None, retrieval_context=None, additional_metadata=None)], confident_link=None),\n",
       " EvaluationResult(test_results=[TestResult(name='test_case_35', success=True, metrics_data=[MetricData(name='Answer Relevancy', threshold=0.5, success=True, score=1.0, reason='The score is 1.00 because the output perfectly addresses the question without any irrelevant information. Great job!', strict_mode=False, evaluation_model='gemini-2.0-flash-lite', error=None, evaluation_cost=0.0, verbose_logs='Statements:\\n[\\n    \"The Neel temperature of PEA2MnCl4 is approximately 57 K.\",\\n    \"This temperature is marked in the figure.\",\\n    \"The figure shows the temperature dependence of magnetization.\",\\n    \"The magnetization takes place at the Neel temperature.\"\\n] \\n \\nVerdicts:\\n[\\n    {\\n        \"verdict\": \"yes\",\\n        \"reason\": null\\n    },\\n    {\\n        \"verdict\": \"yes\",\\n        \"reason\": null\\n    },\\n    {\\n        \"verdict\": \"idk\",\\n        \"reason\": null\\n    },\\n    {\\n        \"verdict\": \"yes\",\\n        \"reason\": null\\n    }\\n]')], conversational=False, multimodal=False, input='What is the Neel tempearture of PEA2MnCl4?', actual_output='The Neel temperature of PEA2MnCl4 is approximately 57 K. This temperature is marked in the figure that shows the temperature dependence of magnetization. The figure also shows that the magnetization takes place at the Neel temperature.', expected_output='The Néel temperature of PEA2MnCl4 is approximately 47K.', context=None, retrieval_context=None, additional_metadata=None)], confident_link=None),\n",
       " EvaluationResult(test_results=[TestResult(name='test_case_36', success=True, metrics_data=[MetricData(name='Answer Relevancy', threshold=0.5, success=True, score=1.0, reason='The score is 1.00 because the output perfectly addresses the question without any irrelevant information. Great job!', strict_mode=False, evaluation_model='gemini-2.0-flash-lite', error=None, evaluation_cost=0.0, verbose_logs='Statements:\\n[\\n    \"There are 2 enforced semimetals for compounds with magnetic space group (MSG) 51.298 with U=0.\",\\n    \"There are 2 enforced semimetals with U=2.\",\\n    \"There are none with U=4.\"\\n] \\n \\nVerdicts:\\n[\\n    {\\n        \"verdict\": \"yes\",\\n        \"reason\": null\\n    },\\n    {\\n        \"verdict\": \"yes\",\\n        \"reason\": null\\n    },\\n    {\\n        \"verdict\": \"yes\",\\n        \"reason\": null\\n    }\\n]')], conversational=False, multimodal=False, input='How many enforced semimetals are there for the compounds with magnetic space group (MSG) 51.298?', actual_output='Based on the provided context, there are 2 enforced semimetals for compounds with magnetic space group (MSG) 51.298 with U=0, and 2 enforced semimetals with U=2, and none with U=4.', expected_output='There are 0 or 1 enforced semimetals with the magnetic space group symmetry of 51.298, depending on the value of the U parameter.', context=None, retrieval_context=None, additional_metadata=None)], confident_link=None),\n",
       " EvaluationResult(test_results=[TestResult(name='test_case_37', success=True, metrics_data=[MetricData(name='Answer Relevancy', threshold=0.5, success=True, score=1.0, reason='The score is 1.00 because the output perfectly addresses the question without any irrelevant information. Great job!', strict_mode=False, evaluation_model='gemini-2.0-flash-lite', error=None, evaluation_cost=0.0, verbose_logs='Statements:\\n[\\n    \"The crystal $MNGeO_3$ has surface states.\",\\n    \"The surface states of $MNGeO_3$ are shown in the figure.\",\\n    \"The figure indicates the presence of a Dirac point and a Fermi arc.\",\\n    \"The presence of surface states is also confirmed by the surface Fermi arcs.\",\\n    \"Fermi arcs connecting the Dirac points on the (010) surface of $MNGeO_3$.\"\\n] \\n \\nVerdicts:\\n[\\n    {\\n        \"verdict\": \"yes\",\\n        \"reason\": null\\n    },\\n    {\\n        \"verdict\": \"yes\",\\n        \"reason\": null\\n    },\\n    {\\n        \"verdict\": \"yes\",\\n        \"reason\": null\\n    },\\n    {\\n        \"verdict\": \"yes\",\\n        \"reason\": null\\n    },\\n    {\\n        \"verdict\": \"yes\",\\n        \"reason\": null\\n    }\\n]')], conversational=False, multimodal=False, input='Does the crystal MNGeO3 have surface states?', actual_output='Yes, the crystal $MNGeO_3$ has surface states. The surface states of $MNGeO_3$ are shown in the figure, which indicates the presence of a Dirac point and a Fermi arc. The presence of surface states is also confirmed by the surface Fermi arcs connecting the Dirac points on the (010) surface of $MNGeO_3$.', expected_output='MnGeO3 is a Diract semimetal and therefore it has no surface states.', context=None, retrieval_context=None, additional_metadata=None)], confident_link=None),\n",
       " EvaluationResult(test_results=[TestResult(name='test_case_38', success=True, metrics_data=[MetricData(name='Answer Relevancy', threshold=0.5, success=True, score=0.5, reason='The score is 0.50 because the output included a statement that was irrelevant to the prompt, specifically stating that something was not an example of metallic iron pnictides. However, the output may have contained some relevant information, contributing to the current score.', strict_mode=False, evaluation_model='gemini-2.0-flash-lite', error=None, evaluation_cost=0.0, verbose_logs='Statements:\\n[\\n    \"Examples of metallic iron pnictides are LaFeAsO, CaFe2As2, EuFe2As2, BaFe2As2, CaFeCoAs, LaCoAsO, CrAs, and CrN.\",\\n    \"They are listed as a category in the provided text.\"\\n] \\n \\nVerdicts:\\n[\\n    {\\n        \"verdict\": \"yes\",\\n        \"reason\": null\\n    },\\n    {\\n        \"verdict\": \"no\",\\n        \"reason\": \"The statement is not an example of metallic iron pnictides.\"\\n    }\\n]')], conversational=False, multimodal=False, input='Give examples of metallic iron pnictides.', actual_output='Examples of metallic iron pnictides are LaFeAsO, CaFe2As2, EuFe2As2, BaFe2As2, CaFeCoAs, LaCoAsO, CrAs, and CrN. They are listed as a category in the provided text.', expected_output='Some metallic iron pnictides are LaFeAsO, CaFe2As2, EuFe2As2, BaFe2As2 and CaFe4As3, among others.', context=None, retrieval_context=None, additional_metadata=None)], confident_link=None),\n",
       " EvaluationResult(test_results=[TestResult(name='test_case_39', success=True, metrics_data=[MetricData(name='Answer Relevancy', threshold=0.5, success=True, score=1.0, reason='The score is 1.00 because the output perfectly answers the question without any irrelevant information. Great job!', strict_mode=False, evaluation_model='gemini-2.0-flash-lite', error=None, evaluation_cost=0.0, verbose_logs='Statements:\\n[\\n    \"FeSe transitions from a tetragonal to a nematic state at approximately 0 kbar.\",\\n    \"This is based on the temperature-pressure phase diagram.\",\\n    \"The transition temperature decreases with increasing pressure.\"\\n] \\n \\nVerdicts:\\n[\\n    {\\n        \"verdict\": \"yes\",\\n        \"reason\": null\\n    },\\n    {\\n        \"verdict\": \"yes\",\\n        \"reason\": null\\n    },\\n    {\\n        \"verdict\": \"yes\",\\n        \"reason\": null\\n    }\\n]')], conversational=False, multimodal=False, input='At what pressure does FeSe transition from a tetragonal to a nematic state?', actual_output='FeSe transitions from a tetragonal to a nematic state at approximately 0 kbar. This is based on the temperature-pressure phase diagram. The transition temperature decreases with increasing pressure.', expected_output='The critical pressure of transition from a tetragonal to a nematic state is 5.8kbar.', context=None, retrieval_context=None, additional_metadata=None)], confident_link=None),\n",
       " EvaluationResult(test_results=[TestResult(name='test_case_40', success=True, metrics_data=[MetricData(name='Answer Relevancy', threshold=0.5, success=True, score=1.0, reason='The score is 1.00 because the output perfectly answers the question without any irrelevant information. Great job!', strict_mode=False, evaluation_model='gemini-2.0-flash-lite', error=None, evaluation_cost=0.0, verbose_logs='Statements:\\n[\\n    \"Yes, FeSe supports a spin density wave (SDW) at certain pressures and temperatures.\",\\n    \"The phase diagram in the context shows that the SDW phase exists at low temperatures and pressures between approximately 10 kbar and 25 kbar.\",\\n    \"The SDW phase is also observed when the temperature is increased to around 40K.\"\\n] \\n \\nVerdicts:\\n[\\n    {\\n        \"verdict\": \"yes\",\\n        \"reason\": null\\n    },\\n    {\\n        \"verdict\": \"yes\",\\n        \"reason\": null\\n    },\\n    {\\n        \"verdict\": \"yes\",\\n        \"reason\": null\\n    }\\n]')], conversational=False, multimodal=False, input='Does FeSe support a spin density wave (SDW) at any pressure or temperature?', actual_output='Yes, FeSe supports a spin density wave (SDW) at certain pressures and temperatures. The phase diagram in the context shows that the SDW phase exists at low temperatures and pressures between approximately 10 kbar and 25 kbar. The SDW phase is also observed when the temperature is increased to around 40K.', expected_output='No, the spin-density wave (SDW) phase only exists for some ranges of pressure and temperature, approximately from 30 to 80kbar and from 0 to 40K.', context=None, retrieval_context=None, additional_metadata=None)], confident_link=None),\n",
       " EvaluationResult(test_results=[TestResult(name='test_case_41', success=True, metrics_data=[MetricData(name='Answer Relevancy', threshold=0.5, success=True, score=0.75, reason='The score is 0.75 because the output included a statement about the superconducting gap enhancement, which is not directly related to the description of quantum oscillations or their pressure dependence. However, the output still addressed the core request about quantum oscillations in FeSe, which is why the score is not lower.', strict_mode=False, evaluation_model='gemini-2.0-flash-lite', error=None, evaluation_cost=0.0, verbose_logs='Statements:\\n[\\n    \"The quantum oscillations in FeSe evolve with pressure.\",\\n    \"They are used to assess the strength of electronic correlations across the phase diagram.\",\\n    \"At higher pressures, all frequencies increase in size,\",\\n    \"the superconducting gap is enhanced.\"\\n] \\n \\nVerdicts:\\n[\\n    {\\n        \"verdict\": \"yes\",\\n        \"reason\": null\\n    },\\n    {\\n        \"verdict\": \"idk\",\\n        \"reason\": null\\n    },\\n    {\\n        \"verdict\": \"yes\",\\n        \"reason\": null\\n    },\\n    {\\n        \"verdict\": \"no\",\\n        \"reason\": \"The superconducting gap enhancement is a consequence, not a description of the quantum oscillations themselves.\"\\n    }\\n]')], conversational=False, multimodal=False, input='Describe the quantum oscillations in FeSe and their evolution with pressure.', actual_output='The quantum oscillations in FeSe evolve with pressure. They are used to assess the strength of electronic correlations across the phase diagram. At higher pressures, all frequencies increase in size, and the superconducting gap is enhanced.', expected_output='At low pressures in the nematic state, there is a low-frequency oscillation which disappears beyond 4,7kbar. At high pressure and high magnetic field, there is a high-frequency oscillation.', context=None, retrieval_context=None, additional_metadata=None)], confident_link=None),\n",
       " EvaluationResult(test_results=[TestResult(name='test_case_42', success=True, metrics_data=[MetricData(name='Answer Relevancy', threshold=0.5, success=True, score=0.75, reason=\"The score is 0.75 because the output discusses the effect of symmetries but doesn't explicitly list the symmetries themselves. However, it still touches upon the relevant topic, which is why the score is not lower.\", strict_mode=False, evaluation_model='gemini-2.0-flash-lite', error=None, evaluation_cost=0.0, verbose_logs='Statements:\\n[\\n    \"Symmetries such as $C_2$, $C_3$, and time-reversal symmetry can protect corner charge fractionalization.\",\\n    \"These symmetries prevent additional spectral symmetries.\",\\n    \"Additional spectral symmetries would otherwise cause charge to be added or removed from the corners.\",\\n    \"It is possible to have a corner charge of $Q_c = 1/2$ mod 2 in the presence of such symmetries.\"\\n] \\n \\nVerdicts:\\n[\\n    {\\n        \"verdict\": \"yes\",\\n        \"reason\": null\\n    },\\n    {\\n        \"verdict\": \"no\",\\n        \"reason\": \"The statement describes the effect of symmetries, but not the symmetries themselves.\"\\n    },\\n    {\\n        \"verdict\": \"yes\",\\n        \"reason\": null\\n    },\\n    {\\n        \"verdict\": \"yes\",\\n        \"reason\": null\\n    }\\n]')], conversational=False, multimodal=False, input='What symmetries can protect corner charge fractionalization?', actual_output='Symmetries such as $C_2$, $C_3$, and time-reversal symmetry can protect corner charge fractionalization. These symmetries prevent additional spectral symmetries, which would otherwise cause charge to be added or removed from the corners. In particular, it is possible to have a corner charge of $Q_c = 1/2$ mod 2 in the presence of such symmetries.', expected_output='Charge fractionalization can be protected by C2, C3, C4 and C6 symmetries.', context=None, retrieval_context=None, additional_metadata=None)], confident_link=None),\n",
       " EvaluationResult(test_results=[TestResult(name='test_case_43', success=True, metrics_data=[MetricData(name='Answer Relevancy', threshold=0.5, success=True, score=1.0, reason='The score is 1.00 because the output perfectly addresses the question without any irrelevant information. Great job!', strict_mode=False, evaluation_model='gemini-2.0-flash-lite', error=None, evaluation_cost=0.0, verbose_logs='Statements:\\n[\\n    \"The Brillouin zones of C2, C4, and C3 symmetric crystals are shown in the figures.\",\\n    \"In C2-symmetric systems, there are two two-fold HSPs, X and Y,\",\\n    \"In C4-symmetric systems, there are two two-fold HSPs, K and K\\'.\",\\n    \"In C3-symmetric systems, there are only two two-fold HSPs, M.\"\\n] \\n \\nVerdicts:\\n[\\n    {\\n        \"verdict\": \"yes\",\\n        \"reason\": null\\n    },\\n    {\\n        \"verdict\": \"yes\",\\n        \"reason\": null\\n    },\\n    {\\n        \"verdict\": \"yes\",\\n        \"reason\": null\\n    },\\n    {\\n        \"verdict\": \"yes\",\\n        \"reason\": null\\n    }\\n]')], conversational=False, multimodal=False, input='What do the Brillouin zones of C2, C4 and C3 symmetric crystals look like?', actual_output=\"The Brillouin zones of C2, C4, and C3 symmetric crystals are shown in the figures. In C2-symmetric systems, there are two two-fold HSPs, X and Y, and in C4-symmetric systems, there are two two-fold HSPs, K and K'. In C3-symmetric systems, there are only two two-fold HSPs, M.\", expected_output='For C2 and C4 symmetries, the Brillouin zones look like squares. For C3, it looks like an hexagon.', context=None, retrieval_context=None, additional_metadata=None)], confident_link=None),\n",
       " EvaluationResult(test_results=[TestResult(name='test_case_44', success=True, metrics_data=[MetricData(name='Answer Relevancy', threshold=0.5, success=True, score=1.0, reason='The score is 1.00 because the output perfectly addresses the question without any irrelevant information. Great job!', strict_mode=False, evaluation_model='gemini-2.0-flash-lite', error=None, evaluation_cost=0.0, verbose_logs='Statements:\\n[\\n    \"The maximal Wyckoff positions for unit cells with rotational symmetry C2 are 1a and 1b.\",\\n    \"These positions have no inversion symmetry.\"\\n] \\n \\nVerdicts:\\n[\\n    {\\n        \"verdict\": \"yes\",\\n        \"reason\": null\\n    },\\n    {\\n        \"verdict\": \"idk\",\\n        \"reason\": null\\n    }\\n]')], conversational=False, multimodal=False, input='What are the maximal Wyckoff positions for unit cells with rotational symmetry C2?', actual_output='The maximal Wyckoff positions for unit cells with rotational symmetry C2 are 1a and 1b. These positions have no inversion symmetry.', expected_output='The maximal Wyckoff positions for C2-symmetry crystals are 1a, 1b, 1c and 1d.', context=None, retrieval_context=None, additional_metadata=None)], confident_link=None),\n",
       " EvaluationResult(test_results=[TestResult(name='test_case_45', success=True, metrics_data=[MetricData(name='Answer Relevancy', threshold=0.5, success=True, score=1.0, reason='The score is 1.00 because the output perfectly addresses the input without any irrelevant information. Great job!', strict_mode=False, evaluation_model='gemini-2.0-flash-lite', error=None, evaluation_cost=0.0, verbose_logs='Statements:\\n[\\n    \"The magneto-optical (MO) response of permalloy nanoantennas displays the usual features of magnetoplasmonic nanostructures.\",\\n    \"These nanoantennas exhibit a characteristic oscillating behavior of $\\\\theta_k$ and $\\\\epsilon_k$ in the spectral range where the dipolar LPR is observed.\",\\n    \"The MOSE signals in the Py-DI sample can be clearly measured in the spectral range where the LPR is excited (500-900 nm).\"\\n] \\n \\nVerdicts:\\n[\\n    {\\n        \"verdict\": \"yes\",\\n        \"reason\": null\\n    },\\n    {\\n        \"verdict\": \"yes\",\\n        \"reason\": null\\n    },\\n    {\\n        \"verdict\": \"yes\",\\n        \"reason\": null\\n    }\\n]')], conversational=False, multimodal=False, input='Describe the magneto-optical response of permalloy nanoantennas.', actual_output='The magneto-optical (MO) response of permalloy nanoantennas displays the usual features of magnetoplasmonic nanostructures. These nanoantennas exhibit a characteristic oscillating behavior of $\\\\theta_k$ and $\\\\epsilon_k$ in the spectral range where the dipolar LPR is observed. The MOSE signals in the Py-DI sample can be clearly measured in the spectral range where the LPR is excited (500-900 nm).', expected_output='The magneto-optical activity (MOA) of Non-concentric ring-disk (NCRD) nanoantennas shows a high peak at the wavelength of the plasmon resonance in the gold ring.', context=None, retrieval_context=None, additional_metadata=None)], confident_link=None),\n",
       " EvaluationResult(test_results=[TestResult(name='test_case_46', success=True, metrics_data=[MetricData(name='Answer Relevancy', threshold=0.5, success=True, score=1.0, reason='The score is 1.00 because the output is perfectly relevant and concise, directly addressing the question without any irrelevant information. Great job!', strict_mode=False, evaluation_model='gemini-2.0-flash-lite', error=None, evaluation_cost=0.0, verbose_logs='Statements:\\n[\\n    \"The mechanism drives a large magneto-optical enhancement in plasmonic nanocavities.\",\\n    \"It involves the hybridization of the multipolar dark modes of a plasmonic ring nanoresonator with the dipolar localized plasmon resonance of the ferromagnetic disk.\",\\n    \"This hybridization results in a low-radiant multipolar Fano resonance.\",\\n    \"It drives a strongly enhanced magneto-optically induced localized plasmon.\",\\n    \"This enhanced magneto-optical activity is a result of the large magneto-optically induced change in light polarization.\",\\n    \"The change is produced by the strongly enhanced radiant magneto-optical dipole.\"\\n] \\n \\nVerdicts:\\n[\\n    {\\n        \"verdict\": \"yes\",\\n        \"reason\": null\\n    },\\n    {\\n        \"verdict\": \"yes\",\\n        \"reason\": null\\n    },\\n    {\\n        \"verdict\": \"yes\",\\n        \"reason\": null\\n    },\\n    {\\n        \"verdict\": \"yes\",\\n        \"reason\": null\\n    },\\n    {\\n        \"verdict\": \"yes\",\\n        \"reason\": null\\n    },\\n    {\\n        \"verdict\": \"yes\",\\n        \"reason\": null\\n    }\\n]')], conversational=False, multimodal=False, input='What is the mechanisms that drives a large magneto-optical enhacement in plasmonic nanocavities?', actual_output='The mechanism that drives a large magneto-optical enhancement in plasmonic nanocavities involves the hybridization of the multipolar dark modes of a plasmonic ring nanoresonator with the dipolar localized plasmon resonance of the ferromagnetic disk placed inside the ring. This hybridization results in a low-radiant multipolar Fano resonance that drives a strongly enhanced magneto-optically induced localized plasmon. This enhanced magneto-optical activity is a result of the large magneto-optically induced change in light polarization produced by the strongly enhanced radiant magneto-optical dipole.', expected_output='The large magneto-optical enhancement in plasmonic nanocavities is driven by the hybridization with multipolar dark modes in specially designed magnetoplasmonic nanocavities. The broken geometrical symmetry enables coupling with free-space light and hybridization of the multipolar dark modes of a plasmonic ring nanoresonator with the dipolar localized plasmon resonance of the ferromagnetic disk placed inside the ring. This hybridization results in a low-radiant multipolar Fano resonance that drives a strongly enhanced magneto-optically induced localized plasmon.', context=None, retrieval_context=None, additional_metadata=None)], confident_link=None),\n",
       " EvaluationResult(test_results=[TestResult(name='test_case_47', success=True, metrics_data=[MetricData(name='Answer Relevancy', threshold=0.5, success=True, score=1.0, reason='The score is 1.00 because the output perfectly addresses the question without any irrelevant information. Great job!', strict_mode=False, evaluation_model='gemini-2.0-flash-lite', error=None, evaluation_cost=0.0, verbose_logs='Statements:\\n[\\n    \"The magneto-optical activity (MOA) of arrays of plasmonic nanoantennas is measured.\",\\n    \"A setup with a tunable laser, polarizer, and photodetector is used.\",\\n    \"The setup measures the rotation of the polarization plane of light.\",\\n    \"The light is passing through the sample.\",\\n    \"The MOA is calculated based on the changes in polarization angle.\"\\n] \\n \\nVerdicts:\\n[\\n    {\\n        \"verdict\": \"yes\",\\n        \"reason\": null\\n    },\\n    {\\n        \"verdict\": \"yes\",\\n        \"reason\": null\\n    },\\n    {\\n        \"verdict\": \"yes\",\\n        \"reason\": null\\n    },\\n    {\\n        \"verdict\": \"yes\",\\n        \"reason\": null\\n    },\\n    {\\n        \"verdict\": \"yes\",\\n        \"reason\": null\\n    }\\n]')], conversational=False, multimodal=False, input='How do they measure the magneto-optical activity of arrays of plasmonic nanoantennas?', actual_output='The magneto-optical activity (MOA) of arrays of plasmonic nanoantennas is measured using a setup with a tunable laser, polarizer, and photodetector. The setup measures the rotation of the polarization plane of light passing through the sample. The MOA is calculated based on the changes in polarization angle.', expected_output='They use a magneto-optical Kerr effect spectrometer consisting of a broadband supercontinuum tunable laser, polarizing and focusing optics, a photoelastic modulator and a photodector.', context=None, retrieval_context=None, additional_metadata=None)], confident_link=None),\n",
       " EvaluationResult(test_results=[TestResult(name='test_case_48', success=True, metrics_data=[MetricData(name='Answer Relevancy', threshold=0.5, success=True, score=1.0, reason='The score is 1.00 because the output perfectly addresses the question without any irrelevant information. Great job!', strict_mode=False, evaluation_model='gemini-2.0-flash-lite', error=None, evaluation_cost=0.0, verbose_logs='Statements:\\n[\\n    \"The charge transfer in NbSe2 as a function of the interlayer distance in T/H bilayers is shown in the figures.\",\\n    \"The charge transfer decreases as the interlayer distance increases.\",\\n    \"The charge transfer reaches a plateau at larger interlayer distances.\"\\n] \\n \\nVerdicts:\\n[\\n    {\\n        \"verdict\": \"yes\",\\n        \"reason\": null\\n    },\\n    {\\n        \"verdict\": \"yes\",\\n        \"reason\": null\\n    },\\n    {\\n        \"verdict\": \"yes\",\\n        \"reason\": null\\n    }\\n]')], conversational=False, multimodal=False, input='How does the charge transfer vary in NbSe2 as a function of interalyer distance in T/H bilayers?', actual_output='The charge transfer in NbSe2 as a function of the interlayer distance in T/H bilayers is shown in the figures. The charge transfer decreases as the interlayer distance increases. The charge transfer reaches a plateau at larger interlayer distances.', expected_output='The charge transfer diminishes rapidly as a function of increasing interalyer distance.', context=None, retrieval_context=None, additional_metadata=None)], confident_link=None),\n",
       " EvaluationResult(test_results=[TestResult(name='test_case_49', success=True, metrics_data=[MetricData(name='Answer Relevancy', threshold=0.5, success=True, score=1.0, reason='The score is 1.00 because the output perfectly addresses the question without any irrelevant information. Great job!', strict_mode=False, evaluation_model='gemini-2.0-flash-lite', error=None, evaluation_cost=0.0, verbose_logs='Statements:\\n[\\n    \"In heterostructures of T and H transition metal dichalcogenides, the charge density wave (CDW) is observed.\",\\n    \"This is related to the charge transfer between T and H layers.\",\\n    \"The study of CDW helps understand the superconducting properties of these materials.\"\\n] \\n \\nVerdicts:\\n[\\n    {\\n        \"verdict\": \"yes\",\\n        \"reason\": null\\n    },\\n    {\\n        \"verdict\": \"yes\",\\n        \"reason\": null\\n    },\\n    {\\n        \"verdict\": \"yes\",\\n        \"reason\": null\\n    }\\n]')], conversational=False, multimodal=False, input='What is the charge density wave (CDW) in heterostructures of T and H transition metal dichalcogenides?', actual_output='In heterostructures of T and H transition metal dichalcogenides, the charge density wave (CDW) is observed. This is related to the charge transfer between T and H layers. The study of CDW helps understand the superconducting properties of these materials.', expected_output='The heterostructures show a $\\\\sqrt{13}\\\\times\\\\sqrt{13}$ CDW with a Star of David shape.', context=None, retrieval_context=None, additional_metadata=None)], confident_link=None),\n",
       " EvaluationResult(test_results=[TestResult(name='test_case_50', success=True, metrics_data=[MetricData(name='Answer Relevancy', threshold=0.5, success=True, score=1.0, reason='The score is 1.00 because the output is perfectly relevant and contains no irrelevant statements. Great job!', strict_mode=False, evaluation_model='gemini-2.0-flash-lite', error=None, evaluation_cost=0.0, verbose_logs='Statements:\\n[\\n    \"The charge transfer in TaS2 decreases as the Hubbard U parameter increases.\",\\n    \"The figure shows a clear downward trend in charge transfer as U increases from 0 to 3 eV.\",\\n    \"This suggests an inverse relationship between the charge transfer and the Hubbard U parameter.\"\\n] \\n \\nVerdicts:\\n[\\n    {\\n        \"verdict\": \"yes\",\\n        \"reason\": null\\n    },\\n    {\\n        \"verdict\": \"yes\",\\n        \"reason\": null\\n    },\\n    {\\n        \"verdict\": \"yes\",\\n        \"reason\": null\\n    }\\n]')], conversational=False, multimodal=False, input='How does the charge transfer vary with the Hubbard U parameter in TaS2?', actual_output='Based on the provided context, the charge transfer in TaS2 decreases as the Hubbard U parameter increases. The figure shows a clear downward trend in charge transfer as U increases from 0 to 3 eV. This suggests an inverse relationship between the charge transfer and the Hubbard U parameter.', expected_output='The charge transfer increases slowly with U from 0 to 1 and then jump from 1 to 2. Then it increases slowly again.', context=None, retrieval_context=None, additional_metadata=None)], confident_link=None),\n",
       " EvaluationResult(test_results=[TestResult(name='test_case_51', success=True, metrics_data=[MetricData(name='Answer Relevancy', threshold=0.5, success=True, score=0.5, reason='The score is 0.50 because the output explicitly states it cannot answer the question, indicating a lack of relevant information. However, the response acknowledges the prompt, showing some understanding of the request.', strict_mode=False, evaluation_model='gemini-2.0-flash-lite', error=None, evaluation_cost=0.0, verbose_logs='Statements:\\n[\\n    \"I am sorry, but I cannot answer the question.\",\\n    \"The provided context does not explain how a supercell modulation can be used to induce a topological phase transition.\"\\n] \\n \\nVerdicts:\\n[\\n    {\\n        \"verdict\": \"no\",\\n        \"reason\": \"The statement directly states it cannot answer the question.\"\\n    },\\n    {\\n        \"verdict\": \"yes\",\\n        \"reason\": null\\n    }\\n]')], conversational=False, multimodal=False, input='How can a supercell modulation be used in a photonic crystal to induce a topological phase transition?', actual_output='I am sorry, but I cannot answer the question. The provided context does not explain how a supercell modulation can be used to induce a topological phase transition.', expected_output='The supercell modulation can be used to coupled Weyl nodes and induce a topological gap with non-zero Chern number.', context=None, retrieval_context=None, additional_metadata=None)], confident_link=None),\n",
       " EvaluationResult(test_results=[TestResult(name='test_case_52', success=True, metrics_data=[MetricData(name='Answer Relevancy', threshold=0.5, success=True, score=1.0, reason='The score is 1.00 because the output is perfectly relevant and concise, directly addressing the question without any irrelevant information. Great job!', strict_mode=False, evaluation_model='gemini-2.0-flash-lite', error=None, evaluation_cost=0.0, verbose_logs='Statements:\\n[\\n    \"Axion insulators (AXIs) are characterized in terms of topology.\",\\n    \"AXIs are 3D topological insulators.\",\\n    \"AXIs support hinge states.\",\\n    \"AXIs support quantized magnetoelectric effects.\",\\n    \"Hinge states are expected to emerge at the intersections of AXI crystalline.\",\\n    \"Hinge states are expected to emerge in the presence of D dislocations in the AXI lattice.\",\\n    \"The topological nature of AXI is also related to the Chern number of a single layer.\"\\n] \\n \\nVerdicts:\\n[\\n    {\\n        \"verdict\": \"yes\",\\n        \"reason\": null\\n    },\\n    {\\n        \"verdict\": \"yes\",\\n        \"reason\": null\\n    },\\n    {\\n        \"verdict\": \"yes\",\\n        \"reason\": null\\n    },\\n    {\\n        \"verdict\": \"yes\",\\n        \"reason\": null\\n    },\\n    {\\n        \"verdict\": \"yes\",\\n        \"reason\": null\\n    },\\n    {\\n        \"verdict\": \"yes\",\\n        \"reason\": null\\n    },\\n    {\\n        \"verdict\": \"yes\",\\n        \"reason\": null\\n    }\\n]')], conversational=False, multimodal=False, input='How are axion insulators (AXI) characterized in terms of topology?', actual_output='Axion insulators (AXIs) are characterized in terms of topology as 3D topological insulators supporting hinge states and quantized magnetoelectric effects. These hinge states are expected to emerge at the intersections of AXI crystalline or in the presence of D dislocations in the AXI lattice. The topological nature of AXI is also related to the Chern number of a single layer.', expected_output='Axion insulators (AXIs) are characterized by the quantization of their electromagnetic coupling term, the topological θ-angle.', context=None, retrieval_context=None, additional_metadata=None)], confident_link=None),\n",
       " EvaluationResult(test_results=[TestResult(name='test_case_52', success=True, metrics_data=[MetricData(name='Answer Relevancy', threshold=0.5, success=True, score=1.0, reason='The score is 1.00 because the output is perfectly relevant and concise, directly addressing the question without any irrelevant information. Great job!', strict_mode=False, evaluation_model='gemini-2.0-flash-lite', error=None, evaluation_cost=0.0, verbose_logs='Statements:\\n[\\n    \"Axion insulators (AXIs) are characterized in terms of topology.\",\\n    \"AXIs are 3D topological insulators.\",\\n    \"AXIs support hinge states.\",\\n    \"AXIs support quantized magnetoelectric effects.\",\\n    \"Hinge states are expected to emerge at the intersections of AXI crystalline.\",\\n    \"Hinge states are expected to emerge in the presence of D dislocations in the AXI lattice.\",\\n    \"The topological nature of AXI is also related to the Chern number of a single layer.\"\\n] \\n \\nVerdicts:\\n[\\n    {\\n        \"verdict\": \"yes\",\\n        \"reason\": null\\n    },\\n    {\\n        \"verdict\": \"yes\",\\n        \"reason\": null\\n    },\\n    {\\n        \"verdict\": \"yes\",\\n        \"reason\": null\\n    },\\n    {\\n        \"verdict\": \"yes\",\\n        \"reason\": null\\n    },\\n    {\\n        \"verdict\": \"yes\",\\n        \"reason\": null\\n    },\\n    {\\n        \"verdict\": \"yes\",\\n        \"reason\": null\\n    },\\n    {\\n        \"verdict\": \"yes\",\\n        \"reason\": null\\n    }\\n]')], conversational=False, multimodal=False, input='How are axion insulators (AXI) characterized in terms of topology?', actual_output='Axion insulators (AXIs) are characterized in terms of topology as 3D topological insulators supporting hinge states and quantized magnetoelectric effects. These hinge states are expected to emerge at the intersections of AXI crystalline or in the presence of D dislocations in the AXI lattice. The topological nature of AXI is also related to the Chern number of a single layer.', expected_output='Axion insulators (AXIs) are characterized by the quantization of their electromagnetic coupling term, the topological θ-angle.', context=None, retrieval_context=None, additional_metadata=None)], confident_link=None),\n",
       " EvaluationResult(test_results=[TestResult(name='test_case_54', success=True, metrics_data=[MetricData(name='Answer Relevancy', threshold=0.5, success=True, score=0.6666666666666666, reason='The score is 0.67 because the output included information about the magnetic moment, which is not directly related to the adsorption energy, making it partially irrelevant. However, the output likely contained some relevant information about the adsorption energy, contributing to the current score.', strict_mode=False, evaluation_model='gemini-2.0-flash-lite', error=None, evaluation_cost=0.0, verbose_logs='Statements:\\n[\\n    \"The adsorption energy for a Co hexamer is 4.21 eV.\",\\n    \"This value is calculated from the equation $E_{ads}$ in the context.\",\\n    \"The magnetic moment is 0 $\\\\mu_B$.\"\\n] \\n \\nVerdicts:\\n[\\n    {\\n        \"verdict\": \"yes\",\\n        \"reason\": null\\n    },\\n    {\\n        \"verdict\": \"yes\",\\n        \"reason\": null\\n    },\\n    {\\n        \"verdict\": \"no\",\\n        \"reason\": \"The magnetic moment is not directly related to the adsorption energy.\"\\n    }\\n]')], conversational=False, multimodal=False, input='What is the adsorption energy for a Co hexamer?', actual_output='The adsorption energy for a Co hexamer is 4.21 eV. This value is calculated from the equation $E_{ads}$ in the context. The magnetic moment is 0 $\\\\mu_B$.', expected_output='The adsoprtion energy is 4.12 eV.', context=None, retrieval_context=None, additional_metadata=None)], confident_link=None),\n",
       " EvaluationResult(test_results=[TestResult(name='test_case_55', success=True, metrics_data=[MetricData(name='Answer Relevancy', threshold=0.5, success=True, score=1.0, reason='The score is 1.00 because the output perfectly addresses the questions without any irrelevant information. Great job!', strict_mode=False, evaluation_model='gemini-2.0-flash-lite', error=None, evaluation_cost=0.0, verbose_logs='Statements:\\n[\\n    \"Graphdiyne is a layered framework material.\",\\n    \"Graphdiyne is formed by carbon atoms.\",\\n    \"Carbon atoms are linked with acetylenic linkages.\",\\n    \"BGDY is a single-layer of graphdiyne.\",\\n    \"Boron atoms replace some carbon atoms in the lattice.\",\\n    \"The BGDY structure is suitable for the adsorption of single atoms.\"\\n] \\n \\nVerdicts:\\n[\\n    {\\n        \"verdict\": \"yes\",\\n        \"reason\": null\\n    },\\n    {\\n        \"verdict\": \"yes\",\\n        \"reason\": null\\n    },\\n    {\\n        \"verdict\": \"yes\",\\n        \"reason\": null\\n    },\\n    {\\n        \"verdict\": \"yes\",\\n        \"reason\": null\\n    },\\n    {\\n        \"verdict\": \"yes\",\\n        \"reason\": null\\n    },\\n    {\\n        \"verdict\": \"yes\",\\n        \"reason\": null\\n    }\\n]')], conversational=False, multimodal=False, input='What kind of material is graphdyine and what is BGDY?', actual_output='Graphdiyne is a layered framework material formed by carbon atoms linked with acetylenic linkages. BGDY is a single-layer of graphdiyne with boron atoms replacing some carbon atoms in the lattice. The BGDY structure is suitable for the adsorption of single atoms.', expected_output='Graphdiyne (GDY) is a synthetic carbon allotrope with a layered framework formed by benzoic rings connected by carbon chains. Boron-graphdiyne (BGDY) is a member of the GDY family where single boron atoms replace the hexagonal carbon rings in the GDY lattice, forming a 2D honeycomb lattice with large hexagonal holes.', context=None, retrieval_context=None, additional_metadata=None)], confident_link=None),\n",
       " EvaluationResult(test_results=[TestResult(name='test_case_56', success=True, metrics_data=[MetricData(name='Answer Relevancy', threshold=0.5, success=True, score=1.0, reason='The score is 1.00 because the output perfectly addresses the question without any irrelevant information. Great job!', strict_mode=False, evaluation_model='gemini-2.0-flash-lite', error=None, evaluation_cost=0.0, verbose_logs='Statements:\\n[\\n    \"The adsorption of transition metal atoms on BDGY can be modeled by considering the total energies of the system.\",\\n    \"This is done by first calculating the energy of the isolated metal atoms and the BDGY system.\",\\n    \"Then, the adsorption energies of the metal atoms on BDGY are calculated, and the equation $E(M_x) = E(BDGY) + E(M_x) - E(M_x@BDGY)$ is used.\"\\n] \\n \\nVerdicts:\\n[\\n    {\\n        \"verdict\": \"yes\",\\n        \"reason\": null\\n    },\\n    {\\n        \"verdict\": \"yes\",\\n        \"reason\": null\\n    },\\n    {\\n        \"verdict\": \"yes\",\\n        \"reason\": null\\n    }\\n]')], conversational=False, multimodal=False, input='How can adsoprtion of transition metal atoms on BDGY be modeled?', actual_output='The adsorption of transition metal atoms on BDGY can be modeled by considering the total energies of the system.  This is done by first calculating the energy of the isolated metal atoms and the BDGY system. Then, the adsorption energies of the metal atoms on BDGY are calculated, and the equation $E(M_x) = E(BDGY) + E(M_x) - E(M_x@BDGY)$ is used.', expected_output='Adsorption of transition metal atoms on BGDY can be modeled using density functional theory.', context=None, retrieval_context=None, additional_metadata=None)], confident_link=None),\n",
       " EvaluationResult(test_results=[TestResult(name='test_case_57', success=True, metrics_data=[MetricData(name='Answer Relevancy', threshold=0.5, success=True, score=1.0, reason='The score is 1.00 because the output perfectly addresses the question without any irrelevant information. Great job!', strict_mode=False, evaluation_model='gemini-2.0-flash-lite', error=None, evaluation_cost=0.0, verbose_logs='Statements:\\n[\\n    \"In a graph neural network, nodes are represented by node feature vectors.\",\\n    \"The edges are represented by edge feature vectors.\",\\n    \"These vectors encode information about the nodes.\",\\n    \"These vectors encode information about the relationships between them.\"\\n] \\n \\nVerdicts:\\n[\\n    {\\n        \"verdict\": \"yes\",\\n        \"reason\": null\\n    },\\n    {\\n        \"verdict\": \"yes\",\\n        \"reason\": null\\n    },\\n    {\\n        \"verdict\": \"yes\",\\n        \"reason\": null\\n    },\\n    {\\n        \"verdict\": \"yes\",\\n        \"reason\": null\\n    }\\n]')], conversational=False, multimodal=False, input='How are nodes and edges represented in a graph neural network?', actual_output='In a graph neural network, nodes are represented by node feature vectors. The edges are represented by edge feature vectors. These vectors encode information about the nodes and the relationships between them.', expected_output='Nodes and edges are both represented by feature vectors.', context=None, retrieval_context=None, additional_metadata=None)], confident_link=None),\n",
       " EvaluationResult(test_results=[TestResult(name='test_case_58', success=True, metrics_data=[MetricData(name='Answer Relevancy', threshold=0.5, success=True, score=1.0, reason='The score is 1.00 because the output perfectly addresses the prompt without any irrelevant information. Great job!', strict_mode=False, evaluation_model='gemini-2.0-flash-lite', error=None, evaluation_cost=0.0, verbose_logs='Statements:\\n[\\n    \"An example architecture of a graph neural network (GNN) is used to predict physical properties of crystals.\",\\n    \"It is a geometric-information-enhanced crystal graph neural network (GeoCGNN).\",\\n    \"The GNNs incorporate an effective method based on mixed basis functions.\",\\n    \"It encodes the geometric information into the model.\",\\n    \"The internal architecture involves node representation.\",\\n    \"The internal architecture involves edge vector representation.\",\\n    \"The internal architecture involves message passing for each node.\"\\n] \\n \\nVerdicts:\\n[\\n    {\\n        \"verdict\": \"yes\",\\n        \"reason\": null\\n    },\\n    {\\n        \"verdict\": \"yes\",\\n        \"reason\": null\\n    },\\n    {\\n        \"verdict\": \"yes\",\\n        \"reason\": null\\n    },\\n    {\\n        \"verdict\": \"yes\",\\n        \"reason\": null\\n    },\\n    {\\n        \"verdict\": \"yes\",\\n        \"reason\": null\\n    },\\n    {\\n        \"verdict\": \"yes\",\\n        \"reason\": null\\n    },\\n    {\\n        \"verdict\": \"yes\",\\n        \"reason\": null\\n    }\\n]')], conversational=False, multimodal=False, input='Give me an example architecture of a graph neural network used to predict physical properties of crystals and describe the internal architecture.', actual_output='An example architecture of a graph neural network (GNN) used to predict physical properties of crystals is a geometric-information-enhanced crystal graph neural network (GeoCGNN).  The GNNs incorporate an effective method based on mixed basis functions to encode the geometric information into the model. The internal architecture involves node representation, edge vector representation, and message passing for each node.', expected_output='One example of a graph neural network architecture used to predict the physical properties of crystals is the Crystal Graph Convolutional Neural Network (CGCNN). In this architecture, the distance between atoms is used to represent the edges in the crystal graph. The nodes represent atoms. The graph retains the information of the topological and geometric structure of crystals and records the periodicity and key crystal information, such as the crystal lattice vector and the cell volume.', context=None, retrieval_context=None, additional_metadata=None)], confident_link=None),\n",
       " EvaluationResult(test_results=[TestResult(name='test_case_59', success=True, metrics_data=[MetricData(name='Answer Relevancy', threshold=0.5, success=True, score=1.0, reason='The score is 1.00 because the output is perfectly relevant and concise, directly addressing the impact of training data volume on graph neural networks. Great job!', strict_mode=False, evaluation_model='gemini-2.0-flash-lite', error=None, evaluation_cost=0.0, verbose_logs='Statements:\\n[\\n    \"The volume of training data significantly impacts the performance of graph neural networks (GNNs).\",\\n    \"Increasing the amount of training data generally improves the model\\'s performance.\",\\n    \"The model\\'s ability to generalize and its overall accuracy are directly related to the size of the training dataset.\"\\n] \\n \\nVerdicts:\\n[\\n    {\\n        \"verdict\": \"yes\",\\n        \"reason\": null\\n    },\\n    {\\n        \"verdict\": \"yes\",\\n        \"reason\": null\\n    },\\n    {\\n        \"verdict\": \"yes\",\\n        \"reason\": null\\n    }\\n]')], conversational=False, multimodal=False, input='How does the volume in training data affect graph neural networks?', actual_output=\"The volume of training data significantly impacts the performance of graph neural networks (GNNs).  Increasing the amount of training data generally improves the model's performance, as demonstrated by the experiments.  The model's ability to generalize and its overall accuracy are directly related to the size of the training dataset.\", expected_output='The mean absolute error of the network predictions decreases with a higher volume of trianing data. The decrease is larger for lower volumes of data and less pronounced as training set size increases beyond 10000 samples.', context=None, retrieval_context=None, additional_metadata=None)], confident_link=None)]"
      ]
     },
     "execution_count": 18,
     "metadata": {},
     "output_type": "execute_result"
    }
   ],
   "source": [
    "pickle.load(open(DATASET_PATH.parent / \"answer_relevancy.pkl\", \"rb\"))"
   ]
  },
  {
   "cell_type": "code",
   "execution_count": 39,
   "metadata": {},
   "outputs": [
    {
     "name": "stderr",
     "output_type": "stream",
     "text": [
      "100%|██████████| 60/60 [00:29<00:00,  2.06it/s]\n"
     ]
    }
   ],
   "source": [
    "from tqdm import tqdm\n",
    "\n",
    "actual_embeddings = []\n",
    "expected_embeddings = []\n",
    "for test_case in tqdm(dataset.test_cases):\n",
    "    actual_vector = embeddings.embed_query(test_case.actual_output)\n",
    "    actual_embeddings.append(actual_vector)\n",
    "    expected_vector = embeddings.embed_query(test_case.expected_output)\n",
    "    expected_embeddings.append(expected_vector)"
   ]
  },
  {
   "cell_type": "code",
   "execution_count": 40,
   "metadata": {},
   "outputs": [
    {
     "name": "stdout",
     "output_type": "stream",
     "text": [
      "The autoreload extension is already loaded. To reload it, use:\n",
      "  %reload_ext autoreload\n"
     ]
    }
   ],
   "source": [
    "%load_ext autoreload\n",
    "%aimport metrics\n",
    "%autoreload 1\n",
    "\n",
    "import numpy as np\n",
    "from metrics import similarity_scores\n",
    "\n",
    "scores = similarity_scores(actual_embeddings, expected_embeddings)"
   ]
  },
  {
   "cell_type": "code",
   "execution_count": 41,
   "metadata": {},
   "outputs": [
    {
     "data": {
      "text/plain": [
       "np.float64(0.775280121309187)"
      ]
     },
     "execution_count": 41,
     "metadata": {},
     "output_type": "execute_result"
    }
   ],
   "source": [
    "scores.mean()"
   ]
  },
  {
   "cell_type": "code",
   "execution_count": null,
   "metadata": {},
   "outputs": [],
   "source": [
    "# np.savetxt(DATASET_PATH.parent / \"similarity_scores.dat\", scores)"
   ]
  },
  {
   "cell_type": "code",
   "execution_count": 44,
   "metadata": {},
   "outputs": [],
   "source": [
    "names = [\"text\", \"vlm\", \"mixed\", \"text-lite\", \"vlm-lite\", \"mixed-lite\"]\n",
    "paths = [\n",
    "    \"papers/selection_gemini-2.0-flash_text\",\n",
    "    \"papers/selection_gemini-2.0-flash_vlm\",\n",
    "    \"papers/selection_gemini-2.0-flash_mixed\",\n",
    "    \"papers/selection_gemini-2.0-flash-lite_text\",\n",
    "    \"papers/selection_gemini-2.0-flash-lite_vlm\",\n",
    "    \"papers/selection_gemini-2.0-flash-lite_mixed\",\n",
    "]\n",
    "\n",
    "scores = {}\n",
    "for name, path in zip(names, paths):\n",
    "    scores.setdefault(name, np.loadtxt(Path(path) / \"similarity_scores.dat\"))"
   ]
  },
  {
   "cell_type": "code",
   "execution_count": 46,
   "metadata": {},
   "outputs": [
    {
     "data": {
      "text/plain": [
       "<matplotlib.legend.Legend at 0x234c7251ac0>"
      ]
     },
     "execution_count": 46,
     "metadata": {},
     "output_type": "execute_result"
    },
    {
     "data": {
      "image/png": "[encoded data removed]",
      "text/plain": [
       "<Figure size 640x480 with 1 Axes>"
      ]
     },
     "metadata": {},
     "output_type": "display_data"
    }
   ],
   "source": [
    "import matplotlib.pyplot as plt\n",
    "\n",
    "plt.hist(scores[\"text\"], bins=20, alpha=0.5, label=\"text\")\n",
    "plt.hist(scores[\"vlm\"], bins=20, alpha=0.5, label=\"vlm\")\n",
    "plt.hist(scores[\"mixed\"], bins=20, alpha=0.5, label=\"mixed\")\n",
    "plt.hist(scores[\"text-lite\"], bins=20, alpha=0.5, label=\"text-lite\")\n",
    "plt.hist(scores[\"vlm-lite\"], bins=20, alpha=0.5, label=\"vlm-lite\")\n",
    "plt.hist(scores[\"mixed-lite\"], bins=20, alpha=0.5, label=\"mixed-lite\")\n",
    "plt.legend()"
   ]
  },
  {
   "cell_type": "code",
   "execution_count": null,
   "metadata": {},
   "outputs": [],
   "source": []
  }
 ],
 "metadata": {
  "kernelspec": {
   "display_name": ".venv",
   "language": "python",
   "name": "python3"
  },
  "language_info": {
   "codemirror_mode": {
    "name": "ipython",
    "version": 3
   },
   "file_extension": ".py",
   "mimetype": "text/x-python",
   "name": "python",
   "nbconvert_exporter": "python",
   "pygments_lexer": "ipython3",
   "version": "3.12.9"
  }
 },
 "nbformat": 4,
 "nbformat_minor": 2
}
