{
 "cells": [
  {
   "cell_type": "code",
   "execution_count": 1,
   "metadata": {},
   "outputs": [],
   "source": [
    "from langchain_community.document_loaders import PyPDFLoader\n",
    "from pathlib import Path\n",
    "import re\n",
    "import os\n",
    "from api import GOOGLE_API_KEY\n",
    "os.environ[\"GOOGLE_API_KEY\"] = GOOGLE_API_KEY"
   ]
  },
  {
   "cell_type": "code",
   "execution_count": 2,
   "metadata": {},
   "outputs": [
    {
     "name": "stderr",
     "output_type": "stream",
     "text": [
      "Rotated text discovered. Output will be incomplete.\n",
      "Rotated text discovered. Output will be incomplete.\n",
      "Rotated text discovered. Output will be incomplete.\n",
      "Rotated text discovered. Output will be incomplete.\n",
      "Rotated text discovered. Output will be incomplete.\n",
      "Rotated text discovered. Output will be incomplete.\n",
      "Rotated text discovered. Output will be incomplete.\n",
      "Rotated text discovered. Output will be incomplete.\n",
      "Rotated text discovered. Output will be incomplete.\n",
      "Rotated text discovered. Output will be incomplete.\n",
      "Rotated text discovered. Output will be incomplete.\n",
      "Rotated text discovered. Output will be incomplete.\n",
      "Rotated text discovered. Output will be incomplete.\n",
      "Rotated text discovered. Output will be incomplete.\n",
      "Rotated text discovered. Output will be incomplete.\n",
      "Rotated text discovered. Output will be incomplete.\n",
      "Rotated text discovered. Output will be incomplete.\n",
      "Rotated text discovered. Output will be incomplete.\n",
      "Rotated text discovered. Output will be incomplete.\n",
      "Rotated text discovered. Output will be incomplete.\n",
      "Rotated text discovered. Output will be incomplete.\n",
      "Rotated text discovered. Output will be incomplete.\n",
      "Rotated text discovered. Output will be incomplete.\n",
      "Rotated text discovered. Output will be incomplete.\n",
      "Rotated text discovered. Output will be incomplete.\n",
      "Rotated text discovered. Output will be incomplete.\n",
      "Rotated text discovered. Output will be incomplete.\n",
      "Rotated text discovered. Output will be incomplete.\n",
      "Rotated text discovered. Output will be incomplete.\n",
      "Rotated text discovered. Output will be incomplete.\n",
      "Rotated text discovered. Output will be incomplete.\n",
      "Rotated text discovered. Output will be incomplete.\n",
      "Rotated text discovered. Output will be incomplete.\n",
      "Rotated text discovered. Output will be incomplete.\n",
      "Rotated text discovered. Output will be incomplete.\n",
      "Rotated text discovered. Output will be incomplete.\n",
      "Rotated text discovered. Output will be incomplete.\n",
      "Rotated text discovered. Output will be incomplete.\n",
      "Rotated text discovered. Output will be incomplete.\n",
      "Rotated text discovered. Output will be incomplete.\n",
      "Rotated text discovered. Output will be incomplete.\n",
      "Rotated text discovered. Output will be incomplete.\n"
     ]
    }
   ],
   "source": [
    "papers_path = Path(\"papers/selection\")\n",
    "def load_all_files(root_path, mode=\"page\"):\n",
    "    docs = []\n",
    "    for path, folders, files in root_path.walk():\n",
    "        if len(folders) != 0:\n",
    "            continue\n",
    "        for file in files:\n",
    "            if not file.endswith(\".pdf\"):\n",
    "                continue\n",
    "            doc_loader = PyPDFLoader(\n",
    "                path / file,\n",
    "                mode=mode,\n",
    "                extraction_mode=\"layout\"\n",
    "            )\n",
    "            pages = doc_loader.load()\n",
    "            docs.extend(pages)\n",
    "        \n",
    "    return docs\n",
    "\n",
    "docs = load_all_files(papers_path)\n",
    "        "
   ]
  },
  {
   "cell_type": "code",
   "execution_count": 3,
   "metadata": {},
   "outputs": [],
   "source": [
    "def preprocess_documents(docs):\n",
    "    for doc in docs:\n",
    "        doc.page_content = re.sub(\" +\", \" \", doc.page_content)\n",
    "    \n",
    "    return docs\n",
    "docs = preprocess_documents(docs)"
   ]
  },
  {
   "cell_type": "code",
   "execution_count": 4,
   "metadata": {},
   "outputs": [],
   "source": [
    "from langchain_core.prompts import PromptTemplate\n",
    "\n",
    "template = \"\"\"You are an assistant for question-answering tasks.\n",
    "Use the following pieces of retrieved context to answer the question.\n",
    "If you don't know the answer, just say that you don't know.\n",
    "Use around three sentences for your answer and keep it concise.\n",
    "Do not ever mention that you are using the context as source.\n",
    "\n",
    "Question: {question}\n",
    "\n",
    "Context:\n",
    "{context}\n",
    "\n",
    "Answer:\"    \n",
    "\"\"\"\n",
    "custom_rag_prompt = PromptTemplate.from_template(template)"
   ]
  },
  {
   "cell_type": "code",
   "execution_count": 5,
   "metadata": {},
   "outputs": [
    {
     "data": {
      "text/plain": [
       "{'input': 'What kind of material is MAPbI3?',\n",
       " 'context': [Document(metadata={'producer': 'PDFlib+PDI 9.1.2p4 (C++/Win64); modified using iText 4.2.0 by 1T3XT', 'creator': 'Arbortext Publishing Engine', 'creationdate': '2024-12-31T14:36:36-05:00', 'moddate': '2025-03-26T08:25:41-07:00', 'fpage': '184', 'acs openaccess version': 'v3.2', 'subject': 'J. Phys. Chem. Lett. 2025.16:184-190', 'printengine': 'Arbortext Advanced Print Publisher 11.2.5208/W Library-x64', 'author': 'Pelayo Marin-Villa, Mattia Gaboardi, Boby Joseph, Frederico Alabarse, Jeff Armstrong, Kacper Drużbicki, and Felix Fernandez-Alonso', 'title': 'Methylammonium Lead Iodide across Physical Space: Phase Boundaries and Structural Collapse', 'epsprocessor': 'PStill version 1.84.42', 'prism:doi': '10.1021/acs.jpclett.4c03336', 'lpage': '190', 'prism:versionidentifier': 'Issue', 'jcalibrarybuild': '5.2.i3', 'acs openaccess stamp': '01/02/2025 15:17:17 (CCBY4_0)', 'jav:journal_article_version': 'VoR', 'source': 'papers/selection/11_methylammonium.pdf', 'total_pages': 7, 'page': 1, 'page_label': '2', '_id': '4c4126ee9f05410badec862870758b62', '_collection_name': 'selection'}, page_content='The Journal of Physical Chemistry Letterspubs.acs.org/JPCL Letter\\n\\n\\n\\n\\n\\n\\n\\n\\n\\n\\n\\n\\n\\n\\n\\n\\n\\n\\n\\n\\n\\n\\nFigure1.P−T phasediagramofMAPbI 3,asinferredfromdielectric/infraredspectroscopy9,10 andX-raydiffraction.11−13 Greeklettersareusedto\\nlabelthethermodynamicallystablephasesreportedintheliterature.Selectedprojectionsofthestructuresofthesephasesaredepictedattheright.\\nThe average,nonequilibriumstructureofthecubicphaseisdisplayedalongwithaninstantaneouslocalstructureobtainedfromtotal-scattering\\nsynchrotrondiffraction,14 toprovidea visualcomparisonwiththeaveragestructuresofthetetragonalandhigh-pressurecubicphases.13'),\n",
       "  Document(metadata={'producer': 'PDFlib+PDI 9.1.2p4 (C++/Win64); modified using iText 4.2.0 by 1T3XT', 'creator': 'Arbortext Publishing Engine', 'creationdate': '2024-12-31T14:36:36-05:00', 'moddate': '2025-03-26T08:25:41-07:00', 'fpage': '184', 'acs openaccess version': 'v3.2', 'subject': 'J. Phys. Chem. Lett. 2025.16:184-190', 'printengine': 'Arbortext Advanced Print Publisher 11.2.5208/W Library-x64', 'author': 'Pelayo Marin-Villa, Mattia Gaboardi, Boby Joseph, Frederico Alabarse, Jeff Armstrong, Kacper Drużbicki, and Felix Fernandez-Alonso', 'title': 'Methylammonium Lead Iodide across Physical Space: Phase Boundaries and Structural Collapse', 'epsprocessor': 'PStill version 1.84.42', 'prism:doi': '10.1021/acs.jpclett.4c03336', 'lpage': '190', 'prism:versionidentifier': 'Issue', 'jcalibrarybuild': '5.2.i3', 'acs openaccess stamp': '01/02/2025 15:17:17 (CCBY4_0)', 'jav:journal_article_version': 'VoR', 'source': 'papers/selection/11_methylammonium.pdf', 'total_pages': 7, 'page': 1, 'page_label': '2', '_id': 'e2bf38ef2d99411a8047f114fda9cf97', '_collection_name': 'selection'}, page_content='Figure2.Representative(a)ND and(b)XRD patternsforapowderspecimenofMAPbI 3.InlinewiththeregimeshighlightedinFigure1, theND\\npatternsobtainedon OSIRIS aredisplayedasa functionoftemperaturealongthe2 kbarisobar.The XRD datafromXpresscorrespondtothe\\nambient-temperatureisotherm.Rawdiffractionpatternsarepresentedinthebottompanels,whiletheinterpolatedcolormapsinthetoppanels\\nhighlighttheevolutionofthediffractionpatternsacrosseachphasetransition.The horizontaldashedlinesatthetopofpanela highlightthe\\ntransitionpoints.The diffractionpatternforahighlypressurizedϵ phase(Im3 ̅*, 76kbar)ispresentedasaninsetinpanelb.The appearanceofnew\\ndiffractionfeaturesacrosstheδ → ϵ transitionismarkedwithasterisksinpanelb.\\n\\n\\n\\n\\n 185 https://doi.org/10.1021/acs.jpclett.4c03336\\n J. Phys. Chem. Lett. 2025, 16, 184−190'),\n",
       "  Document(metadata={'producer': 'PDFlib+PDI 9.1.2p4 (C++/Win64); modified using iText 4.2.0 by 1T3XT', 'creator': 'Arbortext Publishing Engine', 'creationdate': '2024-12-31T14:36:36-05:00', 'moddate': '2025-03-26T08:25:41-07:00', 'fpage': '184', 'acs openaccess version': 'v3.2', 'subject': 'J. Phys. Chem. Lett. 2025.16:184-190', 'printengine': 'Arbortext Advanced Print Publisher 11.2.5208/W Library-x64', 'author': 'Pelayo Marin-Villa, Mattia Gaboardi, Boby Joseph, Frederico Alabarse, Jeff Armstrong, Kacper Drużbicki, and Felix Fernandez-Alonso', 'title': 'Methylammonium Lead Iodide across Physical Space: Phase Boundaries and Structural Collapse', 'epsprocessor': 'PStill version 1.84.42', 'prism:doi': '10.1021/acs.jpclett.4c03336', 'lpage': '190', 'prism:versionidentifier': 'Issue', 'jcalibrarybuild': '5.2.i3', 'acs openaccess stamp': '01/02/2025 15:17:17 (CCBY4_0)', 'jav:journal_article_version': 'VoR', 'source': 'papers/selection/11_methylammonium.pdf', 'total_pages': 7, 'page': 0, 'page_label': '1', '_id': 'fed63a155fc34eb3900d722707b3778c', '_collection_name': 'selection'}, page_content='ybridorganic−inorganic perovskites(HOIPs) havecationoccupiesthelatticeA−site withinthecuboctahedral\\nH attractedsubstantialinterestand attentionowingto cavityformedby thesoft,formallyanionicmetal-halide\\ntheirremarkableoptoelectronicproperties,makingthem frameworkBX3. The inorganicenvironmentprovidedby the\\nexcellentcandidatesforapplicationsinphotovoltaics,light- BX3 sublatticecomprisescorner-sharedoctahedrathatcanbe\\nemittingdiodes,andphotodetectors.1 Despitethispotential,easilydistorted.Inturn,thesoftnessofthesestructuresresults\\nHOIPs stillexhibitintrinsicand extrinsicinstabilitiesthat intheemergenceofrather-complexphasebehavior,and a\\nhampertheircommercialutilization.2,3 Althoughencapsulationcoherentunderstandingofthelatterstillremainsbeyondour\\nandsurfacepassivationcanminimizeenvironmentalsensitivityreach.This situationcontinuesto be the casefor\\ntomoisture,UV radiationoroxidation,themostcriticalissues methylammoniumleadiodide,MAPbI 3,anditsP−T phase'),\n",
       "  Document(metadata={'producer': 'PDFlib+PDI 9.1.2p4 (C++/Win64); modified using iText 4.2.0 by 1T3XT', 'creator': 'Arbortext Publishing Engine', 'creationdate': '2024-12-31T14:36:36-05:00', 'moddate': '2025-03-26T08:25:41-07:00', 'fpage': '184', 'acs openaccess version': 'v3.2', 'subject': 'J. Phys. Chem. Lett. 2025.16:184-190', 'printengine': 'Arbortext Advanced Print Publisher 11.2.5208/W Library-x64', 'author': 'Pelayo Marin-Villa, Mattia Gaboardi, Boby Joseph, Frederico Alabarse, Jeff Armstrong, Kacper Drużbicki, and Felix Fernandez-Alonso', 'title': 'Methylammonium Lead Iodide across Physical Space: Phase Boundaries and Structural Collapse', 'epsprocessor': 'PStill version 1.84.42', 'prism:doi': '10.1021/acs.jpclett.4c03336', 'lpage': '190', 'prism:versionidentifier': 'Issue', 'jcalibrarybuild': '5.2.i3', 'acs openaccess stamp': '01/02/2025 15:17:17 (CCBY4_0)', 'jav:journal_article_version': 'VoR', 'source': 'papers/selection/11_methylammonium.pdf', 'total_pages': 7, 'page': 0, 'page_label': '1', '_id': 'bf8bb14cf1e441a3934c816d7c76edee', '_collection_name': 'selection'}, page_content='tomoisture,UV radiationoroxidation,themostcriticalissues methylammoniumleadiodide,MAPbI 3,anditsP−T phase\\narestilldeeplyrootedintheintrinsicand hard-to-controldiagramissummarizedinFigure1.\\nfragilityoftheperovskiteframework,leadingtoionmigration At ambientpressure,crystallographyrevealsthreeperovskite\\nand eventualdecomposition.4,5 Theseobstaclesarefurther phasesinthecaseofMAPbI :a cubicphaseabove330K; a\\n 3\\nexacerbatedwhen integratingtheperovskitewithinterfacestetragonalphaseoverthe range160−330 K; and an\\nandcharge-transportlayers.2 Materialsdesign,new synthetic orthorhombicphasebelow160 K.15 We designatethese\\nroutesorinterfacialengineering,tonamea few,haveemerged phasesasα, β andγ, respectively.Followingtheseminalwork\\naspossibleroutestocircumventtheselimitations.Theyallrely ofGesiinthekbarregime,10 a numberofsubsequentstudies\\non theexceptionaltunabilityofHOIPs andtheirexceedinglyhaveaccessedhigherpressures−see TableS1 forasummaryof')],\n",
       " 'answer': 'MAPbI3 is a hybrid organic-inorganic perovskite (HOIP). These materials have attracted substantial interest because of their remarkable optoelectronic properties. They are excellent candidates for applications in photovoltaics, light-emitting diodes, and photodetectors.'}"
      ]
     },
     "execution_count": 5,
     "metadata": {},
     "output_type": "execute_result"
    }
   ],
   "source": [
    "from langchain import hub\n",
    "from langchain_chroma import Chroma\n",
    "from qdrant_client import QdrantClient\n",
    "from langchain_qdrant import QdrantVectorStore\n",
    "from qdrant_client import models\n",
    "from langchain_core.output_parsers import StrOutputParser\n",
    "from langchain_core.runnables import RunnablePassthrough\n",
    "from langchain_google_genai import GoogleGenerativeAIEmbeddings, ChatGoogleGenerativeAI\n",
    "from langchain_text_splitters import RecursiveCharacterTextSplitter\n",
    "from langchain.chains import create_retrieval_chain\n",
    "from langchain.chains.combine_documents import create_stuff_documents_chain\n",
    "from langchain_core.prompts import ChatPromptTemplate\n",
    "\n",
    "\n",
    "text_splitter = RecursiveCharacterTextSplitter(chunk_size=1000, chunk_overlap=200)\n",
    "splits = text_splitter.split_documents(docs)\n",
    "client = QdrantClient(path=\"papers_db\")\n",
    "# client.create_collection(\n",
    "#     collection_name=\"selection\",\n",
    "#     vectors_config=models.VectorParams(\n",
    "#         size=768,\n",
    "#         distance=models.Distance.COSINE\n",
    "#     )\n",
    "\n",
    "# )\n",
    "embeddings = GoogleGenerativeAIEmbeddings(model=\"models/text-embedding-004\")\n",
    "# vectorstore = Chroma.from_documents(\n",
    "#     documents=splits,\n",
    "#     embedding=embeddings,\n",
    "#     persist_directory=\"selection_db\"\n",
    "#  )\n",
    "# vectorstore = Chroma(\n",
    "#     persist_directory=\"selection_db\",\n",
    "#     embedding_function=embeddings\n",
    "# )\n",
    "vectorstore = QdrantVectorStore(\n",
    "    client=client,\n",
    "    collection_name=\"selection\",\n",
    "    embedding=embeddings,\n",
    "    distance=models.Distance.COSINE\n",
    ")\n",
    "# vectorstore.add_documents(splits)\n",
    "\n",
    "# Retrieve and generate using the relevant snippets of the blog.\n",
    "retriever = vectorstore.as_retriever()\n",
    "llm = ChatGoogleGenerativeAI(model=\"gemini-2.0-flash-lite\")\n",
    "prompt = custom_rag_prompt\n",
    "\n",
    "\n",
    "def format_docs(docs):\n",
    "    return \"\\n\\n\".join(doc.page_content for doc in docs)\n",
    "\n",
    "\n",
    "# rag_chain = (\n",
    "#     {\"context\": retriever | format_docs, \"question\": RunnablePassthrough()}\n",
    "#     | prompt\n",
    "#     | llm\n",
    "#     | StrOutputParser()\n",
    "# )\n",
    "\n",
    "# rag_chain.invoke(\"What is Task Decomposition?\")\n",
    "system_prompt = (\n",
    "    \"You are an assistant for question-answering tasks.\"\n",
    "    \"Use the following pieces of retrieved context to answer the question.\"\n",
    "    \"If you don't know the answer, just say that you don't know.\"\n",
    "    \"Use around three sentences for your answer and keep it concise.\"\n",
    "    \"Do not ever mention that you are using the context as source.\"\n",
    "    \"Here is context for your answer:\"\n",
    "    \"\\n\\n\"\n",
    "    \"{context}\"\n",
    ")\n",
    "\n",
    "prompt = ChatPromptTemplate.from_messages(\n",
    "    [\n",
    "        (\"system\", system_prompt),\n",
    "        (\"human\", \"{input}\"),\n",
    "    ]\n",
    ")\n",
    "question_answer_chain = create_stuff_documents_chain(llm, prompt)\n",
    "rag_chain = create_retrieval_chain(retriever, question_answer_chain)\n",
    "\n",
    "rag_chain.invoke({\"input\": \"What kind of material is MAPbI3?\"})"
   ]
  },
  {
   "cell_type": "code",
   "execution_count": null,
   "metadata": {},
   "outputs": [],
   "source": [
    "rag_chain.invoke({\"input\": \"What is the spin space group symmetry of Fe3GeTe2?\"})"
   ]
  },
  {
   "cell_type": "code",
   "execution_count": 6,
   "metadata": {},
   "outputs": [],
   "source": [
    "llm = ChatGoogleGenerativeAI(model=\"gemini-2.0-flash-lite\")"
   ]
  },
  {
   "cell_type": "code",
   "execution_count": 7,
   "metadata": {},
   "outputs": [
    {
     "name": "stderr",
     "output_type": "stream",
     "text": [
      "/var/folders/9w/3l6rxjcs3bgfl3v7b2f66llr0000gn/T/ipykernel_77878/2457562682.py:44: LangChainDeprecationWarning: The method `BaseChatModel.__call__` was deprecated in langchain-core 0.1.7 and will be removed in 1.0. Use :meth:`~invoke` instead.\n",
      "  response = llm(formatted_prompt)\n"
     ]
    },
    {
     "name": "stdout",
     "output_type": "stream",
     "text": [
      "The image features a tabby cat wearing orange sunglasses. The cat has green eyes and a white chest. It's sitting on what appears to be a sofa, with various cushions visible in the background. The image is well-lit and has a shallow depth of field, focusing attention on the cat's face.\n"
     ]
    }
   ],
   "source": [
    "from langchain.prompts import ChatPromptTemplate, SystemMessagePromptTemplate, HumanMessagePromptTemplate\n",
    "from langchain.schema import HumanMessage, SystemMessage\n",
    "import base64\n",
    "\n",
    "# Function to encode an image as base64\n",
    "def encode_image(image_path):\n",
    "    with open(image_path, \"rb\") as img_file:\n",
    "        return base64.b64encode(img_file.read()).decode(\"utf-8\")\n",
    "\n",
    "# Encode the image(s)\n",
    "image_path = \"image.jpg\"  # Replace with your image path\n",
    "image_base64 = encode_image(image_path)\n",
    "\n",
    "# Define system message (instructions for the AI)\n",
    "system_template = \"You are an AI assistant that analyzes images and answers user queries.\"\n",
    "system_message = SystemMessagePromptTemplate.from_template(system_template)\n",
    "\n",
    "# Define human message (text + image context)\n",
    "human_template = \"{text}\"  # Placeholder for user input text\n",
    "human_message = HumanMessagePromptTemplate.from_template(human_template)\n",
    "\n",
    "# Create the chat prompt template\n",
    "chat_prompt = ChatPromptTemplate.from_messages([system_message, human_message])\n",
    "\n",
    "# Format the chat prompt with user input\n",
    "formatted_prompt = chat_prompt.format_messages(\n",
    "    text=\"What can you tell me about this image?\",\n",
    ")\n",
    "\n",
    "# Append image to the human message dynamically\n",
    "formatted_prompt.append(\n",
    "    HumanMessage(\n",
    "        content=[\n",
    "            {\"type\": \"text\", \"text\": \"Here is the image context:\"},\n",
    "            {\"type\": \"image_url\", \"image_url\": f\"data:image/jpeg;base64,{image_base64}\"}\n",
    "        ]\n",
    "    )\n",
    ")\n",
    "\n",
    "# Initialize Gemini model (multimodal)\n",
    "llm = ChatGoogleGenerativeAI(model=\"gemini-2.0-flash\")\n",
    "\n",
    "# Get the response from the model\n",
    "response = llm(formatted_prompt)\n",
    "print(response.content)"
   ]
  },
  {
   "cell_type": "code",
   "execution_count": null,
   "metadata": {},
   "outputs": [
    {
     "data": {
      "text/plain": [
       "'The images show a cat wearing orange sunglasses. Yes, they are the same.'"
      ]
     },
     "execution_count": 44,
     "metadata": {},
     "output_type": "execute_result"
    }
   ],
   "source": [
    "from langchain_core.runnables import RunnableLambda\n",
    "\n",
    "top_k = 2\n",
    "\n",
    "def retrieve_images(query):\n",
    "    return [encode_image(\"image.jpg\") for i in range(top_k)]\n",
    "\n",
    "def print_thing(thing):\n",
    "    print(thing)\n",
    "    return thing\n",
    "\n",
    "def expand_context_images(message):\n",
    "    new_message = {}\n",
    "    new_message[\"query\"] = message[\"query\"]\n",
    "    for i, image in enumerate(message[\"context_images\"]):\n",
    "        new_message[f\"context{i}\"] = image\n",
    "    \n",
    "    return new_message\n",
    "\n",
    "system_message = (\n",
    "    \"You are an assistant for question-answering tasks.\"\n",
    "    \"Use the images of retrieved context to answer the question.\"\n",
    "    \"If you don't know the answer, just say that you don't know.\"\n",
    "    \"Use around three sentences for your answer and keep it concise.\"\n",
    "    \"Do not ever mention that you are using the context as source.\"\n",
    ") \n",
    "\n",
    "user_message = [\n",
    "    {\n",
    "        \"type\": \"text\",\n",
    "        \"text\": \"{query}\",\n",
    "    }\n",
    "] + [\n",
    "    {\n",
    "        \"type\": \"image_url\",\n",
    "        \"image_url\": {\"url\": \"data:image/jpeg;base64,{placeholder}\".replace(\"placeholder\", f\"context{i}\")},\n",
    "    }\n",
    "    for i in range(top_k)\n",
    "]\n",
    "\n",
    "prompt = ChatPromptTemplate.from_messages(\n",
    "    [\n",
    "        (\"system\", system_message),\n",
    "        (\n",
    "            \"user\",\n",
    "            user_message,\n",
    "        ),\n",
    "    ]\n",
    ")\n",
    "# prompt = ChatPromptTemplate.from_messages(\n",
    "#     [\n",
    "#         (\"system\", system_message),\n",
    "#         (\n",
    "#             \"user\",\n",
    "#             [\n",
    "#                 {\n",
    "#                     \"type\": \"text\",\n",
    "#                     \"text\": \"{query}\",\n",
    "\n",
    "#                 },\n",
    "#                 {\n",
    "#                     \"type\": \"image_url\",\n",
    "#                     \"image_url\": {\"url\": \"data:image/jpeg;base64,\"},\n",
    "#                 }\n",
    "#             ],\n",
    "#         ),\n",
    "#     ]\n",
    "# )\n",
    "\n",
    "rag_chain = (\n",
    "    {\"context_images\": retrieve_images, \"query\": RunnablePassthrough()}\n",
    "    | RunnableLambda(expand_context_images)\n",
    "    | prompt\n",
    "    | llm\n",
    "    | StrOutputParser()\n",
    ")\n",
    "\n",
    "rag_chain.invoke(\"What are these images? Are they the same?\")"
   ]
  },
  {
   "cell_type": "code",
   "execution_count": 42,
   "metadata": {},
   "outputs": [
    {
     "data": {
      "text/plain": [
       "ChatPromptTemplate(input_variables=['context0', 'context1', 'query'], input_types={}, partial_variables={}, messages=[SystemMessagePromptTemplate(prompt=PromptTemplate(input_variables=[], input_types={}, partial_variables={}, template=\"You are an assistant for question-answering tasks.Use the images of retrieved context to answer the question.If you don't know the answer, just say that you don't know.Use around three sentences for your answer and keep it concise.Do not ever mention that you are using the context as source.\"), additional_kwargs={}), HumanMessagePromptTemplate(prompt=[PromptTemplate(input_variables=['query'], input_types={}, partial_variables={}, template='{query}'), ImagePromptTemplate(input_variables=['context0'], input_types={}, partial_variables={}, template={'url': 'data:image/jpeg;base64,{context0}'}), ImagePromptTemplate(input_variables=['context1'], input_types={}, partial_variables={}, template={'url': 'data:image/jpeg;base64,{context1}'})], additional_kwargs={})])"
      ]
     },
     "execution_count": 42,
     "metadata": {},
     "output_type": "execute_result"
    }
   ],
   "source": [
    "prompt"
   ]
  }
 ],
 "metadata": {
  "kernelspec": {
   "display_name": "tfm",
   "language": "python",
   "name": "python3"
  },
  "language_info": {
   "codemirror_mode": {
    "name": "ipython",
    "version": 3
   },
   "file_extension": ".py",
   "mimetype": "text/x-python",
   "name": "python",
   "nbconvert_exporter": "python",
   "pygments_lexer": "ipython3",
   "version": "3.12.9"
  }
 },
 "nbformat": 4,
 "nbformat_minor": 2
}
